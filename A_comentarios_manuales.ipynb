{
 "cells": [
  {
   "cell_type": "markdown",
   "id": "17286371-fa62-4bf7-8b94-ddfca63fc876",
   "metadata": {},
   "source": [
    "# BIENVENIDO!\n",
    "\n",
    "<br />\n",
    "\n",
    "## PROCESAMIENTO DE CSV PARA COMENTARIOS DE FACEBOOK e INSTAGRAM\n",
    "\n",
    "## Clasificación de sentimientos y emociones\n",
    "\n",
    "**Por favor, el nombre del archivo \".csv\" que esté escrito todo en minúsculas y que no use \"_\"**\n",
    "\n",
    "**Es para evitar conflictos con la interface lógica**\n",
    "\n",
    "**El usuario debe configurar variables en la 2da Celda**\n",
    "\n",
    "**Ingrese el nombre del archivo y el valor True en la red social correspondiente**\n",
    "\n",
    "**Asegurese de que haya un solo filtro de red social activado poniendo False en el otro valor**\n",
    "\n",
    "<br />\n",
    "<br />\n",
    "\n",
    "**Comandos Jupyter Notebook:**<br />\n",
    "\n",
    "<br />\n",
    "<center><b>\n",
    "\n",
    "```\n",
    "shift + enter: ejecutar celda y pasar a la celda siguiente\n",
    "\n",
    "ctrl + enter: ejecutar celda y quedarse en la celda correspondiente\n",
    "```\n",
    "\n",
    "</b></center>\n",
    "<br />\n",
    "<br />\n",
    "<br />\n",
    "<br />"
   ]
  },
  {
   "cell_type": "code",
   "execution_count": 66,
   "id": "1c514ef8-480e-47a4-8800-ea5663c3ad71",
   "metadata": {},
   "outputs": [],
   "source": [
    "import pickle\n",
    "import pandas as pd\n",
    "from transformers import pipeline, AutoTokenizer, AutoModelForSequenceClassification, TextClassificationPipeline\n",
    "import torch\n",
    "\n",
    "\n",
    "# APP Reputación Digital\n",
    "from app.m1_sentiment import M1_sentiment\n",
    "from app.m2_emotions import M2_emotions\n",
    "from app.m3_emotions import M3_emotions\n",
    "\n",
    "# Librerías Reputación Digital\n",
    "from tools.tokenizer import preprocesamiento, procesamiento\n",
    "from tools.extraccion_muestras import nombres_propios\n",
    "from tools.facebook import clean_facebook_comments\n",
    "from tools.intagram import clean_instagram_comments"
   ]
  },
  {
   "cell_type": "markdown",
   "id": "12b3112f-4b12-44b5-b199-8056bd6f1372",
   "metadata": {},
   "source": [
    "**Configurar archivo de lectura y filtro correspondiente:**"
   ]
  },
  {
   "cell_type": "code",
   "execution_count": 67,
   "id": "b76e2e2f-87ce-4a58-aa47-49e02e294153",
   "metadata": {},
   "outputs": [],
   "source": [
    "##  INPUT USUARIO  ##  INPUT USUARIO  ##  ##  INPUT USUARIO  ##  INPUT USUARIO  ##\n",
    "\n",
    "archivo_lectura=\"sheet-diferentes-usos-sofi-comentario.csv\"\n",
    "\n",
    "##  INPUT USUARIO  ##  INPUT USUARIO  ##  ##  INPUT USUARIO  ##  INPUT USUARIO  ##\n",
    "\n",
    "\n",
    "\n",
    "##  SELECCIONAR LA RED SOCIAL EN CUESTION  ##  SELECCIONAR LA RED SOCIAL EN CUESTION  ##\n",
    "facebook = True\n",
    "instagram = False\n",
    "##  SELECCIONAR LA RED SOCIAL EN CUESTION  ##  SELECCIONAR LA RED SOCIAL EN CUESTION  ##\n",
    "\n",
    "\n",
    "if sum([facebook, instagram]) != 1:\n",
    "    print(\"Elija un solo filtro\")\n",
    "    exit()"
   ]
  },
  {
   "cell_type": "code",
   "execution_count": 68,
   "id": "4c078122-3358-4dbd-9c61-a9d17b53e79d",
   "metadata": {},
   "outputs": [
    {
     "ename": "FileNotFoundError",
     "evalue": "[Errno 2] No such file or directory: 'sheet-diferentes-usos-sofi-comentario.csv'",
     "output_type": "error",
     "traceback": [
      "\u001b[0;31m---------------------------------------------------------------------------\u001b[0m",
      "\u001b[0;31mFileNotFoundError\u001b[0m                         Traceback (most recent call last)",
      "Cell \u001b[0;32mIn[68], line 1\u001b[0m\n\u001b[0;32m----> 1\u001b[0m df \u001b[38;5;241m=\u001b[39m \u001b[43mpd\u001b[49m\u001b[38;5;241;43m.\u001b[39;49m\u001b[43mread_csv\u001b[49m\u001b[43m(\u001b[49m\u001b[43marchivo_lectura\u001b[49m\u001b[43m)\u001b[49m \n\u001b[1;32m      3\u001b[0m \u001b[38;5;28;01mif\u001b[39;00m facebook:\n\u001b[1;32m      4\u001b[0m     batch \u001b[38;5;241m=\u001b[39m clean_facebook_comments(df\u001b[38;5;241m.\u001b[39mcontent\u001b[38;5;241m.\u001b[39mto_list())\n",
      "File \u001b[0;32m/opt/conda/lib/python3.11/site-packages/pandas/util/_decorators.py:211\u001b[0m, in \u001b[0;36mdeprecate_kwarg.<locals>._deprecate_kwarg.<locals>.wrapper\u001b[0;34m(*args, **kwargs)\u001b[0m\n\u001b[1;32m    209\u001b[0m     \u001b[38;5;28;01melse\u001b[39;00m:\n\u001b[1;32m    210\u001b[0m         kwargs[new_arg_name] \u001b[38;5;241m=\u001b[39m new_arg_value\n\u001b[0;32m--> 211\u001b[0m \u001b[38;5;28;01mreturn\u001b[39;00m \u001b[43mfunc\u001b[49m\u001b[43m(\u001b[49m\u001b[38;5;241;43m*\u001b[39;49m\u001b[43margs\u001b[49m\u001b[43m,\u001b[49m\u001b[43m \u001b[49m\u001b[38;5;241;43m*\u001b[39;49m\u001b[38;5;241;43m*\u001b[39;49m\u001b[43mkwargs\u001b[49m\u001b[43m)\u001b[49m\n",
      "File \u001b[0;32m/opt/conda/lib/python3.11/site-packages/pandas/util/_decorators.py:331\u001b[0m, in \u001b[0;36mdeprecate_nonkeyword_arguments.<locals>.decorate.<locals>.wrapper\u001b[0;34m(*args, **kwargs)\u001b[0m\n\u001b[1;32m    325\u001b[0m \u001b[38;5;28;01mif\u001b[39;00m \u001b[38;5;28mlen\u001b[39m(args) \u001b[38;5;241m>\u001b[39m num_allow_args:\n\u001b[1;32m    326\u001b[0m     warnings\u001b[38;5;241m.\u001b[39mwarn(\n\u001b[1;32m    327\u001b[0m         msg\u001b[38;5;241m.\u001b[39mformat(arguments\u001b[38;5;241m=\u001b[39m_format_argument_list(allow_args)),\n\u001b[1;32m    328\u001b[0m         \u001b[38;5;167;01mFutureWarning\u001b[39;00m,\n\u001b[1;32m    329\u001b[0m         stacklevel\u001b[38;5;241m=\u001b[39mfind_stack_level(),\n\u001b[1;32m    330\u001b[0m     )\n\u001b[0;32m--> 331\u001b[0m \u001b[38;5;28;01mreturn\u001b[39;00m \u001b[43mfunc\u001b[49m\u001b[43m(\u001b[49m\u001b[38;5;241;43m*\u001b[39;49m\u001b[43margs\u001b[49m\u001b[43m,\u001b[49m\u001b[43m \u001b[49m\u001b[38;5;241;43m*\u001b[39;49m\u001b[38;5;241;43m*\u001b[39;49m\u001b[43mkwargs\u001b[49m\u001b[43m)\u001b[49m\n",
      "File \u001b[0;32m/opt/conda/lib/python3.11/site-packages/pandas/io/parsers/readers.py:950\u001b[0m, in \u001b[0;36mread_csv\u001b[0;34m(filepath_or_buffer, sep, delimiter, header, names, index_col, usecols, squeeze, prefix, mangle_dupe_cols, dtype, engine, converters, true_values, false_values, skipinitialspace, skiprows, skipfooter, nrows, na_values, keep_default_na, na_filter, verbose, skip_blank_lines, parse_dates, infer_datetime_format, keep_date_col, date_parser, dayfirst, cache_dates, iterator, chunksize, compression, thousands, decimal, lineterminator, quotechar, quoting, doublequote, escapechar, comment, encoding, encoding_errors, dialect, error_bad_lines, warn_bad_lines, on_bad_lines, delim_whitespace, low_memory, memory_map, float_precision, storage_options)\u001b[0m\n\u001b[1;32m    935\u001b[0m kwds_defaults \u001b[38;5;241m=\u001b[39m _refine_defaults_read(\n\u001b[1;32m    936\u001b[0m     dialect,\n\u001b[1;32m    937\u001b[0m     delimiter,\n\u001b[0;32m   (...)\u001b[0m\n\u001b[1;32m    946\u001b[0m     defaults\u001b[38;5;241m=\u001b[39m{\u001b[38;5;124m\"\u001b[39m\u001b[38;5;124mdelimiter\u001b[39m\u001b[38;5;124m\"\u001b[39m: \u001b[38;5;124m\"\u001b[39m\u001b[38;5;124m,\u001b[39m\u001b[38;5;124m\"\u001b[39m},\n\u001b[1;32m    947\u001b[0m )\n\u001b[1;32m    948\u001b[0m kwds\u001b[38;5;241m.\u001b[39mupdate(kwds_defaults)\n\u001b[0;32m--> 950\u001b[0m \u001b[38;5;28;01mreturn\u001b[39;00m \u001b[43m_read\u001b[49m\u001b[43m(\u001b[49m\u001b[43mfilepath_or_buffer\u001b[49m\u001b[43m,\u001b[49m\u001b[43m \u001b[49m\u001b[43mkwds\u001b[49m\u001b[43m)\u001b[49m\n",
      "File \u001b[0;32m/opt/conda/lib/python3.11/site-packages/pandas/io/parsers/readers.py:605\u001b[0m, in \u001b[0;36m_read\u001b[0;34m(filepath_or_buffer, kwds)\u001b[0m\n\u001b[1;32m    602\u001b[0m _validate_names(kwds\u001b[38;5;241m.\u001b[39mget(\u001b[38;5;124m\"\u001b[39m\u001b[38;5;124mnames\u001b[39m\u001b[38;5;124m\"\u001b[39m, \u001b[38;5;28;01mNone\u001b[39;00m))\n\u001b[1;32m    604\u001b[0m \u001b[38;5;66;03m# Create the parser.\u001b[39;00m\n\u001b[0;32m--> 605\u001b[0m parser \u001b[38;5;241m=\u001b[39m \u001b[43mTextFileReader\u001b[49m\u001b[43m(\u001b[49m\u001b[43mfilepath_or_buffer\u001b[49m\u001b[43m,\u001b[49m\u001b[43m \u001b[49m\u001b[38;5;241;43m*\u001b[39;49m\u001b[38;5;241;43m*\u001b[39;49m\u001b[43mkwds\u001b[49m\u001b[43m)\u001b[49m\n\u001b[1;32m    607\u001b[0m \u001b[38;5;28;01mif\u001b[39;00m chunksize \u001b[38;5;129;01mor\u001b[39;00m iterator:\n\u001b[1;32m    608\u001b[0m     \u001b[38;5;28;01mreturn\u001b[39;00m parser\n",
      "File \u001b[0;32m/opt/conda/lib/python3.11/site-packages/pandas/io/parsers/readers.py:1442\u001b[0m, in \u001b[0;36mTextFileReader.__init__\u001b[0;34m(self, f, engine, **kwds)\u001b[0m\n\u001b[1;32m   1439\u001b[0m     \u001b[38;5;28mself\u001b[39m\u001b[38;5;241m.\u001b[39moptions[\u001b[38;5;124m\"\u001b[39m\u001b[38;5;124mhas_index_names\u001b[39m\u001b[38;5;124m\"\u001b[39m] \u001b[38;5;241m=\u001b[39m kwds[\u001b[38;5;124m\"\u001b[39m\u001b[38;5;124mhas_index_names\u001b[39m\u001b[38;5;124m\"\u001b[39m]\n\u001b[1;32m   1441\u001b[0m \u001b[38;5;28mself\u001b[39m\u001b[38;5;241m.\u001b[39mhandles: IOHandles \u001b[38;5;241m|\u001b[39m \u001b[38;5;28;01mNone\u001b[39;00m \u001b[38;5;241m=\u001b[39m \u001b[38;5;28;01mNone\u001b[39;00m\n\u001b[0;32m-> 1442\u001b[0m \u001b[38;5;28mself\u001b[39m\u001b[38;5;241m.\u001b[39m_engine \u001b[38;5;241m=\u001b[39m \u001b[38;5;28;43mself\u001b[39;49m\u001b[38;5;241;43m.\u001b[39;49m\u001b[43m_make_engine\u001b[49m\u001b[43m(\u001b[49m\u001b[43mf\u001b[49m\u001b[43m,\u001b[49m\u001b[43m \u001b[49m\u001b[38;5;28;43mself\u001b[39;49m\u001b[38;5;241;43m.\u001b[39;49m\u001b[43mengine\u001b[49m\u001b[43m)\u001b[49m\n",
      "File \u001b[0;32m/opt/conda/lib/python3.11/site-packages/pandas/io/parsers/readers.py:1735\u001b[0m, in \u001b[0;36mTextFileReader._make_engine\u001b[0;34m(self, f, engine)\u001b[0m\n\u001b[1;32m   1733\u001b[0m     \u001b[38;5;28;01mif\u001b[39;00m \u001b[38;5;124m\"\u001b[39m\u001b[38;5;124mb\u001b[39m\u001b[38;5;124m\"\u001b[39m \u001b[38;5;129;01mnot\u001b[39;00m \u001b[38;5;129;01min\u001b[39;00m mode:\n\u001b[1;32m   1734\u001b[0m         mode \u001b[38;5;241m+\u001b[39m\u001b[38;5;241m=\u001b[39m \u001b[38;5;124m\"\u001b[39m\u001b[38;5;124mb\u001b[39m\u001b[38;5;124m\"\u001b[39m\n\u001b[0;32m-> 1735\u001b[0m \u001b[38;5;28mself\u001b[39m\u001b[38;5;241m.\u001b[39mhandles \u001b[38;5;241m=\u001b[39m \u001b[43mget_handle\u001b[49m\u001b[43m(\u001b[49m\n\u001b[1;32m   1736\u001b[0m \u001b[43m    \u001b[49m\u001b[43mf\u001b[49m\u001b[43m,\u001b[49m\n\u001b[1;32m   1737\u001b[0m \u001b[43m    \u001b[49m\u001b[43mmode\u001b[49m\u001b[43m,\u001b[49m\n\u001b[1;32m   1738\u001b[0m \u001b[43m    \u001b[49m\u001b[43mencoding\u001b[49m\u001b[38;5;241;43m=\u001b[39;49m\u001b[38;5;28;43mself\u001b[39;49m\u001b[38;5;241;43m.\u001b[39;49m\u001b[43moptions\u001b[49m\u001b[38;5;241;43m.\u001b[39;49m\u001b[43mget\u001b[49m\u001b[43m(\u001b[49m\u001b[38;5;124;43m\"\u001b[39;49m\u001b[38;5;124;43mencoding\u001b[39;49m\u001b[38;5;124;43m\"\u001b[39;49m\u001b[43m,\u001b[49m\u001b[43m \u001b[49m\u001b[38;5;28;43;01mNone\u001b[39;49;00m\u001b[43m)\u001b[49m\u001b[43m,\u001b[49m\n\u001b[1;32m   1739\u001b[0m \u001b[43m    \u001b[49m\u001b[43mcompression\u001b[49m\u001b[38;5;241;43m=\u001b[39;49m\u001b[38;5;28;43mself\u001b[39;49m\u001b[38;5;241;43m.\u001b[39;49m\u001b[43moptions\u001b[49m\u001b[38;5;241;43m.\u001b[39;49m\u001b[43mget\u001b[49m\u001b[43m(\u001b[49m\u001b[38;5;124;43m\"\u001b[39;49m\u001b[38;5;124;43mcompression\u001b[39;49m\u001b[38;5;124;43m\"\u001b[39;49m\u001b[43m,\u001b[49m\u001b[43m \u001b[49m\u001b[38;5;28;43;01mNone\u001b[39;49;00m\u001b[43m)\u001b[49m\u001b[43m,\u001b[49m\n\u001b[1;32m   1740\u001b[0m \u001b[43m    \u001b[49m\u001b[43mmemory_map\u001b[49m\u001b[38;5;241;43m=\u001b[39;49m\u001b[38;5;28;43mself\u001b[39;49m\u001b[38;5;241;43m.\u001b[39;49m\u001b[43moptions\u001b[49m\u001b[38;5;241;43m.\u001b[39;49m\u001b[43mget\u001b[49m\u001b[43m(\u001b[49m\u001b[38;5;124;43m\"\u001b[39;49m\u001b[38;5;124;43mmemory_map\u001b[39;49m\u001b[38;5;124;43m\"\u001b[39;49m\u001b[43m,\u001b[49m\u001b[43m \u001b[49m\u001b[38;5;28;43;01mFalse\u001b[39;49;00m\u001b[43m)\u001b[49m\u001b[43m,\u001b[49m\n\u001b[1;32m   1741\u001b[0m \u001b[43m    \u001b[49m\u001b[43mis_text\u001b[49m\u001b[38;5;241;43m=\u001b[39;49m\u001b[43mis_text\u001b[49m\u001b[43m,\u001b[49m\n\u001b[1;32m   1742\u001b[0m \u001b[43m    \u001b[49m\u001b[43merrors\u001b[49m\u001b[38;5;241;43m=\u001b[39;49m\u001b[38;5;28;43mself\u001b[39;49m\u001b[38;5;241;43m.\u001b[39;49m\u001b[43moptions\u001b[49m\u001b[38;5;241;43m.\u001b[39;49m\u001b[43mget\u001b[49m\u001b[43m(\u001b[49m\u001b[38;5;124;43m\"\u001b[39;49m\u001b[38;5;124;43mencoding_errors\u001b[39;49m\u001b[38;5;124;43m\"\u001b[39;49m\u001b[43m,\u001b[49m\u001b[43m \u001b[49m\u001b[38;5;124;43m\"\u001b[39;49m\u001b[38;5;124;43mstrict\u001b[39;49m\u001b[38;5;124;43m\"\u001b[39;49m\u001b[43m)\u001b[49m\u001b[43m,\u001b[49m\n\u001b[1;32m   1743\u001b[0m \u001b[43m    \u001b[49m\u001b[43mstorage_options\u001b[49m\u001b[38;5;241;43m=\u001b[39;49m\u001b[38;5;28;43mself\u001b[39;49m\u001b[38;5;241;43m.\u001b[39;49m\u001b[43moptions\u001b[49m\u001b[38;5;241;43m.\u001b[39;49m\u001b[43mget\u001b[49m\u001b[43m(\u001b[49m\u001b[38;5;124;43m\"\u001b[39;49m\u001b[38;5;124;43mstorage_options\u001b[39;49m\u001b[38;5;124;43m\"\u001b[39;49m\u001b[43m,\u001b[49m\u001b[43m \u001b[49m\u001b[38;5;28;43;01mNone\u001b[39;49;00m\u001b[43m)\u001b[49m\u001b[43m,\u001b[49m\n\u001b[1;32m   1744\u001b[0m \u001b[43m\u001b[49m\u001b[43m)\u001b[49m\n\u001b[1;32m   1745\u001b[0m \u001b[38;5;28;01massert\u001b[39;00m \u001b[38;5;28mself\u001b[39m\u001b[38;5;241m.\u001b[39mhandles \u001b[38;5;129;01mis\u001b[39;00m \u001b[38;5;129;01mnot\u001b[39;00m \u001b[38;5;28;01mNone\u001b[39;00m\n\u001b[1;32m   1746\u001b[0m f \u001b[38;5;241m=\u001b[39m \u001b[38;5;28mself\u001b[39m\u001b[38;5;241m.\u001b[39mhandles\u001b[38;5;241m.\u001b[39mhandle\n",
      "File \u001b[0;32m/opt/conda/lib/python3.11/site-packages/pandas/io/common.py:856\u001b[0m, in \u001b[0;36mget_handle\u001b[0;34m(path_or_buf, mode, encoding, compression, memory_map, is_text, errors, storage_options)\u001b[0m\n\u001b[1;32m    851\u001b[0m \u001b[38;5;28;01melif\u001b[39;00m \u001b[38;5;28misinstance\u001b[39m(handle, \u001b[38;5;28mstr\u001b[39m):\n\u001b[1;32m    852\u001b[0m     \u001b[38;5;66;03m# Check whether the filename is to be opened in binary mode.\u001b[39;00m\n\u001b[1;32m    853\u001b[0m     \u001b[38;5;66;03m# Binary mode does not support 'encoding' and 'newline'.\u001b[39;00m\n\u001b[1;32m    854\u001b[0m     \u001b[38;5;28;01mif\u001b[39;00m ioargs\u001b[38;5;241m.\u001b[39mencoding \u001b[38;5;129;01mand\u001b[39;00m \u001b[38;5;124m\"\u001b[39m\u001b[38;5;124mb\u001b[39m\u001b[38;5;124m\"\u001b[39m \u001b[38;5;129;01mnot\u001b[39;00m \u001b[38;5;129;01min\u001b[39;00m ioargs\u001b[38;5;241m.\u001b[39mmode:\n\u001b[1;32m    855\u001b[0m         \u001b[38;5;66;03m# Encoding\u001b[39;00m\n\u001b[0;32m--> 856\u001b[0m         handle \u001b[38;5;241m=\u001b[39m \u001b[38;5;28mopen\u001b[39m(\n\u001b[1;32m    857\u001b[0m             handle,\n\u001b[1;32m    858\u001b[0m             ioargs\u001b[38;5;241m.\u001b[39mmode,\n\u001b[1;32m    859\u001b[0m             encoding\u001b[38;5;241m=\u001b[39mioargs\u001b[38;5;241m.\u001b[39mencoding,\n\u001b[1;32m    860\u001b[0m             errors\u001b[38;5;241m=\u001b[39merrors,\n\u001b[1;32m    861\u001b[0m             newline\u001b[38;5;241m=\u001b[39m\u001b[38;5;124m\"\u001b[39m\u001b[38;5;124m\"\u001b[39m,\n\u001b[1;32m    862\u001b[0m         )\n\u001b[1;32m    863\u001b[0m     \u001b[38;5;28;01melse\u001b[39;00m:\n\u001b[1;32m    864\u001b[0m         \u001b[38;5;66;03m# Binary mode\u001b[39;00m\n\u001b[1;32m    865\u001b[0m         handle \u001b[38;5;241m=\u001b[39m \u001b[38;5;28mopen\u001b[39m(handle, ioargs\u001b[38;5;241m.\u001b[39mmode)\n",
      "\u001b[0;31mFileNotFoundError\u001b[0m: [Errno 2] No such file or directory: 'sheet-diferentes-usos-sofi-comentario.csv'"
     ]
    }
   ],
   "source": [
    "df = pd.read_csv(archivo_lectura) \n",
    "\n",
    "if facebook:\n",
    "    batch = clean_facebook_comments(df.content.to_list())\n",
    "elif instagram:\n",
    "    batch = clean_instagram_comments(df.content.to_list())\n",
    "else:\n",
    "    print(\"Error: no se selecciono ningún filtro de comentario\")\n",
    "\n",
    "\n",
    "i_nombre_propios = nombres_propios(batch)\n",
    "batch = procesamiento(batch)"
   ]
  },
  {
   "cell_type": "code",
   "execution_count": null,
   "id": "1203285c-1509-40bf-a452-04688ab60ada",
   "metadata": {},
   "outputs": [],
   "source": [
    "# CARGAR DATASET DE PROCESAMIENTO\n",
    "df = pd.DataFrame({\"content\": batch})\n",
    "df"
   ]
  },
  {
   "cell_type": "code",
   "execution_count": null,
   "id": "f0a8d54f-29bf-49ea-bd4a-667c5f864d3c",
   "metadata": {},
   "outputs": [],
   "source": [
    "# PREDICCION DE SENTIMIENTO\n",
    "df = M1_sentiment.main_df(df)"
   ]
  },
  {
   "cell_type": "code",
   "execution_count": null,
   "id": "05eae622-70e3-49fb-ac14-b8c9df7660c8",
   "metadata": {},
   "outputs": [],
   "source": [
    "# PREDICCION DE LAS EMOCIONES I\n",
    "\n",
    "device = torch.device(\"cuda\" if torch.cuda.is_available() else \"cpu\")\n",
    "\n",
    "MODEL = \"02shanky/finetuned-twitter-xlm-roberta-base-emotion\"\n",
    "tokenizer_i = AutoTokenizer.from_pretrained(MODEL)\n",
    "model_i = AutoModelForSequenceClassification.from_pretrained(MODEL)\n",
    "\n",
    "pipeline_i = pipeline('text-classification', model=model_i, tokenizer=tokenizer_i, device=device, top_k=None)\n",
    "\n",
    "# Realizar predicción y ajustar resultados\n",
    "predictions = M2_emotions.classify_tweets(pipeline_i, df, target=\"content\")\n",
    "predictions = M2_emotions.emotions_features(predictions)\n",
    "\n",
    "# update dataset\n",
    "df = pd.concat([df, predictions], axis=1)"
   ]
  },
  {
   "cell_type": "code",
   "execution_count": null,
   "id": "7ee29db4-fd1f-4ba2-a690-1f79f0b1b22c",
   "metadata": {},
   "outputs": [],
   "source": [
    "# CLASIFICACION DE EMOCIONES II\n",
    "\"\"\"\n",
    "Acá vale una aclaración con respecto a los scores.\n",
    "Por lo general, un modelo predice etiquetas, y \n",
    "le otorga un score entre 0 y 1 a cada etiqueta.\n",
    "\n",
    "Este modelo no, lo que hace es generar etiquetas,\n",
    "a cada etiqueta le otorga un score, y la suma de\n",
    "todos los scores es igual a 1.\n",
    "\"\"\"\n",
    "\n",
    "device = torch.device(\"cuda\" if torch.cuda.is_available() else \"cpu\")\n",
    "\n",
    "MODEL_NAME = \"joeddav/distilbert-base-uncased-go-emotions-student\"\n",
    "model_ii = AutoModelForSequenceClassification.from_pretrained(MODEL_NAME)\n",
    "tokenizer_ii = AutoTokenizer.from_pretrained(MODEL_NAME)\n",
    "\n",
    "pipeline_ii = TextClassificationPipeline(model=model_ii, tokenizer=tokenizer_ii, device=device, top_k=None)\n",
    "\n",
    "predictions = M3_emotions.classify_tweets(pipeline_ii, df, target=\"content\")\n",
    "predictions = M3_emotions.emotions_features(predictions)\n",
    "\n",
    "df = pd.concat([df, predictions], axis=1)"
   ]
  },
  {
   "cell_type": "code",
   "execution_count": null,
   "id": "913b3ee0-e3a6-4b59-b0e1-7ef267f69e6c",
   "metadata": {},
   "outputs": [],
   "source": [
    "# AGREGANDO PALABRAS ESCRITAS LA PRIMERA LETRA EN MAYUSCULAS\n",
    "try:\n",
    "    df[\"palabras_titulo\"] = i_nombre_propios[:len(i_nombre_propios)-len(i_nombre_propios)%4]\n",
    "\n",
    "except ValueError:\n",
    "    print(\"Error en la consistencia estructural de los datos.\")\n",
    "    # consultar con un pytólogo\n",
    "df"
   ]
  },
  {
   "cell_type": "code",
   "execution_count": null,
   "id": "87b36317-24ef-4c65-99f1-3abe81c62d4f",
   "metadata": {},
   "outputs": [],
   "source": [
    "# DESCARGA\n",
    "archivo_descarga= \"RD-\"+archivo_lectura\n",
    "df.to_csv(archivo_descarga, index=False)"
   ]
  },
  {
   "cell_type": "code",
   "execution_count": null,
   "id": "db26ac25-51b5-4d7c-83f6-af05c4f1cb2f",
   "metadata": {},
   "outputs": [],
   "source": []
  },
  {
   "cell_type": "code",
   "execution_count": null,
   "id": "1cb981de-f2ef-4fa3-a81d-d828f8921199",
   "metadata": {},
   "outputs": [],
   "source": [
    "# DESCARGA DIVIDIDA POR SENTIMIENTO\n",
    "\n",
    "mask_negativo = (df.sentiment_i == \"negative\").values\n",
    "mask_positivo = (df.sentiment_i == \"positive\").values\n",
    "mask_neutro = (df.sentiment_i == \"neutral\").values\n",
    "\n",
    "df_sentiment_positive= df.loc[mask_positivo]\n",
    "df_sentiment_negative= df.loc[mask_negativo]\n",
    "df_sentiment_neutral = df.loc[mask_neutro]\n",
    "\n",
    "## Conteo de las predicciones\n",
    "print(f\"Predicciones {archivo_lectura}:\")\n",
    "print(\"Negativos: \", mask_negativo.sum())\n",
    "print(\"Positivos: \", mask_positivo.sum())\n",
    "print(\"Neutro: \", mask_neutro.sum())\n"
   ]
  },
  {
   "cell_type": "code",
   "execution_count": null,
   "id": "6ecf7b36-01a7-4eee-9d88-64bd54b8b959",
   "metadata": {},
   "outputs": [],
   "source": [
    "df_sentiment_negative.to_csv(f\"RD_negative-{archivo_lectura}\")\n",
    "df_sentiment_positive.to_csv(f\"RD_positive-{archivo_lectura}\")\n",
    "df_sentiment_neutral.to_csv(f\"RD_neutral-{archivo_lectura}\")"
   ]
  },
  {
   "cell_type": "code",
   "execution_count": null,
   "id": "0cb96c03-3713-4899-bd1e-c7c709ffcb3e",
   "metadata": {},
   "outputs": [],
   "source": [
    "print(\"Programa finalizado de forma exitosa\")"
   ]
  },
  {
   "cell_type": "code",
   "execution_count": null,
   "id": "248e77d7-3ee6-461e-a1a1-0ee5aaace697",
   "metadata": {},
   "outputs": [],
   "source": []
  }
 ],
 "metadata": {
  "kernelspec": {
   "display_name": "Python 3 (ipykernel)",
   "language": "python",
   "name": "python3"
  },
  "language_info": {
   "codemirror_mode": {
    "name": "ipython",
    "version": 3
   },
   "file_extension": ".py",
   "mimetype": "text/x-python",
   "name": "python",
   "nbconvert_exporter": "python",
   "pygments_lexer": "ipython3",
   "version": "3.11.4"
  }
 },
 "nbformat": 4,
 "nbformat_minor": 5
}
