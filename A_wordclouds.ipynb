{
 "cells": [
  {
   "cell_type": "code",
   "execution_count": 3,
   "id": "54b1318d-ad51-47c8-8009-588b9322599f",
   "metadata": {},
   "outputs": [],
   "source": [
    "from apps_integration import main_wordcloud"
   ]
  },
  {
   "cell_type": "code",
   "execution_count": 7,
   "id": "3831a54c-39b8-4cdc-b3c1-8cae0885536d",
   "metadata": {},
   "outputs": [
    {
     "name": "stdout",
     "output_type": "stream",
     "text": [
      "archivo original abierto exitosamente\n",
      "checkpoint 1: DataFrame previo a la tokenizacion\n"
     ]
    },
    {
     "name": "stderr",
     "output_type": "stream",
     "text": [
      "Tokenizando: 3000it [00:00, 45234.61it/s]\n",
      "/home/jovyan/Análisis de Contenido/apps_integration/main_wordcloud.py:47: SettingWithCopyWarning: \n",
      "A value is trying to be set on a copy of a slice from a DataFrame.\n",
      "Try using .loc[row_indexer,col_indexer] = value instead\n",
      "\n",
      "See the caveats in the documentation: https://pandas.pydata.org/pandas-docs/stable/user_guide/indexing.html#returning-a-view-versus-a-copy\n",
      "  dfwc.loc[:, \"token\"] = tokens\n"
     ]
    },
    {
     "name": "stdout",
     "output_type": "stream",
     "text": [
      "checkpoint 2: tokenizacion finalizada\n",
      "programa finalizado de forma exitosa\n",
      "archivo TK abierto exitosamente\n",
      "\n",
      "Corriendo modulo word_cloud\n",
      "\n"
     ]
    },
    {
     "name": "stderr",
     "output_type": "stream",
     "text": [
      "100%|██████████| 2336/2336 [00:14<00:00, 160.57it/s]\n"
     ]
    },
    {
     "name": "stdout",
     "output_type": "stream",
     "text": [
      "\n",
      "Directorio seleccionado: /home/jovyan/Análisis de Contenido/output/milei/6\n",
      "Input leído exitosamente.\n",
      "\n",
      "Implementando configuración con Máscara: /home/jovyan/Análisis de Contenido/app/word_cloud_utils/mascara_bullrich_2.png\n",
      "\n",
      "WordCloud Nº 1 de milei\n",
      "\n",
      "programa finalizado exitosamente.\n",
      "Archivo guardado: /home/jovyan/Análisis de Contenido/output/milei/6/wordcloud_milei_1.png\n"
     ]
    },
    {
     "data": {
      "text/plain": [
       "<Figure size 2000x800 with 0 Axes>"
      ]
     },
     "metadata": {},
     "output_type": "display_data"
    }
   ],
   "source": [
    "main_wordcloud.main(\"milei.csv\")"
   ]
  },
  {
   "cell_type": "code",
   "execution_count": null,
   "id": "879fe7a0-b464-4d16-a6b4-5802b5552fa1",
   "metadata": {},
   "outputs": [],
   "source": []
  }
 ],
 "metadata": {
  "kernelspec": {
   "display_name": "Python 3 (ipykernel)",
   "language": "python",
   "name": "python3"
  },
  "language_info": {
   "codemirror_mode": {
    "name": "ipython",
    "version": 3
   },
   "file_extension": ".py",
   "mimetype": "text/x-python",
   "name": "python",
   "nbconvert_exporter": "python",
   "pygments_lexer": "ipython3",
   "version": "3.11.4"
  }
 },
 "nbformat": 4,
 "nbformat_minor": 5
}
