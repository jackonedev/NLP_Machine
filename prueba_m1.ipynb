{
 "cells": [
  {
   "cell_type": "code",
   "execution_count": 22,
   "metadata": {},
   "outputs": [],
   "source": [
    "import pickle\n",
    "\n",
    "from app.m1_sentiment import M1_sentiment\n",
    "from app.time_series import TimeSeries"
   ]
  },
  {
   "cell_type": "code",
   "execution_count": 27,
   "metadata": {},
   "outputs": [
    {
     "name": "stdout",
     "output_type": "stream",
     "text": [
      "Ejecutando time_series/TimeSeries.py\n",
      "\n",
      "Cargando configuración...\n",
      "Ejecutando time_series/main.py\n",
      "\n",
      "\n",
      "    Resumen de la apertura de .csv:\n",
      "\n",
      "             columna  Nan  pct_nan   dtype  count  pct_reg  count_unique\n",
      "0     @timestamp    0      0.0  object   3924    100.0           329\n",
      "1         author    0      0.0  object   3924    100.0          3184\n",
      "2        content    0      0.0  object   3924    100.0          3732\n",
      "3         source    0      0.0  object   3924    100.0          3752\n",
      "4  retweet_count    0      0.0  object   3924    100.0            49\n",
      "5          reach    0      0.0  object   3924    100.0           511\n",
      "    \n",
      "1. Limpieza del content\n",
      "\n",
      "Longitud del batch de contenidos: 3924\n",
      "Tamaño de la muestra neta: 3898\n",
      "Directorio de salida:\n",
      "c:\\Users\\Agustin\\Desktop\\RD\\Octubre\\RD_APP\\output\\politica-argentina-milei\n",
      "programa finalizado de forma exitosa\n",
      "Cargando configuración...\n",
      "Leyendo fichero...\n",
      "Fichero leído con éxito.\n",
      "\n",
      "Ejecutando modelo optimizado con 4 hilos...\n",
      "Modelo - clasificación de sentimientos: cardiffnlp/twitter-xlm-roberta-base-sentiment\n"
     ]
    },
    {
     "name": "stderr",
     "output_type": "stream",
     "text": [
      "c:\\Users\\Agustin\\Desktop\\RD\\Octubre\\RD_APP\\venv\\Lib\\site-packages\\transformers\\pipelines\\base.py:1101: UserWarning: You seem to be using the pipelines sequentially on GPU. In order to maximize efficiency please use a dataset\n",
      "  warnings.warn(\n"
     ]
    },
    {
     "name": "stdout",
     "output_type": "stream",
     "text": [
      "Tiempo de ejecución del modelo:  133.2629849910736\n",
      "Ensamble de las predicciones\n",
      "Predicción de sentimientos finalizada.\n"
     ]
    }
   ],
   "source": [
    "path = TimeSeries.main()\n",
    "##\n",
    "# abrir dataset procesado con pickle\n",
    "with open(path, 'rb') as f:\n",
    "    dfts = pickle.load(f)\n",
    "#\n",
    "# limpiar el path para que pueda ser leído por M1_sentiment\n",
    "path = path.rsplit(\"shared_resources\", 1)[1][1:]\n",
    "##\n",
    "df = M1_sentiment.main_shared_resources(path)"
   ]
  },
  {
   "cell_type": "code",
   "execution_count": 3,
   "metadata": {},
   "outputs": [
    {
     "name": "stdout",
     "output_type": "stream",
     "text": [
      "Predicciones octubre:\n",
      "Negativos:  984\n",
      "Positivos:  20\n",
      "Neutro:  252\n"
     ]
    }
   ],
   "source": [
    "## Creacion de las máscaras\n",
    "\n",
    "mask_negativo = (df.sentiment_i == \"negative\").values\n",
    "mask_positivo = (df.sentiment_i == \"positive\").values\n",
    "mask_neutro = (df.sentiment_i == \"neutral\").values\n",
    "\n",
    "\n",
    "## Conteo de las predicciones\n",
    "print(\"Predicciones octubre:\")\n",
    "print(\"Negativos: \", mask_negativo.sum())\n",
    "print(\"Positivos: \", mask_positivo.sum())\n",
    "print(\"Neutro: \", mask_neutro.sum())\n",
    "\n",
    "# display(df)"
   ]
  },
  {
   "cell_type": "code",
   "execution_count": 4,
   "metadata": {},
   "outputs": [],
   "source": [
    "# Guardar dataset con predicciones para hacer wordcloud\n",
    "df.to_csv(\"sentiment-politica-argentina-massa.csv\", index=False)"
   ]
  },
  {
   "cell_type": "markdown",
   "metadata": {},
   "source": [
    "## Separacion del dataset por percepción | sentimiento"
   ]
  },
  {
   "cell_type": "code",
   "execution_count": null,
   "metadata": {},
   "outputs": [],
   "source": [
    "import sys\n",
    "\n",
    "sys.exit(0)\n",
    "\n",
    "\n",
    "# Esto funciona aparte"
   ]
  },
  {
   "cell_type": "code",
   "execution_count": null,
   "metadata": {},
   "outputs": [],
   "source": [
    "import pandas as pd\n",
    "\n",
    "\n",
    "file_name = \"sentiment-panorama-economico\"\n",
    "df = pd.read_csv(f\"{file_name}.csv\")"
   ]
  },
  {
   "cell_type": "code",
   "execution_count": 28,
   "metadata": {},
   "outputs": [
    {
     "name": "stdout",
     "output_type": "stream",
     "text": [
      "Predicciones politica-argentina-bullrich:\n",
      "Negativos:  2440\n",
      "Positivos:  328\n",
      "Neutro:  932\n"
     ]
    }
   ],
   "source": [
    "## Creacion de las máscaras\n",
    "\n",
    "mask_negativo = (df.sentiment_i == \"negative\").values\n",
    "mask_positivo = (df.sentiment_i == \"positive\").values\n",
    "mask_neutro = (df.sentiment_i == \"neutral\").values\n",
    "\n",
    "\n",
    "## Conteo de las predicciones\n",
    "print(f\"Predicciones {file_name}:\")\n",
    "print(\"Negativos: \", mask_negativo.sum())\n",
    "print(\"Positivos: \", mask_positivo.sum())\n",
    "print(\"Neutro: \", mask_neutro.sum())"
   ]
  },
  {
   "cell_type": "code",
   "execution_count": 29,
   "metadata": {},
   "outputs": [],
   "source": [
    "df_sentiment_positive= df.loc[mask_positivo]\n",
    "df_sentiment_negative= df.loc[mask_negativo]\n",
    "df_sentiment_neutral = df.loc[mask_neutro]"
   ]
  },
  {
   "cell_type": "code",
   "execution_count": 30,
   "metadata": {},
   "outputs": [],
   "source": [
    "file_name = 'politica-argentina-milei'\n",
    "\n",
    "\n",
    "df_sentiment_negative.to_csv(f\"negative-{file_name}.csv\")\n",
    "df_sentiment_positive.to_csv(f\"positive-{file_name}.csv\")\n",
    "df_sentiment_neutral.to_csv(f\"neutral-{file_name}.csv\")"
   ]
  },
  {
   "cell_type": "code",
   "execution_count": null,
   "metadata": {},
   "outputs": [],
   "source": []
  }
 ],
 "metadata": {
  "kernelspec": {
   "display_name": "venv",
   "language": "python",
   "name": "python3"
  },
  "language_info": {
   "codemirror_mode": {
    "name": "ipython",
    "version": 3
   },
   "file_extension": ".py",
   "mimetype": "text/x-python",
   "name": "python",
   "nbconvert_exporter": "python",
   "pygments_lexer": "ipython3",
   "version": "3.11.4"
  }
 },
 "nbformat": 4,
 "nbformat_minor": 2
}
