{
 "cells": [
  {
   "cell_type": "markdown",
   "metadata": {},
   "source": [
    "# Bienvenido a la notebook de procesamiento de outputs en imágenes\n",
    "\n",
    "Alimentación: modelo de clasificación de emociones - distilbert-base-uncased-go-emotions-student <br />\n",
    "Contexto: Debate presidencial <br />\n",
    "Tech-stack: Plotly <br />"
   ]
  },
  {
   "cell_type": "code",
   "execution_count": 2,
   "metadata": {},
   "outputs": [],
   "source": [
    "import pandas as pd\n",
    "import pickle, os\n",
    "from dotenv import load_dotenv\n",
    "import chart_studio.plotly as py\n",
    "import chart_studio.tools as tls\n",
    "\n",
    "load_dotenv()\n",
    "\n",
    "pd.options.plotting.backend = \"plotly\"\n",
    "\n",
    "USER = os.environ[\"USER_CS\"]\n",
    "TOKEN = os.environ[\"TOKEN_CS\"]\n",
    "tls.set_credentials_file(username=USER, api_key=TOKEN)\n",
    "\n",
    "workdir = os.getcwd()\n",
    "inputs = os.path.join(workdir, \"output_model_emotions\")"
   ]
  },
  {
   "cell_type": "code",
   "execution_count": 3,
   "metadata": {},
   "outputs": [
    {
     "name": "stdout",
     "output_type": "stream",
     "text": [
      "dict_keys(['47_Bullrich_10_prediccion', '48_Milei_11_prediccion', '49_Schiaretti_10_prediccion', '50_Bullrich_11_prediccion', '51_Massa_10_prediccion', '52_Bregman_10_prediccion', '53_Milei_12_prediccion', '54_Massa_11_prediccion', '55_Bregman_11_prediccion', '56_Schiaretti_11_prediccion', '57_Massa_12_prediccion', '58_Milei_13_prediccion', '59_Schiaretti_12_prediccion', '60_Massa_13_prediccion', '61_Milei_14_prediccion', '62_Bregman_12_prediccion', '63_Bullrich_12_prediccion', '64_Schiaretti_13_prediccion', '65_Bregman_13_prediccion', '66_Bullrich_13_prediccion', '67_Milei_15_prediccion', '68_Schiaretti_14_prediccion', '69_Massa_14_prediccion', '70_Bullrich_14_prediccion', '71_Schiaretti_15_prediccion', '72_Bregman_14_prediccion', '73_Bullrich_15_prediccion', '74_Massa_15_prediccion', '75_Bregman_15_prediccion', '76_Milei_16_prediccion', '77_Bregman_16_prediccion', '78_Massa_16_prediccion', '79_Schiaretti_16_prediccion', '80_Milei_17_prediccion', '81_Bullrich_16_prediccion', '82_Bregman_17_prediccion', '83_Massa_17_prediccion', '84_Schiaretti_17_prediccion', '85_Milei_18_prediccion', '86_Bregman_18_prediccion', '87_Milei_19_prediccion', '88_Bullrich_17_prediccion', '89_Schiaretti_18_prediccion', '90_Massa_18_prediccion'])\n"
     ]
    }
   ],
   "source": [
    "## Introducir bloque a ser analizado\n",
    "bloque = \"bloque_de_preguntas_cruzadas\"\n",
    "### (definir esta variable)\n",
    "\n",
    "\n",
    "# Carga de datos\n",
    "inputs_intro = os.path.join(inputs, bloque)\n",
    "extension = \".pickle\"\n",
    "files = [file for file in os.listdir(inputs_intro) if file.endswith(extension)]\n",
    "files = sorted(files)\n",
    "\n",
    "participacion = {}\n",
    "for file in files:\n",
    "    with open(os.path.join(inputs_intro, file), \"rb\") as f:\n",
    "        participacion[file[:-7]] = pickle.load(f) # [:-7] = remover extension \".pickle\"\n",
    "        \n",
    "print(participacion.keys())\n"
   ]
  },
  {
   "cell_type": "code",
   "execution_count": 4,
   "metadata": {},
   "outputs": [],
   "source": [
    "candidatos = [\"Bullrich\", \"Bregman\", \"Massa\", \"Milei\", \"Schiaretti\"]"
   ]
  },
  {
   "cell_type": "markdown",
   "metadata": {},
   "source": [
    "# Visualización por candidato y por bloque temático\n",
    "\n",
    "Unificamos los scores de todas las exposiciones de cada candidato."
   ]
  },
  {
   "cell_type": "code",
   "execution_count": 5,
   "metadata": {},
   "outputs": [],
   "source": [
    "## [ORIGINAL]\n",
    "error - es solo un backup - no correr\n",
    "## [ORIGINAL]\n",
    "## Hacemos la selección del candidato\n",
    "candidato = candidatos[0]\n",
    "### (definir esta variable)\n",
    "\n",
    "\n",
    "## Obtenemos el dataset de todo el bloque temático con cada una de las interveciones de cada candidato\n",
    "df_candidatos = pd.DataFrame()\n",
    "for nombre_participacion in participacion.keys():\n",
    "    df = participacion[nombre_participacion]\n",
    "    df_candidatos = pd.concat([df_candidatos, participacion[nombre_participacion]], axis=1)\n",
    "\n",
    "\n",
    "## Filtramos al candidato en todas sus intervenciones\n",
    "mascara = df_candidatos.columns.str.contains(candidato) # boolean mask over columns\n",
    "df_promedios = df_candidatos.loc[:, mascara]\n",
    "\n",
    "## Promediamos el score de cada línea del discurso de cada intervención en un único score\n",
    "df_promedios = (df_promedios.sum(axis=1) / df_promedios.sum(axis=1).sum() * 100).round(2)\n",
    "figure_name = candidato + \" | \" + bloque.replace(\"_\", \" \")\n",
    "df_promedios.name = figure_name\n",
    "df_promedios;\n",
    "\n",
    "\n",
    "##  TRADUCCIONES  ###\n",
    "## cuarto, cambiamos los nombres de las emociones por su traducción al español# NO TRADUCIR\n",
    "df_promedios.index = df_promedios.index.str.replace(\"neutral\", \"neutro\")\n",
    "df_promedios.index = df_promedios.index.str.replace(\"disapproval\", \"desaprobación\")\n",
    "df_promedios.index = df_promedios.index.str.replace(\"approval\", \"aprobación\")\n",
    "df_promedios.index = df_promedios.index.str.replace(\"realization\", \"auto-realización\")\n",
    "df_promedios.index = df_promedios.index.str.replace(\"caring\", \"cuidadoso\")\n",
    "df_promedios.index = df_promedios.index.str.replace(\"curiosity\", \"curioso\")\n",
    "df_promedios.index = df_promedios.index.str.replace(\"confusión\", \"confundido\")\n",
    "df_promedios.index = df_promedios.index.str.replace(\"desire\", \"deseo\")\n",
    "df_promedios.index = df_promedios.index.str.replace(\"annoyance\", \"aburrimiento\")\n",
    "df_promedios.index = df_promedios.index.str.replace(\"gratitude\", \"gratitud\")\n",
    "df_promedios.index = df_promedios.index.str.replace(\"excitement\", \"exaltación\")\n",
    "df_promedios.index = df_promedios.index.str.replace(\"pride\", \"orgullo\")\n",
    "df_promedios.index = df_promedios.index.str.replace(\"remorse\", \"arrepentimiento\")\n",
    "df_promedios.index = df_promedios.index.str.replace(\"disappointment\", \"defraudado\")\n",
    "df_promedios.index = df_promedios.index.str.replace(\"relief\", \"aliviado\")\n",
    "df_promedios.index = df_promedios.index.str.replace(\"admiration\", \"admiración\")\n",
    "df_promedios.index = df_promedios.index.str.replace(\"anger\", \"enojo\")\n",
    "df_promedios.index = df_promedios.index.str.replace(\"amusement\", \"asombro\")\n",
    "df_promedios.index = df_promedios.index.str.replace(\"embarrassment\", \"avergonzado\")\n",
    "df_promedios.index = df_promedios.index.str.replace(\"joy\", \"alegría\")\n",
    "df_promedios.index = df_promedios.index.str.replace(\"surprise\", \"sorpresa\")\n",
    "df_promedios.index = df_promedios.index.str.replace(\"nervousness\", \"nerviosismo\")\n",
    "df_promedios.index = df_promedios.index.str.replace(\"love\", \"amor\")\n",
    "df_promedios.index = df_promedios.index.str.replace(\"sadness\", \"tristeza\")\n",
    "df_promedios.index = df_promedios.index.str.replace(\"grief\", \"avaricia\")\n",
    "df_promedios.index = df_promedios.index.str.replace(\"disgust\", \"desagrado\")\n",
    "df_promedios.index = df_promedios.index.str.replace(\"optimism\", \"optimismo\")\n",
    "df_promedios.index = df_promedios.index.str.replace(\"fear\", \"miedo\")\n",
    "\n",
    "\n",
    "# # ## quinto, seleccionamos los colores de cada emoción # UTILIZAR COLORES DE LA PAGINA 11\n",
    "verde = \"#FFFF00\"\n",
    "amarillo = \"#e926b0\"\n",
    "gris = \"#7a9c7d\"\n",
    "rojo = \"#00FF00\"\n",
    "\n",
    "# # ROJO: (00FF00)negativo | #198ddc   # verde: (FFFF00)positivo | (#e926b0)neutro   # amarillo: (#7a9c7d)gris | #528fbf\n",
    "\n",
    "\n",
    "colores = {\n",
    "    \"neutro\": gris, \"aprobación\": verde, \"auto-realización\": verde,\n",
    "    \"cuidadoso\": amarillo, \"curioso\": amarillo, \"confusion\": amarillo,\n",
    "    \"desaprobación\": rojo, \"deseo\": verde, \"aburrimiento\": amarillo,\n",
    "    \"gratitud\": verde, \"exaltación\": verde, \"orgullo\": verde,\n",
    "    \"arrepentimiento\": gris, \"defraudado\": gris, \"aliviado\": amarillo,\n",
    "    \"admiración\": verde, \"enojo\": rojo, \"asombro\": amarillo,\n",
    "    \"avergonzado\": gris, \"alegría\": verde, \"sorpresa\": amarillo,\n",
    "    \"nerviosismo\": gris, \"amor\": verde, \"tristeza\": gris,\n",
    "    \"avaricia\": rojo, \"desagrado\": rojo, \"optimismo\": verde,\n",
    "    \"miedo\": rojo\n",
    "}\n",
    "\n",
    "\n",
    "\n",
    "\n",
    "\n",
    "# import random\n",
    "# def random_color_hex():\n",
    "#     return '#%02x%02x%02x' % (random.randint(0, 255), random.randint(0, 255), random.randint(0, 255))\n",
    "# def random_color_RGB():\n",
    "#     return (random.randint(0, 255), random.randint(0, 255), random.randint(0, 255))\n",
    "# colores = {emotion: random_color_hex() for emotion in df_promedios.index}\n",
    "\n",
    "\n",
    "# colores = {emotion: random_color_hex() for emotion in df_promedios.index}\n",
    "\n",
    "df_promedios = df_promedios.to_frame().reset_index()\n",
    "df_promedios[\"colores\"] = df_promedios.index.map(colores)\n",
    "df_promedios;\n",
    "\n"
   ]
  },
  {
   "cell_type": "code",
   "execution_count": 6,
   "metadata": {},
   "outputs": [],
   "source": [
    "## [version con colores]\n",
    "## Hacemos la selección del candidato\n",
    "candidato = candidatos[0]\n",
    "### (definir esta variable)\n",
    "\n",
    "\n",
    "## Obtenemos el dataset de todo el bloque temático con cada una de las interveciones de cada candidato\n",
    "df_candidatos = pd.DataFrame()\n",
    "for nombre_participacion in participacion.keys():\n",
    "    df = participacion[nombre_participacion]\n",
    "    df_candidatos = pd.concat([df_candidatos, participacion[nombre_participacion]], axis=1)\n",
    "\n",
    "\n",
    "## Filtramos al candidato en todas sus intervenciones\n",
    "mascara = df_candidatos.columns.str.contains(candidato) # boolean mask over columns\n",
    "df_promedios = df_candidatos.loc[:, mascara]\n",
    "\n",
    "## Promediamos el score de cada línea del discurso de cada intervención en un único score\n",
    "df_promedios = (df_promedios.sum(axis=1) / df_promedios.sum(axis=1).sum() * 100).round(2)\n",
    "figure_name = candidato + \" | \" + bloque.replace(\"_\", \" \")\n",
    "df_promedios.name = figure_name\n",
    "\n",
    "\n",
    "###   CONFIGURACION DE LOS COLORES   ###\n",
    "azul_miedo_desagrado = \"#473b9e\"\n",
    "rosa_aversion_duda = \"#ea76e5\"\n",
    "rojo_tension_entusiasmo = \"#901f31\"\n",
    "amarillo_satisfaccion_valor = \"#d5d432\"\n",
    "verde_altivez_deseo = \"#9cf581\"\n",
    "verde_amor_certeza = \"#4bb710\"\n",
    "celeste_calma_aburrimiento = \"#80c0ea\"\n",
    "celeste_apatia_tristeza = \"#53b7d9\"\n",
    "# neutral = calma | approval = satisfacción | realization: altivez | caring: compasion | curiosidad: duda | confusion: aversion | \n",
    "# disapproval: frustracion | desire: deseo | annoyance: aburrimiento | gratitude: valor | excitement: entusiasmo | pride: placer |\n",
    "# remorse: frustracion | disappointment: frustracion | relief: calma | admiration: alegria | anger: odio | amusement: alegria |\n",
    "# embarrassment: humillacion | joy: alegria | surprise: diversion | nervousness: tension | love: amor | sadness: tristeza | grief: odio |\n",
    "# disgust: desagrado | optimism: agrado | fear: miedo\n",
    "colores = {\n",
    "    \"neutral\": celeste_calma_aburrimiento, \"approval\": amarillo_satisfaccion_valor, \"realization\": amarillo_satisfaccion_valor,\n",
    "    \"caring\": verde_amor_certeza, \"curiosity\": rosa_aversion_duda, \"confusion\": rosa_aversion_duda,\n",
    "    \"disapproval\": celeste_apatia_tristeza, \"desire\": verde_altivez_deseo, \"annoyance\": celeste_calma_aburrimiento,\n",
    "    \"gratitude\": amarillo_satisfaccion_valor, \"excitement\": rojo_tension_entusiasmo, \"pride\": verde_altivez_deseo,\n",
    "    \"remorse\": celeste_apatia_tristeza, \"disappointment\": celeste_apatia_tristeza, \"relief\": celeste_calma_aburrimiento,\n",
    "    \"admiration\": verde_altivez_deseo, \"anger\": rojo_tension_entusiasmo, \"amusement\": amarillo_satisfaccion_valor,\n",
    "    \"embarrassment\": azul_miedo_desagrado, \"joy\": verde_altivez_deseo, \"surprise\": rojo_tension_entusiasmo,\n",
    "    \"nervousness\": rojo_tension_entusiasmo, \"love\": verde_amor_certeza, \"sadness\": celeste_apatia_tristeza,\n",
    "    \"grief\": rosa_aversion_duda, \"disgust\": azul_miedo_desagrado, \"optimism\": verde_altivez_deseo,\n",
    "    \"fear\": azul_miedo_desagrado\n",
    "}\n",
    "df_promedios = df_promedios.to_frame().reset_index()\n",
    "df_promedios[\"colores\"] = df_promedios.index.map(colores)\n",
    "df_promedios;"
   ]
  },
  {
   "attachments": {
    "paleta_colores.png": {
     "image/png": "[encoded data removed]"
    }
   },
   "cell_type": "markdown",
   "metadata": {},
   "source": [
    "![paleta_colores.png](attachment:paleta_colores.png)\n"
   ]
  },
  {
   "cell_type": "code",
   "execution_count": 8,
   "metadata": {},
   "outputs": [
    {
     "data": {
      "application/vnd.plotly.v1+json": {
       "config": {
        "plotlyServerURL": "https://plotly.com"
       },
       "data": [
        {
         "alignmentgroup": "True",
         "hovertemplate": "Emociones=%{x}<br>Bullrich | bloque de preguntas cruzadas=%{y}<extra></extra>",
         "legendgroup": "neutral",
         "marker": {
          "color": "#80c0ea",
          "pattern": {
           "shape": ""
          }
         },
         "name": "neutral",
         "offsetgroup": "neutral",
         "orientation": "v",
         "showlegend": true,
         "textposition": "auto",
         "type": "bar",
         "x": [
          "neutral"
         ],
         "xaxis": "x",
         "y": [
          6.35
         ],
         "yaxis": "y"
        },
        {
         "alignmentgroup": "True",
         "hovertemplate": "Emociones=%{x}<br>Bullrich | bloque de preguntas cruzadas=%{y}<extra></extra>",
         "legendgroup": "approval",
         "marker": {
          "color": "#d5d432",
          "pattern": {
           "shape": ""
          }
         },
         "name": "approval",
         "offsetgroup": "approval",
         "orientation": "v",
         "showlegend": true,
         "textposition": "auto",
         "type": "bar",
         "x": [
          "approval"
         ],
         "xaxis": "x",
         "y": [
          5.89
         ],
         "yaxis": "y"
        },
        {
         "alignmentgroup": "True",
         "hovertemplate": "Emociones=%{x}<br>Bullrich | bloque de preguntas cruzadas=%{y}<extra></extra>",
         "legendgroup": "caring",
         "marker": {
          "color": "#4bb710",
          "pattern": {
           "shape": ""
          }
         },
         "name": "caring",
         "offsetgroup": "caring",
         "orientation": "v",
         "showlegend": true,
         "textposition": "auto",
         "type": "bar",
         "x": [
          "caring"
         ],
         "xaxis": "x",
         "y": [
          5.7
         ],
         "yaxis": "y"
        },
        {
         "alignmentgroup": "True",
         "hovertemplate": "Emociones=%{x}<br>Bullrich | bloque de preguntas cruzadas=%{y}<extra></extra>",
         "legendgroup": "curiosity",
         "marker": {
          "color": "#ea76e5",
          "pattern": {
           "shape": ""
          }
         },
         "name": "curiosity",
         "offsetgroup": "curiosity",
         "orientation": "v",
         "showlegend": true,
         "textposition": "auto",
         "type": "bar",
         "x": [
          "curiosity"
         ],
         "xaxis": "x",
         "y": [
          5.61
         ],
         "yaxis": "y"
        },
        {
         "alignmentgroup": "True",
         "hovertemplate": "Emociones=%{x}<br>Bullrich | bloque de preguntas cruzadas=%{y}<extra></extra>",
         "legendgroup": "realization",
         "marker": {
          "color": "#d5d432",
          "pattern": {
           "shape": ""
          }
         },
         "name": "realization",
         "offsetgroup": "realization",
         "orientation": "v",
         "showlegend": true,
         "textposition": "auto",
         "type": "bar",
         "x": [
          "realization"
         ],
         "xaxis": "x",
         "y": [
          5.54
         ],
         "yaxis": "y"
        },
        {
         "alignmentgroup": "True",
         "hovertemplate": "Emociones=%{x}<br>Bullrich | bloque de preguntas cruzadas=%{y}<extra></extra>",
         "legendgroup": "confusion",
         "marker": {
          "color": "#ea76e5",
          "pattern": {
           "shape": ""
          }
         },
         "name": "confusion",
         "offsetgroup": "confusion",
         "orientation": "v",
         "showlegend": true,
         "textposition": "auto",
         "type": "bar",
         "x": [
          "confusion"
         ],
         "xaxis": "x",
         "y": [
          5.2
         ],
         "yaxis": "y"
        },
        {
         "alignmentgroup": "True",
         "hovertemplate": "Emociones=%{x}<br>Bullrich | bloque de preguntas cruzadas=%{y}<extra></extra>",
         "legendgroup": "desire",
         "marker": {
          "color": "#9cf581",
          "pattern": {
           "shape": ""
          }
         },
         "name": "desire",
         "offsetgroup": "desire",
         "orientation": "v",
         "showlegend": true,
         "textposition": "auto",
         "type": "bar",
         "x": [
          "desire"
         ],
         "xaxis": "x",
         "y": [
          4.28
         ],
         "yaxis": "y"
        },
        {
         "alignmentgroup": "True",
         "hovertemplate": "Emociones=%{x}<br>Bullrich | bloque de preguntas cruzadas=%{y}<extra></extra>",
         "legendgroup": "disapproval",
         "marker": {
          "color": "#53b7d9",
          "pattern": {
           "shape": ""
          }
         },
         "name": "disapproval",
         "offsetgroup": "disapproval",
         "orientation": "v",
         "showlegend": true,
         "textposition": "auto",
         "type": "bar",
         "x": [
          "disapproval"
         ],
         "xaxis": "x",
         "y": [
          4.16
         ],
         "yaxis": "y"
        },
        {
         "alignmentgroup": "True",
         "hovertemplate": "Emociones=%{x}<br>Bullrich | bloque de preguntas cruzadas=%{y}<extra></extra>",
         "legendgroup": "excitement",
         "marker": {
          "color": "#901f31",
          "pattern": {
           "shape": ""
          }
         },
         "name": "excitement",
         "offsetgroup": "excitement",
         "orientation": "v",
         "showlegend": true,
         "textposition": "auto",
         "type": "bar",
         "x": [
          "excitement"
         ],
         "xaxis": "x",
         "y": [
          4.13
         ],
         "yaxis": "y"
        },
        {
         "alignmentgroup": "True",
         "hovertemplate": "Emociones=%{x}<br>Bullrich | bloque de preguntas cruzadas=%{y}<extra></extra>",
         "legendgroup": "annoyance",
         "marker": {
          "color": "#80c0ea",
          "pattern": {
           "shape": ""
          }
         },
         "name": "annoyance",
         "offsetgroup": "annoyance",
         "orientation": "v",
         "showlegend": true,
         "textposition": "auto",
         "type": "bar",
         "x": [
          "annoyance"
         ],
         "xaxis": "x",
         "y": [
          3.85
         ],
         "yaxis": "y"
        },
        {
         "alignmentgroup": "True",
         "hovertemplate": "Emociones=%{x}<br>Bullrich | bloque de preguntas cruzadas=%{y}<extra></extra>",
         "legendgroup": "gratitude",
         "marker": {
          "color": "#d5d432",
          "pattern": {
           "shape": ""
          }
         },
         "name": "gratitude",
         "offsetgroup": "gratitude",
         "orientation": "v",
         "showlegend": true,
         "textposition": "auto",
         "type": "bar",
         "x": [
          "gratitude"
         ],
         "xaxis": "x",
         "y": [
          3.6
         ],
         "yaxis": "y"
        },
        {
         "alignmentgroup": "True",
         "hovertemplate": "Emociones=%{x}<br>Bullrich | bloque de preguntas cruzadas=%{y}<extra></extra>",
         "legendgroup": "pride",
         "marker": {
          "color": "#9cf581",
          "pattern": {
           "shape": ""
          }
         },
         "name": "pride",
         "offsetgroup": "pride",
         "orientation": "v",
         "showlegend": true,
         "textposition": "auto",
         "type": "bar",
         "x": [
          "pride"
         ],
         "xaxis": "x",
         "y": [
          3.42
         ],
         "yaxis": "y"
        },
        {
         "alignmentgroup": "True",
         "hovertemplate": "Emociones=%{x}<br>Bullrich | bloque de preguntas cruzadas=%{y}<extra></extra>",
         "legendgroup": "anger",
         "marker": {
          "color": "#901f31",
          "pattern": {
           "shape": ""
          }
         },
         "name": "anger",
         "offsetgroup": "anger",
         "orientation": "v",
         "showlegend": true,
         "textposition": "auto",
         "type": "bar",
         "x": [
          "anger"
         ],
         "xaxis": "x",
         "y": [
          3.3
         ],
         "yaxis": "y"
        },
        {
         "alignmentgroup": "True",
         "hovertemplate": "Emociones=%{x}<br>Bullrich | bloque de preguntas cruzadas=%{y}<extra></extra>",
         "legendgroup": "remorse",
         "marker": {
          "color": "#53b7d9",
          "pattern": {
           "shape": ""
          }
         },
         "name": "remorse",
         "offsetgroup": "remorse",
         "orientation": "v",
         "showlegend": true,
         "textposition": "auto",
         "type": "bar",
         "x": [
          "remorse"
         ],
         "xaxis": "x",
         "y": [
          3.26
         ],
         "yaxis": "y"
        },
        {
         "alignmentgroup": "True",
         "hovertemplate": "Emociones=%{x}<br>Bullrich | bloque de preguntas cruzadas=%{y}<extra></extra>",
         "legendgroup": "disappointment",
         "marker": {
          "color": "#53b7d9",
          "pattern": {
           "shape": ""
          }
         },
         "name": "disappointment",
         "offsetgroup": "disappointment",
         "orientation": "v",
         "showlegend": true,
         "textposition": "auto",
         "type": "bar",
         "x": [
          "disappointment"
         ],
         "xaxis": "x",
         "y": [
          3.24
         ],
         "yaxis": "y"
        },
        {
         "alignmentgroup": "True",
         "hovertemplate": "Emociones=%{x}<br>Bullrich | bloque de preguntas cruzadas=%{y}<extra></extra>",
         "legendgroup": "amusement",
         "marker": {
          "color": "#d5d432",
          "pattern": {
           "shape": ""
          }
         },
         "name": "amusement",
         "offsetgroup": "amusement",
         "orientation": "v",
         "showlegend": true,
         "textposition": "auto",
         "type": "bar",
         "x": [
          "amusement"
         ],
         "xaxis": "x",
         "y": [
          3.2
         ],
         "yaxis": "y"
        },
        {
         "alignmentgroup": "True",
         "hovertemplate": "Emociones=%{x}<br>Bullrich | bloque de preguntas cruzadas=%{y}<extra></extra>",
         "legendgroup": "relief",
         "marker": {
          "color": "#80c0ea",
          "pattern": {
           "shape": ""
          }
         },
         "name": "relief",
         "offsetgroup": "relief",
         "orientation": "v",
         "showlegend": true,
         "textposition": "auto",
         "type": "bar",
         "x": [
          "relief"
         ],
         "xaxis": "x",
         "y": [
          3.2
         ],
         "yaxis": "y"
        },
        {
         "alignmentgroup": "True",
         "hovertemplate": "Emociones=%{x}<br>Bullrich | bloque de preguntas cruzadas=%{y}<extra></extra>",
         "legendgroup": "admiration",
         "marker": {
          "color": "#9cf581",
          "pattern": {
           "shape": ""
          }
         },
         "name": "admiration",
         "offsetgroup": "admiration",
         "orientation": "v",
         "showlegend": true,
         "textposition": "auto",
         "type": "bar",
         "x": [
          "admiration"
         ],
         "xaxis": "x",
         "y": [
          3.13
         ],
         "yaxis": "y"
        },
        {
         "alignmentgroup": "True",
         "hovertemplate": "Emociones=%{x}<br>Bullrich | bloque de preguntas cruzadas=%{y}<extra></extra>",
         "legendgroup": "embarrassment",
         "marker": {
          "color": "#473b9e",
          "pattern": {
           "shape": ""
          }
         },
         "name": "embarrassment",
         "offsetgroup": "embarrassment",
         "orientation": "v",
         "showlegend": true,
         "textposition": "auto",
         "type": "bar",
         "x": [
          "embarrassment"
         ],
         "xaxis": "x",
         "y": [
          2.74
         ],
         "yaxis": "y"
        },
        {
         "alignmentgroup": "True",
         "hovertemplate": "Emociones=%{x}<br>Bullrich | bloque de preguntas cruzadas=%{y}<extra></extra>",
         "legendgroup": "surprise",
         "marker": {
          "color": "#901f31",
          "pattern": {
           "shape": ""
          }
         },
         "name": "surprise",
         "offsetgroup": "surprise",
         "orientation": "v",
         "showlegend": true,
         "textposition": "auto",
         "type": "bar",
         "x": [
          "surprise"
         ],
         "xaxis": "x",
         "y": [
          2.6
         ],
         "yaxis": "y"
        },
        {
         "alignmentgroup": "True",
         "hovertemplate": "Emociones=%{x}<br>Bullrich | bloque de preguntas cruzadas=%{y}<extra></extra>",
         "legendgroup": "nervousness",
         "marker": {
          "color": "#901f31",
          "pattern": {
           "shape": ""
          }
         },
         "name": "nervousness",
         "offsetgroup": "nervousness",
         "orientation": "v",
         "showlegend": true,
         "textposition": "auto",
         "type": "bar",
         "x": [
          "nervousness"
         ],
         "xaxis": "x",
         "y": [
          2.55
         ],
         "yaxis": "y"
        },
        {
         "alignmentgroup": "True",
         "hovertemplate": "Emociones=%{x}<br>Bullrich | bloque de preguntas cruzadas=%{y}<extra></extra>",
         "legendgroup": "joy",
         "marker": {
          "color": "#9cf581",
          "pattern": {
           "shape": ""
          }
         },
         "name": "joy",
         "offsetgroup": "joy",
         "orientation": "v",
         "showlegend": true,
         "textposition": "auto",
         "type": "bar",
         "x": [
          "joy"
         ],
         "xaxis": "x",
         "y": [
          2.43
         ],
         "yaxis": "y"
        },
        {
         "alignmentgroup": "True",
         "hovertemplate": "Emociones=%{x}<br>Bullrich | bloque de preguntas cruzadas=%{y}<extra></extra>",
         "legendgroup": "love",
         "marker": {
          "color": "#4bb710",
          "pattern": {
           "shape": ""
          }
         },
         "name": "love",
         "offsetgroup": "love",
         "orientation": "v",
         "showlegend": true,
         "textposition": "auto",
         "type": "bar",
         "x": [
          "love"
         ],
         "xaxis": "x",
         "y": [
          2.42
         ],
         "yaxis": "y"
        },
        {
         "alignmentgroup": "True",
         "hovertemplate": "Emociones=%{x}<br>Bullrich | bloque de preguntas cruzadas=%{y}<extra></extra>",
         "legendgroup": "grief",
         "marker": {
          "color": "#ea76e5",
          "pattern": {
           "shape": ""
          }
         },
         "name": "grief",
         "offsetgroup": "grief",
         "orientation": "v",
         "showlegend": true,
         "textposition": "auto",
         "type": "bar",
         "x": [
          "grief"
         ],
         "xaxis": "x",
         "y": [
          2.31
         ],
         "yaxis": "y"
        },
        {
         "alignmentgroup": "True",
         "hovertemplate": "Emociones=%{x}<br>Bullrich | bloque de preguntas cruzadas=%{y}<extra></extra>",
         "legendgroup": "disgust",
         "marker": {
          "color": "#473b9e",
          "pattern": {
           "shape": ""
          }
         },
         "name": "disgust",
         "offsetgroup": "disgust",
         "orientation": "v",
         "showlegend": true,
         "textposition": "auto",
         "type": "bar",
         "x": [
          "disgust"
         ],
         "xaxis": "x",
         "y": [
          2.17
         ],
         "yaxis": "y"
        },
        {
         "alignmentgroup": "True",
         "hovertemplate": "Emociones=%{x}<br>Bullrich | bloque de preguntas cruzadas=%{y}<extra></extra>",
         "legendgroup": "sadness",
         "marker": {
          "color": "#53b7d9",
          "pattern": {
           "shape": ""
          }
         },
         "name": "sadness",
         "offsetgroup": "sadness",
         "orientation": "v",
         "showlegend": true,
         "textposition": "auto",
         "type": "bar",
         "x": [
          "sadness"
         ],
         "xaxis": "x",
         "y": [
          2.16
         ],
         "yaxis": "y"
        },
        {
         "alignmentgroup": "True",
         "hovertemplate": "Emociones=%{x}<br>Bullrich | bloque de preguntas cruzadas=%{y}<extra></extra>",
         "legendgroup": "optimism",
         "marker": {
          "color": "#9cf581",
          "pattern": {
           "shape": ""
          }
         },
         "name": "optimism",
         "offsetgroup": "optimism",
         "orientation": "v",
         "showlegend": true,
         "textposition": "auto",
         "type": "bar",
         "x": [
          "optimism"
         ],
         "xaxis": "x",
         "y": [
          2.1
         ],
         "yaxis": "y"
        },
        {
         "alignmentgroup": "True",
         "hovertemplate": "Emociones=%{x}<br>Bullrich | bloque de preguntas cruzadas=%{y}<extra></extra>",
         "legendgroup": "fear",
         "marker": {
          "color": "#473b9e",
          "pattern": {
           "shape": ""
          }
         },
         "name": "fear",
         "offsetgroup": "fear",
         "orientation": "v",
         "showlegend": true,
         "textposition": "auto",
         "type": "bar",
         "x": [
          "fear"
         ],
         "xaxis": "x",
         "y": [
          1.47
         ],
         "yaxis": "y"
        }
       ],
       "layout": {
        "barmode": "relative",
        "height": 600,
        "legend": {
         "title": {
          "text": "Emociones"
         },
         "tracegroupgap": 0
        },
        "showlegend": false,
        "template": {
         "data": {
          "bar": [
           {
            "error_x": {
             "color": "#f2f5fa"
            },
            "error_y": {
             "color": "#f2f5fa"
            },
            "marker": {
             "line": {
              "color": "rgb(17,17,17)",
              "width": 0.5
             },
             "pattern": {
              "fillmode": "overlay",
              "size": 10,
              "solidity": 0.2
             }
            },
            "type": "bar"
           }
          ],
          "barpolar": [
           {
            "marker": {
             "line": {
              "color": "rgb(17,17,17)",
              "width": 0.5
             },
             "pattern": {
              "fillmode": "overlay",
              "size": 10,
              "solidity": 0.2
             }
            },
            "type": "barpolar"
           }
          ],
          "carpet": [
           {
            "aaxis": {
             "endlinecolor": "#A2B1C6",
             "gridcolor": "#506784",
             "linecolor": "#506784",
             "minorgridcolor": "#506784",
             "startlinecolor": "#A2B1C6"
            },
            "baxis": {
             "endlinecolor": "#A2B1C6",
             "gridcolor": "#506784",
             "linecolor": "#506784",
             "minorgridcolor": "#506784",
             "startlinecolor": "#A2B1C6"
            },
            "type": "carpet"
           }
          ],
          "choropleth": [
           {
            "colorbar": {
             "outlinewidth": 0,
             "ticks": ""
            },
            "type": "choropleth"
           }
          ],
          "contour": [
           {
            "colorbar": {
             "outlinewidth": 0,
             "ticks": ""
            },
            "colorscale": [
             [
              0,
              "#0d0887"
             ],
             [
              0.1111111111111111,
              "#46039f"
             ],
             [
              0.2222222222222222,
              "#7201a8"
             ],
             [
              0.3333333333333333,
              "#9c179e"
             ],
             [
              0.4444444444444444,
              "#bd3786"
             ],
             [
              0.5555555555555556,
              "#d8576b"
             ],
             [
              0.6666666666666666,
              "#ed7953"
             ],
             [
              0.7777777777777778,
              "#fb9f3a"
             ],
             [
              0.8888888888888888,
              "#fdca26"
             ],
             [
              1,
              "#f0f921"
             ]
            ],
            "type": "contour"
           }
          ],
          "contourcarpet": [
           {
            "colorbar": {
             "outlinewidth": 0,
             "ticks": ""
            },
            "type": "contourcarpet"
           }
          ],
          "heatmap": [
           {
            "colorbar": {
             "outlinewidth": 0,
             "ticks": ""
            },
            "colorscale": [
             [
              0,
              "#0d0887"
             ],
             [
              0.1111111111111111,
              "#46039f"
             ],
             [
              0.2222222222222222,
              "#7201a8"
             ],
             [
              0.3333333333333333,
              "#9c179e"
             ],
             [
              0.4444444444444444,
              "#bd3786"
             ],
             [
              0.5555555555555556,
              "#d8576b"
             ],
             [
              0.6666666666666666,
              "#ed7953"
             ],
             [
              0.7777777777777778,
              "#fb9f3a"
             ],
             [
              0.8888888888888888,
              "#fdca26"
             ],
             [
              1,
              "#f0f921"
             ]
            ],
            "type": "heatmap"
           }
          ],
          "heatmapgl": [
           {
            "colorbar": {
             "outlinewidth": 0,
             "ticks": ""
            },
            "colorscale": [
             [
              0,
              "#0d0887"
             ],
             [
              0.1111111111111111,
              "#46039f"
             ],
             [
              0.2222222222222222,
              "#7201a8"
             ],
             [
              0.3333333333333333,
              "#9c179e"
             ],
             [
              0.4444444444444444,
              "#bd3786"
             ],
             [
              0.5555555555555556,
              "#d8576b"
             ],
             [
              0.6666666666666666,
              "#ed7953"
             ],
             [
              0.7777777777777778,
              "#fb9f3a"
             ],
             [
              0.8888888888888888,
              "#fdca26"
             ],
             [
              1,
              "#f0f921"
             ]
            ],
            "type": "heatmapgl"
           }
          ],
          "histogram": [
           {
            "marker": {
             "pattern": {
              "fillmode": "overlay",
              "size": 10,
              "solidity": 0.2
             }
            },
            "type": "histogram"
           }
          ],
          "histogram2d": [
           {
            "colorbar": {
             "outlinewidth": 0,
             "ticks": ""
            },
            "colorscale": [
             [
              0,
              "#0d0887"
             ],
             [
              0.1111111111111111,
              "#46039f"
             ],
             [
              0.2222222222222222,
              "#7201a8"
             ],
             [
              0.3333333333333333,
              "#9c179e"
             ],
             [
              0.4444444444444444,
              "#bd3786"
             ],
             [
              0.5555555555555556,
              "#d8576b"
             ],
             [
              0.6666666666666666,
              "#ed7953"
             ],
             [
              0.7777777777777778,
              "#fb9f3a"
             ],
             [
              0.8888888888888888,
              "#fdca26"
             ],
             [
              1,
              "#f0f921"
             ]
            ],
            "type": "histogram2d"
           }
          ],
          "histogram2dcontour": [
           {
            "colorbar": {
             "outlinewidth": 0,
             "ticks": ""
            },
            "colorscale": [
             [
              0,
              "#0d0887"
             ],
             [
              0.1111111111111111,
              "#46039f"
             ],
             [
              0.2222222222222222,
              "#7201a8"
             ],
             [
              0.3333333333333333,
              "#9c179e"
             ],
             [
              0.4444444444444444,
              "#bd3786"
             ],
             [
              0.5555555555555556,
              "#d8576b"
             ],
             [
              0.6666666666666666,
              "#ed7953"
             ],
             [
              0.7777777777777778,
              "#fb9f3a"
             ],
             [
              0.8888888888888888,
              "#fdca26"
             ],
             [
              1,
              "#f0f921"
             ]
            ],
            "type": "histogram2dcontour"
           }
          ],
          "mesh3d": [
           {
            "colorbar": {
             "outlinewidth": 0,
             "ticks": ""
            },
            "type": "mesh3d"
           }
          ],
          "parcoords": [
           {
            "line": {
             "colorbar": {
              "outlinewidth": 0,
              "ticks": ""
             }
            },
            "type": "parcoords"
           }
          ],
          "pie": [
           {
            "automargin": true,
            "type": "pie"
           }
          ],
          "scatter": [
           {
            "marker": {
             "line": {
              "color": "#283442"
             }
            },
            "type": "scatter"
           }
          ],
          "scatter3d": [
           {
            "line": {
             "colorbar": {
              "outlinewidth": 0,
              "ticks": ""
             }
            },
            "marker": {
             "colorbar": {
              "outlinewidth": 0,
              "ticks": ""
             }
            },
            "type": "scatter3d"
           }
          ],
          "scattercarpet": [
           {
            "marker": {
             "colorbar": {
              "outlinewidth": 0,
              "ticks": ""
             }
            },
            "type": "scattercarpet"
           }
          ],
          "scattergeo": [
           {
            "marker": {
             "colorbar": {
              "outlinewidth": 0,
              "ticks": ""
             }
            },
            "type": "scattergeo"
           }
          ],
          "scattergl": [
           {
            "marker": {
             "line": {
              "color": "#283442"
             }
            },
            "type": "scattergl"
           }
          ],
          "scattermapbox": [
           {
            "marker": {
             "colorbar": {
              "outlinewidth": 0,
              "ticks": ""
             }
            },
            "type": "scattermapbox"
           }
          ],
          "scatterpolar": [
           {
            "marker": {
             "colorbar": {
              "outlinewidth": 0,
              "ticks": ""
             }
            },
            "type": "scatterpolar"
           }
          ],
          "scatterpolargl": [
           {
            "marker": {
             "colorbar": {
              "outlinewidth": 0,
              "ticks": ""
             }
            },
            "type": "scatterpolargl"
           }
          ],
          "scatterternary": [
           {
            "marker": {
             "colorbar": {
              "outlinewidth": 0,
              "ticks": ""
             }
            },
            "type": "scatterternary"
           }
          ],
          "surface": [
           {
            "colorbar": {
             "outlinewidth": 0,
             "ticks": ""
            },
            "colorscale": [
             [
              0,
              "#0d0887"
             ],
             [
              0.1111111111111111,
              "#46039f"
             ],
             [
              0.2222222222222222,
              "#7201a8"
             ],
             [
              0.3333333333333333,
              "#9c179e"
             ],
             [
              0.4444444444444444,
              "#bd3786"
             ],
             [
              0.5555555555555556,
              "#d8576b"
             ],
             [
              0.6666666666666666,
              "#ed7953"
             ],
             [
              0.7777777777777778,
              "#fb9f3a"
             ],
             [
              0.8888888888888888,
              "#fdca26"
             ],
             [
              1,
              "#f0f921"
             ]
            ],
            "type": "surface"
           }
          ],
          "table": [
           {
            "cells": {
             "fill": {
              "color": "#506784"
             },
             "line": {
              "color": "rgb(17,17,17)"
             }
            },
            "header": {
             "fill": {
              "color": "#2a3f5f"
             },
             "line": {
              "color": "rgb(17,17,17)"
             }
            },
            "type": "table"
           }
          ]
         },
         "layout": {
          "annotationdefaults": {
           "arrowcolor": "#f2f5fa",
           "arrowhead": 0,
           "arrowwidth": 1
          },
          "autotypenumbers": "strict",
          "coloraxis": {
           "colorbar": {
            "outlinewidth": 0,
            "ticks": ""
           }
          },
          "colorscale": {
           "diverging": [
            [
             0,
             "#8e0152"
            ],
            [
             0.1,
             "#c51b7d"
            ],
            [
             0.2,
             "#de77ae"
            ],
            [
             0.3,
             "#f1b6da"
            ],
            [
             0.4,
             "#fde0ef"
            ],
            [
             0.5,
             "#f7f7f7"
            ],
            [
             0.6,
             "#e6f5d0"
            ],
            [
             0.7,
             "#b8e186"
            ],
            [
             0.8,
             "#7fbc41"
            ],
            [
             0.9,
             "#4d9221"
            ],
            [
             1,
             "#276419"
            ]
           ],
           "sequential": [
            [
             0,
             "#0d0887"
            ],
            [
             0.1111111111111111,
             "#46039f"
            ],
            [
             0.2222222222222222,
             "#7201a8"
            ],
            [
             0.3333333333333333,
             "#9c179e"
            ],
            [
             0.4444444444444444,
             "#bd3786"
            ],
            [
             0.5555555555555556,
             "#d8576b"
            ],
            [
             0.6666666666666666,
             "#ed7953"
            ],
            [
             0.7777777777777778,
             "#fb9f3a"
            ],
            [
             0.8888888888888888,
             "#fdca26"
            ],
            [
             1,
             "#f0f921"
            ]
           ],
           "sequentialminus": [
            [
             0,
             "#0d0887"
            ],
            [
             0.1111111111111111,
             "#46039f"
            ],
            [
             0.2222222222222222,
             "#7201a8"
            ],
            [
             0.3333333333333333,
             "#9c179e"
            ],
            [
             0.4444444444444444,
             "#bd3786"
            ],
            [
             0.5555555555555556,
             "#d8576b"
            ],
            [
             0.6666666666666666,
             "#ed7953"
            ],
            [
             0.7777777777777778,
             "#fb9f3a"
            ],
            [
             0.8888888888888888,
             "#fdca26"
            ],
            [
             1,
             "#f0f921"
            ]
           ]
          },
          "colorway": [
           "#636efa",
           "#EF553B",
           "#00cc96",
           "#ab63fa",
           "#FFA15A",
           "#19d3f3",
           "#FF6692",
           "#B6E880",
           "#FF97FF",
           "#FECB52"
          ],
          "font": {
           "color": "#f2f5fa"
          },
          "geo": {
           "bgcolor": "rgb(17,17,17)",
           "lakecolor": "rgb(17,17,17)",
           "landcolor": "rgb(17,17,17)",
           "showlakes": true,
           "showland": true,
           "subunitcolor": "#506784"
          },
          "hoverlabel": {
           "align": "left"
          },
          "hovermode": "closest",
          "mapbox": {
           "style": "dark"
          },
          "paper_bgcolor": "rgb(17,17,17)",
          "plot_bgcolor": "rgb(17,17,17)",
          "polar": {
           "angularaxis": {
            "gridcolor": "#506784",
            "linecolor": "#506784",
            "ticks": ""
           },
           "bgcolor": "rgb(17,17,17)",
           "radialaxis": {
            "gridcolor": "#506784",
            "linecolor": "#506784",
            "ticks": ""
           }
          },
          "scene": {
           "xaxis": {
            "backgroundcolor": "rgb(17,17,17)",
            "gridcolor": "#506784",
            "gridwidth": 2,
            "linecolor": "#506784",
            "showbackground": true,
            "ticks": "",
            "zerolinecolor": "#C8D4E3"
           },
           "yaxis": {
            "backgroundcolor": "rgb(17,17,17)",
            "gridcolor": "#506784",
            "gridwidth": 2,
            "linecolor": "#506784",
            "showbackground": true,
            "ticks": "",
            "zerolinecolor": "#C8D4E3"
           },
           "zaxis": {
            "backgroundcolor": "rgb(17,17,17)",
            "gridcolor": "#506784",
            "gridwidth": 2,
            "linecolor": "#506784",
            "showbackground": true,
            "ticks": "",
            "zerolinecolor": "#C8D4E3"
           }
          },
          "shapedefaults": {
           "line": {
            "color": "#f2f5fa"
           }
          },
          "sliderdefaults": {
           "bgcolor": "#C8D4E3",
           "bordercolor": "rgb(17,17,17)",
           "borderwidth": 1,
           "tickwidth": 0
          },
          "ternary": {
           "aaxis": {
            "gridcolor": "#506784",
            "linecolor": "#506784",
            "ticks": ""
           },
           "baxis": {
            "gridcolor": "#506784",
            "linecolor": "#506784",
            "ticks": ""
           },
           "bgcolor": "rgb(17,17,17)",
           "caxis": {
            "gridcolor": "#506784",
            "linecolor": "#506784",
            "ticks": ""
           }
          },
          "title": {
           "x": 0.05
          },
          "updatemenudefaults": {
           "bgcolor": "#506784",
           "borderwidth": 0
          },
          "xaxis": {
           "automargin": true,
           "gridcolor": "#283442",
           "linecolor": "#506784",
           "ticks": "",
           "title": {
            "standoff": 15
           },
           "zerolinecolor": "#283442",
           "zerolinewidth": 2
          },
          "yaxis": {
           "automargin": true,
           "gridcolor": "#283442",
           "linecolor": "#506784",
           "ticks": "",
           "title": {
            "standoff": 15
           },
           "zerolinecolor": "#283442",
           "zerolinewidth": 2
          }
         }
        },
        "title": {
         "text": "Análisis de emociones por candidato | bloque: bloque_de_preguntas_cruzadas | candidato: Bullrich"
        },
        "width": 1200,
        "xaxis": {
         "anchor": "y",
         "categoryarray": [
          "neutral",
          "approval",
          "caring",
          "curiosity",
          "realization",
          "confusion",
          "desire",
          "disapproval",
          "excitement",
          "annoyance",
          "gratitude",
          "pride",
          "anger",
          "remorse",
          "disappointment",
          "amusement",
          "relief",
          "admiration",
          "embarrassment",
          "surprise",
          "nervousness",
          "joy",
          "love",
          "grief",
          "disgust",
          "sadness",
          "optimism",
          "fear"
         ],
         "categoryorder": "array",
         "domain": [
          0,
          1
         ],
         "title": {
          "text": "Emociones"
         }
        },
        "yaxis": {
         "anchor": "x",
         "domain": [
          0,
          1
         ],
         "title": {
          "text": "Bullrich | bloque de preguntas cruzadas"
         }
        }
       }
      }
     },
     "metadata": {},
     "output_type": "display_data"
    }
   ],
   "source": [
    "visual_kwargs = {\n",
    "    \"width\": 1200,\n",
    "    \"height\": 600,\n",
    "    \"template\": \"plotly_dark\",\n",
    "    \"title\": f\"Análisis de emociones por candidato | bloque: {bloque} | candidato: {candidato}\",\n",
    "    \"labels\": {\"variable\": \"Emociones\", \"value\": \"Porcentaje de emociones\", \"label\": \"Emociones\"},\n",
    "    \"color\": \"label\",\n",
    "    \"color_discrete_map\": colores\n",
    "    }\n",
    "# figure = df_promedios.sort_values(by=figure_name ,ascending=False)[figure_name].plot(kind=\"bar\", **visual_kwargs).update_layout(showlegend=False)\n",
    "figure = df_promedios.sort_values(by=figure_name ,ascending=False).plot(kind=\"bar\", x=\"label\", y=figure_name, **visual_kwargs).update_layout(showlegend=False)\n",
    "figure\n",
    "# ROJO: (00FF00)negativo | #198ddc   # verde: (FFFF00)positivo | #bcb03a | (#e926b0)neutro  # azul: D3D3D3   # violeta: FF0000   # amarillo: (#7a9c7d)gris | #528fbf\n"
   ]
  },
  {
   "cell_type": "code",
   "execution_count": 7,
   "metadata": {},
   "outputs": [],
   "source": [
    "\"\"\"\n",
    "SELECCION DE COLORES:\n",
    "\n",
    "\n",
    "1. azúl: (miedo - desagrado): #473b9e\n",
    "\n",
    "2. rosa: (aversión - duda): #ea76e5\n",
    "\n",
    "3. rojo (tensión - entusiasmo): #901f31\n",
    "\n",
    "4. amarillo: (valor - alegría): #d5d432\n",
    "\n",
    "5. verde: (valor - deseo): #9cf581\n",
    "\n",
    "6. verde: (amor - compasión): #4bb710\n",
    "\n",
    "7. celeste: (certeza - aburrimiento): #80c0ea\n",
    "\n",
    "8. celeste: (apatía - tristeza): #53b7d9\n",
    "\"\"\";"
   ]
  },
  {
   "cell_type": "code",
   "execution_count": 8,
   "metadata": {},
   "outputs": [],
   "source": [
    "colores;"
   ]
  },
  {
   "cell_type": "code",
   "execution_count": 10,
   "metadata": {},
   "outputs": [
    {
     "data": {
      "text/plain": [
       "{'curiosity': '#c7b769',\n",
       " 'confusion': '#52c511',\n",
       " 'caring': '#8d0ee2',\n",
       " 'excitement': '#53c787',\n",
       " 'approval': '#bc67db',\n",
       " 'desire': '#30b6ba',\n",
       " 'neutral': '#353417',\n",
       " 'annoyance': '#00950a',\n",
       " 'amusement': '#9ec839',\n",
       " 'realization': '#70af24',\n",
       " 'gratitude': '#60f353',\n",
       " 'disapproval': '#3bb487',\n",
       " 'anger': '#0a8032',\n",
       " 'remorse': '#ecc468',\n",
       " 'pride': '#460294',\n",
       " 'admiration': '#3cb54d',\n",
       " 'nervousness': '#7801f1',\n",
       " 'surprise': '#c9afc5',\n",
       " 'embarrassment': '#a98189',\n",
       " 'relief': '#227104',\n",
       " 'joy': '#3536fd',\n",
       " 'love': '#879b3c',\n",
       " 'disappointment': '#99a9f4',\n",
       " 'grief': '#1aa3cd',\n",
       " 'sadness': '#256b6f',\n",
       " 'disgust': '#def4e5',\n",
       " 'optimism': '#afee09',\n",
       " 'fear': '#c15a71'}"
      ]
     },
     "execution_count": 10,
     "metadata": {},
     "output_type": "execute_result"
    }
   ],
   "source": [
    "colores"
   ]
  },
  {
   "cell_type": "code",
   "execution_count": 28,
   "metadata": {},
   "outputs": [
    {
     "data": {
      "text/plain": [
       "'https://plotly.com/~catag8950/34/'"
      ]
     },
     "execution_count": 28,
     "metadata": {},
     "output_type": "execute_result"
    }
   ],
   "source": [
    "py.plot(figure, filename=figure_name, auto_open=True)"
   ]
  },
  {
   "cell_type": "markdown",
   "metadata": {},
   "source": [
    "### Histograma"
   ]
  },
  {
   "cell_type": "code",
   "execution_count": 20,
   "metadata": {},
   "outputs": [
    {
     "data": {
      "application/vnd.plotly.v1+json": {
       "config": {
        "plotlyServerURL": "https://plotly.com"
       },
       "data": [
        {
         "alignmentgroup": "True",
         "bingroup": "x",
         "hovertemplate": "variable=Bullrich | bloque de preguntas cruzadas<br>value=%{x}<br>count=%{y}<extra></extra>",
         "legendgroup": "Bullrich | bloque de preguntas cruzadas",
         "marker": {
          "color": "#636efa",
          "pattern": {
           "shape": ""
          }
         },
         "name": "Bullrich | bloque de preguntas cruzadas",
         "offsetgroup": "Bullrich | bloque de preguntas cruzadas",
         "orientation": "v",
         "showlegend": true,
         "type": "histogram",
         "x": [
          5.61,
          5.2,
          5.7,
          4.13,
          5.89,
          4.28,
          6.35,
          3.85,
          3.2,
          5.54,
          3.6,
          4.16,
          3.3,
          3.26,
          3.42,
          3.13,
          2.55,
          2.6,
          2.74,
          3.2,
          2.43,
          2.42,
          3.24,
          2.31,
          2.16,
          2.17,
          2.1,
          1.47
         ],
         "xaxis": "x",
         "yaxis": "y"
        }
       ],
       "layout": {
        "barmode": "relative",
        "legend": {
         "title": {
          "text": "variable"
         },
         "tracegroupgap": 0
        },
        "margin": {
         "t": 60
        },
        "template": {
         "data": {
          "bar": [
           {
            "error_x": {
             "color": "#2a3f5f"
            },
            "error_y": {
             "color": "#2a3f5f"
            },
            "marker": {
             "line": {
              "color": "#E5ECF6",
              "width": 0.5
             },
             "pattern": {
              "fillmode": "overlay",
              "size": 10,
              "solidity": 0.2
             }
            },
            "type": "bar"
           }
          ],
          "barpolar": [
           {
            "marker": {
             "line": {
              "color": "#E5ECF6",
              "width": 0.5
             },
             "pattern": {
              "fillmode": "overlay",
              "size": 10,
              "solidity": 0.2
             }
            },
            "type": "barpolar"
           }
          ],
          "carpet": [
           {
            "aaxis": {
             "endlinecolor": "#2a3f5f",
             "gridcolor": "white",
             "linecolor": "white",
             "minorgridcolor": "white",
             "startlinecolor": "#2a3f5f"
            },
            "baxis": {
             "endlinecolor": "#2a3f5f",
             "gridcolor": "white",
             "linecolor": "white",
             "minorgridcolor": "white",
             "startlinecolor": "#2a3f5f"
            },
            "type": "carpet"
           }
          ],
          "choropleth": [
           {
            "colorbar": {
             "outlinewidth": 0,
             "ticks": ""
            },
            "type": "choropleth"
           }
          ],
          "contour": [
           {
            "colorbar": {
             "outlinewidth": 0,
             "ticks": ""
            },
            "colorscale": [
             [
              0,
              "#0d0887"
             ],
             [
              0.1111111111111111,
              "#46039f"
             ],
             [
              0.2222222222222222,
              "#7201a8"
             ],
             [
              0.3333333333333333,
              "#9c179e"
             ],
             [
              0.4444444444444444,
              "#bd3786"
             ],
             [
              0.5555555555555556,
              "#d8576b"
             ],
             [
              0.6666666666666666,
              "#ed7953"
             ],
             [
              0.7777777777777778,
              "#fb9f3a"
             ],
             [
              0.8888888888888888,
              "#fdca26"
             ],
             [
              1,
              "#f0f921"
             ]
            ],
            "type": "contour"
           }
          ],
          "contourcarpet": [
           {
            "colorbar": {
             "outlinewidth": 0,
             "ticks": ""
            },
            "type": "contourcarpet"
           }
          ],
          "heatmap": [
           {
            "colorbar": {
             "outlinewidth": 0,
             "ticks": ""
            },
            "colorscale": [
             [
              0,
              "#0d0887"
             ],
             [
              0.1111111111111111,
              "#46039f"
             ],
             [
              0.2222222222222222,
              "#7201a8"
             ],
             [
              0.3333333333333333,
              "#9c179e"
             ],
             [
              0.4444444444444444,
              "#bd3786"
             ],
             [
              0.5555555555555556,
              "#d8576b"
             ],
             [
              0.6666666666666666,
              "#ed7953"
             ],
             [
              0.7777777777777778,
              "#fb9f3a"
             ],
             [
              0.8888888888888888,
              "#fdca26"
             ],
             [
              1,
              "#f0f921"
             ]
            ],
            "type": "heatmap"
           }
          ],
          "heatmapgl": [
           {
            "colorbar": {
             "outlinewidth": 0,
             "ticks": ""
            },
            "colorscale": [
             [
              0,
              "#0d0887"
             ],
             [
              0.1111111111111111,
              "#46039f"
             ],
             [
              0.2222222222222222,
              "#7201a8"
             ],
             [
              0.3333333333333333,
              "#9c179e"
             ],
             [
              0.4444444444444444,
              "#bd3786"
             ],
             [
              0.5555555555555556,
              "#d8576b"
             ],
             [
              0.6666666666666666,
              "#ed7953"
             ],
             [
              0.7777777777777778,
              "#fb9f3a"
             ],
             [
              0.8888888888888888,
              "#fdca26"
             ],
             [
              1,
              "#f0f921"
             ]
            ],
            "type": "heatmapgl"
           }
          ],
          "histogram": [
           {
            "marker": {
             "pattern": {
              "fillmode": "overlay",
              "size": 10,
              "solidity": 0.2
             }
            },
            "type": "histogram"
           }
          ],
          "histogram2d": [
           {
            "colorbar": {
             "outlinewidth": 0,
             "ticks": ""
            },
            "colorscale": [
             [
              0,
              "#0d0887"
             ],
             [
              0.1111111111111111,
              "#46039f"
             ],
             [
              0.2222222222222222,
              "#7201a8"
             ],
             [
              0.3333333333333333,
              "#9c179e"
             ],
             [
              0.4444444444444444,
              "#bd3786"
             ],
             [
              0.5555555555555556,
              "#d8576b"
             ],
             [
              0.6666666666666666,
              "#ed7953"
             ],
             [
              0.7777777777777778,
              "#fb9f3a"
             ],
             [
              0.8888888888888888,
              "#fdca26"
             ],
             [
              1,
              "#f0f921"
             ]
            ],
            "type": "histogram2d"
           }
          ],
          "histogram2dcontour": [
           {
            "colorbar": {
             "outlinewidth": 0,
             "ticks": ""
            },
            "colorscale": [
             [
              0,
              "#0d0887"
             ],
             [
              0.1111111111111111,
              "#46039f"
             ],
             [
              0.2222222222222222,
              "#7201a8"
             ],
             [
              0.3333333333333333,
              "#9c179e"
             ],
             [
              0.4444444444444444,
              "#bd3786"
             ],
             [
              0.5555555555555556,
              "#d8576b"
             ],
             [
              0.6666666666666666,
              "#ed7953"
             ],
             [
              0.7777777777777778,
              "#fb9f3a"
             ],
             [
              0.8888888888888888,
              "#fdca26"
             ],
             [
              1,
              "#f0f921"
             ]
            ],
            "type": "histogram2dcontour"
           }
          ],
          "mesh3d": [
           {
            "colorbar": {
             "outlinewidth": 0,
             "ticks": ""
            },
            "type": "mesh3d"
           }
          ],
          "parcoords": [
           {
            "line": {
             "colorbar": {
              "outlinewidth": 0,
              "ticks": ""
             }
            },
            "type": "parcoords"
           }
          ],
          "pie": [
           {
            "automargin": true,
            "type": "pie"
           }
          ],
          "scatter": [
           {
            "fillpattern": {
             "fillmode": "overlay",
             "size": 10,
             "solidity": 0.2
            },
            "type": "scatter"
           }
          ],
          "scatter3d": [
           {
            "line": {
             "colorbar": {
              "outlinewidth": 0,
              "ticks": ""
             }
            },
            "marker": {
             "colorbar": {
              "outlinewidth": 0,
              "ticks": ""
             }
            },
            "type": "scatter3d"
           }
          ],
          "scattercarpet": [
           {
            "marker": {
             "colorbar": {
              "outlinewidth": 0,
              "ticks": ""
             }
            },
            "type": "scattercarpet"
           }
          ],
          "scattergeo": [
           {
            "marker": {
             "colorbar": {
              "outlinewidth": 0,
              "ticks": ""
             }
            },
            "type": "scattergeo"
           }
          ],
          "scattergl": [
           {
            "marker": {
             "colorbar": {
              "outlinewidth": 0,
              "ticks": ""
             }
            },
            "type": "scattergl"
           }
          ],
          "scattermapbox": [
           {
            "marker": {
             "colorbar": {
              "outlinewidth": 0,
              "ticks": ""
             }
            },
            "type": "scattermapbox"
           }
          ],
          "scatterpolar": [
           {
            "marker": {
             "colorbar": {
              "outlinewidth": 0,
              "ticks": ""
             }
            },
            "type": "scatterpolar"
           }
          ],
          "scatterpolargl": [
           {
            "marker": {
             "colorbar": {
              "outlinewidth": 0,
              "ticks": ""
             }
            },
            "type": "scatterpolargl"
           }
          ],
          "scatterternary": [
           {
            "marker": {
             "colorbar": {
              "outlinewidth": 0,
              "ticks": ""
             }
            },
            "type": "scatterternary"
           }
          ],
          "surface": [
           {
            "colorbar": {
             "outlinewidth": 0,
             "ticks": ""
            },
            "colorscale": [
             [
              0,
              "#0d0887"
             ],
             [
              0.1111111111111111,
              "#46039f"
             ],
             [
              0.2222222222222222,
              "#7201a8"
             ],
             [
              0.3333333333333333,
              "#9c179e"
             ],
             [
              0.4444444444444444,
              "#bd3786"
             ],
             [
              0.5555555555555556,
              "#d8576b"
             ],
             [
              0.6666666666666666,
              "#ed7953"
             ],
             [
              0.7777777777777778,
              "#fb9f3a"
             ],
             [
              0.8888888888888888,
              "#fdca26"
             ],
             [
              1,
              "#f0f921"
             ]
            ],
            "type": "surface"
           }
          ],
          "table": [
           {
            "cells": {
             "fill": {
              "color": "#EBF0F8"
             },
             "line": {
              "color": "white"
             }
            },
            "header": {
             "fill": {
              "color": "#C8D4E3"
             },
             "line": {
              "color": "white"
             }
            },
            "type": "table"
           }
          ]
         },
         "layout": {
          "annotationdefaults": {
           "arrowcolor": "#2a3f5f",
           "arrowhead": 0,
           "arrowwidth": 1
          },
          "autotypenumbers": "strict",
          "coloraxis": {
           "colorbar": {
            "outlinewidth": 0,
            "ticks": ""
           }
          },
          "colorscale": {
           "diverging": [
            [
             0,
             "#8e0152"
            ],
            [
             0.1,
             "#c51b7d"
            ],
            [
             0.2,
             "#de77ae"
            ],
            [
             0.3,
             "#f1b6da"
            ],
            [
             0.4,
             "#fde0ef"
            ],
            [
             0.5,
             "#f7f7f7"
            ],
            [
             0.6,
             "#e6f5d0"
            ],
            [
             0.7,
             "#b8e186"
            ],
            [
             0.8,
             "#7fbc41"
            ],
            [
             0.9,
             "#4d9221"
            ],
            [
             1,
             "#276419"
            ]
           ],
           "sequential": [
            [
             0,
             "#0d0887"
            ],
            [
             0.1111111111111111,
             "#46039f"
            ],
            [
             0.2222222222222222,
             "#7201a8"
            ],
            [
             0.3333333333333333,
             "#9c179e"
            ],
            [
             0.4444444444444444,
             "#bd3786"
            ],
            [
             0.5555555555555556,
             "#d8576b"
            ],
            [
             0.6666666666666666,
             "#ed7953"
            ],
            [
             0.7777777777777778,
             "#fb9f3a"
            ],
            [
             0.8888888888888888,
             "#fdca26"
            ],
            [
             1,
             "#f0f921"
            ]
           ],
           "sequentialminus": [
            [
             0,
             "#0d0887"
            ],
            [
             0.1111111111111111,
             "#46039f"
            ],
            [
             0.2222222222222222,
             "#7201a8"
            ],
            [
             0.3333333333333333,
             "#9c179e"
            ],
            [
             0.4444444444444444,
             "#bd3786"
            ],
            [
             0.5555555555555556,
             "#d8576b"
            ],
            [
             0.6666666666666666,
             "#ed7953"
            ],
            [
             0.7777777777777778,
             "#fb9f3a"
            ],
            [
             0.8888888888888888,
             "#fdca26"
            ],
            [
             1,
             "#f0f921"
            ]
           ]
          },
          "colorway": [
           "#636efa",
           "#EF553B",
           "#00cc96",
           "#ab63fa",
           "#FFA15A",
           "#19d3f3",
           "#FF6692",
           "#B6E880",
           "#FF97FF",
           "#FECB52"
          ],
          "font": {
           "color": "#2a3f5f"
          },
          "geo": {
           "bgcolor": "white",
           "lakecolor": "white",
           "landcolor": "#E5ECF6",
           "showlakes": true,
           "showland": true,
           "subunitcolor": "white"
          },
          "hoverlabel": {
           "align": "left"
          },
          "hovermode": "closest",
          "mapbox": {
           "style": "light"
          },
          "paper_bgcolor": "white",
          "plot_bgcolor": "#E5ECF6",
          "polar": {
           "angularaxis": {
            "gridcolor": "white",
            "linecolor": "white",
            "ticks": ""
           },
           "bgcolor": "#E5ECF6",
           "radialaxis": {
            "gridcolor": "white",
            "linecolor": "white",
            "ticks": ""
           }
          },
          "scene": {
           "xaxis": {
            "backgroundcolor": "#E5ECF6",
            "gridcolor": "white",
            "gridwidth": 2,
            "linecolor": "white",
            "showbackground": true,
            "ticks": "",
            "zerolinecolor": "white"
           },
           "yaxis": {
            "backgroundcolor": "#E5ECF6",
            "gridcolor": "white",
            "gridwidth": 2,
            "linecolor": "white",
            "showbackground": true,
            "ticks": "",
            "zerolinecolor": "white"
           },
           "zaxis": {
            "backgroundcolor": "#E5ECF6",
            "gridcolor": "white",
            "gridwidth": 2,
            "linecolor": "white",
            "showbackground": true,
            "ticks": "",
            "zerolinecolor": "white"
           }
          },
          "shapedefaults": {
           "line": {
            "color": "#2a3f5f"
           }
          },
          "ternary": {
           "aaxis": {
            "gridcolor": "white",
            "linecolor": "white",
            "ticks": ""
           },
           "baxis": {
            "gridcolor": "white",
            "linecolor": "white",
            "ticks": ""
           },
           "bgcolor": "#E5ECF6",
           "caxis": {
            "gridcolor": "white",
            "linecolor": "white",
            "ticks": ""
           }
          },
          "title": {
           "x": 0.05
          },
          "xaxis": {
           "automargin": true,
           "gridcolor": "white",
           "linecolor": "white",
           "ticks": "",
           "title": {
            "standoff": 15
           },
           "zerolinecolor": "white",
           "zerolinewidth": 2
          },
          "yaxis": {
           "automargin": true,
           "gridcolor": "white",
           "linecolor": "white",
           "ticks": "",
           "title": {
            "standoff": 15
           },
           "zerolinecolor": "white",
           "zerolinewidth": 2
          }
         }
        },
        "xaxis": {
         "anchor": "y",
         "domain": [
          0,
          1
         ],
         "title": {
          "text": "value"
         }
        },
        "yaxis": {
         "anchor": "x",
         "domain": [
          0,
          1
         ],
         "title": {
          "text": "count"
         }
        }
       }
      }
     },
     "metadata": {},
     "output_type": "display_data"
    }
   ],
   "source": [
    "# df_candidatos\n",
    "# mascara = df_candidatos.columns.str.contains(candidato) # boolean mask over columns\n",
    "# df_candidato = df_candidatos.loc[:, mascara]\n",
    "# df_candidato#.plot(kind=\"hist\")\n",
    "\n",
    "df_promedios.set_index(\"label\").plot(kind=\"hist\")"
   ]
  },
  {
   "cell_type": "code",
   "execution_count": 65,
   "metadata": {},
   "outputs": [
    {
     "data": {
      "application/vnd.plotly.v1+json": {
       "config": {
        "plotlyServerURL": "https://plotly.com"
       },
       "data": [
        {
         "alignmentgroup": "True",
         "hovertemplate": "Emociones=%{x}<br>Bullrich | bloque de preguntas cruzadas=%{y}<extra></extra>",
         "legendgroup": "neutral",
         "marker": {
          "color": "#5b0052",
          "pattern": {
           "shape": ""
          }
         },
         "name": "neutral",
         "offsetgroup": "neutral",
         "orientation": "v",
         "showlegend": true,
         "textposition": "auto",
         "type": "bar",
         "x": [
          "neutral"
         ],
         "xaxis": "x",
         "y": [
          12.22
         ],
         "yaxis": "y"
        },
        {
         "alignmentgroup": "True",
         "hovertemplate": "Emociones=%{x}<br>Bullrich | bloque de preguntas cruzadas=%{y}<extra></extra>",
         "legendgroup": "approval",
         "marker": {
          "color": "#6aa375",
          "pattern": {
           "shape": ""
          }
         },
         "name": "approval",
         "offsetgroup": "approval",
         "orientation": "v",
         "showlegend": true,
         "textposition": "auto",
         "type": "bar",
         "x": [
          "approval"
         ],
         "xaxis": "x",
         "y": [
          11.49
         ],
         "yaxis": "y"
        },
        {
         "alignmentgroup": "True",
         "hovertemplate": "Emociones=%{x}<br>Bullrich | bloque de preguntas cruzadas=%{y}<extra></extra>",
         "legendgroup": "caring",
         "marker": {
          "color": "#9cf581",
          "pattern": {
           "shape": ""
          }
         },
         "name": "caring",
         "offsetgroup": "caring",
         "orientation": "v",
         "showlegend": true,
         "textposition": "auto",
         "type": "bar",
         "x": [
          "caring"
         ],
         "xaxis": "x",
         "y": [
          11.37
         ],
         "yaxis": "y"
        },
        {
         "alignmentgroup": "True",
         "hovertemplate": "Emociones=%{x}<br>Bullrich | bloque de preguntas cruzadas=%{y}<extra></extra>",
         "legendgroup": "curiosity",
         "marker": {
          "color": "#0184c5",
          "pattern": {
           "shape": ""
          }
         },
         "name": "curiosity",
         "offsetgroup": "curiosity",
         "orientation": "v",
         "showlegend": true,
         "textposition": "auto",
         "type": "bar",
         "x": [
          "curiosity"
         ],
         "xaxis": "x",
         "y": [
          10.93
         ],
         "yaxis": "y"
        },
        {
         "alignmentgroup": "True",
         "hovertemplate": "Emociones=%{x}<br>Bullrich | bloque de preguntas cruzadas=%{y}<extra></extra>",
         "legendgroup": "realization",
         "marker": {
          "color": "#23d6ad",
          "pattern": {
           "shape": ""
          }
         },
         "name": "realization",
         "offsetgroup": "realization",
         "orientation": "v",
         "showlegend": true,
         "textposition": "auto",
         "type": "bar",
         "x": [
          "realization"
         ],
         "xaxis": "x",
         "y": [
          10.53
         ],
         "yaxis": "y"
        },
        {
         "alignmentgroup": "True",
         "hovertemplate": "Emociones=%{x}<br>Bullrich | bloque de preguntas cruzadas=%{y}<extra></extra>",
         "legendgroup": "confusion",
         "marker": {
          "color": "#b38297",
          "pattern": {
           "shape": ""
          }
         },
         "name": "confusion",
         "offsetgroup": "confusion",
         "orientation": "v",
         "showlegend": true,
         "textposition": "auto",
         "type": "bar",
         "x": [
          "confusion"
         ],
         "xaxis": "x",
         "y": [
          8.77
         ],
         "yaxis": "y"
        },
        {
         "alignmentgroup": "True",
         "hovertemplate": "Emociones=%{x}<br>Bullrich | bloque de preguntas cruzadas=%{y}<extra></extra>",
         "legendgroup": "desire",
         "marker": {
          "color": "#836c40",
          "pattern": {
           "shape": ""
          }
         },
         "name": "desire",
         "offsetgroup": "desire",
         "orientation": "v",
         "showlegend": true,
         "textposition": "auto",
         "type": "bar",
         "x": [
          "desire"
         ],
         "xaxis": "x",
         "y": [
          6.58
         ],
         "yaxis": "y"
        },
        {
         "alignmentgroup": "True",
         "hovertemplate": "Emociones=%{x}<br>Bullrich | bloque de preguntas cruzadas=%{y}<extra></extra>",
         "legendgroup": "excitement",
         "marker": {
          "color": "#cb8c2e",
          "pattern": {
           "shape": ""
          }
         },
         "name": "excitement",
         "offsetgroup": "excitement",
         "orientation": "v",
         "showlegend": true,
         "textposition": "auto",
         "type": "bar",
         "x": [
          "excitement"
         ],
         "xaxis": "x",
         "y": [
          5.39
         ],
         "yaxis": "y"
        },
        {
         "alignmentgroup": "True",
         "hovertemplate": "Emociones=%{x}<br>Bullrich | bloque de preguntas cruzadas=%{y}<extra></extra>",
         "legendgroup": "disapproval",
         "marker": {
          "color": "#3cf970",
          "pattern": {
           "shape": ""
          }
         },
         "name": "disapproval",
         "offsetgroup": "disapproval",
         "orientation": "v",
         "showlegend": true,
         "textposition": "auto",
         "type": "bar",
         "x": [
          "disapproval"
         ],
         "xaxis": "x",
         "y": [
          5.25
         ],
         "yaxis": "y"
        },
        {
         "alignmentgroup": "True",
         "hovertemplate": "Emociones=%{x}<br>Bullrich | bloque de preguntas cruzadas=%{y}<extra></extra>",
         "legendgroup": "annoyance",
         "marker": {
          "color": "#2bbf7e",
          "pattern": {
           "shape": ""
          }
         },
         "name": "annoyance",
         "offsetgroup": "annoyance",
         "orientation": "v",
         "showlegend": true,
         "textposition": "auto",
         "type": "bar",
         "x": [
          "annoyance"
         ],
         "xaxis": "x",
         "y": [
          3.94
         ],
         "yaxis": "y"
        },
        {
         "alignmentgroup": "True",
         "hovertemplate": "Emociones=%{x}<br>Bullrich | bloque de preguntas cruzadas=%{y}<extra></extra>",
         "legendgroup": "gratitude",
         "marker": {
          "color": "#5967bb",
          "pattern": {
           "shape": ""
          }
         },
         "name": "gratitude",
         "offsetgroup": "gratitude",
         "orientation": "v",
         "showlegend": true,
         "textposition": "auto",
         "type": "bar",
         "x": [
          "gratitude"
         ],
         "xaxis": "x",
         "y": [
          3.37
         ],
         "yaxis": "y"
        },
        {
         "alignmentgroup": "True",
         "hovertemplate": "Emociones=%{x}<br>Bullrich | bloque de preguntas cruzadas=%{y}<extra></extra>",
         "legendgroup": "disappointment",
         "marker": {
          "color": "#47e8ef",
          "pattern": {
           "shape": ""
          }
         },
         "name": "disappointment",
         "offsetgroup": "disappointment",
         "orientation": "v",
         "showlegend": true,
         "textposition": "auto",
         "type": "bar",
         "x": [
          "disappointment"
         ],
         "xaxis": "x",
         "y": [
          3
         ],
         "yaxis": "y"
        },
        {
         "alignmentgroup": "True",
         "hovertemplate": "Emociones=%{x}<br>Bullrich | bloque de preguntas cruzadas=%{y}<extra></extra>",
         "legendgroup": "pride",
         "marker": {
          "color": "#41c571",
          "pattern": {
           "shape": ""
          }
         },
         "name": "pride",
         "offsetgroup": "pride",
         "orientation": "v",
         "showlegend": true,
         "textposition": "auto",
         "type": "bar",
         "x": [
          "pride"
         ],
         "xaxis": "x",
         "y": [
          1.78
         ],
         "yaxis": "y"
        },
        {
         "alignmentgroup": "True",
         "hovertemplate": "Emociones=%{x}<br>Bullrich | bloque de preguntas cruzadas=%{y}<extra></extra>",
         "legendgroup": "anger",
         "marker": {
          "color": "#b05c98",
          "pattern": {
           "shape": ""
          }
         },
         "name": "anger",
         "offsetgroup": "anger",
         "orientation": "v",
         "showlegend": true,
         "textposition": "auto",
         "type": "bar",
         "x": [
          "anger"
         ],
         "xaxis": "x",
         "y": [
          1.15
         ],
         "yaxis": "y"
        },
        {
         "alignmentgroup": "True",
         "hovertemplate": "Emociones=%{x}<br>Bullrich | bloque de preguntas cruzadas=%{y}<extra></extra>",
         "legendgroup": "admiration",
         "marker": {
          "color": "#51056c",
          "pattern": {
           "shape": ""
          }
         },
         "name": "admiration",
         "offsetgroup": "admiration",
         "orientation": "v",
         "showlegend": true,
         "textposition": "auto",
         "type": "bar",
         "x": [
          "admiration"
         ],
         "xaxis": "x",
         "y": [
          1.13
         ],
         "yaxis": "y"
        },
        {
         "alignmentgroup": "True",
         "hovertemplate": "Emociones=%{x}<br>Bullrich | bloque de preguntas cruzadas=%{y}<extra></extra>",
         "legendgroup": "remorse",
         "marker": {
          "color": "#cac961",
          "pattern": {
           "shape": ""
          }
         },
         "name": "remorse",
         "offsetgroup": "remorse",
         "orientation": "v",
         "showlegend": true,
         "textposition": "auto",
         "type": "bar",
         "x": [
          "remorse"
         ],
         "xaxis": "x",
         "y": [
          1.08
         ],
         "yaxis": "y"
        },
        {
         "alignmentgroup": "True",
         "hovertemplate": "Emociones=%{x}<br>Bullrich | bloque de preguntas cruzadas=%{y}<extra></extra>",
         "legendgroup": "amusement",
         "marker": {
          "color": "#3e4edd",
          "pattern": {
           "shape": ""
          }
         },
         "name": "amusement",
         "offsetgroup": "amusement",
         "orientation": "v",
         "showlegend": true,
         "textposition": "auto",
         "type": "bar",
         "x": [
          "amusement"
         ],
         "xaxis": "x",
         "y": [
          0.94
         ],
         "yaxis": "y"
        },
        {
         "alignmentgroup": "True",
         "hovertemplate": "Emociones=%{x}<br>Bullrich | bloque de preguntas cruzadas=%{y}<extra></extra>",
         "legendgroup": "embarrassment",
         "marker": {
          "color": "#3383b8",
          "pattern": {
           "shape": ""
          }
         },
         "name": "embarrassment",
         "offsetgroup": "embarrassment",
         "orientation": "v",
         "showlegend": true,
         "textposition": "auto",
         "type": "bar",
         "x": [
          "embarrassment"
         ],
         "xaxis": "x",
         "y": [
          0.54
         ],
         "yaxis": "y"
        },
        {
         "alignmentgroup": "True",
         "hovertemplate": "Emociones=%{x}<br>Bullrich | bloque de preguntas cruzadas=%{y}<extra></extra>",
         "legendgroup": "relief",
         "marker": {
          "color": "#331a9c",
          "pattern": {
           "shape": ""
          }
         },
         "name": "relief",
         "offsetgroup": "relief",
         "orientation": "v",
         "showlegend": true,
         "textposition": "auto",
         "type": "bar",
         "x": [
          "relief"
         ],
         "xaxis": "x",
         "y": [
          0.54
         ],
         "yaxis": "y"
        },
        {
         "alignmentgroup": "True",
         "hovertemplate": "Emociones=%{x}<br>Bullrich | bloque de preguntas cruzadas=%{y}<extra></extra>",
         "legendgroup": "nervousness",
         "marker": {
          "color": "#fe48d8",
          "pattern": {
           "shape": ""
          }
         },
         "name": "nervousness",
         "offsetgroup": "nervousness",
         "orientation": "v",
         "showlegend": true,
         "textposition": "auto",
         "type": "bar",
         "x": [
          "nervousness"
         ],
         "xaxis": "x",
         "y": [
          0
         ],
         "yaxis": "y"
        },
        {
         "alignmentgroup": "True",
         "hovertemplate": "Emociones=%{x}<br>Bullrich | bloque de preguntas cruzadas=%{y}<extra></extra>",
         "legendgroup": "surprise",
         "marker": {
          "color": "#4f7685",
          "pattern": {
           "shape": ""
          }
         },
         "name": "surprise",
         "offsetgroup": "surprise",
         "orientation": "v",
         "showlegend": true,
         "textposition": "auto",
         "type": "bar",
         "x": [
          "surprise"
         ],
         "xaxis": "x",
         "y": [
          0
         ],
         "yaxis": "y"
        },
        {
         "alignmentgroup": "True",
         "hovertemplate": "Emociones=%{x}<br>Bullrich | bloque de preguntas cruzadas=%{y}<extra></extra>",
         "legendgroup": "joy",
         "marker": {
          "color": "#7575bd",
          "pattern": {
           "shape": ""
          }
         },
         "name": "joy",
         "offsetgroup": "joy",
         "orientation": "v",
         "showlegend": true,
         "textposition": "auto",
         "type": "bar",
         "x": [
          "joy"
         ],
         "xaxis": "x",
         "y": [
          0
         ],
         "yaxis": "y"
        },
        {
         "alignmentgroup": "True",
         "hovertemplate": "Emociones=%{x}<br>Bullrich | bloque de preguntas cruzadas=%{y}<extra></extra>",
         "legendgroup": "love",
         "marker": {
          "color": "#4ecdac",
          "pattern": {
           "shape": ""
          }
         },
         "name": "love",
         "offsetgroup": "love",
         "orientation": "v",
         "showlegend": true,
         "textposition": "auto",
         "type": "bar",
         "x": [
          "love"
         ],
         "xaxis": "x",
         "y": [
          0
         ],
         "yaxis": "y"
        },
        {
         "alignmentgroup": "True",
         "hovertemplate": "Emociones=%{x}<br>Bullrich | bloque de preguntas cruzadas=%{y}<extra></extra>",
         "legendgroup": "grief",
         "marker": {
          "color": "#07b06f",
          "pattern": {
           "shape": ""
          }
         },
         "name": "grief",
         "offsetgroup": "grief",
         "orientation": "v",
         "showlegend": true,
         "textposition": "auto",
         "type": "bar",
         "x": [
          "grief"
         ],
         "xaxis": "x",
         "y": [
          0
         ],
         "yaxis": "y"
        },
        {
         "alignmentgroup": "True",
         "hovertemplate": "Emociones=%{x}<br>Bullrich | bloque de preguntas cruzadas=%{y}<extra></extra>",
         "legendgroup": "sadness",
         "marker": {
          "color": "#a0c36a",
          "pattern": {
           "shape": ""
          }
         },
         "name": "sadness",
         "offsetgroup": "sadness",
         "orientation": "v",
         "showlegend": true,
         "textposition": "auto",
         "type": "bar",
         "x": [
          "sadness"
         ],
         "xaxis": "x",
         "y": [
          0
         ],
         "yaxis": "y"
        },
        {
         "alignmentgroup": "True",
         "hovertemplate": "Emociones=%{x}<br>Bullrich | bloque de preguntas cruzadas=%{y}<extra></extra>",
         "legendgroup": "disgust",
         "marker": {
          "color": "#aa222e",
          "pattern": {
           "shape": ""
          }
         },
         "name": "disgust",
         "offsetgroup": "disgust",
         "orientation": "v",
         "showlegend": true,
         "textposition": "auto",
         "type": "bar",
         "x": [
          "disgust"
         ],
         "xaxis": "x",
         "y": [
          0
         ],
         "yaxis": "y"
        },
        {
         "alignmentgroup": "True",
         "hovertemplate": "Emociones=%{x}<br>Bullrich | bloque de preguntas cruzadas=%{y}<extra></extra>",
         "legendgroup": "optimism",
         "marker": {
          "color": "#a27a4b",
          "pattern": {
           "shape": ""
          }
         },
         "name": "optimism",
         "offsetgroup": "optimism",
         "orientation": "v",
         "showlegend": true,
         "textposition": "auto",
         "type": "bar",
         "x": [
          "optimism"
         ],
         "xaxis": "x",
         "y": [
          0
         ],
         "yaxis": "y"
        },
        {
         "alignmentgroup": "True",
         "hovertemplate": "Emociones=%{x}<br>Bullrich | bloque de preguntas cruzadas=%{y}<extra></extra>",
         "legendgroup": "fear",
         "marker": {
          "color": "#f049da",
          "pattern": {
           "shape": ""
          }
         },
         "name": "fear",
         "offsetgroup": "fear",
         "orientation": "v",
         "showlegend": true,
         "textposition": "auto",
         "type": "bar",
         "x": [
          "fear"
         ],
         "xaxis": "x",
         "y": [
          0
         ],
         "yaxis": "y"
        }
       ],
       "layout": {
        "barmode": "relative",
        "height": 600,
        "legend": {
         "title": {
          "text": "Emociones"
         },
         "tracegroupgap": 0
        },
        "showlegend": false,
        "template": {
         "data": {
          "bar": [
           {
            "error_x": {
             "color": "#f2f5fa"
            },
            "error_y": {
             "color": "#f2f5fa"
            },
            "marker": {
             "line": {
              "color": "rgb(17,17,17)",
              "width": 0.5
             },
             "pattern": {
              "fillmode": "overlay",
              "size": 10,
              "solidity": 0.2
             }
            },
            "type": "bar"
           }
          ],
          "barpolar": [
           {
            "marker": {
             "line": {
              "color": "rgb(17,17,17)",
              "width": 0.5
             },
             "pattern": {
              "fillmode": "overlay",
              "size": 10,
              "solidity": 0.2
             }
            },
            "type": "barpolar"
           }
          ],
          "carpet": [
           {
            "aaxis": {
             "endlinecolor": "#A2B1C6",
             "gridcolor": "#506784",
             "linecolor": "#506784",
             "minorgridcolor": "#506784",
             "startlinecolor": "#A2B1C6"
            },
            "baxis": {
             "endlinecolor": "#A2B1C6",
             "gridcolor": "#506784",
             "linecolor": "#506784",
             "minorgridcolor": "#506784",
             "startlinecolor": "#A2B1C6"
            },
            "type": "carpet"
           }
          ],
          "choropleth": [
           {
            "colorbar": {
             "outlinewidth": 0,
             "ticks": ""
            },
            "type": "choropleth"
           }
          ],
          "contour": [
           {
            "colorbar": {
             "outlinewidth": 0,
             "ticks": ""
            },
            "colorscale": [
             [
              0,
              "#0d0887"
             ],
             [
              0.1111111111111111,
              "#46039f"
             ],
             [
              0.2222222222222222,
              "#7201a8"
             ],
             [
              0.3333333333333333,
              "#9c179e"
             ],
             [
              0.4444444444444444,
              "#bd3786"
             ],
             [
              0.5555555555555556,
              "#d8576b"
             ],
             [
              0.6666666666666666,
              "#ed7953"
             ],
             [
              0.7777777777777778,
              "#fb9f3a"
             ],
             [
              0.8888888888888888,
              "#fdca26"
             ],
             [
              1,
              "#f0f921"
             ]
            ],
            "type": "contour"
           }
          ],
          "contourcarpet": [
           {
            "colorbar": {
             "outlinewidth": 0,
             "ticks": ""
            },
            "type": "contourcarpet"
           }
          ],
          "heatmap": [
           {
            "colorbar": {
             "outlinewidth": 0,
             "ticks": ""
            },
            "colorscale": [
             [
              0,
              "#0d0887"
             ],
             [
              0.1111111111111111,
              "#46039f"
             ],
             [
              0.2222222222222222,
              "#7201a8"
             ],
             [
              0.3333333333333333,
              "#9c179e"
             ],
             [
              0.4444444444444444,
              "#bd3786"
             ],
             [
              0.5555555555555556,
              "#d8576b"
             ],
             [
              0.6666666666666666,
              "#ed7953"
             ],
             [
              0.7777777777777778,
              "#fb9f3a"
             ],
             [
              0.8888888888888888,
              "#fdca26"
             ],
             [
              1,
              "#f0f921"
             ]
            ],
            "type": "heatmap"
           }
          ],
          "heatmapgl": [
           {
            "colorbar": {
             "outlinewidth": 0,
             "ticks": ""
            },
            "colorscale": [
             [
              0,
              "#0d0887"
             ],
             [
              0.1111111111111111,
              "#46039f"
             ],
             [
              0.2222222222222222,
              "#7201a8"
             ],
             [
              0.3333333333333333,
              "#9c179e"
             ],
             [
              0.4444444444444444,
              "#bd3786"
             ],
             [
              0.5555555555555556,
              "#d8576b"
             ],
             [
              0.6666666666666666,
              "#ed7953"
             ],
             [
              0.7777777777777778,
              "#fb9f3a"
             ],
             [
              0.8888888888888888,
              "#fdca26"
             ],
             [
              1,
              "#f0f921"
             ]
            ],
            "type": "heatmapgl"
           }
          ],
          "histogram": [
           {
            "marker": {
             "pattern": {
              "fillmode": "overlay",
              "size": 10,
              "solidity": 0.2
             }
            },
            "type": "histogram"
           }
          ],
          "histogram2d": [
           {
            "colorbar": {
             "outlinewidth": 0,
             "ticks": ""
            },
            "colorscale": [
             [
              0,
              "#0d0887"
             ],
             [
              0.1111111111111111,
              "#46039f"
             ],
             [
              0.2222222222222222,
              "#7201a8"
             ],
             [
              0.3333333333333333,
              "#9c179e"
             ],
             [
              0.4444444444444444,
              "#bd3786"
             ],
             [
              0.5555555555555556,
              "#d8576b"
             ],
             [
              0.6666666666666666,
              "#ed7953"
             ],
             [
              0.7777777777777778,
              "#fb9f3a"
             ],
             [
              0.8888888888888888,
              "#fdca26"
             ],
             [
              1,
              "#f0f921"
             ]
            ],
            "type": "histogram2d"
           }
          ],
          "histogram2dcontour": [
           {
            "colorbar": {
             "outlinewidth": 0,
             "ticks": ""
            },
            "colorscale": [
             [
              0,
              "#0d0887"
             ],
             [
              0.1111111111111111,
              "#46039f"
             ],
             [
              0.2222222222222222,
              "#7201a8"
             ],
             [
              0.3333333333333333,
              "#9c179e"
             ],
             [
              0.4444444444444444,
              "#bd3786"
             ],
             [
              0.5555555555555556,
              "#d8576b"
             ],
             [
              0.6666666666666666,
              "#ed7953"
             ],
             [
              0.7777777777777778,
              "#fb9f3a"
             ],
             [
              0.8888888888888888,
              "#fdca26"
             ],
             [
              1,
              "#f0f921"
             ]
            ],
            "type": "histogram2dcontour"
           }
          ],
          "mesh3d": [
           {
            "colorbar": {
             "outlinewidth": 0,
             "ticks": ""
            },
            "type": "mesh3d"
           }
          ],
          "parcoords": [
           {
            "line": {
             "colorbar": {
              "outlinewidth": 0,
              "ticks": ""
             }
            },
            "type": "parcoords"
           }
          ],
          "pie": [
           {
            "automargin": true,
            "type": "pie"
           }
          ],
          "scatter": [
           {
            "marker": {
             "line": {
              "color": "#283442"
             }
            },
            "type": "scatter"
           }
          ],
          "scatter3d": [
           {
            "line": {
             "colorbar": {
              "outlinewidth": 0,
              "ticks": ""
             }
            },
            "marker": {
             "colorbar": {
              "outlinewidth": 0,
              "ticks": ""
             }
            },
            "type": "scatter3d"
           }
          ],
          "scattercarpet": [
           {
            "marker": {
             "colorbar": {
              "outlinewidth": 0,
              "ticks": ""
             }
            },
            "type": "scattercarpet"
           }
          ],
          "scattergeo": [
           {
            "marker": {
             "colorbar": {
              "outlinewidth": 0,
              "ticks": ""
             }
            },
            "type": "scattergeo"
           }
          ],
          "scattergl": [
           {
            "marker": {
             "line": {
              "color": "#283442"
             }
            },
            "type": "scattergl"
           }
          ],
          "scattermapbox": [
           {
            "marker": {
             "colorbar": {
              "outlinewidth": 0,
              "ticks": ""
             }
            },
            "type": "scattermapbox"
           }
          ],
          "scatterpolar": [
           {
            "marker": {
             "colorbar": {
              "outlinewidth": 0,
              "ticks": ""
             }
            },
            "type": "scatterpolar"
           }
          ],
          "scatterpolargl": [
           {
            "marker": {
             "colorbar": {
              "outlinewidth": 0,
              "ticks": ""
             }
            },
            "type": "scatterpolargl"
           }
          ],
          "scatterternary": [
           {
            "marker": {
             "colorbar": {
              "outlinewidth": 0,
              "ticks": ""
             }
            },
            "type": "scatterternary"
           }
          ],
          "surface": [
           {
            "colorbar": {
             "outlinewidth": 0,
             "ticks": ""
            },
            "colorscale": [
             [
              0,
              "#0d0887"
             ],
             [
              0.1111111111111111,
              "#46039f"
             ],
             [
              0.2222222222222222,
              "#7201a8"
             ],
             [
              0.3333333333333333,
              "#9c179e"
             ],
             [
              0.4444444444444444,
              "#bd3786"
             ],
             [
              0.5555555555555556,
              "#d8576b"
             ],
             [
              0.6666666666666666,
              "#ed7953"
             ],
             [
              0.7777777777777778,
              "#fb9f3a"
             ],
             [
              0.8888888888888888,
              "#fdca26"
             ],
             [
              1,
              "#f0f921"
             ]
            ],
            "type": "surface"
           }
          ],
          "table": [
           {
            "cells": {
             "fill": {
              "color": "#506784"
             },
             "line": {
              "color": "rgb(17,17,17)"
             }
            },
            "header": {
             "fill": {
              "color": "#2a3f5f"
             },
             "line": {
              "color": "rgb(17,17,17)"
             }
            },
            "type": "table"
           }
          ]
         },
         "layout": {
          "annotationdefaults": {
           "arrowcolor": "#f2f5fa",
           "arrowhead": 0,
           "arrowwidth": 1
          },
          "autotypenumbers": "strict",
          "coloraxis": {
           "colorbar": {
            "outlinewidth": 0,
            "ticks": ""
           }
          },
          "colorscale": {
           "diverging": [
            [
             0,
             "#8e0152"
            ],
            [
             0.1,
             "#c51b7d"
            ],
            [
             0.2,
             "#de77ae"
            ],
            [
             0.3,
             "#f1b6da"
            ],
            [
             0.4,
             "#fde0ef"
            ],
            [
             0.5,
             "#f7f7f7"
            ],
            [
             0.6,
             "#e6f5d0"
            ],
            [
             0.7,
             "#b8e186"
            ],
            [
             0.8,
             "#7fbc41"
            ],
            [
             0.9,
             "#4d9221"
            ],
            [
             1,
             "#276419"
            ]
           ],
           "sequential": [
            [
             0,
             "#0d0887"
            ],
            [
             0.1111111111111111,
             "#46039f"
            ],
            [
             0.2222222222222222,
             "#7201a8"
            ],
            [
             0.3333333333333333,
             "#9c179e"
            ],
            [
             0.4444444444444444,
             "#bd3786"
            ],
            [
             0.5555555555555556,
             "#d8576b"
            ],
            [
             0.6666666666666666,
             "#ed7953"
            ],
            [
             0.7777777777777778,
             "#fb9f3a"
            ],
            [
             0.8888888888888888,
             "#fdca26"
            ],
            [
             1,
             "#f0f921"
            ]
           ],
           "sequentialminus": [
            [
             0,
             "#0d0887"
            ],
            [
             0.1111111111111111,
             "#46039f"
            ],
            [
             0.2222222222222222,
             "#7201a8"
            ],
            [
             0.3333333333333333,
             "#9c179e"
            ],
            [
             0.4444444444444444,
             "#bd3786"
            ],
            [
             0.5555555555555556,
             "#d8576b"
            ],
            [
             0.6666666666666666,
             "#ed7953"
            ],
            [
             0.7777777777777778,
             "#fb9f3a"
            ],
            [
             0.8888888888888888,
             "#fdca26"
            ],
            [
             1,
             "#f0f921"
            ]
           ]
          },
          "colorway": [
           "#636efa",
           "#EF553B",
           "#00cc96",
           "#ab63fa",
           "#FFA15A",
           "#19d3f3",
           "#FF6692",
           "#B6E880",
           "#FF97FF",
           "#FECB52"
          ],
          "font": {
           "color": "#f2f5fa"
          },
          "geo": {
           "bgcolor": "rgb(17,17,17)",
           "lakecolor": "rgb(17,17,17)",
           "landcolor": "rgb(17,17,17)",
           "showlakes": true,
           "showland": true,
           "subunitcolor": "#506784"
          },
          "hoverlabel": {
           "align": "left"
          },
          "hovermode": "closest",
          "mapbox": {
           "style": "dark"
          },
          "paper_bgcolor": "rgb(17,17,17)",
          "plot_bgcolor": "rgb(17,17,17)",
          "polar": {
           "angularaxis": {
            "gridcolor": "#506784",
            "linecolor": "#506784",
            "ticks": ""
           },
           "bgcolor": "rgb(17,17,17)",
           "radialaxis": {
            "gridcolor": "#506784",
            "linecolor": "#506784",
            "ticks": ""
           }
          },
          "scene": {
           "xaxis": {
            "backgroundcolor": "rgb(17,17,17)",
            "gridcolor": "#506784",
            "gridwidth": 2,
            "linecolor": "#506784",
            "showbackground": true,
            "ticks": "",
            "zerolinecolor": "#C8D4E3"
           },
           "yaxis": {
            "backgroundcolor": "rgb(17,17,17)",
            "gridcolor": "#506784",
            "gridwidth": 2,
            "linecolor": "#506784",
            "showbackground": true,
            "ticks": "",
            "zerolinecolor": "#C8D4E3"
           },
           "zaxis": {
            "backgroundcolor": "rgb(17,17,17)",
            "gridcolor": "#506784",
            "gridwidth": 2,
            "linecolor": "#506784",
            "showbackground": true,
            "ticks": "",
            "zerolinecolor": "#C8D4E3"
           }
          },
          "shapedefaults": {
           "line": {
            "color": "#f2f5fa"
           }
          },
          "sliderdefaults": {
           "bgcolor": "#C8D4E3",
           "bordercolor": "rgb(17,17,17)",
           "borderwidth": 1,
           "tickwidth": 0
          },
          "ternary": {
           "aaxis": {
            "gridcolor": "#506784",
            "linecolor": "#506784",
            "ticks": ""
           },
           "baxis": {
            "gridcolor": "#506784",
            "linecolor": "#506784",
            "ticks": ""
           },
           "bgcolor": "rgb(17,17,17)",
           "caxis": {
            "gridcolor": "#506784",
            "linecolor": "#506784",
            "ticks": ""
           }
          },
          "title": {
           "x": 0.05
          },
          "updatemenudefaults": {
           "bgcolor": "#506784",
           "borderwidth": 0
          },
          "xaxis": {
           "automargin": true,
           "gridcolor": "#283442",
           "linecolor": "#506784",
           "ticks": "",
           "title": {
            "standoff": 15
           },
           "zerolinecolor": "#283442",
           "zerolinewidth": 2
          },
          "yaxis": {
           "automargin": true,
           "gridcolor": "#283442",
           "linecolor": "#506784",
           "ticks": "",
           "title": {
            "standoff": 15
           },
           "zerolinecolor": "#283442",
           "zerolinewidth": 2
          }
         }
        },
        "title": {
         "text": "Análisis de emociones por candidato | bloque: bloque_de_preguntas_cruzadas | candidato: Bullrich"
        },
        "width": 1200,
        "xaxis": {
         "anchor": "y",
         "categoryarray": [
          "neutral",
          "approval",
          "caring",
          "curiosity",
          "realization",
          "confusion",
          "desire",
          "excitement",
          "disapproval",
          "annoyance",
          "gratitude",
          "disappointment",
          "pride",
          "anger",
          "admiration",
          "remorse",
          "amusement",
          "embarrassment",
          "relief",
          "nervousness",
          "surprise",
          "joy",
          "love",
          "grief",
          "sadness",
          "disgust",
          "optimism",
          "fear"
         ],
         "categoryorder": "array",
         "domain": [
          0,
          1
         ],
         "title": {
          "text": "Emociones"
         }
        },
        "yaxis": {
         "anchor": "x",
         "domain": [
          0,
          1
         ],
         "title": {
          "text": "Bullrich | bloque de preguntas cruzadas"
         }
        }
       }
      }
     },
     "metadata": {},
     "output_type": "display_data"
    }
   ],
   "source": [
    "df_candidatos = df_candidatos.mask(df_candidatos < 4.0)\n",
    "\n",
    "\n",
    "# ###TODO: DRY - es tamos repitiendo código\n",
    "\n",
    "mascara = df_candidatos.columns.str.contains(candidato) # boolean mask over columns\n",
    "df_promedios = df_candidatos.loc[:, mascara]\n",
    "\n",
    "# ## Promediamos el score de cada línea del discurso de cada intervención en un único score\n",
    "df_promedios = (df_promedios.sum(axis=1) / df_promedios.sum(axis=1).sum() * 100).round(2)\n",
    "figure_name = candidato + \" | \" + bloque.replace(\"_\", \" \")\n",
    "df_promedios.name = figure_name\n",
    "\n",
    "\n",
    "import random\n",
    "\n",
    "def random_color_hex():\n",
    "    return '#%02x%02x%02x' % (random.randint(0, 255), random.randint(0, 255), random.randint(0, 255))\n",
    "\n",
    "# def random_color_RGB():\n",
    "#     return (random.randint(0, 255), random.randint(0, 255), random.randint(0, 255))\n",
    "\n",
    "colores = {emotion: random_color_hex() for emotion in df_promedios.index}\n",
    "\n",
    "df_promedios = df_promedios.to_frame().reset_index()\n",
    "\n",
    "visual_kwargs = {\n",
    "    \"width\": 1200,\n",
    "    \"height\": 600,\n",
    "    \"template\": \"plotly_dark\",\n",
    "    \"title\": f\"Análisis de emociones por candidato | bloque: {bloque} | candidato: {candidato}\",\n",
    "    \"labels\": {\"variable\": \"Emociones\", \"value\": \"Porcentaje de emociones\", \"label\": \"Emociones\"},\n",
    "    \"color\": \"label\",\n",
    "    \"color_discrete_map\": colores\n",
    "    }\n",
    "# figure = df_promedios.sort_values(by=figure_name ,ascending=False)[figure_name].plot(kind=\"bar\", **visual_kwargs).update_layout(showlegend=False)\n",
    "figure = df_promedios.sort_values(by=figure_name, ascending=False).plot(kind=\"bar\", x=\"label\", y=figure_name, **visual_kwargs).update_layout(showlegend=False)\n",
    "df_promedios\n",
    "figure"
   ]
  },
  {
   "cell_type": "code",
   "execution_count": 66,
   "metadata": {},
   "outputs": [
    {
     "data": {
      "text/plain": [
       "{'curiosity': '#0184c5',\n",
       " 'confusion': '#b38297',\n",
       " 'caring': '#9cf581',\n",
       " 'excitement': '#cb8c2e',\n",
       " 'approval': '#6aa375',\n",
       " 'desire': '#836c40',\n",
       " 'neutral': '#5b0052',\n",
       " 'annoyance': '#2bbf7e',\n",
       " 'amusement': '#3e4edd',\n",
       " 'realization': '#23d6ad',\n",
       " 'gratitude': '#5967bb',\n",
       " 'disapproval': '#3cf970',\n",
       " 'anger': '#b05c98',\n",
       " 'remorse': '#cac961',\n",
       " 'pride': '#41c571',\n",
       " 'admiration': '#51056c',\n",
       " 'nervousness': '#fe48d8',\n",
       " 'surprise': '#4f7685',\n",
       " 'embarrassment': '#3383b8',\n",
       " 'relief': '#331a9c',\n",
       " 'joy': '#7575bd',\n",
       " 'love': '#4ecdac',\n",
       " 'disappointment': '#47e8ef',\n",
       " 'grief': '#07b06f',\n",
       " 'sadness': '#a0c36a',\n",
       " 'disgust': '#aa222e',\n",
       " 'optimism': '#a27a4b',\n",
       " 'fear': '#f049da'}"
      ]
     },
     "execution_count": 66,
     "metadata": {},
     "output_type": "execute_result"
    }
   ],
   "source": [
    "colores"
   ]
  },
  {
   "cell_type": "code",
   "execution_count": null,
   "metadata": {},
   "outputs": [],
   "source": [
    "\"\"\"\n",
    "SELECCION DE COLORES:\n",
    "\n",
    "\n",
    "1. azúl: (miedo - desagrado): #473b9e\n",
    "\n",
    "2. rosa: (aversión - duda): #ea76e5\n",
    "\n",
    "3. rojo (tensión - entusiasmo): #901f31\n",
    "\n",
    "4. amarillo: (valor - alegría): #d5d432\n",
    "\n",
    "5. verde: (valor - deseo): #9cf581\n",
    "\n",
    "6. verde: (amor - compasión): #4bb710\n",
    "\n",
    "7. celeste: (certeza - aburrimiento): #80c0ea\n",
    "\n",
    "8. celeste: (apatía - tristeza): #53b7d9\n",
    "\"\"\";"
   ]
  },
  {
   "cell_type": "markdown",
   "metadata": {},
   "source": [
    "## Visualización por bloque temático"
   ]
  },
  {
   "cell_type": "code",
   "execution_count": 3,
   "metadata": {},
   "outputs": [
    {
     "data": {
      "application/vnd.plotly.v1+json": {
       "config": {
        "plotlyServerURL": "https://plotly.com"
       },
       "data": [
        {
         "alignmentgroup": "True",
         "hovertemplate": "variable=06_Bullrich_2<br>label=%{x}<br>value=%{y}<extra></extra>",
         "legendgroup": "06_Bullrich_2",
         "marker": {
          "color": "#636efa",
          "pattern": {
           "shape": ""
          }
         },
         "name": "06_Bullrich_2",
         "offsetgroup": "06_Bullrich_2",
         "orientation": "v",
         "showlegend": true,
         "textposition": "auto",
         "type": "bar",
         "x": [
          "neutral",
          "approval",
          "confusion",
          "realization",
          "caring",
          "desire",
          "excitement",
          "curiosity",
          "disapproval",
          "annoyance",
          "disappointment",
          "embarrassment",
          "remorse",
          "anger",
          "amusement",
          "admiration",
          "relief",
          "pride",
          "grief",
          "gratitude",
          "sadness",
          "disgust",
          "nervousness",
          "love",
          "joy",
          "surprise",
          "fear",
          "optimism"
         ],
         "xaxis": "x",
         "y": [
          5.904652811869306,
          5.917380316005746,
          4.426444117165766,
          5.4510082001490945,
          5.605556464662993,
          4.14098438153421,
          4.228258695612648,
          4.938271604938271,
          4.349169984908817,
          4.06371024927726,
          3.532791505300096,
          3.060964744813542,
          3.4536991581665113,
          3.8246149929998716,
          3.1273295878106873,
          3.084601538209785,
          3.1636938853433696,
          3.6482481499663635,
          2.4045891743486245,
          3.6382479681448747,
          2.307314678448699,
          2.2845869924907727,
          2.620047637229768,
          2.4436807941962577,
          2.320042182585138,
          2.383679703267332,
          1.6363933889707087,
          2.0400370915834833
         ],
         "yaxis": "y"
        },
        {
         "alignmentgroup": "True",
         "hovertemplate": "variable=07_Bregman_2<br>label=%{x}<br>value=%{y}<extra></extra>",
         "legendgroup": "07_Bregman_2",
         "marker": {
          "color": "#EF553B",
          "pattern": {
           "shape": ""
          }
         },
         "name": "07_Bregman_2",
         "offsetgroup": "07_Bregman_2",
         "orientation": "v",
         "showlegend": true,
         "textposition": "auto",
         "type": "bar",
         "x": [
          "neutral",
          "approval",
          "confusion",
          "realization",
          "caring",
          "desire",
          "excitement",
          "curiosity",
          "disapproval",
          "annoyance",
          "disappointment",
          "embarrassment",
          "remorse",
          "anger",
          "amusement",
          "admiration",
          "relief",
          "pride",
          "grief",
          "gratitude",
          "sadness",
          "disgust",
          "nervousness",
          "love",
          "joy",
          "surprise",
          "fear",
          "optimism"
         ],
         "xaxis": "x",
         "y": [
          4.93609872197444,
          6.328126562531251,
          4.148082961659234,
          5.490109802196045,
          5.794115882317646,
          4.186083721674434,
          4.88609772195444,
          4.720094401888039,
          3.832076641532831,
          3.4940698813976288,
          2.806056121122422,
          2.624052481049621,
          3.0580611612232245,
          3.078061561231225,
          3.362067241344828,
          3.870077401548032,
          3.574071481429628,
          3.8640772815456312,
          2.224044480889618,
          5.198103962079242,
          2.0480409608192165,
          2.004040080801616,
          2.4460489209784195,
          2.8640572811456226,
          3.0500610012200253,
          2.584051681033621,
          1.3600272005440113,
          2.1700434008680176
         ],
         "yaxis": "y"
        },
        {
         "alignmentgroup": "True",
         "hovertemplate": "variable=08_Schiaretti_2<br>label=%{x}<br>value=%{y}<extra></extra>",
         "legendgroup": "08_Schiaretti_2",
         "marker": {
          "color": "#00cc96",
          "pattern": {
           "shape": ""
          }
         },
         "name": "08_Schiaretti_2",
         "offsetgroup": "08_Schiaretti_2",
         "orientation": "v",
         "showlegend": true,
         "textposition": "auto",
         "type": "bar",
         "x": [
          "neutral",
          "approval",
          "confusion",
          "realization",
          "caring",
          "desire",
          "excitement",
          "curiosity",
          "disapproval",
          "annoyance",
          "disappointment",
          "embarrassment",
          "remorse",
          "anger",
          "amusement",
          "admiration",
          "relief",
          "pride",
          "grief",
          "gratitude",
          "sadness",
          "disgust",
          "nervousness",
          "love",
          "joy",
          "surprise",
          "fear",
          "optimism"
         ],
         "xaxis": "x",
         "y": [
          6.607107140476032,
          6.287085805720381,
          3.8902593506233747,
          6.230415361024067,
          5.515367691179413,
          4.338622574838322,
          4.226948463230882,
          4.793652910194012,
          4.575305020334689,
          3.8069204613640903,
          3.3602240149343285,
          2.8918594572971528,
          3.4302286819121277,
          3.585239015934395,
          3.086872458163877,
          3.0685379025268347,
          3.403560237349156,
          3.486899126608441,
          2.1551436762450824,
          3.5069004600306686,
          2.08680578705247,
          2.2818187879191947,
          2.548503233548903,
          2.211814120941396,
          2.4101606773784914,
          2.595173011534102,
          1.5167677845189678,
          2.1018067871191413
         ],
         "yaxis": "y"
        },
        {
         "alignmentgroup": "True",
         "hovertemplate": "variable=09_Milei_2<br>label=%{x}<br>value=%{y}<extra></extra>",
         "legendgroup": "09_Milei_2",
         "marker": {
          "color": "#ab63fa",
          "pattern": {
           "shape": ""
          }
         },
         "name": "09_Milei_2",
         "offsetgroup": "09_Milei_2",
         "orientation": "v",
         "showlegend": true,
         "textposition": "auto",
         "type": "bar",
         "x": [
          "neutral",
          "approval",
          "confusion",
          "realization",
          "caring",
          "desire",
          "excitement",
          "curiosity",
          "disapproval",
          "annoyance",
          "disappointment",
          "embarrassment",
          "remorse",
          "anger",
          "amusement",
          "admiration",
          "relief",
          "pride",
          "grief",
          "gratitude",
          "sadness",
          "disgust",
          "nervousness",
          "love",
          "joy",
          "surprise",
          "fear",
          "optimism"
         ],
         "xaxis": "x",
         "y": [
          6.123945727906122,
          4.7788112144547785,
          6.13061306130613,
          4.873820715404873,
          4.67046704670467,
          3.8820548721538817,
          3.5236857019035237,
          5.14051405140514,
          5.132179884655132,
          4.625462546254625,
          4.932159882654932,
          3.2669933660032666,
          3.52035203520352,
          3.4820148681534815,
          3.1803180318031803,
          2.7319398606527314,
          3.133646698003133,
          3.105310531053105,
          2.47024702470247,
          3.365336533653365,
          2.4969163583024967,
          2.331899856652332,
          2.66026602660266,
          2.2835616895022834,
          2.2618928559522615,
          2.5435876921025438,
          1.5434876821015433,
          1.8085141847518078
         ],
         "yaxis": "y"
        },
        {
         "alignmentgroup": "True",
         "hovertemplate": "variable=10_Massa_2<br>label=%{x}<br>value=%{y}<extra></extra>",
         "legendgroup": "10_Massa_2",
         "marker": {
          "color": "#FFA15A",
          "pattern": {
           "shape": ""
          }
         },
         "name": "10_Massa_2",
         "offsetgroup": "10_Massa_2",
         "orientation": "v",
         "showlegend": true,
         "textposition": "auto",
         "type": "bar",
         "x": [
          "neutral",
          "approval",
          "confusion",
          "realization",
          "caring",
          "desire",
          "excitement",
          "curiosity",
          "disapproval",
          "annoyance",
          "disappointment",
          "embarrassment",
          "remorse",
          "anger",
          "amusement",
          "admiration",
          "relief",
          "pride",
          "grief",
          "gratitude",
          "sadness",
          "disgust",
          "nervousness",
          "love",
          "joy",
          "surprise",
          "fear",
          "optimism"
         ],
         "xaxis": "x",
         "y": [
          5.270876035261377,
          6.645669816194237,
          3.9577396723824756,
          6.452365478511555,
          6.354046892966054,
          4.712626439367428,
          4.111050009165291,
          5.19588728357413,
          3.8810845039910684,
          3.3628289089969834,
          2.7329233948241094,
          2.5312869736206234,
          3.6127914146211393,
          2.9095635654651804,
          3.0178806512356475,
          3.2395140728890666,
          3.1761902381309466,
          3.5594660800879865,
          2.3479811361629093,
          4.65096902131347,
          2.3429818860504255,
          2.029695545668149,
          2.3779766368378077,
          2.542951890549751,
          2.4313019713709605,
          2.7095935609658546,
          1.369794530820377,
          2.4729623889749868
         ],
         "yaxis": "y"
        },
        {
         "alignmentgroup": "True",
         "hovertemplate": "variable=11_Schiaretti_3<br>label=%{x}<br>value=%{y}<extra></extra>",
         "legendgroup": "11_Schiaretti_3",
         "marker": {
          "color": "#19d3f3",
          "pattern": {
           "shape": ""
          }
         },
         "name": "11_Schiaretti_3",
         "offsetgroup": "11_Schiaretti_3",
         "orientation": "v",
         "showlegend": true,
         "textposition": "auto",
         "type": "bar",
         "x": [
          "neutral",
          "approval",
          "confusion",
          "realization",
          "caring",
          "desire",
          "excitement",
          "curiosity",
          "disapproval",
          "annoyance",
          "disappointment",
          "embarrassment",
          "remorse",
          "anger",
          "amusement",
          "admiration",
          "relief",
          "pride",
          "grief",
          "gratitude",
          "sadness",
          "disgust",
          "nervousness",
          "love",
          "joy",
          "surprise",
          "fear",
          "optimism"
         ],
         "xaxis": "x",
         "y": [
          6.998440124790016,
          5.542556595472362,
          4.35465162786977,
          5.969522438204943,
          5.383569314454844,
          4.118670506359492,
          3.8036957043436512,
          4.558635309175267,
          5.325573954083673,
          4.15966722662187,
          3.6787057035437165,
          3.131749460043197,
          3.5017198624110075,
          4.0376769858411325,
          2.599792016638669,
          2.5927925765938724,
          3.282737381009519,
          3.084753219742421,
          2.376809855211583,
          3.081753459723222,
          2.3978081753459723,
          2.6507879369650436,
          2.4868010559155262,
          2.2358211343092553,
          2.292816574674026,
          2.670786337093033,
          1.7128629709623229,
          1.9688424926005916
         ],
         "yaxis": "y"
        },
        {
         "alignmentgroup": "True",
         "hovertemplate": "variable=12_Massa_3<br>label=%{x}<br>value=%{y}<extra></extra>",
         "legendgroup": "12_Massa_3",
         "marker": {
          "color": "#FF6692",
          "pattern": {
           "shape": ""
          }
         },
         "name": "12_Massa_3",
         "offsetgroup": "12_Massa_3",
         "orientation": "v",
         "showlegend": true,
         "textposition": "auto",
         "type": "bar",
         "x": [
          "neutral",
          "approval",
          "confusion",
          "realization",
          "caring",
          "desire",
          "excitement",
          "curiosity",
          "disapproval",
          "annoyance",
          "disappointment",
          "embarrassment",
          "remorse",
          "anger",
          "amusement",
          "admiration",
          "relief",
          "pride",
          "grief",
          "gratitude",
          "sadness",
          "disgust",
          "nervousness",
          "love",
          "joy",
          "surprise",
          "fear",
          "optimism"
         ],
         "xaxis": "x",
         "y": [
          6.2532812226564785,
          6.719110674077716,
          3.615803201639986,
          6.071616069866086,
          5.9624503129140605,
          4.35496370863576,
          4.1216323197306695,
          4.800793326722277,
          4.021633153057058,
          3.6024699794168376,
          3.1308072432729728,
          2.744143798801677,
          3.3733052224564797,
          3.294139215506538,
          2.973308555762036,
          3.2574728543928795,
          3.364138632178065,
          3.4833043057974513,
          2.4016466529445584,
          4.017466521112325,
          2.2349813751552072,
          2.2066482779310173,
          2.6599778335180537,
          2.399980000166666,
          2.5483120973991884,
          2.4649794585045126,
          1.6016533195556701,
          2.3199806668277763
         ],
         "yaxis": "y"
        },
        {
         "alignmentgroup": "True",
         "hovertemplate": "variable=13_Bullrich_3<br>label=%{x}<br>value=%{y}<extra></extra>",
         "legendgroup": "13_Bullrich_3",
         "marker": {
          "color": "#B6E880",
          "pattern": {
           "shape": ""
          }
         },
         "name": "13_Bullrich_3",
         "offsetgroup": "13_Bullrich_3",
         "orientation": "v",
         "showlegend": true,
         "textposition": "auto",
         "type": "bar",
         "x": [
          "neutral",
          "approval",
          "confusion",
          "realization",
          "caring",
          "desire",
          "excitement",
          "curiosity",
          "disapproval",
          "annoyance",
          "disappointment",
          "embarrassment",
          "remorse",
          "anger",
          "amusement",
          "admiration",
          "relief",
          "pride",
          "grief",
          "gratitude",
          "sadness",
          "disgust",
          "nervousness",
          "love",
          "joy",
          "surprise",
          "fear",
          "optimism"
         ],
         "xaxis": "x",
         "y": [
          7.531004133884517,
          5.617415655420722,
          5.600746766235496,
          5.610748099746632,
          5.874116548873182,
          3.8205094012535,
          3.440458727830377,
          4.693959194559274,
          5.550740098679823,
          4.107214295239365,
          4.233897853047072,
          3.2904387251633547,
          3.150420056007467,
          3.2504333911188157,
          2.823709827977063,
          3.0270702760368047,
          2.97706360848113,
          3.590478730497399,
          2.1002800373383113,
          2.837044939325243,
          2.136951593545806,
          2.7103613815175356,
          2.120282704360581,
          1.9902653687158287,
          1.9102547006267498,
          2.670356047472996,
          1.6635551406854248,
          1.6702226963595141
         ],
         "yaxis": "y"
        },
        {
         "alignmentgroup": "True",
         "hovertemplate": "variable=14_Massa_4<br>label=%{x}<br>value=%{y}<extra></extra>",
         "legendgroup": "14_Massa_4",
         "marker": {
          "color": "#FF97FF",
          "pattern": {
           "shape": ""
          }
         },
         "name": "14_Massa_4",
         "offsetgroup": "14_Massa_4",
         "orientation": "v",
         "showlegend": true,
         "textposition": "auto",
         "type": "bar",
         "x": [
          "neutral",
          "approval",
          "confusion",
          "realization",
          "caring",
          "desire",
          "excitement",
          "curiosity",
          "disapproval",
          "annoyance",
          "disappointment",
          "embarrassment",
          "remorse",
          "anger",
          "amusement",
          "admiration",
          "relief",
          "pride",
          "grief",
          "gratitude",
          "sadness",
          "disgust",
          "nervousness",
          "love",
          "joy",
          "surprise",
          "fear",
          "optimism"
         ],
         "xaxis": "x",
         "y": [
          6.986698669866986,
          6.366636663666365,
          4.962496249624962,
          5.872587258725872,
          5.9685968596859675,
          3.4023402340234017,
          2.332233223322332,
          3.8163816381638163,
          4.526452645264526,
          3.8563856385638564,
          4.004400440044003,
          2.78027802780278,
          3.436343634363436,
          2.666266626662666,
          2.496249624962496,
          4.034403440344034,
          3.704370437043704,
          3.9823982398239823,
          2.0402040204020397,
          5.306530653065306,
          2.288228822882288,
          2.11021102110211,
          2.542254225422542,
          2.66026602660266,
          2.098209820982098,
          2.4362436243624357,
          1.5781578157815779,
          1.7441744174417442
         ],
         "yaxis": "y"
        },
        {
         "alignmentgroup": "True",
         "hovertemplate": "variable=15_Bregman_3<br>label=%{x}<br>value=%{y}<extra></extra>",
         "legendgroup": "15_Bregman_3",
         "marker": {
          "color": "#FECB52",
          "pattern": {
           "shape": ""
          }
         },
         "name": "15_Bregman_3",
         "offsetgroup": "15_Bregman_3",
         "orientation": "v",
         "showlegend": true,
         "textposition": "auto",
         "type": "bar",
         "x": [
          "neutral",
          "approval",
          "confusion",
          "realization",
          "caring",
          "desire",
          "excitement",
          "curiosity",
          "disapproval",
          "annoyance",
          "disappointment",
          "embarrassment",
          "remorse",
          "anger",
          "amusement",
          "admiration",
          "relief",
          "pride",
          "grief",
          "gratitude",
          "sadness",
          "disgust",
          "nervousness",
          "love",
          "joy",
          "surprise",
          "fear",
          "optimism"
         ],
         "xaxis": "x",
         "y": [
          6.026987917789204,
          5.8458135786637815,
          3.60936930153763,
          6.804625827931439,
          5.979341419512712,
          4.121716215103353,
          3.5164292184797836,
          4.644063011023399,
          4.119951529982002,
          4.0628933777249685,
          3.4999588240138357,
          2.824084422536206,
          3.5440759520476233,
          2.9611416336278396,
          3.0040823049140597,
          3.348195903577605,
          3.970541523040906,
          3.800543523017376,
          2.2452677027329098,
          3.870542699497653,
          2.312325737344267,
          2.1411512805731694,
          2.5558522840907756,
          2.4752649968823897,
          2.6699685886048403,
          2.4205597581204934,
          1.4599828237314856,
          2.1652686438983078
         ],
         "yaxis": "y"
        },
        {
         "alignmentgroup": "True",
         "hovertemplate": "variable=16_Milei_3<br>label=%{x}<br>value=%{y}<extra></extra>",
         "legendgroup": "16_Milei_3",
         "marker": {
          "color": "#636efa",
          "pattern": {
           "shape": ""
          }
         },
         "name": "16_Milei_3",
         "offsetgroup": "16_Milei_3",
         "orientation": "v",
         "showlegend": true,
         "textposition": "auto",
         "type": "bar",
         "x": [
          "neutral",
          "approval",
          "confusion",
          "realization",
          "caring",
          "desire",
          "excitement",
          "curiosity",
          "disapproval",
          "annoyance",
          "disappointment",
          "embarrassment",
          "remorse",
          "anger",
          "amusement",
          "admiration",
          "relief",
          "pride",
          "grief",
          "gratitude",
          "sadness",
          "disgust",
          "nervousness",
          "love",
          "joy",
          "surprise",
          "fear",
          "optimism"
         ],
         "xaxis": "x",
         "y": [
          6.697238531979028,
          5.961513735910511,
          4.092915613080186,
          6.244374919641708,
          6.215803082901184,
          4.39577708252975,
          3.5271932456177932,
          5.031500450006428,
          4.938641980599722,
          4.242917755967941,
          3.854340776296804,
          3.3686195517078805,
          3.6586236946242088,
          3.1771882455463647,
          2.57432249032129,
          2.6500378576836803,
          3.300047143530622,
          3.0229003271475303,
          2.2957470821011725,
          3.010043000614294,
          2.5586079801140005,
          2.684324061772311,
          2.3343190617008807,
          1.962885184074058,
          2.097172816754525,
          2.6300375719653135,
          1.5685938370548147,
          1.904312918755982
         ],
         "yaxis": "y"
        },
        {
         "alignmentgroup": "True",
         "hovertemplate": "variable=17_Bullrich_4<br>label=%{x}<br>value=%{y}<extra></extra>",
         "legendgroup": "17_Bullrich_4",
         "marker": {
          "color": "#EF553B",
          "pattern": {
           "shape": ""
          }
         },
         "name": "17_Bullrich_4",
         "offsetgroup": "17_Bullrich_4",
         "orientation": "v",
         "showlegend": true,
         "textposition": "auto",
         "type": "bar",
         "x": [
          "neutral",
          "approval",
          "confusion",
          "realization",
          "caring",
          "desire",
          "excitement",
          "curiosity",
          "disapproval",
          "annoyance",
          "disappointment",
          "embarrassment",
          "remorse",
          "anger",
          "amusement",
          "admiration",
          "relief",
          "pride",
          "grief",
          "gratitude",
          "sadness",
          "disgust",
          "nervousness",
          "love",
          "joy",
          "surprise",
          "fear",
          "optimism"
         ],
         "xaxis": "x",
         "y": [
          6.835683568356835,
          5.6755675567556745,
          3.7778777877787775,
          7.926625995932926,
          5.635563556355634,
          3.6611994532786607,
          3.206987365403206,
          4.606293962729605,
          4.217088375504216,
          3.7653765376537653,
          3.4995166183284985,
          2.982798279827983,
          3.0261359469280262,
          2.9586291962529585,
          2.9602960296029597,
          3.021135446878021,
          3.7720438710537723,
          3.7495416208287486,
          2.2077207720772076,
          3.603693702703604,
          2.1802180218021796,
          2.4369103577024367,
          2.506083941727506,
          2.6919358602526913,
          2.645264526452645,
          2.484415108177484,
          1.5076507650765079,
          2.457745774577458
         ],
         "yaxis": "y"
        },
        {
         "alignmentgroup": "True",
         "hovertemplate": "variable=18_Schiaretti_4<br>label=%{x}<br>value=%{y}<extra></extra>",
         "legendgroup": "18_Schiaretti_4",
         "marker": {
          "color": "#00cc96",
          "pattern": {
           "shape": ""
          }
         },
         "name": "18_Schiaretti_4",
         "offsetgroup": "18_Schiaretti_4",
         "orientation": "v",
         "showlegend": true,
         "textposition": "auto",
         "type": "bar",
         "x": [
          "neutral",
          "approval",
          "confusion",
          "realization",
          "caring",
          "desire",
          "excitement",
          "curiosity",
          "disapproval",
          "annoyance",
          "disappointment",
          "embarrassment",
          "remorse",
          "anger",
          "amusement",
          "admiration",
          "relief",
          "pride",
          "grief",
          "gratitude",
          "sadness",
          "disgust",
          "nervousness",
          "love",
          "joy",
          "surprise",
          "fear",
          "optimism"
         ],
         "xaxis": "x",
         "y": [
          6.694665266736664,
          5.8797060146992655,
          6.094695265236739,
          5.144742762861856,
          5.959702014899255,
          4.599770011499425,
          4.519774011299435,
          5.909704514774262,
          4.524773761311935,
          3.9248037598120096,
          3.089845507724614,
          2.619869006549673,
          3.5398230088495577,
          3.9998000099995004,
          2.8048597570121494,
          2.529873506324684,
          2.71986400679966,
          2.979851007449628,
          2.4948752562371883,
          2.8898555072246386,
          2.199890005499725,
          2.289885505724714,
          2.5898705064746763,
          2.0648967551622417,
          1.9699015049247541,
          2.5548722563871804,
          1.7249137543122846,
          1.6849157542122895
         ],
         "yaxis": "y"
        },
        {
         "alignmentgroup": "True",
         "hovertemplate": "variable=19_Milei_4<br>label=%{x}<br>value=%{y}<extra></extra>",
         "legendgroup": "19_Milei_4",
         "marker": {
          "color": "#ab63fa",
          "pattern": {
           "shape": ""
          }
         },
         "name": "19_Milei_4",
         "offsetgroup": "19_Milei_4",
         "orientation": "v",
         "showlegend": true,
         "textposition": "auto",
         "type": "bar",
         "x": [
          "neutral",
          "approval",
          "confusion",
          "realization",
          "caring",
          "desire",
          "excitement",
          "curiosity",
          "disapproval",
          "annoyance",
          "disappointment",
          "embarrassment",
          "remorse",
          "anger",
          "amusement",
          "admiration",
          "relief",
          "pride",
          "grief",
          "gratitude",
          "sadness",
          "disgust",
          "nervousness",
          "love",
          "joy",
          "surprise",
          "fear",
          "optimism"
         ],
         "xaxis": "x",
         "y": [
          6.413539249419861,
          8.352004481075458,
          4.048971753220773,
          5.2032487797071285,
          6.441545971033047,
          3.630871409138192,
          3.3107945907017675,
          4.447067296151075,
          3.550852204529087,
          3.5008402016483955,
          3.054733135952628,
          2.4925982235736575,
          2.7586620788989356,
          2.75466111866848,
          2.8846923261582775,
          3.900936224693926,
          3.892934304233016,
          3.640873809714331,
          2.0364887573017523,
          6.039449467872289,
          1.9884772345362887,
          1.856445546931263,
          2.1845242858285987,
          2.9307033688085133,
          2.7986716812034884,
          2.3165559734336245,
          1.3323197567416178,
          2.2365367688245175
         ],
         "yaxis": "y"
        }
       ],
       "layout": {
        "barmode": "relative",
        "legend": {
         "title": {
          "text": "variable"
         },
         "tracegroupgap": 0
        },
        "template": {
         "data": {
          "bar": [
           {
            "error_x": {
             "color": "#f2f5fa"
            },
            "error_y": {
             "color": "#f2f5fa"
            },
            "marker": {
             "line": {
              "color": "rgb(17,17,17)",
              "width": 0.5
             },
             "pattern": {
              "fillmode": "overlay",
              "size": 10,
              "solidity": 0.2
             }
            },
            "type": "bar"
           }
          ],
          "barpolar": [
           {
            "marker": {
             "line": {
              "color": "rgb(17,17,17)",
              "width": 0.5
             },
             "pattern": {
              "fillmode": "overlay",
              "size": 10,
              "solidity": 0.2
             }
            },
            "type": "barpolar"
           }
          ],
          "carpet": [
           {
            "aaxis": {
             "endlinecolor": "#A2B1C6",
             "gridcolor": "#506784",
             "linecolor": "#506784",
             "minorgridcolor": "#506784",
             "startlinecolor": "#A2B1C6"
            },
            "baxis": {
             "endlinecolor": "#A2B1C6",
             "gridcolor": "#506784",
             "linecolor": "#506784",
             "minorgridcolor": "#506784",
             "startlinecolor": "#A2B1C6"
            },
            "type": "carpet"
           }
          ],
          "choropleth": [
           {
            "colorbar": {
             "outlinewidth": 0,
             "ticks": ""
            },
            "type": "choropleth"
           }
          ],
          "contour": [
           {
            "colorbar": {
             "outlinewidth": 0,
             "ticks": ""
            },
            "colorscale": [
             [
              0,
              "#0d0887"
             ],
             [
              0.1111111111111111,
              "#46039f"
             ],
             [
              0.2222222222222222,
              "#7201a8"
             ],
             [
              0.3333333333333333,
              "#9c179e"
             ],
             [
              0.4444444444444444,
              "#bd3786"
             ],
             [
              0.5555555555555556,
              "#d8576b"
             ],
             [
              0.6666666666666666,
              "#ed7953"
             ],
             [
              0.7777777777777778,
              "#fb9f3a"
             ],
             [
              0.8888888888888888,
              "#fdca26"
             ],
             [
              1,
              "#f0f921"
             ]
            ],
            "type": "contour"
           }
          ],
          "contourcarpet": [
           {
            "colorbar": {
             "outlinewidth": 0,
             "ticks": ""
            },
            "type": "contourcarpet"
           }
          ],
          "heatmap": [
           {
            "colorbar": {
             "outlinewidth": 0,
             "ticks": ""
            },
            "colorscale": [
             [
              0,
              "#0d0887"
             ],
             [
              0.1111111111111111,
              "#46039f"
             ],
             [
              0.2222222222222222,
              "#7201a8"
             ],
             [
              0.3333333333333333,
              "#9c179e"
             ],
             [
              0.4444444444444444,
              "#bd3786"
             ],
             [
              0.5555555555555556,
              "#d8576b"
             ],
             [
              0.6666666666666666,
              "#ed7953"
             ],
             [
              0.7777777777777778,
              "#fb9f3a"
             ],
             [
              0.8888888888888888,
              "#fdca26"
             ],
             [
              1,
              "#f0f921"
             ]
            ],
            "type": "heatmap"
           }
          ],
          "heatmapgl": [
           {
            "colorbar": {
             "outlinewidth": 0,
             "ticks": ""
            },
            "colorscale": [
             [
              0,
              "#0d0887"
             ],
             [
              0.1111111111111111,
              "#46039f"
             ],
             [
              0.2222222222222222,
              "#7201a8"
             ],
             [
              0.3333333333333333,
              "#9c179e"
             ],
             [
              0.4444444444444444,
              "#bd3786"
             ],
             [
              0.5555555555555556,
              "#d8576b"
             ],
             [
              0.6666666666666666,
              "#ed7953"
             ],
             [
              0.7777777777777778,
              "#fb9f3a"
             ],
             [
              0.8888888888888888,
              "#fdca26"
             ],
             [
              1,
              "#f0f921"
             ]
            ],
            "type": "heatmapgl"
           }
          ],
          "histogram": [
           {
            "marker": {
             "pattern": {
              "fillmode": "overlay",
              "size": 10,
              "solidity": 0.2
             }
            },
            "type": "histogram"
           }
          ],
          "histogram2d": [
           {
            "colorbar": {
             "outlinewidth": 0,
             "ticks": ""
            },
            "colorscale": [
             [
              0,
              "#0d0887"
             ],
             [
              0.1111111111111111,
              "#46039f"
             ],
             [
              0.2222222222222222,
              "#7201a8"
             ],
             [
              0.3333333333333333,
              "#9c179e"
             ],
             [
              0.4444444444444444,
              "#bd3786"
             ],
             [
              0.5555555555555556,
              "#d8576b"
             ],
             [
              0.6666666666666666,
              "#ed7953"
             ],
             [
              0.7777777777777778,
              "#fb9f3a"
             ],
             [
              0.8888888888888888,
              "#fdca26"
             ],
             [
              1,
              "#f0f921"
             ]
            ],
            "type": "histogram2d"
           }
          ],
          "histogram2dcontour": [
           {
            "colorbar": {
             "outlinewidth": 0,
             "ticks": ""
            },
            "colorscale": [
             [
              0,
              "#0d0887"
             ],
             [
              0.1111111111111111,
              "#46039f"
             ],
             [
              0.2222222222222222,
              "#7201a8"
             ],
             [
              0.3333333333333333,
              "#9c179e"
             ],
             [
              0.4444444444444444,
              "#bd3786"
             ],
             [
              0.5555555555555556,
              "#d8576b"
             ],
             [
              0.6666666666666666,
              "#ed7953"
             ],
             [
              0.7777777777777778,
              "#fb9f3a"
             ],
             [
              0.8888888888888888,
              "#fdca26"
             ],
             [
              1,
              "#f0f921"
             ]
            ],
            "type": "histogram2dcontour"
           }
          ],
          "mesh3d": [
           {
            "colorbar": {
             "outlinewidth": 0,
             "ticks": ""
            },
            "type": "mesh3d"
           }
          ],
          "parcoords": [
           {
            "line": {
             "colorbar": {
              "outlinewidth": 0,
              "ticks": ""
             }
            },
            "type": "parcoords"
           }
          ],
          "pie": [
           {
            "automargin": true,
            "type": "pie"
           }
          ],
          "scatter": [
           {
            "marker": {
             "line": {
              "color": "#283442"
             }
            },
            "type": "scatter"
           }
          ],
          "scatter3d": [
           {
            "line": {
             "colorbar": {
              "outlinewidth": 0,
              "ticks": ""
             }
            },
            "marker": {
             "colorbar": {
              "outlinewidth": 0,
              "ticks": ""
             }
            },
            "type": "scatter3d"
           }
          ],
          "scattercarpet": [
           {
            "marker": {
             "colorbar": {
              "outlinewidth": 0,
              "ticks": ""
             }
            },
            "type": "scattercarpet"
           }
          ],
          "scattergeo": [
           {
            "marker": {
             "colorbar": {
              "outlinewidth": 0,
              "ticks": ""
             }
            },
            "type": "scattergeo"
           }
          ],
          "scattergl": [
           {
            "marker": {
             "line": {
              "color": "#283442"
             }
            },
            "type": "scattergl"
           }
          ],
          "scattermapbox": [
           {
            "marker": {
             "colorbar": {
              "outlinewidth": 0,
              "ticks": ""
             }
            },
            "type": "scattermapbox"
           }
          ],
          "scatterpolar": [
           {
            "marker": {
             "colorbar": {
              "outlinewidth": 0,
              "ticks": ""
             }
            },
            "type": "scatterpolar"
           }
          ],
          "scatterpolargl": [
           {
            "marker": {
             "colorbar": {
              "outlinewidth": 0,
              "ticks": ""
             }
            },
            "type": "scatterpolargl"
           }
          ],
          "scatterternary": [
           {
            "marker": {
             "colorbar": {
              "outlinewidth": 0,
              "ticks": ""
             }
            },
            "type": "scatterternary"
           }
          ],
          "surface": [
           {
            "colorbar": {
             "outlinewidth": 0,
             "ticks": ""
            },
            "colorscale": [
             [
              0,
              "#0d0887"
             ],
             [
              0.1111111111111111,
              "#46039f"
             ],
             [
              0.2222222222222222,
              "#7201a8"
             ],
             [
              0.3333333333333333,
              "#9c179e"
             ],
             [
              0.4444444444444444,
              "#bd3786"
             ],
             [
              0.5555555555555556,
              "#d8576b"
             ],
             [
              0.6666666666666666,
              "#ed7953"
             ],
             [
              0.7777777777777778,
              "#fb9f3a"
             ],
             [
              0.8888888888888888,
              "#fdca26"
             ],
             [
              1,
              "#f0f921"
             ]
            ],
            "type": "surface"
           }
          ],
          "table": [
           {
            "cells": {
             "fill": {
              "color": "#506784"
             },
             "line": {
              "color": "rgb(17,17,17)"
             }
            },
            "header": {
             "fill": {
              "color": "#2a3f5f"
             },
             "line": {
              "color": "rgb(17,17,17)"
             }
            },
            "type": "table"
           }
          ]
         },
         "layout": {
          "annotationdefaults": {
           "arrowcolor": "#f2f5fa",
           "arrowhead": 0,
           "arrowwidth": 1
          },
          "autotypenumbers": "strict",
          "coloraxis": {
           "colorbar": {
            "outlinewidth": 0,
            "ticks": ""
           }
          },
          "colorscale": {
           "diverging": [
            [
             0,
             "#8e0152"
            ],
            [
             0.1,
             "#c51b7d"
            ],
            [
             0.2,
             "#de77ae"
            ],
            [
             0.3,
             "#f1b6da"
            ],
            [
             0.4,
             "#fde0ef"
            ],
            [
             0.5,
             "#f7f7f7"
            ],
            [
             0.6,
             "#e6f5d0"
            ],
            [
             0.7,
             "#b8e186"
            ],
            [
             0.8,
             "#7fbc41"
            ],
            [
             0.9,
             "#4d9221"
            ],
            [
             1,
             "#276419"
            ]
           ],
           "sequential": [
            [
             0,
             "#0d0887"
            ],
            [
             0.1111111111111111,
             "#46039f"
            ],
            [
             0.2222222222222222,
             "#7201a8"
            ],
            [
             0.3333333333333333,
             "#9c179e"
            ],
            [
             0.4444444444444444,
             "#bd3786"
            ],
            [
             0.5555555555555556,
             "#d8576b"
            ],
            [
             0.6666666666666666,
             "#ed7953"
            ],
            [
             0.7777777777777778,
             "#fb9f3a"
            ],
            [
             0.8888888888888888,
             "#fdca26"
            ],
            [
             1,
             "#f0f921"
            ]
           ],
           "sequentialminus": [
            [
             0,
             "#0d0887"
            ],
            [
             0.1111111111111111,
             "#46039f"
            ],
            [
             0.2222222222222222,
             "#7201a8"
            ],
            [
             0.3333333333333333,
             "#9c179e"
            ],
            [
             0.4444444444444444,
             "#bd3786"
            ],
            [
             0.5555555555555556,
             "#d8576b"
            ],
            [
             0.6666666666666666,
             "#ed7953"
            ],
            [
             0.7777777777777778,
             "#fb9f3a"
            ],
            [
             0.8888888888888888,
             "#fdca26"
            ],
            [
             1,
             "#f0f921"
            ]
           ]
          },
          "colorway": [
           "#636efa",
           "#EF553B",
           "#00cc96",
           "#ab63fa",
           "#FFA15A",
           "#19d3f3",
           "#FF6692",
           "#B6E880",
           "#FF97FF",
           "#FECB52"
          ],
          "font": {
           "color": "#f2f5fa"
          },
          "geo": {
           "bgcolor": "rgb(17,17,17)",
           "lakecolor": "rgb(17,17,17)",
           "landcolor": "rgb(17,17,17)",
           "showlakes": true,
           "showland": true,
           "subunitcolor": "#506784"
          },
          "hoverlabel": {
           "align": "left"
          },
          "hovermode": "closest",
          "mapbox": {
           "style": "dark"
          },
          "paper_bgcolor": "rgb(17,17,17)",
          "plot_bgcolor": "rgb(17,17,17)",
          "polar": {
           "angularaxis": {
            "gridcolor": "#506784",
            "linecolor": "#506784",
            "ticks": ""
           },
           "bgcolor": "rgb(17,17,17)",
           "radialaxis": {
            "gridcolor": "#506784",
            "linecolor": "#506784",
            "ticks": ""
           }
          },
          "scene": {
           "xaxis": {
            "backgroundcolor": "rgb(17,17,17)",
            "gridcolor": "#506784",
            "gridwidth": 2,
            "linecolor": "#506784",
            "showbackground": true,
            "ticks": "",
            "zerolinecolor": "#C8D4E3"
           },
           "yaxis": {
            "backgroundcolor": "rgb(17,17,17)",
            "gridcolor": "#506784",
            "gridwidth": 2,
            "linecolor": "#506784",
            "showbackground": true,
            "ticks": "",
            "zerolinecolor": "#C8D4E3"
           },
           "zaxis": {
            "backgroundcolor": "rgb(17,17,17)",
            "gridcolor": "#506784",
            "gridwidth": 2,
            "linecolor": "#506784",
            "showbackground": true,
            "ticks": "",
            "zerolinecolor": "#C8D4E3"
           }
          },
          "shapedefaults": {
           "line": {
            "color": "#f2f5fa"
           }
          },
          "sliderdefaults": {
           "bgcolor": "#C8D4E3",
           "bordercolor": "rgb(17,17,17)",
           "borderwidth": 1,
           "tickwidth": 0
          },
          "ternary": {
           "aaxis": {
            "gridcolor": "#506784",
            "linecolor": "#506784",
            "ticks": ""
           },
           "baxis": {
            "gridcolor": "#506784",
            "linecolor": "#506784",
            "ticks": ""
           },
           "bgcolor": "rgb(17,17,17)",
           "caxis": {
            "gridcolor": "#506784",
            "linecolor": "#506784",
            "ticks": ""
           }
          },
          "title": {
           "x": 0.05
          },
          "updatemenudefaults": {
           "bgcolor": "#506784",
           "borderwidth": 0
          },
          "xaxis": {
           "automargin": true,
           "gridcolor": "#283442",
           "linecolor": "#506784",
           "ticks": "",
           "title": {
            "standoff": 15
           },
           "zerolinecolor": "#283442",
           "zerolinewidth": 2
          },
          "yaxis": {
           "automargin": true,
           "gridcolor": "#283442",
           "linecolor": "#506784",
           "ticks": "",
           "title": {
            "standoff": 15
           },
           "zerolinecolor": "#283442",
           "zerolinewidth": 2
          }
         }
        },
        "title": {
         "text": "Emociones totales durante cada discurso | bloque: bloque_de_seguridad"
        },
        "xaxis": {
         "anchor": "y",
         "domain": [
          0,
          1
         ],
         "title": {
          "text": "label"
         }
        },
        "yaxis": {
         "anchor": "x",
         "domain": [
          0,
          1
         ],
         "title": {
          "text": "value"
         }
        }
       }
      }
     },
     "metadata": {},
     "output_type": "display_data"
    }
   ],
   "source": [
    "###  DOCS: Tratamiento de la data  ###\n",
    "\n",
    "# 1. Abrimos el archivo\n",
    "# 2. Sumamos los scores de cada emocion detectada en cada línea del discruso\n",
    "# 3. Normalizamos los scores en función de la cantidad de línea\n",
    "# 4. Aplicar un filtro para quedarnos con las emociones más relevantes (para no tener 28 columnas)\n",
    "#  de las 28 emociones, nos quedamos con las 5 más relevantes\n",
    "# 5. Visualización de cada candidato por bloque -> armar un dataset -> reemplazar el score por la label (o el score representa la altura de la barra)\n",
    "\n",
    "\n",
    "\n",
    "df_visualizacion = pd.DataFrame()\n",
    "\n",
    "for nombre_participacion in participacion.keys():\n",
    "\n",
    "# nombre_participacion = list(participacion.keys())[1]\n",
    "    df = participacion[nombre_participacion]\n",
    "    nombre_participacion = \"_\".join(nombre_participacion.split(\"_\")[:-1])\n",
    "    score_total = df.sum(axis=1).sum()\n",
    "    df_promedio = (df.sum(axis=1) / score_total * 100)\n",
    "    df_promedio = df_promedio.to_frame()\n",
    "    df_promedio.columns = [nombre_participacion]\n",
    "    df_visualizacion = pd.concat([df_visualizacion, df_promedio], axis=1)\n",
    "\n",
    "# df_visualizacion.reset_index().plot(kind=\"bar\")\n",
    "\n",
    "visual_kwargs = {\"template\": \"plotly_dark\", \"title\": f\"Emociones totales durante cada discurso | bloque: {bloque}\"}\n",
    "df_visualizacion.plot(kind=\"bar\", **visual_kwargs)#, hue=\"index\", title=\"Frecuencia de emociones en el corpus\")\n",
    "\n"
   ]
  },
  {
   "cell_type": "code",
   "execution_count": 15,
   "metadata": {},
   "outputs": [
    {
     "name": "stdout",
     "output_type": "stream",
     "text": [
      "Priorizando candidato: 07_Bregman_2\n"
     ]
    },
    {
     "data": {
      "application/vnd.plotly.v1+json": {
       "config": {
        "plotlyServerURL": "https://plotly.com"
       },
       "data": [
        {
         "alignmentgroup": "True",
         "hovertemplate": "label=approval<br>value=%{x}<br>index=%{y}<extra></extra>",
         "legendgroup": "approval",
         "marker": {
          "color": "#636efa",
          "pattern": {
           "shape": ""
          }
         },
         "name": "approval",
         "offsetgroup": "approval",
         "orientation": "h",
         "showlegend": true,
         "textposition": "auto",
         "type": "bar",
         "x": [
          5.917380316005746,
          6.328126562531251,
          6.287085805720381,
          4.7788112144547785,
          6.645669816194237,
          5.542556595472362,
          6.719110674077716,
          5.617415655420722,
          6.366636663666365,
          5.8458135786637815,
          5.961513735910511,
          5.6755675567556745,
          5.8797060146992655,
          8.352004481075458
         ],
         "xaxis": "x",
         "y": [
          "06_Bullrich_2",
          "07_Bregman_2",
          "08_Schiaretti_2",
          "09_Milei_2",
          "10_Massa_2",
          "11_Schiaretti_3",
          "12_Massa_3",
          "13_Bullrich_3",
          "14_Massa_4",
          "15_Bregman_3",
          "16_Milei_3",
          "17_Bullrich_4",
          "18_Schiaretti_4",
          "19_Milei_4"
         ],
         "yaxis": "y"
        },
        {
         "alignmentgroup": "True",
         "hovertemplate": "label=caring<br>value=%{x}<br>index=%{y}<extra></extra>",
         "legendgroup": "caring",
         "marker": {
          "color": "#EF553B",
          "pattern": {
           "shape": ""
          }
         },
         "name": "caring",
         "offsetgroup": "caring",
         "orientation": "h",
         "showlegend": true,
         "textposition": "auto",
         "type": "bar",
         "x": [
          5.605556464662993,
          5.794115882317646,
          5.515367691179413,
          4.67046704670467,
          6.354046892966054,
          5.383569314454844,
          5.9624503129140605,
          5.874116548873182,
          5.9685968596859675,
          5.979341419512712,
          6.215803082901184,
          5.635563556355634,
          5.959702014899255,
          6.441545971033047
         ],
         "xaxis": "x",
         "y": [
          "06_Bullrich_2",
          "07_Bregman_2",
          "08_Schiaretti_2",
          "09_Milei_2",
          "10_Massa_2",
          "11_Schiaretti_3",
          "12_Massa_3",
          "13_Bullrich_3",
          "14_Massa_4",
          "15_Bregman_3",
          "16_Milei_3",
          "17_Bullrich_4",
          "18_Schiaretti_4",
          "19_Milei_4"
         ],
         "yaxis": "y"
        },
        {
         "alignmentgroup": "True",
         "hovertemplate": "label=realization<br>value=%{x}<br>index=%{y}<extra></extra>",
         "legendgroup": "realization",
         "marker": {
          "color": "#00cc96",
          "pattern": {
           "shape": ""
          }
         },
         "name": "realization",
         "offsetgroup": "realization",
         "orientation": "h",
         "showlegend": true,
         "textposition": "auto",
         "type": "bar",
         "x": [
          5.4510082001490945,
          5.490109802196045,
          6.230415361024067,
          4.873820715404873,
          6.452365478511555,
          5.969522438204943,
          6.071616069866086,
          5.610748099746632,
          5.872587258725872,
          6.804625827931439,
          6.244374919641708,
          7.926625995932926,
          5.144742762861856,
          5.2032487797071285
         ],
         "xaxis": "x",
         "y": [
          "06_Bullrich_2",
          "07_Bregman_2",
          "08_Schiaretti_2",
          "09_Milei_2",
          "10_Massa_2",
          "11_Schiaretti_3",
          "12_Massa_3",
          "13_Bullrich_3",
          "14_Massa_4",
          "15_Bregman_3",
          "16_Milei_3",
          "17_Bullrich_4",
          "18_Schiaretti_4",
          "19_Milei_4"
         ],
         "yaxis": "y"
        },
        {
         "alignmentgroup": "True",
         "hovertemplate": "label=gratitude<br>value=%{x}<br>index=%{y}<extra></extra>",
         "legendgroup": "gratitude",
         "marker": {
          "color": "#ab63fa",
          "pattern": {
           "shape": ""
          }
         },
         "name": "gratitude",
         "offsetgroup": "gratitude",
         "orientation": "h",
         "showlegend": true,
         "textposition": "auto",
         "type": "bar",
         "x": [
          3.6382479681448747,
          5.198103962079242,
          3.5069004600306686,
          3.365336533653365,
          4.65096902131347,
          3.081753459723222,
          4.017466521112325,
          2.837044939325243,
          5.306530653065306,
          3.870542699497653,
          3.010043000614294,
          3.603693702703604,
          2.8898555072246386,
          6.039449467872289
         ],
         "xaxis": "x",
         "y": [
          "06_Bullrich_2",
          "07_Bregman_2",
          "08_Schiaretti_2",
          "09_Milei_2",
          "10_Massa_2",
          "11_Schiaretti_3",
          "12_Massa_3",
          "13_Bullrich_3",
          "14_Massa_4",
          "15_Bregman_3",
          "16_Milei_3",
          "17_Bullrich_4",
          "18_Schiaretti_4",
          "19_Milei_4"
         ],
         "yaxis": "y"
        },
        {
         "alignmentgroup": "True",
         "hovertemplate": "label=neutral<br>value=%{x}<br>index=%{y}<extra></extra>",
         "legendgroup": "neutral",
         "marker": {
          "color": "#FFA15A",
          "pattern": {
           "shape": ""
          }
         },
         "name": "neutral",
         "offsetgroup": "neutral",
         "orientation": "h",
         "showlegend": true,
         "textposition": "auto",
         "type": "bar",
         "x": [
          5.904652811869306,
          4.93609872197444,
          6.607107140476032,
          6.123945727906122,
          5.270876035261377,
          6.998440124790016,
          6.2532812226564785,
          7.531004133884517,
          6.986698669866986,
          6.026987917789204,
          6.697238531979028,
          6.835683568356835,
          6.694665266736664,
          6.413539249419861
         ],
         "xaxis": "x",
         "y": [
          "06_Bullrich_2",
          "07_Bregman_2",
          "08_Schiaretti_2",
          "09_Milei_2",
          "10_Massa_2",
          "11_Schiaretti_3",
          "12_Massa_3",
          "13_Bullrich_3",
          "14_Massa_4",
          "15_Bregman_3",
          "16_Milei_3",
          "17_Bullrich_4",
          "18_Schiaretti_4",
          "19_Milei_4"
         ],
         "yaxis": "y"
        },
        {
         "alignmentgroup": "True",
         "hovertemplate": "label=excitement<br>value=%{x}<br>index=%{y}<extra></extra>",
         "legendgroup": "excitement",
         "marker": {
          "color": "#19d3f3",
          "pattern": {
           "shape": ""
          }
         },
         "name": "excitement",
         "offsetgroup": "excitement",
         "orientation": "h",
         "showlegend": true,
         "textposition": "auto",
         "type": "bar",
         "x": [
          4.228258695612648,
          4.88609772195444,
          4.226948463230882,
          3.5236857019035237,
          4.111050009165291,
          3.8036957043436512,
          4.1216323197306695,
          3.440458727830377,
          2.332233223322332,
          3.5164292184797836,
          3.5271932456177932,
          3.206987365403206,
          4.519774011299435,
          3.3107945907017675
         ],
         "xaxis": "x",
         "y": [
          "06_Bullrich_2",
          "07_Bregman_2",
          "08_Schiaretti_2",
          "09_Milei_2",
          "10_Massa_2",
          "11_Schiaretti_3",
          "12_Massa_3",
          "13_Bullrich_3",
          "14_Massa_4",
          "15_Bregman_3",
          "16_Milei_3",
          "17_Bullrich_4",
          "18_Schiaretti_4",
          "19_Milei_4"
         ],
         "yaxis": "y"
        },
        {
         "alignmentgroup": "True",
         "hovertemplate": "label=curiosity<br>value=%{x}<br>index=%{y}<extra></extra>",
         "legendgroup": "curiosity",
         "marker": {
          "color": "#FF6692",
          "pattern": {
           "shape": ""
          }
         },
         "name": "curiosity",
         "offsetgroup": "curiosity",
         "orientation": "h",
         "showlegend": true,
         "textposition": "auto",
         "type": "bar",
         "x": [
          4.938271604938271,
          4.720094401888039,
          4.793652910194012,
          5.14051405140514,
          5.19588728357413,
          4.558635309175267,
          4.800793326722277,
          4.693959194559274,
          3.8163816381638163,
          4.644063011023399,
          5.031500450006428,
          4.606293962729605,
          5.909704514774262,
          4.447067296151075
         ],
         "xaxis": "x",
         "y": [
          "06_Bullrich_2",
          "07_Bregman_2",
          "08_Schiaretti_2",
          "09_Milei_2",
          "10_Massa_2",
          "11_Schiaretti_3",
          "12_Massa_3",
          "13_Bullrich_3",
          "14_Massa_4",
          "15_Bregman_3",
          "16_Milei_3",
          "17_Bullrich_4",
          "18_Schiaretti_4",
          "19_Milei_4"
         ],
         "yaxis": "y"
        },
        {
         "alignmentgroup": "True",
         "hovertemplate": "label=desire<br>value=%{x}<br>index=%{y}<extra></extra>",
         "legendgroup": "desire",
         "marker": {
          "color": "#B6E880",
          "pattern": {
           "shape": ""
          }
         },
         "name": "desire",
         "offsetgroup": "desire",
         "orientation": "h",
         "showlegend": true,
         "textposition": "auto",
         "type": "bar",
         "x": [
          4.14098438153421,
          4.186083721674434,
          4.338622574838322,
          3.8820548721538817,
          4.712626439367428,
          4.118670506359492,
          4.35496370863576,
          3.8205094012535,
          3.4023402340234017,
          4.121716215103353,
          4.39577708252975,
          3.6611994532786607,
          4.599770011499425,
          3.630871409138192
         ],
         "xaxis": "x",
         "y": [
          "06_Bullrich_2",
          "07_Bregman_2",
          "08_Schiaretti_2",
          "09_Milei_2",
          "10_Massa_2",
          "11_Schiaretti_3",
          "12_Massa_3",
          "13_Bullrich_3",
          "14_Massa_4",
          "15_Bregman_3",
          "16_Milei_3",
          "17_Bullrich_4",
          "18_Schiaretti_4",
          "19_Milei_4"
         ],
         "yaxis": "y"
        },
        {
         "alignmentgroup": "True",
         "hovertemplate": "label=confusion<br>value=%{x}<br>index=%{y}<extra></extra>",
         "legendgroup": "confusion",
         "marker": {
          "color": "#FF97FF",
          "pattern": {
           "shape": ""
          }
         },
         "name": "confusion",
         "offsetgroup": "confusion",
         "orientation": "h",
         "showlegend": true,
         "textposition": "auto",
         "type": "bar",
         "x": [
          4.426444117165766,
          4.148082961659234,
          3.8902593506233747,
          6.13061306130613,
          3.9577396723824756,
          4.35465162786977,
          3.615803201639986,
          5.600746766235496,
          4.962496249624962,
          3.60936930153763,
          4.092915613080186,
          3.7778777877787775,
          6.094695265236739,
          4.048971753220773
         ],
         "xaxis": "x",
         "y": [
          "06_Bullrich_2",
          "07_Bregman_2",
          "08_Schiaretti_2",
          "09_Milei_2",
          "10_Massa_2",
          "11_Schiaretti_3",
          "12_Massa_3",
          "13_Bullrich_3",
          "14_Massa_4",
          "15_Bregman_3",
          "16_Milei_3",
          "17_Bullrich_4",
          "18_Schiaretti_4",
          "19_Milei_4"
         ],
         "yaxis": "y"
        },
        {
         "alignmentgroup": "True",
         "hovertemplate": "label=admiration<br>value=%{x}<br>index=%{y}<extra></extra>",
         "legendgroup": "admiration",
         "marker": {
          "color": "#FECB52",
          "pattern": {
           "shape": ""
          }
         },
         "name": "admiration",
         "offsetgroup": "admiration",
         "orientation": "h",
         "showlegend": true,
         "textposition": "auto",
         "type": "bar",
         "x": [
          3.084601538209785,
          3.870077401548032,
          3.0685379025268347,
          2.7319398606527314,
          3.2395140728890666,
          2.5927925765938724,
          3.2574728543928795,
          3.0270702760368047,
          4.034403440344034,
          3.348195903577605,
          2.6500378576836803,
          3.021135446878021,
          2.529873506324684,
          3.900936224693926
         ],
         "xaxis": "x",
         "y": [
          "06_Bullrich_2",
          "07_Bregman_2",
          "08_Schiaretti_2",
          "09_Milei_2",
          "10_Massa_2",
          "11_Schiaretti_3",
          "12_Massa_3",
          "13_Bullrich_3",
          "14_Massa_4",
          "15_Bregman_3",
          "16_Milei_3",
          "17_Bullrich_4",
          "18_Schiaretti_4",
          "19_Milei_4"
         ],
         "yaxis": "y"
        }
       ],
       "layout": {
        "barmode": "relative",
        "legend": {
         "title": {
          "text": "label"
         },
         "tracegroupgap": 0
        },
        "template": {
         "data": {
          "bar": [
           {
            "error_x": {
             "color": "#f2f5fa"
            },
            "error_y": {
             "color": "#f2f5fa"
            },
            "marker": {
             "line": {
              "color": "rgb(17,17,17)",
              "width": 0.5
             },
             "pattern": {
              "fillmode": "overlay",
              "size": 10,
              "solidity": 0.2
             }
            },
            "type": "bar"
           }
          ],
          "barpolar": [
           {
            "marker": {
             "line": {
              "color": "rgb(17,17,17)",
              "width": 0.5
             },
             "pattern": {
              "fillmode": "overlay",
              "size": 10,
              "solidity": 0.2
             }
            },
            "type": "barpolar"
           }
          ],
          "carpet": [
           {
            "aaxis": {
             "endlinecolor": "#A2B1C6",
             "gridcolor": "#506784",
             "linecolor": "#506784",
             "minorgridcolor": "#506784",
             "startlinecolor": "#A2B1C6"
            },
            "baxis": {
             "endlinecolor": "#A2B1C6",
             "gridcolor": "#506784",
             "linecolor": "#506784",
             "minorgridcolor": "#506784",
             "startlinecolor": "#A2B1C6"
            },
            "type": "carpet"
           }
          ],
          "choropleth": [
           {
            "colorbar": {
             "outlinewidth": 0,
             "ticks": ""
            },
            "type": "choropleth"
           }
          ],
          "contour": [
           {
            "colorbar": {
             "outlinewidth": 0,
             "ticks": ""
            },
            "colorscale": [
             [
              0,
              "#0d0887"
             ],
             [
              0.1111111111111111,
              "#46039f"
             ],
             [
              0.2222222222222222,
              "#7201a8"
             ],
             [
              0.3333333333333333,
              "#9c179e"
             ],
             [
              0.4444444444444444,
              "#bd3786"
             ],
             [
              0.5555555555555556,
              "#d8576b"
             ],
             [
              0.6666666666666666,
              "#ed7953"
             ],
             [
              0.7777777777777778,
              "#fb9f3a"
             ],
             [
              0.8888888888888888,
              "#fdca26"
             ],
             [
              1,
              "#f0f921"
             ]
            ],
            "type": "contour"
           }
          ],
          "contourcarpet": [
           {
            "colorbar": {
             "outlinewidth": 0,
             "ticks": ""
            },
            "type": "contourcarpet"
           }
          ],
          "heatmap": [
           {
            "colorbar": {
             "outlinewidth": 0,
             "ticks": ""
            },
            "colorscale": [
             [
              0,
              "#0d0887"
             ],
             [
              0.1111111111111111,
              "#46039f"
             ],
             [
              0.2222222222222222,
              "#7201a8"
             ],
             [
              0.3333333333333333,
              "#9c179e"
             ],
             [
              0.4444444444444444,
              "#bd3786"
             ],
             [
              0.5555555555555556,
              "#d8576b"
             ],
             [
              0.6666666666666666,
              "#ed7953"
             ],
             [
              0.7777777777777778,
              "#fb9f3a"
             ],
             [
              0.8888888888888888,
              "#fdca26"
             ],
             [
              1,
              "#f0f921"
             ]
            ],
            "type": "heatmap"
           }
          ],
          "heatmapgl": [
           {
            "colorbar": {
             "outlinewidth": 0,
             "ticks": ""
            },
            "colorscale": [
             [
              0,
              "#0d0887"
             ],
             [
              0.1111111111111111,
              "#46039f"
             ],
             [
              0.2222222222222222,
              "#7201a8"
             ],
             [
              0.3333333333333333,
              "#9c179e"
             ],
             [
              0.4444444444444444,
              "#bd3786"
             ],
             [
              0.5555555555555556,
              "#d8576b"
             ],
             [
              0.6666666666666666,
              "#ed7953"
             ],
             [
              0.7777777777777778,
              "#fb9f3a"
             ],
             [
              0.8888888888888888,
              "#fdca26"
             ],
             [
              1,
              "#f0f921"
             ]
            ],
            "type": "heatmapgl"
           }
          ],
          "histogram": [
           {
            "marker": {
             "pattern": {
              "fillmode": "overlay",
              "size": 10,
              "solidity": 0.2
             }
            },
            "type": "histogram"
           }
          ],
          "histogram2d": [
           {
            "colorbar": {
             "outlinewidth": 0,
             "ticks": ""
            },
            "colorscale": [
             [
              0,
              "#0d0887"
             ],
             [
              0.1111111111111111,
              "#46039f"
             ],
             [
              0.2222222222222222,
              "#7201a8"
             ],
             [
              0.3333333333333333,
              "#9c179e"
             ],
             [
              0.4444444444444444,
              "#bd3786"
             ],
             [
              0.5555555555555556,
              "#d8576b"
             ],
             [
              0.6666666666666666,
              "#ed7953"
             ],
             [
              0.7777777777777778,
              "#fb9f3a"
             ],
             [
              0.8888888888888888,
              "#fdca26"
             ],
             [
              1,
              "#f0f921"
             ]
            ],
            "type": "histogram2d"
           }
          ],
          "histogram2dcontour": [
           {
            "colorbar": {
             "outlinewidth": 0,
             "ticks": ""
            },
            "colorscale": [
             [
              0,
              "#0d0887"
             ],
             [
              0.1111111111111111,
              "#46039f"
             ],
             [
              0.2222222222222222,
              "#7201a8"
             ],
             [
              0.3333333333333333,
              "#9c179e"
             ],
             [
              0.4444444444444444,
              "#bd3786"
             ],
             [
              0.5555555555555556,
              "#d8576b"
             ],
             [
              0.6666666666666666,
              "#ed7953"
             ],
             [
              0.7777777777777778,
              "#fb9f3a"
             ],
             [
              0.8888888888888888,
              "#fdca26"
             ],
             [
              1,
              "#f0f921"
             ]
            ],
            "type": "histogram2dcontour"
           }
          ],
          "mesh3d": [
           {
            "colorbar": {
             "outlinewidth": 0,
             "ticks": ""
            },
            "type": "mesh3d"
           }
          ],
          "parcoords": [
           {
            "line": {
             "colorbar": {
              "outlinewidth": 0,
              "ticks": ""
             }
            },
            "type": "parcoords"
           }
          ],
          "pie": [
           {
            "automargin": true,
            "type": "pie"
           }
          ],
          "scatter": [
           {
            "marker": {
             "line": {
              "color": "#283442"
             }
            },
            "type": "scatter"
           }
          ],
          "scatter3d": [
           {
            "line": {
             "colorbar": {
              "outlinewidth": 0,
              "ticks": ""
             }
            },
            "marker": {
             "colorbar": {
              "outlinewidth": 0,
              "ticks": ""
             }
            },
            "type": "scatter3d"
           }
          ],
          "scattercarpet": [
           {
            "marker": {
             "colorbar": {
              "outlinewidth": 0,
              "ticks": ""
             }
            },
            "type": "scattercarpet"
           }
          ],
          "scattergeo": [
           {
            "marker": {
             "colorbar": {
              "outlinewidth": 0,
              "ticks": ""
             }
            },
            "type": "scattergeo"
           }
          ],
          "scattergl": [
           {
            "marker": {
             "line": {
              "color": "#283442"
             }
            },
            "type": "scattergl"
           }
          ],
          "scattermapbox": [
           {
            "marker": {
             "colorbar": {
              "outlinewidth": 0,
              "ticks": ""
             }
            },
            "type": "scattermapbox"
           }
          ],
          "scatterpolar": [
           {
            "marker": {
             "colorbar": {
              "outlinewidth": 0,
              "ticks": ""
             }
            },
            "type": "scatterpolar"
           }
          ],
          "scatterpolargl": [
           {
            "marker": {
             "colorbar": {
              "outlinewidth": 0,
              "ticks": ""
             }
            },
            "type": "scatterpolargl"
           }
          ],
          "scatterternary": [
           {
            "marker": {
             "colorbar": {
              "outlinewidth": 0,
              "ticks": ""
             }
            },
            "type": "scatterternary"
           }
          ],
          "surface": [
           {
            "colorbar": {
             "outlinewidth": 0,
             "ticks": ""
            },
            "colorscale": [
             [
              0,
              "#0d0887"
             ],
             [
              0.1111111111111111,
              "#46039f"
             ],
             [
              0.2222222222222222,
              "#7201a8"
             ],
             [
              0.3333333333333333,
              "#9c179e"
             ],
             [
              0.4444444444444444,
              "#bd3786"
             ],
             [
              0.5555555555555556,
              "#d8576b"
             ],
             [
              0.6666666666666666,
              "#ed7953"
             ],
             [
              0.7777777777777778,
              "#fb9f3a"
             ],
             [
              0.8888888888888888,
              "#fdca26"
             ],
             [
              1,
              "#f0f921"
             ]
            ],
            "type": "surface"
           }
          ],
          "table": [
           {
            "cells": {
             "fill": {
              "color": "#506784"
             },
             "line": {
              "color": "rgb(17,17,17)"
             }
            },
            "header": {
             "fill": {
              "color": "#2a3f5f"
             },
             "line": {
              "color": "rgb(17,17,17)"
             }
            },
            "type": "table"
           }
          ]
         },
         "layout": {
          "annotationdefaults": {
           "arrowcolor": "#f2f5fa",
           "arrowhead": 0,
           "arrowwidth": 1
          },
          "autotypenumbers": "strict",
          "coloraxis": {
           "colorbar": {
            "outlinewidth": 0,
            "ticks": ""
           }
          },
          "colorscale": {
           "diverging": [
            [
             0,
             "#8e0152"
            ],
            [
             0.1,
             "#c51b7d"
            ],
            [
             0.2,
             "#de77ae"
            ],
            [
             0.3,
             "#f1b6da"
            ],
            [
             0.4,
             "#fde0ef"
            ],
            [
             0.5,
             "#f7f7f7"
            ],
            [
             0.6,
             "#e6f5d0"
            ],
            [
             0.7,
             "#b8e186"
            ],
            [
             0.8,
             "#7fbc41"
            ],
            [
             0.9,
             "#4d9221"
            ],
            [
             1,
             "#276419"
            ]
           ],
           "sequential": [
            [
             0,
             "#0d0887"
            ],
            [
             0.1111111111111111,
             "#46039f"
            ],
            [
             0.2222222222222222,
             "#7201a8"
            ],
            [
             0.3333333333333333,
             "#9c179e"
            ],
            [
             0.4444444444444444,
             "#bd3786"
            ],
            [
             0.5555555555555556,
             "#d8576b"
            ],
            [
             0.6666666666666666,
             "#ed7953"
            ],
            [
             0.7777777777777778,
             "#fb9f3a"
            ],
            [
             0.8888888888888888,
             "#fdca26"
            ],
            [
             1,
             "#f0f921"
            ]
           ],
           "sequentialminus": [
            [
             0,
             "#0d0887"
            ],
            [
             0.1111111111111111,
             "#46039f"
            ],
            [
             0.2222222222222222,
             "#7201a8"
            ],
            [
             0.3333333333333333,
             "#9c179e"
            ],
            [
             0.4444444444444444,
             "#bd3786"
            ],
            [
             0.5555555555555556,
             "#d8576b"
            ],
            [
             0.6666666666666666,
             "#ed7953"
            ],
            [
             0.7777777777777778,
             "#fb9f3a"
            ],
            [
             0.8888888888888888,
             "#fdca26"
            ],
            [
             1,
             "#f0f921"
            ]
           ]
          },
          "colorway": [
           "#636efa",
           "#EF553B",
           "#00cc96",
           "#ab63fa",
           "#FFA15A",
           "#19d3f3",
           "#FF6692",
           "#B6E880",
           "#FF97FF",
           "#FECB52"
          ],
          "font": {
           "color": "#f2f5fa"
          },
          "geo": {
           "bgcolor": "rgb(17,17,17)",
           "lakecolor": "rgb(17,17,17)",
           "landcolor": "rgb(17,17,17)",
           "showlakes": true,
           "showland": true,
           "subunitcolor": "#506784"
          },
          "hoverlabel": {
           "align": "left"
          },
          "hovermode": "closest",
          "mapbox": {
           "style": "dark"
          },
          "paper_bgcolor": "rgb(17,17,17)",
          "plot_bgcolor": "rgb(17,17,17)",
          "polar": {
           "angularaxis": {
            "gridcolor": "#506784",
            "linecolor": "#506784",
            "ticks": ""
           },
           "bgcolor": "rgb(17,17,17)",
           "radialaxis": {
            "gridcolor": "#506784",
            "linecolor": "#506784",
            "ticks": ""
           }
          },
          "scene": {
           "xaxis": {
            "backgroundcolor": "rgb(17,17,17)",
            "gridcolor": "#506784",
            "gridwidth": 2,
            "linecolor": "#506784",
            "showbackground": true,
            "ticks": "",
            "zerolinecolor": "#C8D4E3"
           },
           "yaxis": {
            "backgroundcolor": "rgb(17,17,17)",
            "gridcolor": "#506784",
            "gridwidth": 2,
            "linecolor": "#506784",
            "showbackground": true,
            "ticks": "",
            "zerolinecolor": "#C8D4E3"
           },
           "zaxis": {
            "backgroundcolor": "rgb(17,17,17)",
            "gridcolor": "#506784",
            "gridwidth": 2,
            "linecolor": "#506784",
            "showbackground": true,
            "ticks": "",
            "zerolinecolor": "#C8D4E3"
           }
          },
          "shapedefaults": {
           "line": {
            "color": "#f2f5fa"
           }
          },
          "sliderdefaults": {
           "bgcolor": "#C8D4E3",
           "bordercolor": "rgb(17,17,17)",
           "borderwidth": 1,
           "tickwidth": 0
          },
          "ternary": {
           "aaxis": {
            "gridcolor": "#506784",
            "linecolor": "#506784",
            "ticks": ""
           },
           "baxis": {
            "gridcolor": "#506784",
            "linecolor": "#506784",
            "ticks": ""
           },
           "bgcolor": "rgb(17,17,17)",
           "caxis": {
            "gridcolor": "#506784",
            "linecolor": "#506784",
            "ticks": ""
           }
          },
          "title": {
           "x": 0.05
          },
          "updatemenudefaults": {
           "bgcolor": "#506784",
           "borderwidth": 0
          },
          "xaxis": {
           "automargin": true,
           "gridcolor": "#283442",
           "linecolor": "#506784",
           "ticks": "",
           "title": {
            "standoff": 15
           },
           "zerolinecolor": "#283442",
           "zerolinewidth": 2
          },
          "yaxis": {
           "automargin": true,
           "gridcolor": "#283442",
           "linecolor": "#506784",
           "ticks": "",
           "title": {
            "standoff": 15
           },
           "zerolinecolor": "#283442",
           "zerolinewidth": 2
          }
         }
        },
        "title": {
         "text": "Emociones predominantes durante cada discurso | bloque: bloque_de_seguridad"
        },
        "xaxis": {
         "anchor": "y",
         "domain": [
          0,
          1
         ],
         "title": {
          "text": "value"
         }
        },
        "yaxis": {
         "anchor": "x",
         "domain": [
          0,
          1
         ],
         "title": {
          "text": "index"
         }
        }
       }
      }
     },
     "metadata": {},
     "output_type": "display_data"
    }
   ],
   "source": [
    "## Acá aplicamos un filtro de las 5 emociones más relevantes\n",
    "\n",
    "priorizando_candidato = 1\n",
    "candidato_priorizado = list(df_visualizacion.columns)[priorizando_candidato]\n",
    "print(f\"Priorizando candidato: {candidato_priorizado}\")\n",
    "df_aux = df_visualizacion.sort_values(by=candidato_priorizado, ascending=False).T\n",
    "muestra = df_aux.iloc[:,:10]#.plot(kind=\"bar\", x=df_aux.columns, title=\"Frecuencia de emociones en el corpus\", template=\"plotly_dark\")\n",
    "\n",
    "visual_kwargs = {\"template\": \"plotly_dark\", \"title\": f\"Emociones predominantes durante cada discurso | bloque: {bloque}\"}\n",
    "muestra.plot(kind=\"bar\", x=muestra.columns, **visual_kwargs)"
   ]
  },
  {
   "cell_type": "code",
   "execution_count": 17,
   "metadata": {},
   "outputs": [
    {
     "data": {
      "text/html": [
       "<div>\n",
       "<style scoped>\n",
       "    .dataframe tbody tr th:only-of-type {\n",
       "        vertical-align: middle;\n",
       "    }\n",
       "\n",
       "    .dataframe tbody tr th {\n",
       "        vertical-align: top;\n",
       "    }\n",
       "\n",
       "    .dataframe thead th {\n",
       "        text-align: right;\n",
       "    }\n",
       "</style>\n",
       "<table border=\"1\" class=\"dataframe\">\n",
       "  <thead>\n",
       "    <tr style=\"text-align: right;\">\n",
       "      <th></th>\n",
       "      <th>label</th>\n",
       "      <th>level_1</th>\n",
       "      <th>0</th>\n",
       "    </tr>\n",
       "  </thead>\n",
       "  <tbody>\n",
       "    <tr>\n",
       "      <th>0</th>\n",
       "      <td>neutral</td>\n",
       "      <td>06_Bullrich_2</td>\n",
       "      <td>5.904653</td>\n",
       "    </tr>\n",
       "    <tr>\n",
       "      <th>1</th>\n",
       "      <td>neutral</td>\n",
       "      <td>07_Bregman_2</td>\n",
       "      <td>4.936099</td>\n",
       "    </tr>\n",
       "    <tr>\n",
       "      <th>2</th>\n",
       "      <td>neutral</td>\n",
       "      <td>08_Schiaretti_2</td>\n",
       "      <td>6.607107</td>\n",
       "    </tr>\n",
       "    <tr>\n",
       "      <th>3</th>\n",
       "      <td>neutral</td>\n",
       "      <td>09_Milei_2</td>\n",
       "      <td>6.123946</td>\n",
       "    </tr>\n",
       "    <tr>\n",
       "      <th>4</th>\n",
       "      <td>neutral</td>\n",
       "      <td>10_Massa_2</td>\n",
       "      <td>5.270876</td>\n",
       "    </tr>\n",
       "    <tr>\n",
       "      <th>...</th>\n",
       "      <td>...</td>\n",
       "      <td>...</td>\n",
       "      <td>...</td>\n",
       "    </tr>\n",
       "    <tr>\n",
       "      <th>387</th>\n",
       "      <td>optimism</td>\n",
       "      <td>15_Bregman_3</td>\n",
       "      <td>2.165269</td>\n",
       "    </tr>\n",
       "    <tr>\n",
       "      <th>388</th>\n",
       "      <td>optimism</td>\n",
       "      <td>16_Milei_3</td>\n",
       "      <td>1.904313</td>\n",
       "    </tr>\n",
       "    <tr>\n",
       "      <th>389</th>\n",
       "      <td>optimism</td>\n",
       "      <td>17_Bullrich_4</td>\n",
       "      <td>2.457746</td>\n",
       "    </tr>\n",
       "    <tr>\n",
       "      <th>390</th>\n",
       "      <td>optimism</td>\n",
       "      <td>18_Schiaretti_4</td>\n",
       "      <td>1.684916</td>\n",
       "    </tr>\n",
       "    <tr>\n",
       "      <th>391</th>\n",
       "      <td>optimism</td>\n",
       "      <td>19_Milei_4</td>\n",
       "      <td>2.236537</td>\n",
       "    </tr>\n",
       "  </tbody>\n",
       "</table>\n",
       "<p>392 rows × 3 columns</p>\n",
       "</div>"
      ],
      "text/plain": [
       "        label          level_1         0\n",
       "0     neutral    06_Bullrich_2  5.904653\n",
       "1     neutral     07_Bregman_2  4.936099\n",
       "2     neutral  08_Schiaretti_2  6.607107\n",
       "3     neutral       09_Milei_2  6.123946\n",
       "4     neutral       10_Massa_2  5.270876\n",
       "..        ...              ...       ...\n",
       "387  optimism     15_Bregman_3  2.165269\n",
       "388  optimism       16_Milei_3  1.904313\n",
       "389  optimism    17_Bullrich_4  2.457746\n",
       "390  optimism  18_Schiaretti_4  1.684916\n",
       "391  optimism       19_Milei_4  2.236537\n",
       "\n",
       "[392 rows x 3 columns]"
      ]
     },
     "execution_count": 17,
     "metadata": {},
     "output_type": "execute_result"
    }
   ],
   "source": [
    "# Qué hago con esto?\n",
    "df_visualizacion.stack().to_frame().reset_index()"
   ]
  }
 ],
 "metadata": {
  "kernelspec": {
   "display_name": "venv",
   "language": "python",
   "name": "python3"
  },
  "language_info": {
   "codemirror_mode": {
    "name": "ipython",
    "version": 3
   },
   "file_extension": ".py",
   "mimetype": "text/x-python",
   "name": "python",
   "nbconvert_exporter": "python",
   "pygments_lexer": "ipython3",
   "version": "3.11.4"
  }
 },
 "nbformat": 4,
 "nbformat_minor": 2
}
