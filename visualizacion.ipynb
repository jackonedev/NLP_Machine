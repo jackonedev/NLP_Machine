{
 "cells": [
  {
   "cell_type": "markdown",
   "id": "68257f1d-a7fe-4234-b269-396bc8ba48f7",
   "metadata": {},
   "source": [
    "# Bienvenido a la Jupyter Notebook de ejecución de visualizaciones\n",
    "\n",
    "\n",
    "**(!)WARNING(!)**\n",
    "**Condición necesaria para que el código funcione correctamente:**\n",
    "**El archivo csv de lectura debe estar escrito todo en minúsculas.**"
   ]
  },
  {
   "cell_type": "code",
   "execution_count": 1,
   "id": "ab484094-090d-4b22-b162-4901a2e3008a",
   "metadata": {},
   "outputs": [],
   "source": [
    "# Librerías Nativas de Python\n",
    "import pickle, os\n",
    "\n",
    "# Librerías de terceros\n",
    "import pandas as pd\n",
    "from dotenv import load_dotenv\n",
    "from sklearn.preprocessing import OneHotEncoder\n",
    "# import chart_studio.plotly as py\n",
    "# import chart_studio.tools as tls\n",
    "\n",
    "# Librería RD\n",
    "from tools.feed import data_info\n",
    "\n",
    "load_dotenv()\n",
    "\n",
    "pd.options.plotting.backend = \"plotly\"\n",
    "\n",
    "# USER = os.environ[\"USER_CS\"]\n",
    "# TOKEN = os.environ[\"TOKEN_CS\"]\n",
    "# tls.set_credentials_file(username=USER, api_key=TOKEN)"
   ]
  },
  {
   "cell_type": "code",
   "execution_count": 2,
   "id": "7abb21c3-365b-4e62-ab48-53372877843d",
   "metadata": {},
   "outputs": [],
   "source": [
    "# APP\n",
    "from app.time_series import TimeSeries\n",
    "\n",
    "\n",
    "procesamiento = False\n",
    "if procesamiento:\n",
    "    TimeSeries.main()\n",
    "\n",
    "\n",
    "##  cargar datos en vez de generarlos ya que podriamos haberlo corrido anteriormente\n",
    "else:\n",
    "    with open(\"./app/shared_resources/dfts_melcogatev2_10_20_1.pickle\", \"rb\") as file:\n",
    "        df = pickle.load(file)"
   ]
  },
  {
   "cell_type": "code",
   "execution_count": 3,
   "id": "137d5db8-7803-4b5c-9b19-5ded56bcf030",
   "metadata": {},
   "outputs": [
    {
     "name": "stdout",
     "output_type": "stream",
     "text": [
      "['dfts_melcogatev2_10_20_1.pickle', 'dfts_melcogatev2_10_20_2.pickle', 'dfts_melcogatev2_10_20_3.pickle', 'dfts_melcogatev2_10_20_4.pickle', 'f1.pickle']\n"
     ]
    }
   ],
   "source": [
    "print(os.listdir(\"./app/shared_resources/\"))"
   ]
  },
  {
   "cell_type": "code",
   "execution_count": 4,
   "id": "29f7c9b8-6ae8-408c-b30c-f1a53bb8635f",
   "metadata": {},
   "outputs": [],
   "source": [
    "with open(\"./app/shared_resources/dfts_melcogatev2_10_20_1.pickle\", \"rb\") as file:\n",
    "    df = pickle.load(file)"
   ]
  },
  {
   "cell_type": "code",
   "execution_count": 5,
   "id": "c3d0a077-50ad-494b-b79d-330e2c00c429",
   "metadata": {},
   "outputs": [
    {
     "data": {
      "text/html": [
       "<div>\n",
       "<style scoped>\n",
       "    .dataframe tbody tr th:only-of-type {\n",
       "        vertical-align: middle;\n",
       "    }\n",
       "\n",
       "    .dataframe tbody tr th {\n",
       "        vertical-align: top;\n",
       "    }\n",
       "\n",
       "    .dataframe thead th {\n",
       "        text-align: right;\n",
       "    }\n",
       "</style>\n",
       "<table border=\"1\" class=\"dataframe\">\n",
       "  <thead>\n",
       "    <tr style=\"text-align: right;\">\n",
       "      <th></th>\n",
       "      <th>coordinates</th>\n",
       "      <th>date</th>\n",
       "      <th>description_user</th>\n",
       "      <th>favorite_count</th>\n",
       "      <th>friends_count</th>\n",
       "      <th>host.ip</th>\n",
       "      <th>http.method</th>\n",
       "      <th>http.request.body.bytes</th>\n",
       "      <th>http.request.mime_type</th>\n",
       "      <th>http.version</th>\n",
       "      <th>is_quoted</th>\n",
       "    </tr>\n",
       "  </thead>\n",
       "  <tbody>\n",
       "    <tr>\n",
       "      <th>0</th>\n",
       "      <td>-</td>\n",
       "      <td>Oct 17, 2023 @ 21:00:00.000</td>\n",
       "      <td>vengo de a lla de los 70 \\nya tenía mis 20 y a...</td>\n",
       "      <td>0</td>\n",
       "      <td>1,333</td>\n",
       "      <td>192.168.40.26</td>\n",
       "      <td>POST</td>\n",
       "      <td>54574</td>\n",
       "      <td>application/json</td>\n",
       "      <td>HTTP/1.1</td>\n",
       "      <td>false</td>\n",
       "    </tr>\n",
       "    <tr>\n",
       "      <th>1</th>\n",
       "      <td>-</td>\n",
       "      <td>Oct 17, 2023 @ 21:00:00.000</td>\n",
       "      <td>Músico.\\nEl Peronismo nace del Fascismo de Mus...</td>\n",
       "      <td>0</td>\n",
       "      <td>440</td>\n",
       "      <td>192.168.40.26</td>\n",
       "      <td>POST</td>\n",
       "      <td>55914</td>\n",
       "      <td>application/json</td>\n",
       "      <td>HTTP/1.1</td>\n",
       "      <td>false</td>\n",
       "    </tr>\n",
       "  </tbody>\n",
       "</table>\n",
       "</div>"
      ],
      "text/plain": [
       "  coordinates                         date  \\\n",
       "0           -  Oct 17, 2023 @ 21:00:00.000   \n",
       "1           -  Oct 17, 2023 @ 21:00:00.000   \n",
       "\n",
       "                                    description_user favorite_count  \\\n",
       "0  vengo de a lla de los 70 \\nya tenía mis 20 y a...              0   \n",
       "1  Músico.\\nEl Peronismo nace del Fascismo de Mus...              0   \n",
       "\n",
       "  friends_count        host.ip http.method http.request.body.bytes  \\\n",
       "0         1,333  192.168.40.26        POST                   54574   \n",
       "1           440  192.168.40.26        POST                   55914   \n",
       "\n",
       "  http.request.mime_type http.version is_quoted  \n",
       "0       application/json     HTTP/1.1     false  \n",
       "1       application/json     HTTP/1.1     false  "
      ]
     },
     "execution_count": 5,
     "metadata": {},
     "output_type": "execute_result"
    }
   ],
   "source": [
    "df.iloc[:,9:20].head(2)"
   ]
  },
  {
   "cell_type": "markdown",
   "id": "60f8b624-15b6-47d4-9416-44441f818276",
   "metadata": {},
   "source": [
    "# Feature Selection\n",
    "\n",
    "#### Features para el análisis de contexto\n",
    "\n",
    "Cuando se quiere identificar qué es lo que está acontenciendo en determinado período de tiempo.\n",
    "<br />\n",
    "<center><b>\n",
    "\n",
    "```\n",
    "[datetime, content, token, username, usuarios_mencionados, hashtags, date_str, time_str, category]\n",
    "\n",
    "[datetime, content, len(usuario_mencionado), len(hastags), spark_emotion, spark_sentiment, category]\n",
    "```\n",
    "\n",
    "</b></center>\n",
    "<br />\n",
    "\n",
    "#### Features para análisis de las conversaciones\n",
    "\n",
    "Cuando se quiere identificar el fuerte de las conversaciones alrededor de un perfil determinado, es necesario conocer las fuentes que participan.\n",
    "\n",
    "<br />\n",
    "<center><b>\n",
    "\n",
    "```\n",
    "\n",
    "\n",
    "[quote_count, reach, replay_count, retweet_count, rt_like_count, rt_quote_count, rt_reply_count, rt_retweet_count, rt_text]\n",
    "\n",
    "[category, type, author,  source, description_user, [favorite_count, friends_count, user_followers], [is_quoted, is_reply, is_retweet]]\n",
    " \n",
    "```\n",
    "\n",
    "</b></center>\n",
    "<br />\n",
    "\n",
    " "
   ]
  },
  {
   "cell_type": "code",
   "execution_count": 6,
   "id": "5b48609e-e935-4e80-ab81-02cd760caa5b",
   "metadata": {},
   "outputs": [],
   "source": [
    "## TEST 1\n",
    "features = [\"datetime\", \"content\", \"token\", \"usuarios_mencionados\", \"hashtags\", \"username\", \"date_str\", \"time_str\", \"category\"]\n",
    "\n",
    "for feature in features:\n",
    "    if feature not in df.columns:\n",
    "        raise Exception(f\"Faltan features en la data recibida:\\nFeature faltante \\\"{feature}\\\"\")"
   ]
  },
  {
   "cell_type": "code",
   "execution_count": 7,
   "id": "882b53ed-05c4-45d9-8bee-aec39d3eaa39",
   "metadata": {},
   "outputs": [],
   "source": [
    "# Obtenemos features e invertimos el orden del dataset\n",
    "dataset = df.loc[::-1, features]"
   ]
  },
  {
   "cell_type": "code",
   "execution_count": 8,
   "id": "f0d2b0c5-4782-4d5f-b78e-a53ed98b5f89",
   "metadata": {},
   "outputs": [
    {
     "data": {
      "text/html": [
       "<div>\n",
       "<style scoped>\n",
       "    .dataframe tbody tr th:only-of-type {\n",
       "        vertical-align: middle;\n",
       "    }\n",
       "\n",
       "    .dataframe tbody tr th {\n",
       "        vertical-align: top;\n",
       "    }\n",
       "\n",
       "    .dataframe thead th {\n",
       "        text-align: right;\n",
       "    }\n",
       "</style>\n",
       "<table border=\"1\" class=\"dataframe\">\n",
       "  <thead>\n",
       "    <tr style=\"text-align: right;\">\n",
       "      <th></th>\n",
       "      <th>datetime</th>\n",
       "      <th>content</th>\n",
       "      <th>token</th>\n",
       "      <th>usuarios_mencionados</th>\n",
       "      <th>hashtags</th>\n",
       "      <th>username</th>\n",
       "      <th>date_str</th>\n",
       "      <th>time_str</th>\n",
       "      <th>category</th>\n",
       "    </tr>\n",
       "  </thead>\n",
       "  <tbody>\n",
       "    <tr>\n",
       "      <th>7431</th>\n",
       "      <td>2023-10-15 13:17:00</td>\n",
       "      <td>la gran pregunta si estos audios surgieron de ...</td>\n",
       "      <td>[gran, pregunta, audios, surgieron, investigac...</td>\n",
       "      <td>[@marianschw93348, @eligiria, @edufeiok]</td>\n",
       "      <td>NaN</td>\n",
       "      <td>Maria Sil💙⭐⭐⭐</td>\n",
       "      <td>2023-10-15</td>\n",
       "      <td>13:17:00</td>\n",
       "      <td>Twitter</td>\n",
       "    </tr>\n",
       "    <tr>\n",
       "      <th>7430</th>\n",
       "      <td>2023-10-15 13:18:00</td>\n",
       "      <td>por qué los votantes trolls de pb no quieren a...</td>\n",
       "      <td>[votantes, trolls, quieren, admitir, chanta, m...</td>\n",
       "      <td>[@robertojg1810]</td>\n",
       "      <td>NaN</td>\n",
       "      <td>◇Carolina Reaper◇</td>\n",
       "      <td>2023-10-15</td>\n",
       "      <td>13:18:00</td>\n",
       "      <td>Twitter</td>\n",
       "    </tr>\n",
       "    <tr>\n",
       "      <th>7429</th>\n",
       "      <td>2023-10-15 13:18:00</td>\n",
       "      <td>julito cómo te va? bullrich se está hundiendo ...</td>\n",
       "      <td>[julito, bullrich, hundiendo, solita, audios, ...</td>\n",
       "      <td>[@jdgoldestein, @patobullrich, @jmilei, @llibe...</td>\n",
       "      <td>NaN</td>\n",
       "      <td>Patricia Mollo</td>\n",
       "      <td>2023-10-15</td>\n",
       "      <td>13:18:00</td>\n",
       "      <td>Twitter</td>\n",
       "    </tr>\n",
       "    <tr>\n",
       "      <th>7428</th>\n",
       "      <td>2023-10-15 13:18:00</td>\n",
       "      <td>los periodistas , no hablan de los audios de m...</td>\n",
       "      <td>[periodistas, hablan, audios, melconia]</td>\n",
       "      <td>[@peponila]</td>\n",
       "      <td>NaN</td>\n",
       "      <td>Ofe</td>\n",
       "      <td>2023-10-15</td>\n",
       "      <td>13:18:00</td>\n",
       "      <td>Twitter</td>\n",
       "    </tr>\n",
       "    <tr>\n",
       "      <th>7427</th>\n",
       "      <td>2023-10-15 13:18:00</td>\n",
       "      <td>le hubiese convenido mas quedarse comiendo piz...</td>\n",
       "      <td>[convenido, quedarse, comiendo, pizza, casa, p...</td>\n",
       "      <td>[@gonziver]</td>\n",
       "      <td>NaN</td>\n",
       "      <td>The Boogeyman</td>\n",
       "      <td>2023-10-15</td>\n",
       "      <td>13:18:00</td>\n",
       "      <td>Twitter</td>\n",
       "    </tr>\n",
       "    <tr>\n",
       "      <th>7426</th>\n",
       "      <td>2023-10-15 13:18:00</td>\n",
       "      <td>no puede ser tan hijo de mil vecinos , cómo va...</td>\n",
       "      <td>[hijo, mil, vecinos, vida, privada, nadie, hab...</td>\n",
       "      <td>[@jonatanviale]</td>\n",
       "      <td>NaN</td>\n",
       "      <td>Bautista V</td>\n",
       "      <td>2023-10-15</td>\n",
       "      <td>13:18:00</td>\n",
       "      <td>Twitter</td>\n",
       "    </tr>\n",
       "    <tr>\n",
       "      <th>7425</th>\n",
       "      <td>2023-10-15 13:18:00</td>\n",
       "      <td>? a que se debe esa conclusión? a lanata le es...</td>\n",
       "      <td>[debe, conclusion, lanata, exigiendo, hable, m...</td>\n",
       "      <td>[@fperisset, @tata68276236]</td>\n",
       "      <td>NaN</td>\n",
       "      <td>Petula ll</td>\n",
       "      <td>2023-10-15</td>\n",
       "      <td>13:18:00</td>\n",
       "      <td>Twitter</td>\n",
       "    </tr>\n",
       "    <tr>\n",
       "      <th>7424</th>\n",
       "      <td>2023-10-15 13:19:00</td>\n",
       "      <td>increíblemente este tuit terminó siendo el res...</td>\n",
       "      <td>[increiblemente, tuit, termino, resumen, expli...</td>\n",
       "      <td>NaN</td>\n",
       "      <td>NaN</td>\n",
       "      <td>Mau Grande</td>\n",
       "      <td>2023-10-15</td>\n",
       "      <td>13:19:00</td>\n",
       "      <td>Twitter</td>\n",
       "    </tr>\n",
       "    <tr>\n",
       "      <th>7423</th>\n",
       "      <td>2023-10-15 13:19:00</td>\n",
       "      <td>yo lo veo como q el votante de larreta ya deci...</td>\n",
       "      <td>[veo, votante, larreta, decidio, voto, jxc, es...</td>\n",
       "      <td>[@esquizonomics]</td>\n",
       "      <td>NaN</td>\n",
       "      <td>odio el rkt</td>\n",
       "      <td>2023-10-15</td>\n",
       "      <td>13:19:00</td>\n",
       "      <td>Twitter</td>\n",
       "    </tr>\n",
       "    <tr>\n",
       "      <th>7422</th>\n",
       "      <td>2023-10-15 13:19:00</td>\n",
       "      <td>mirtha le dio una paliza monumental al viejo v...</td>\n",
       "      <td>[mirtha, dio, paliza, monumental, viejo, verde...</td>\n",
       "      <td>[@amazonaarg]</td>\n",
       "      <td>[#melcogate]</td>\n",
       "      <td>Th3Crak47OMG...</td>\n",
       "      <td>2023-10-15</td>\n",
       "      <td>13:19:00</td>\n",
       "      <td>Twitter</td>\n",
       "    </tr>\n",
       "  </tbody>\n",
       "</table>\n",
       "</div>"
      ],
      "text/plain": [
       "                datetime                                            content  \\\n",
       "7431 2023-10-15 13:17:00  la gran pregunta si estos audios surgieron de ...   \n",
       "7430 2023-10-15 13:18:00  por qué los votantes trolls de pb no quieren a...   \n",
       "7429 2023-10-15 13:18:00  julito cómo te va? bullrich se está hundiendo ...   \n",
       "7428 2023-10-15 13:18:00  los periodistas , no hablan de los audios de m...   \n",
       "7427 2023-10-15 13:18:00  le hubiese convenido mas quedarse comiendo piz...   \n",
       "7426 2023-10-15 13:18:00  no puede ser tan hijo de mil vecinos , cómo va...   \n",
       "7425 2023-10-15 13:18:00  ? a que se debe esa conclusión? a lanata le es...   \n",
       "7424 2023-10-15 13:19:00  increíblemente este tuit terminó siendo el res...   \n",
       "7423 2023-10-15 13:19:00  yo lo veo como q el votante de larreta ya deci...   \n",
       "7422 2023-10-15 13:19:00  mirtha le dio una paliza monumental al viejo v...   \n",
       "\n",
       "                                                  token  \\\n",
       "7431  [gran, pregunta, audios, surgieron, investigac...   \n",
       "7430  [votantes, trolls, quieren, admitir, chanta, m...   \n",
       "7429  [julito, bullrich, hundiendo, solita, audios, ...   \n",
       "7428            [periodistas, hablan, audios, melconia]   \n",
       "7427  [convenido, quedarse, comiendo, pizza, casa, p...   \n",
       "7426  [hijo, mil, vecinos, vida, privada, nadie, hab...   \n",
       "7425  [debe, conclusion, lanata, exigiendo, hable, m...   \n",
       "7424  [increiblemente, tuit, termino, resumen, expli...   \n",
       "7423  [veo, votante, larreta, decidio, voto, jxc, es...   \n",
       "7422  [mirtha, dio, paliza, monumental, viejo, verde...   \n",
       "\n",
       "                                   usuarios_mencionados      hashtags  \\\n",
       "7431           [@marianschw93348, @eligiria, @edufeiok]           NaN   \n",
       "7430                                   [@robertojg1810]           NaN   \n",
       "7429  [@jdgoldestein, @patobullrich, @jmilei, @llibe...           NaN   \n",
       "7428                                        [@peponila]           NaN   \n",
       "7427                                        [@gonziver]           NaN   \n",
       "7426                                    [@jonatanviale]           NaN   \n",
       "7425                        [@fperisset, @tata68276236]           NaN   \n",
       "7424                                                NaN           NaN   \n",
       "7423                                   [@esquizonomics]           NaN   \n",
       "7422                                      [@amazonaarg]  [#melcogate]   \n",
       "\n",
       "               username    date_str  time_str category  \n",
       "7431      Maria Sil💙⭐⭐⭐  2023-10-15  13:17:00  Twitter  \n",
       "7430  ◇Carolina Reaper◇  2023-10-15  13:18:00  Twitter  \n",
       "7429     Patricia Mollo  2023-10-15  13:18:00  Twitter  \n",
       "7428                Ofe  2023-10-15  13:18:00  Twitter  \n",
       "7427      The Boogeyman  2023-10-15  13:18:00  Twitter  \n",
       "7426         Bautista V  2023-10-15  13:18:00  Twitter  \n",
       "7425          Petula ll  2023-10-15  13:18:00  Twitter  \n",
       "7424         Mau Grande  2023-10-15  13:19:00  Twitter  \n",
       "7423        odio el rkt  2023-10-15  13:19:00  Twitter  \n",
       "7422    Th3Crak47OMG...  2023-10-15  13:19:00  Twitter  "
      ]
     },
     "execution_count": 8,
     "metadata": {},
     "output_type": "execute_result"
    }
   ],
   "source": [
    "dataset.head(10)"
   ]
  },
  {
   "cell_type": "markdown",
   "id": "fae3e8dd-cdf5-4313-a117-baee0a81e7eb",
   "metadata": {},
   "source": [
    "**Obtención del dataset de procesamiento**\n",
    "\n",
    "**IMPORTANTE**\n",
    "\n",
    "**Cuando trabajamos con series temporales, las primeras filas son los datos más antiguos y las últimas filas son los datos más nuevos.**\n",
    "\n",
    "**Cosa que si nos llegan datos nuevos, se los agregamos al final.**"
   ]
  },
  {
   "cell_type": "code",
   "execution_count": 9,
   "id": "c9e9fc3a-802f-4436-a0ea-30020572ee18",
   "metadata": {},
   "outputs": [],
   "source": [
    "## TEST 2\n",
    "features = [\"datetime\", \"content\", \"spark_emotion\", \"spark_sentiment\"]\n",
    "for feature in features:\n",
    "    if feature not in df.columns:\n",
    "        raise Exception(f\"Faltan features en la data recibida:\\nFeature faltante \\\"{feature}\\\"\")\n",
    "# pendiente: , len(usuario_mencionado), len(hastags)\n",
    "# pendiente: token"
   ]
  },
  {
   "cell_type": "code",
   "execution_count": 10,
   "id": "dd3fe62f-5411-4814-a42c-1c4213a04142",
   "metadata": {},
   "outputs": [
    {
     "data": {
      "text/html": [
       "<div>\n",
       "<style scoped>\n",
       "    .dataframe tbody tr th:only-of-type {\n",
       "        vertical-align: middle;\n",
       "    }\n",
       "\n",
       "    .dataframe tbody tr th {\n",
       "        vertical-align: top;\n",
       "    }\n",
       "\n",
       "    .dataframe thead th {\n",
       "        text-align: right;\n",
       "    }\n",
       "</style>\n",
       "<table border=\"1\" class=\"dataframe\">\n",
       "  <thead>\n",
       "    <tr style=\"text-align: right;\">\n",
       "      <th></th>\n",
       "      <th>datetime</th>\n",
       "      <th>content</th>\n",
       "      <th>spark_emotion</th>\n",
       "      <th>spark_sentiment</th>\n",
       "    </tr>\n",
       "  </thead>\n",
       "  <tbody>\n",
       "    <tr>\n",
       "      <th>7431</th>\n",
       "      <td>2023-10-15 13:17:00</td>\n",
       "      <td>la gran pregunta si estos audios surgieron de ...</td>\n",
       "      <td>None</td>\n",
       "      <td>None</td>\n",
       "    </tr>\n",
       "    <tr>\n",
       "      <th>7430</th>\n",
       "      <td>2023-10-15 13:18:00</td>\n",
       "      <td>por qué los votantes trolls de pb no quieren a...</td>\n",
       "      <td>None</td>\n",
       "      <td>None</td>\n",
       "    </tr>\n",
       "    <tr>\n",
       "      <th>7429</th>\n",
       "      <td>2023-10-15 13:18:00</td>\n",
       "      <td>julito cómo te va? bullrich se está hundiendo ...</td>\n",
       "      <td>None</td>\n",
       "      <td>None</td>\n",
       "    </tr>\n",
       "    <tr>\n",
       "      <th>7428</th>\n",
       "      <td>2023-10-15 13:18:00</td>\n",
       "      <td>los periodistas , no hablan de los audios de m...</td>\n",
       "      <td>None</td>\n",
       "      <td>None</td>\n",
       "    </tr>\n",
       "    <tr>\n",
       "      <th>7427</th>\n",
       "      <td>2023-10-15 13:18:00</td>\n",
       "      <td>le hubiese convenido mas quedarse comiendo piz...</td>\n",
       "      <td>None</td>\n",
       "      <td>None</td>\n",
       "    </tr>\n",
       "    <tr>\n",
       "      <th>...</th>\n",
       "      <td>...</td>\n",
       "      <td>...</td>\n",
       "      <td>...</td>\n",
       "      <td>...</td>\n",
       "    </tr>\n",
       "    <tr>\n",
       "      <th>4</th>\n",
       "      <td>2023-10-18 10:18:00</td>\n",
       "      <td>publico y notorio la complicidad de bullrich c...</td>\n",
       "      <td>None</td>\n",
       "      <td>None</td>\n",
       "    </tr>\n",
       "    <tr>\n",
       "      <th>3</th>\n",
       "      <td>2023-10-18 10:22:00</td>\n",
       "      <td>en serio creés que muchos votos que fueron par...</td>\n",
       "      <td>None</td>\n",
       "      <td>None</td>\n",
       "    </tr>\n",
       "    <tr>\n",
       "      <th>2</th>\n",
       "      <td>2023-10-18 10:22:00</td>\n",
       "      <td>y ni hablar de la complicidad de bullrich con ...</td>\n",
       "      <td>None</td>\n",
       "      <td>None</td>\n",
       "    </tr>\n",
       "    <tr>\n",
       "      <th>1</th>\n",
       "      <td>2023-10-18 10:34:00</td>\n",
       "      <td>jajajajaja más para entre ríos??? más para mee...</td>\n",
       "      <td>None</td>\n",
       "      <td>None</td>\n",
       "    </tr>\n",
       "    <tr>\n",
       "      <th>0</th>\n",
       "      <td>2023-10-18 10:40:00</td>\n",
       "      <td>no vi ninguno en las ramas -q soberano soberan...</td>\n",
       "      <td>None</td>\n",
       "      <td>None</td>\n",
       "    </tr>\n",
       "  </tbody>\n",
       "</table>\n",
       "<p>6916 rows × 4 columns</p>\n",
       "</div>"
      ],
      "text/plain": [
       "                datetime                                            content  \\\n",
       "7431 2023-10-15 13:17:00  la gran pregunta si estos audios surgieron de ...   \n",
       "7430 2023-10-15 13:18:00  por qué los votantes trolls de pb no quieren a...   \n",
       "7429 2023-10-15 13:18:00  julito cómo te va? bullrich se está hundiendo ...   \n",
       "7428 2023-10-15 13:18:00  los periodistas , no hablan de los audios de m...   \n",
       "7427 2023-10-15 13:18:00  le hubiese convenido mas quedarse comiendo piz...   \n",
       "...                  ...                                                ...   \n",
       "4    2023-10-18 10:18:00  publico y notorio la complicidad de bullrich c...   \n",
       "3    2023-10-18 10:22:00  en serio creés que muchos votos que fueron par...   \n",
       "2    2023-10-18 10:22:00  y ni hablar de la complicidad de bullrich con ...   \n",
       "1    2023-10-18 10:34:00  jajajajaja más para entre ríos??? más para mee...   \n",
       "0    2023-10-18 10:40:00  no vi ninguno en las ramas -q soberano soberan...   \n",
       "\n",
       "     spark_emotion spark_sentiment  \n",
       "7431          None            None  \n",
       "7430          None            None  \n",
       "7429          None            None  \n",
       "7428          None            None  \n",
       "7427          None            None  \n",
       "...            ...             ...  \n",
       "4             None            None  \n",
       "3             None            None  \n",
       "2             None            None  \n",
       "1             None            None  \n",
       "0             None            None  \n",
       "\n",
       "[6916 rows x 4 columns]"
      ]
     },
     "execution_count": 10,
     "metadata": {},
     "output_type": "execute_result"
    }
   ],
   "source": [
    "# Seleccionamos features e invertimos el orden del dataset\n",
    "dataset_main = df.loc[::-1, features]\n",
    "\n",
    "dataset_main[\"spark_emotion\"] = [elemento if elemento != '-' else None for elemento in dataset_main.spark_emotion.to_list()]\n",
    "dataset_main[\"spark_sentiment\"] = [elemento if elemento != '-' else None for elemento in dataset_main.spark_sentiment.to_list()]\n",
    "\n",
    "dataset_main"
   ]
  },
  {
   "cell_type": "code",
   "execution_count": 11,
   "id": "91a54764-08c1-4d73-9b18-6197d0d84edc",
   "metadata": {},
   "outputs": [
    {
     "data": {
      "text/html": [
       "<div>\n",
       "<style scoped>\n",
       "    .dataframe tbody tr th:only-of-type {\n",
       "        vertical-align: middle;\n",
       "    }\n",
       "\n",
       "    .dataframe tbody tr th {\n",
       "        vertical-align: top;\n",
       "    }\n",
       "\n",
       "    .dataframe thead th {\n",
       "        text-align: right;\n",
       "    }\n",
       "</style>\n",
       "<table border=\"1\" class=\"dataframe\">\n",
       "  <thead>\n",
       "    <tr style=\"text-align: right;\">\n",
       "      <th></th>\n",
       "      <th>columna</th>\n",
       "      <th>Nan</th>\n",
       "      <th>pct_nan</th>\n",
       "      <th>dtype</th>\n",
       "      <th>count</th>\n",
       "      <th>pct_reg</th>\n",
       "      <th>count_unique</th>\n",
       "    </tr>\n",
       "  </thead>\n",
       "  <tbody>\n",
       "    <tr>\n",
       "      <th>0</th>\n",
       "      <td>datetime</td>\n",
       "      <td>0</td>\n",
       "      <td>0.00</td>\n",
       "      <td>datetime64[ns]</td>\n",
       "      <td>6916</td>\n",
       "      <td>100.00</td>\n",
       "      <td>2685</td>\n",
       "    </tr>\n",
       "    <tr>\n",
       "      <th>1</th>\n",
       "      <td>content</td>\n",
       "      <td>0</td>\n",
       "      <td>0.00</td>\n",
       "      <td>object</td>\n",
       "      <td>6916</td>\n",
       "      <td>100.00</td>\n",
       "      <td>6916</td>\n",
       "    </tr>\n",
       "    <tr>\n",
       "      <th>2</th>\n",
       "      <td>spark_emotion</td>\n",
       "      <td>6900</td>\n",
       "      <td>99.77</td>\n",
       "      <td>object</td>\n",
       "      <td>16</td>\n",
       "      <td>0.23</td>\n",
       "      <td>5</td>\n",
       "    </tr>\n",
       "    <tr>\n",
       "      <th>3</th>\n",
       "      <td>spark_sentiment</td>\n",
       "      <td>6900</td>\n",
       "      <td>99.77</td>\n",
       "      <td>object</td>\n",
       "      <td>16</td>\n",
       "      <td>0.23</td>\n",
       "      <td>2</td>\n",
       "    </tr>\n",
       "  </tbody>\n",
       "</table>\n",
       "</div>"
      ],
      "text/plain": [
       "           columna   Nan  pct_nan           dtype  count  pct_reg  \\\n",
       "0         datetime     0     0.00  datetime64[ns]   6916   100.00   \n",
       "1          content     0     0.00          object   6916   100.00   \n",
       "2    spark_emotion  6900    99.77          object     16     0.23   \n",
       "3  spark_sentiment  6900    99.77          object     16     0.23   \n",
       "\n",
       "   count_unique  \n",
       "0          2685  \n",
       "1          6916  \n",
       "2             5  \n",
       "3             2  "
      ]
     },
     "execution_count": 11,
     "metadata": {},
     "output_type": "execute_result"
    }
   ],
   "source": [
    "data_info(dataset_main)"
   ]
  },
  {
   "cell_type": "code",
   "execution_count": 12,
   "id": "2a8e1379-0b79-446d-a305-af432fcb7e17",
   "metadata": {},
   "outputs": [],
   "source": [
    "## implementar features, cantidad de hastags, cantidad de usuarios mencionados"
   ]
  },
  {
   "cell_type": "markdown",
   "id": "80354fe5-a9c0-4c8b-99d3-37d962dbf897",
   "metadata": {},
   "source": [
    "# Visualizaciones\n",
    "\n",
    "**Frecuencias de los Marcos Temporales**\n",
    "\n",
    "T: minuto <br />\n",
    "H: hora <br />\n",
    "D: día <br />\n",
    "W: semana <br />\n",
    "M: mes <br />\n",
    " <br />\n",
    "5T = 5 minutos <br />\n",
    "2D = 2 días <br />"
   ]
  },
  {
   "cell_type": "code",
   "execution_count": 13,
   "id": "f33125f0-6af6-45ba-bfe9-66b1d9676468",
   "metadata": {},
   "outputs": [],
   "source": [
    "# Funciones muy útiles para discretizar variables\n",
    "\n",
    "# category_emotion, label_emotion = pd.factorize(df['spark_emotion'])\n",
    "# category_sentiment, label_sentiment = pd.factorize(df['spark_sentiment'])"
   ]
  },
  {
   "cell_type": "code",
   "execution_count": 14,
   "id": "a4187870-3e14-4079-8119-8002c0424217",
   "metadata": {},
   "outputs": [],
   "source": [
    "mask = dataset_main.spark_sentiment.notna()\n",
    "\n",
    "# f: feature, m: muestras y n: dimensión de las features\n",
    "f1 = dataset_main.loc[mask, :]\n",
    "## Incorporar features generadas por dataset\n",
    "\n",
    "\n",
    "# Crear una instancia de OneHotEncoder\n",
    "encoder_i = OneHotEncoder(sparse_output=False)\n",
    "encoder_ii = OneHotEncoder(sparse_output=False)\n",
    "\n",
    "# Ajustar y transformar los datos\n",
    "category_sentiment_encoded = encoder_i.fit_transform(f1[['spark_sentiment']])\n",
    "category_emotion_encoded = encoder_ii.fit_transform(f1[['spark_emotion']])\n",
    "\n",
    "# Convertir a DataFrame y unirlo al DataFrame original\n",
    "sentiment_encoded = pd.DataFrame(category_sentiment_encoded, columns=encoder_i.get_feature_names_out(['spark_sentiment']), index=f1.index)\n",
    "emotion_encoded = pd.DataFrame(category_emotion_encoded, columns=encoder_ii.get_feature_names_out(['spark_emotion']), index=f1.index)\n",
    "\n",
    "f1 = pd.concat([f1, sentiment_encoded, emotion_encoded], axis=1)\n",
    "\n",
    "\n",
    "# Establecer 'datetime' como índice\n",
    "f1 = f1.set_index('datetime')\n",
    "# f1 = f1.resample('60T').asfreq()\n",
    "# Listado de las columnas que no son numéricas\n",
    "non_numeric_column = data_info(f1).loc[(data_info(f1)[\"dtype\"] != float).values].columna.values\n",
    "\n",
    "f1_categorical = f1[non_numeric_column]\n",
    "f1_numerical = f1.drop(non_numeric_column, axis=1)"
   ]
  },
  {
   "cell_type": "markdown",
   "metadata": {},
   "source": [
    "### Resampleo de la muestra"
   ]
  },
  {
   "cell_type": "code",
   "execution_count": 15,
   "id": "51ba71cc-7591-47a6-92b3-d87b39f9f909",
   "metadata": {},
   "outputs": [
    {
     "data": {
      "text/html": [
       "<div>\n",
       "<style scoped>\n",
       "    .dataframe tbody tr th:only-of-type {\n",
       "        vertical-align: middle;\n",
       "    }\n",
       "\n",
       "    .dataframe tbody tr th {\n",
       "        vertical-align: top;\n",
       "    }\n",
       "\n",
       "    .dataframe thead th {\n",
       "        text-align: right;\n",
       "    }\n",
       "</style>\n",
       "<table border=\"1\" class=\"dataframe\">\n",
       "  <thead>\n",
       "    <tr style=\"text-align: right;\">\n",
       "      <th></th>\n",
       "      <th>content</th>\n",
       "      <th>spark_emotion</th>\n",
       "      <th>spark_sentiment</th>\n",
       "      <th>spark_sentiment_NEGATIVO</th>\n",
       "      <th>spark_sentiment_NEUTRO</th>\n",
       "      <th>spark_emotion_DISGUSTO</th>\n",
       "      <th>spark_emotion_ENOJO</th>\n",
       "      <th>spark_emotion_FELICIDAD</th>\n",
       "      <th>spark_emotion_OTROS</th>\n",
       "      <th>spark_emotion_TRISTEZA</th>\n",
       "    </tr>\n",
       "    <tr>\n",
       "      <th>datetime</th>\n",
       "      <th></th>\n",
       "      <th></th>\n",
       "      <th></th>\n",
       "      <th></th>\n",
       "      <th></th>\n",
       "      <th></th>\n",
       "      <th></th>\n",
       "      <th></th>\n",
       "      <th></th>\n",
       "      <th></th>\n",
       "    </tr>\n",
       "  </thead>\n",
       "  <tbody>\n",
       "    <tr>\n",
       "      <th>2023-10-16 04:00:00</th>\n",
       "      <td>[mientras no gaste en cosas innecesarias como ...</td>\n",
       "      <td>[ENOJO]</td>\n",
       "      <td>[NEGATIVO]</td>\n",
       "      <td>1.000000</td>\n",
       "      <td>0.000000</td>\n",
       "      <td>0.0</td>\n",
       "      <td>1.000000</td>\n",
       "      <td>0.0</td>\n",
       "      <td>0.000000</td>\n",
       "      <td>0.000000</td>\n",
       "    </tr>\n",
       "    <tr>\n",
       "      <th>2023-10-16 08:00:00</th>\n",
       "      <td>[]</td>\n",
       "      <td>[]</td>\n",
       "      <td>[]</td>\n",
       "      <td>NaN</td>\n",
       "      <td>NaN</td>\n",
       "      <td>NaN</td>\n",
       "      <td>NaN</td>\n",
       "      <td>NaN</td>\n",
       "      <td>NaN</td>\n",
       "      <td>NaN</td>\n",
       "    </tr>\n",
       "    <tr>\n",
       "      <th>2023-10-16 12:00:00</th>\n",
       "      <td>[melconian , un 4 de copas al lado de milei . ...</td>\n",
       "      <td>[ENOJO, DISGUSTO]</td>\n",
       "      <td>[NEGATIVO, NEGATIVO]</td>\n",
       "      <td>1.000000</td>\n",
       "      <td>0.000000</td>\n",
       "      <td>0.5</td>\n",
       "      <td>0.500000</td>\n",
       "      <td>0.0</td>\n",
       "      <td>0.000000</td>\n",
       "      <td>0.000000</td>\n",
       "    </tr>\n",
       "    <tr>\n",
       "      <th>2023-10-16 16:00:00</th>\n",
       "      <td>[que alguien me explique porqué la gente que v...</td>\n",
       "      <td>[ENOJO, FELICIDAD]</td>\n",
       "      <td>[NEUTRO, NEGATIVO]</td>\n",
       "      <td>0.500000</td>\n",
       "      <td>0.500000</td>\n",
       "      <td>0.0</td>\n",
       "      <td>0.500000</td>\n",
       "      <td>0.5</td>\n",
       "      <td>0.000000</td>\n",
       "      <td>0.000000</td>\n",
       "    </tr>\n",
       "    <tr>\n",
       "      <th>2023-10-16 20:00:00</th>\n",
       "      <td>[te dejaron afuera en la mezasa…? fue con melc...</td>\n",
       "      <td>[OTROS, ENOJO, TRISTEZA, OTROS, OTROS, OTROS]</td>\n",
       "      <td>[NEGATIVO, NEGATIVO, NEGATIVO, NEUTRO, NEGATIV...</td>\n",
       "      <td>0.666667</td>\n",
       "      <td>0.333333</td>\n",
       "      <td>0.0</td>\n",
       "      <td>0.166667</td>\n",
       "      <td>0.0</td>\n",
       "      <td>0.666667</td>\n",
       "      <td>0.166667</td>\n",
       "    </tr>\n",
       "  </tbody>\n",
       "</table>\n",
       "</div>"
      ],
      "text/plain": [
       "                                                               content  \\\n",
       "datetime                                                                 \n",
       "2023-10-16 04:00:00  [mientras no gaste en cosas innecesarias como ...   \n",
       "2023-10-16 08:00:00                                                 []   \n",
       "2023-10-16 12:00:00  [melconian , un 4 de copas al lado de milei . ...   \n",
       "2023-10-16 16:00:00  [que alguien me explique porqué la gente que v...   \n",
       "2023-10-16 20:00:00  [te dejaron afuera en la mezasa…? fue con melc...   \n",
       "\n",
       "                                                     spark_emotion  \\\n",
       "datetime                                                             \n",
       "2023-10-16 04:00:00                                        [ENOJO]   \n",
       "2023-10-16 08:00:00                                             []   \n",
       "2023-10-16 12:00:00                              [ENOJO, DISGUSTO]   \n",
       "2023-10-16 16:00:00                             [ENOJO, FELICIDAD]   \n",
       "2023-10-16 20:00:00  [OTROS, ENOJO, TRISTEZA, OTROS, OTROS, OTROS]   \n",
       "\n",
       "                                                       spark_sentiment  \\\n",
       "datetime                                                                 \n",
       "2023-10-16 04:00:00                                         [NEGATIVO]   \n",
       "2023-10-16 08:00:00                                                 []   \n",
       "2023-10-16 12:00:00                               [NEGATIVO, NEGATIVO]   \n",
       "2023-10-16 16:00:00                                 [NEUTRO, NEGATIVO]   \n",
       "2023-10-16 20:00:00  [NEGATIVO, NEGATIVO, NEGATIVO, NEUTRO, NEGATIV...   \n",
       "\n",
       "                     spark_sentiment_NEGATIVO  spark_sentiment_NEUTRO  \\\n",
       "datetime                                                                \n",
       "2023-10-16 04:00:00                  1.000000                0.000000   \n",
       "2023-10-16 08:00:00                       NaN                     NaN   \n",
       "2023-10-16 12:00:00                  1.000000                0.000000   \n",
       "2023-10-16 16:00:00                  0.500000                0.500000   \n",
       "2023-10-16 20:00:00                  0.666667                0.333333   \n",
       "\n",
       "                     spark_emotion_DISGUSTO  spark_emotion_ENOJO  \\\n",
       "datetime                                                           \n",
       "2023-10-16 04:00:00                     0.0             1.000000   \n",
       "2023-10-16 08:00:00                     NaN                  NaN   \n",
       "2023-10-16 12:00:00                     0.5             0.500000   \n",
       "2023-10-16 16:00:00                     0.0             0.500000   \n",
       "2023-10-16 20:00:00                     0.0             0.166667   \n",
       "\n",
       "                     spark_emotion_FELICIDAD  spark_emotion_OTROS  \\\n",
       "datetime                                                            \n",
       "2023-10-16 04:00:00                      0.0             0.000000   \n",
       "2023-10-16 08:00:00                      NaN                  NaN   \n",
       "2023-10-16 12:00:00                      0.0             0.000000   \n",
       "2023-10-16 16:00:00                      0.5             0.000000   \n",
       "2023-10-16 20:00:00                      0.0             0.666667   \n",
       "\n",
       "                     spark_emotion_TRISTEZA  \n",
       "datetime                                     \n",
       "2023-10-16 04:00:00                0.000000  \n",
       "2023-10-16 08:00:00                     NaN  \n",
       "2023-10-16 12:00:00                0.000000  \n",
       "2023-10-16 16:00:00                0.000000  \n",
       "2023-10-16 20:00:00                0.166667  "
      ]
     },
     "execution_count": 15,
     "metadata": {},
     "output_type": "execute_result"
    }
   ],
   "source": [
    "freq = '4H'\n",
    "\n",
    "\n",
    "    \n",
    "    \n",
    "f1_categorical = f1_categorical.resample(freq).agg(lambda x: list(x))\n",
    "f1_numerical = f1_numerical.resample(freq).mean()\n",
    "\n",
    "f1_resampled = pd.concat([f1_categorical, f1_numerical], axis=1)\n",
    "\n",
    "f1_resampled.head(5)"
   ]
  },
  {
   "cell_type": "code",
   "execution_count": 18,
   "metadata": {},
   "outputs": [
    {
     "name": "stderr",
     "output_type": "stream",
     "text": [
      "c:\\Users\\Agustin\\Desktop\\RD\\Octubre\\RD_APP\\venv\\Lib\\site-packages\\_plotly_utils\\basevalidators.py:105: FutureWarning: The behavior of DatetimeProperties.to_pydatetime is deprecated, in a future version this will return a Series containing python datetime objects instead of an ndarray. To retain the old behavior, call `np.array` on the result\n",
      "  v = v.dt.to_pydatetime()\n"
     ]
    },
    {
     "data": {
      "text/html": [
       "<div>\n",
       "<style scoped>\n",
       "    .dataframe tbody tr th:only-of-type {\n",
       "        vertical-align: middle;\n",
       "    }\n",
       "\n",
       "    .dataframe tbody tr th {\n",
       "        vertical-align: top;\n",
       "    }\n",
       "\n",
       "    .dataframe thead th {\n",
       "        text-align: right;\n",
       "    }\n",
       "</style>\n",
       "<table border=\"1\" class=\"dataframe\">\n",
       "  <thead>\n",
       "    <tr style=\"text-align: right;\">\n",
       "      <th></th>\n",
       "      <th>spark_sentiment_NEGATIVO</th>\n",
       "      <th>spark_sentiment_NEUTRO</th>\n",
       "    </tr>\n",
       "    <tr>\n",
       "      <th>datetime</th>\n",
       "      <th></th>\n",
       "      <th></th>\n",
       "    </tr>\n",
       "  </thead>\n",
       "  <tbody>\n",
       "    <tr>\n",
       "      <th>2023-10-16 04:00:00</th>\n",
       "      <td>1.000000</td>\n",
       "      <td>0.000000</td>\n",
       "    </tr>\n",
       "    <tr>\n",
       "      <th>2023-10-16 08:00:00</th>\n",
       "      <td>0.000000</td>\n",
       "      <td>0.000000</td>\n",
       "    </tr>\n",
       "    <tr>\n",
       "      <th>2023-10-16 12:00:00</th>\n",
       "      <td>1.000000</td>\n",
       "      <td>0.000000</td>\n",
       "    </tr>\n",
       "    <tr>\n",
       "      <th>2023-10-16 16:00:00</th>\n",
       "      <td>0.500000</td>\n",
       "      <td>0.500000</td>\n",
       "    </tr>\n",
       "    <tr>\n",
       "      <th>2023-10-16 20:00:00</th>\n",
       "      <td>0.666667</td>\n",
       "      <td>0.333333</td>\n",
       "    </tr>\n",
       "    <tr>\n",
       "      <th>2023-10-17 00:00:00</th>\n",
       "      <td>0.000000</td>\n",
       "      <td>0.000000</td>\n",
       "    </tr>\n",
       "    <tr>\n",
       "      <th>2023-10-17 04:00:00</th>\n",
       "      <td>0.000000</td>\n",
       "      <td>1.000000</td>\n",
       "    </tr>\n",
       "    <tr>\n",
       "      <th>2023-10-17 08:00:00</th>\n",
       "      <td>1.000000</td>\n",
       "      <td>0.000000</td>\n",
       "    </tr>\n",
       "    <tr>\n",
       "      <th>2023-10-17 12:00:00</th>\n",
       "      <td>0.000000</td>\n",
       "      <td>1.000000</td>\n",
       "    </tr>\n",
       "    <tr>\n",
       "      <th>2023-10-17 16:00:00</th>\n",
       "      <td>0.000000</td>\n",
       "      <td>0.000000</td>\n",
       "    </tr>\n",
       "    <tr>\n",
       "      <th>2023-10-17 20:00:00</th>\n",
       "      <td>0.000000</td>\n",
       "      <td>1.000000</td>\n",
       "    </tr>\n",
       "    <tr>\n",
       "      <th>2023-10-18 00:00:00</th>\n",
       "      <td>0.000000</td>\n",
       "      <td>0.000000</td>\n",
       "    </tr>\n",
       "    <tr>\n",
       "      <th>2023-10-18 04:00:00</th>\n",
       "      <td>0.000000</td>\n",
       "      <td>0.000000</td>\n",
       "    </tr>\n",
       "    <tr>\n",
       "      <th>2023-10-18 08:00:00</th>\n",
       "      <td>1.000000</td>\n",
       "      <td>0.000000</td>\n",
       "    </tr>\n",
       "  </tbody>\n",
       "</table>\n",
       "</div>"
      ],
      "text/plain": [
       "                     spark_sentiment_NEGATIVO  spark_sentiment_NEUTRO\n",
       "datetime                                                             \n",
       "2023-10-16 04:00:00                  1.000000                0.000000\n",
       "2023-10-16 08:00:00                  0.000000                0.000000\n",
       "2023-10-16 12:00:00                  1.000000                0.000000\n",
       "2023-10-16 16:00:00                  0.500000                0.500000\n",
       "2023-10-16 20:00:00                  0.666667                0.333333\n",
       "2023-10-17 00:00:00                  0.000000                0.000000\n",
       "2023-10-17 04:00:00                  0.000000                1.000000\n",
       "2023-10-17 08:00:00                  1.000000                0.000000\n",
       "2023-10-17 12:00:00                  0.000000                1.000000\n",
       "2023-10-17 16:00:00                  0.000000                0.000000\n",
       "2023-10-17 20:00:00                  0.000000                1.000000\n",
       "2023-10-18 00:00:00                  0.000000                0.000000\n",
       "2023-10-18 04:00:00                  0.000000                0.000000\n",
       "2023-10-18 08:00:00                  1.000000                0.000000"
      ]
     },
     "execution_count": 18,
     "metadata": {},
     "output_type": "execute_result"
    }
   ],
   "source": [
    "f1_visual = f1_resampled.filter(regex='^spark_sentiment_').fillna(0.)\n",
    "\n",
    "\n",
    "\n",
    "visual_kwargs = {\n",
    "    \"width\": 1200,\n",
    "    \"height\": 600,\n",
    "    \"template\": \"plotly_dark\",\n",
    "    \"title\": f\"Linea de tiempo de evolución de los sentimiento | Marco Temporal: {freq}\",\n",
    "    # \"labels\": {\"variable\": \"Emociones\", \"value\": \"Porcentaje de emociones\", \"label\": \"Emociones\"},\n",
    "    # \"color\": \"label\",\n",
    "    # \"color_discrete_map\": colores\n",
    "    }\n",
    "\n",
    "\n",
    "figure = f1_visual.plot(kind=\"line\", **visual_kwargs).update_layout(showlegend=True)\n",
    "\n",
    "f1_visual"
   ]
  },
  {
   "cell_type": "code",
   "execution_count": 23,
   "metadata": {},
   "outputs": [
    {
     "data": {
      "application/vnd.plotly.v1+json": {
       "config": {
        "plotlyServerURL": "https://plotly.com"
       },
       "data": [
        {
         "hovertemplate": "variable=spark_sentiment_NEGATIVO<br>datetime=%{x}<br>value=%{y}<extra></extra>",
         "legendgroup": "spark_sentiment_NEGATIVO",
         "line": {
          "color": "#636efa",
          "dash": "solid"
         },
         "marker": {
          "symbol": "circle"
         },
         "mode": "lines",
         "name": "spark_sentiment_NEGATIVO",
         "orientation": "v",
         "showlegend": true,
         "type": "scatter",
         "x": [
          "2023-10-16T04:00:00",
          "2023-10-16T08:00:00",
          "2023-10-16T12:00:00",
          "2023-10-16T16:00:00",
          "2023-10-16T20:00:00",
          "2023-10-17T00:00:00",
          "2023-10-17T04:00:00",
          "2023-10-17T08:00:00",
          "2023-10-17T12:00:00",
          "2023-10-17T16:00:00",
          "2023-10-17T20:00:00",
          "2023-10-18T00:00:00",
          "2023-10-18T04:00:00",
          "2023-10-18T08:00:00"
         ],
         "xaxis": "x",
         "y": [
          1,
          0,
          1,
          0.5,
          0.6666666666666666,
          0,
          0,
          1,
          0,
          0,
          0,
          0,
          0,
          1
         ],
         "yaxis": "y"
        },
        {
         "hovertemplate": "variable=spark_sentiment_NEUTRO<br>datetime=%{x}<br>value=%{y}<extra></extra>",
         "legendgroup": "spark_sentiment_NEUTRO",
         "line": {
          "color": "#EF553B",
          "dash": "solid"
         },
         "marker": {
          "symbol": "circle"
         },
         "mode": "lines",
         "name": "spark_sentiment_NEUTRO",
         "orientation": "v",
         "showlegend": true,
         "type": "scatter",
         "x": [
          "2023-10-16T04:00:00",
          "2023-10-16T08:00:00",
          "2023-10-16T12:00:00",
          "2023-10-16T16:00:00",
          "2023-10-16T20:00:00",
          "2023-10-17T00:00:00",
          "2023-10-17T04:00:00",
          "2023-10-17T08:00:00",
          "2023-10-17T12:00:00",
          "2023-10-17T16:00:00",
          "2023-10-17T20:00:00",
          "2023-10-18T00:00:00",
          "2023-10-18T04:00:00",
          "2023-10-18T08:00:00"
         ],
         "xaxis": "x",
         "y": [
          0,
          0,
          0,
          0.5,
          0.3333333333333333,
          0,
          1,
          0,
          1,
          0,
          1,
          0,
          0,
          0
         ],
         "yaxis": "y"
        }
       ],
       "layout": {
        "height": 600,
        "legend": {
         "title": {
          "text": "variable"
         },
         "tracegroupgap": 0
        },
        "showlegend": true,
        "template": {
         "data": {
          "bar": [
           {
            "error_x": {
             "color": "#f2f5fa"
            },
            "error_y": {
             "color": "#f2f5fa"
            },
            "marker": {
             "line": {
              "color": "rgb(17,17,17)",
              "width": 0.5
             },
             "pattern": {
              "fillmode": "overlay",
              "size": 10,
              "solidity": 0.2
             }
            },
            "type": "bar"
           }
          ],
          "barpolar": [
           {
            "marker": {
             "line": {
              "color": "rgb(17,17,17)",
              "width": 0.5
             },
             "pattern": {
              "fillmode": "overlay",
              "size": 10,
              "solidity": 0.2
             }
            },
            "type": "barpolar"
           }
          ],
          "carpet": [
           {
            "aaxis": {
             "endlinecolor": "#A2B1C6",
             "gridcolor": "#506784",
             "linecolor": "#506784",
             "minorgridcolor": "#506784",
             "startlinecolor": "#A2B1C6"
            },
            "baxis": {
             "endlinecolor": "#A2B1C6",
             "gridcolor": "#506784",
             "linecolor": "#506784",
             "minorgridcolor": "#506784",
             "startlinecolor": "#A2B1C6"
            },
            "type": "carpet"
           }
          ],
          "choropleth": [
           {
            "colorbar": {
             "outlinewidth": 0,
             "ticks": ""
            },
            "type": "choropleth"
           }
          ],
          "contour": [
           {
            "colorbar": {
             "outlinewidth": 0,
             "ticks": ""
            },
            "colorscale": [
             [
              0,
              "#0d0887"
             ],
             [
              0.1111111111111111,
              "#46039f"
             ],
             [
              0.2222222222222222,
              "#7201a8"
             ],
             [
              0.3333333333333333,
              "#9c179e"
             ],
             [
              0.4444444444444444,
              "#bd3786"
             ],
             [
              0.5555555555555556,
              "#d8576b"
             ],
             [
              0.6666666666666666,
              "#ed7953"
             ],
             [
              0.7777777777777778,
              "#fb9f3a"
             ],
             [
              0.8888888888888888,
              "#fdca26"
             ],
             [
              1,
              "#f0f921"
             ]
            ],
            "type": "contour"
           }
          ],
          "contourcarpet": [
           {
            "colorbar": {
             "outlinewidth": 0,
             "ticks": ""
            },
            "type": "contourcarpet"
           }
          ],
          "heatmap": [
           {
            "colorbar": {
             "outlinewidth": 0,
             "ticks": ""
            },
            "colorscale": [
             [
              0,
              "#0d0887"
             ],
             [
              0.1111111111111111,
              "#46039f"
             ],
             [
              0.2222222222222222,
              "#7201a8"
             ],
             [
              0.3333333333333333,
              "#9c179e"
             ],
             [
              0.4444444444444444,
              "#bd3786"
             ],
             [
              0.5555555555555556,
              "#d8576b"
             ],
             [
              0.6666666666666666,
              "#ed7953"
             ],
             [
              0.7777777777777778,
              "#fb9f3a"
             ],
             [
              0.8888888888888888,
              "#fdca26"
             ],
             [
              1,
              "#f0f921"
             ]
            ],
            "type": "heatmap"
           }
          ],
          "heatmapgl": [
           {
            "colorbar": {
             "outlinewidth": 0,
             "ticks": ""
            },
            "colorscale": [
             [
              0,
              "#0d0887"
             ],
             [
              0.1111111111111111,
              "#46039f"
             ],
             [
              0.2222222222222222,
              "#7201a8"
             ],
             [
              0.3333333333333333,
              "#9c179e"
             ],
             [
              0.4444444444444444,
              "#bd3786"
             ],
             [
              0.5555555555555556,
              "#d8576b"
             ],
             [
              0.6666666666666666,
              "#ed7953"
             ],
             [
              0.7777777777777778,
              "#fb9f3a"
             ],
             [
              0.8888888888888888,
              "#fdca26"
             ],
             [
              1,
              "#f0f921"
             ]
            ],
            "type": "heatmapgl"
           }
          ],
          "histogram": [
           {
            "marker": {
             "pattern": {
              "fillmode": "overlay",
              "size": 10,
              "solidity": 0.2
             }
            },
            "type": "histogram"
           }
          ],
          "histogram2d": [
           {
            "colorbar": {
             "outlinewidth": 0,
             "ticks": ""
            },
            "colorscale": [
             [
              0,
              "#0d0887"
             ],
             [
              0.1111111111111111,
              "#46039f"
             ],
             [
              0.2222222222222222,
              "#7201a8"
             ],
             [
              0.3333333333333333,
              "#9c179e"
             ],
             [
              0.4444444444444444,
              "#bd3786"
             ],
             [
              0.5555555555555556,
              "#d8576b"
             ],
             [
              0.6666666666666666,
              "#ed7953"
             ],
             [
              0.7777777777777778,
              "#fb9f3a"
             ],
             [
              0.8888888888888888,
              "#fdca26"
             ],
             [
              1,
              "#f0f921"
             ]
            ],
            "type": "histogram2d"
           }
          ],
          "histogram2dcontour": [
           {
            "colorbar": {
             "outlinewidth": 0,
             "ticks": ""
            },
            "colorscale": [
             [
              0,
              "#0d0887"
             ],
             [
              0.1111111111111111,
              "#46039f"
             ],
             [
              0.2222222222222222,
              "#7201a8"
             ],
             [
              0.3333333333333333,
              "#9c179e"
             ],
             [
              0.4444444444444444,
              "#bd3786"
             ],
             [
              0.5555555555555556,
              "#d8576b"
             ],
             [
              0.6666666666666666,
              "#ed7953"
             ],
             [
              0.7777777777777778,
              "#fb9f3a"
             ],
             [
              0.8888888888888888,
              "#fdca26"
             ],
             [
              1,
              "#f0f921"
             ]
            ],
            "type": "histogram2dcontour"
           }
          ],
          "mesh3d": [
           {
            "colorbar": {
             "outlinewidth": 0,
             "ticks": ""
            },
            "type": "mesh3d"
           }
          ],
          "parcoords": [
           {
            "line": {
             "colorbar": {
              "outlinewidth": 0,
              "ticks": ""
             }
            },
            "type": "parcoords"
           }
          ],
          "pie": [
           {
            "automargin": true,
            "type": "pie"
           }
          ],
          "scatter": [
           {
            "marker": {
             "line": {
              "color": "#283442"
             }
            },
            "type": "scatter"
           }
          ],
          "scatter3d": [
           {
            "line": {
             "colorbar": {
              "outlinewidth": 0,
              "ticks": ""
             }
            },
            "marker": {
             "colorbar": {
              "outlinewidth": 0,
              "ticks": ""
             }
            },
            "type": "scatter3d"
           }
          ],
          "scattercarpet": [
           {
            "marker": {
             "colorbar": {
              "outlinewidth": 0,
              "ticks": ""
             }
            },
            "type": "scattercarpet"
           }
          ],
          "scattergeo": [
           {
            "marker": {
             "colorbar": {
              "outlinewidth": 0,
              "ticks": ""
             }
            },
            "type": "scattergeo"
           }
          ],
          "scattergl": [
           {
            "marker": {
             "line": {
              "color": "#283442"
             }
            },
            "type": "scattergl"
           }
          ],
          "scattermapbox": [
           {
            "marker": {
             "colorbar": {
              "outlinewidth": 0,
              "ticks": ""
             }
            },
            "type": "scattermapbox"
           }
          ],
          "scatterpolar": [
           {
            "marker": {
             "colorbar": {
              "outlinewidth": 0,
              "ticks": ""
             }
            },
            "type": "scatterpolar"
           }
          ],
          "scatterpolargl": [
           {
            "marker": {
             "colorbar": {
              "outlinewidth": 0,
              "ticks": ""
             }
            },
            "type": "scatterpolargl"
           }
          ],
          "scatterternary": [
           {
            "marker": {
             "colorbar": {
              "outlinewidth": 0,
              "ticks": ""
             }
            },
            "type": "scatterternary"
           }
          ],
          "surface": [
           {
            "colorbar": {
             "outlinewidth": 0,
             "ticks": ""
            },
            "colorscale": [
             [
              0,
              "#0d0887"
             ],
             [
              0.1111111111111111,
              "#46039f"
             ],
             [
              0.2222222222222222,
              "#7201a8"
             ],
             [
              0.3333333333333333,
              "#9c179e"
             ],
             [
              0.4444444444444444,
              "#bd3786"
             ],
             [
              0.5555555555555556,
              "#d8576b"
             ],
             [
              0.6666666666666666,
              "#ed7953"
             ],
             [
              0.7777777777777778,
              "#fb9f3a"
             ],
             [
              0.8888888888888888,
              "#fdca26"
             ],
             [
              1,
              "#f0f921"
             ]
            ],
            "type": "surface"
           }
          ],
          "table": [
           {
            "cells": {
             "fill": {
              "color": "#506784"
             },
             "line": {
              "color": "rgb(17,17,17)"
             }
            },
            "header": {
             "fill": {
              "color": "#2a3f5f"
             },
             "line": {
              "color": "rgb(17,17,17)"
             }
            },
            "type": "table"
           }
          ]
         },
         "layout": {
          "annotationdefaults": {
           "arrowcolor": "#f2f5fa",
           "arrowhead": 0,
           "arrowwidth": 1
          },
          "autotypenumbers": "strict",
          "coloraxis": {
           "colorbar": {
            "outlinewidth": 0,
            "ticks": ""
           }
          },
          "colorscale": {
           "diverging": [
            [
             0,
             "#8e0152"
            ],
            [
             0.1,
             "#c51b7d"
            ],
            [
             0.2,
             "#de77ae"
            ],
            [
             0.3,
             "#f1b6da"
            ],
            [
             0.4,
             "#fde0ef"
            ],
            [
             0.5,
             "#f7f7f7"
            ],
            [
             0.6,
             "#e6f5d0"
            ],
            [
             0.7,
             "#b8e186"
            ],
            [
             0.8,
             "#7fbc41"
            ],
            [
             0.9,
             "#4d9221"
            ],
            [
             1,
             "#276419"
            ]
           ],
           "sequential": [
            [
             0,
             "#0d0887"
            ],
            [
             0.1111111111111111,
             "#46039f"
            ],
            [
             0.2222222222222222,
             "#7201a8"
            ],
            [
             0.3333333333333333,
             "#9c179e"
            ],
            [
             0.4444444444444444,
             "#bd3786"
            ],
            [
             0.5555555555555556,
             "#d8576b"
            ],
            [
             0.6666666666666666,
             "#ed7953"
            ],
            [
             0.7777777777777778,
             "#fb9f3a"
            ],
            [
             0.8888888888888888,
             "#fdca26"
            ],
            [
             1,
             "#f0f921"
            ]
           ],
           "sequentialminus": [
            [
             0,
             "#0d0887"
            ],
            [
             0.1111111111111111,
             "#46039f"
            ],
            [
             0.2222222222222222,
             "#7201a8"
            ],
            [
             0.3333333333333333,
             "#9c179e"
            ],
            [
             0.4444444444444444,
             "#bd3786"
            ],
            [
             0.5555555555555556,
             "#d8576b"
            ],
            [
             0.6666666666666666,
             "#ed7953"
            ],
            [
             0.7777777777777778,
             "#fb9f3a"
            ],
            [
             0.8888888888888888,
             "#fdca26"
            ],
            [
             1,
             "#f0f921"
            ]
           ]
          },
          "colorway": [
           "#636efa",
           "#EF553B",
           "#00cc96",
           "#ab63fa",
           "#FFA15A",
           "#19d3f3",
           "#FF6692",
           "#B6E880",
           "#FF97FF",
           "#FECB52"
          ],
          "font": {
           "color": "#f2f5fa"
          },
          "geo": {
           "bgcolor": "rgb(17,17,17)",
           "lakecolor": "rgb(17,17,17)",
           "landcolor": "rgb(17,17,17)",
           "showlakes": true,
           "showland": true,
           "subunitcolor": "#506784"
          },
          "hoverlabel": {
           "align": "left"
          },
          "hovermode": "closest",
          "mapbox": {
           "style": "dark"
          },
          "paper_bgcolor": "rgb(17,17,17)",
          "plot_bgcolor": "rgb(17,17,17)",
          "polar": {
           "angularaxis": {
            "gridcolor": "#506784",
            "linecolor": "#506784",
            "ticks": ""
           },
           "bgcolor": "rgb(17,17,17)",
           "radialaxis": {
            "gridcolor": "#506784",
            "linecolor": "#506784",
            "ticks": ""
           }
          },
          "scene": {
           "xaxis": {
            "backgroundcolor": "rgb(17,17,17)",
            "gridcolor": "#506784",
            "gridwidth": 2,
            "linecolor": "#506784",
            "showbackground": true,
            "ticks": "",
            "zerolinecolor": "#C8D4E3"
           },
           "yaxis": {
            "backgroundcolor": "rgb(17,17,17)",
            "gridcolor": "#506784",
            "gridwidth": 2,
            "linecolor": "#506784",
            "showbackground": true,
            "ticks": "",
            "zerolinecolor": "#C8D4E3"
           },
           "zaxis": {
            "backgroundcolor": "rgb(17,17,17)",
            "gridcolor": "#506784",
            "gridwidth": 2,
            "linecolor": "#506784",
            "showbackground": true,
            "ticks": "",
            "zerolinecolor": "#C8D4E3"
           }
          },
          "shapedefaults": {
           "line": {
            "color": "#f2f5fa"
           }
          },
          "sliderdefaults": {
           "bgcolor": "#C8D4E3",
           "bordercolor": "rgb(17,17,17)",
           "borderwidth": 1,
           "tickwidth": 0
          },
          "ternary": {
           "aaxis": {
            "gridcolor": "#506784",
            "linecolor": "#506784",
            "ticks": ""
           },
           "baxis": {
            "gridcolor": "#506784",
            "linecolor": "#506784",
            "ticks": ""
           },
           "bgcolor": "rgb(17,17,17)",
           "caxis": {
            "gridcolor": "#506784",
            "linecolor": "#506784",
            "ticks": ""
           }
          },
          "title": {
           "x": 0.05
          },
          "updatemenudefaults": {
           "bgcolor": "#506784",
           "borderwidth": 0
          },
          "xaxis": {
           "automargin": true,
           "gridcolor": "#283442",
           "linecolor": "#506784",
           "ticks": "",
           "title": {
            "standoff": 15
           },
           "zerolinecolor": "#283442",
           "zerolinewidth": 2
          },
          "yaxis": {
           "automargin": true,
           "gridcolor": "#283442",
           "linecolor": "#506784",
           "ticks": "",
           "title": {
            "standoff": 15
           },
           "zerolinecolor": "#283442",
           "zerolinewidth": 2
          }
         }
        },
        "title": {
         "text": "Linea de tiempo de evolución de los sentimiento | Marco Temporal: 4H"
        },
        "width": 1200,
        "xaxis": {
         "anchor": "y",
         "domain": [
          0,
          1
         ],
         "title": {
          "text": "datetime"
         }
        },
        "yaxis": {
         "anchor": "x",
         "domain": [
          0,
          1
         ],
         "title": {
          "text": "value"
         }
        }
       }
      }
     },
     "metadata": {},
     "output_type": "display_data"
    }
   ],
   "source": [
    "figure.show()\n"
   ]
  },
  {
   "cell_type": "code",
   "execution_count": 22,
   "metadata": {},
   "outputs": [
    {
     "ename": "AttributeError",
     "evalue": "'Figure' object has no attribute 'save'",
     "output_type": "error",
     "traceback": [
      "\u001b[1;31m---------------------------------------------------------------------------\u001b[0m",
      "\u001b[1;31mAttributeError\u001b[0m                            Traceback (most recent call last)",
      "\u001b[1;32mc:\\Users\\Agustin\\Desktop\\RD\\Octubre\\RD_APP\\visualizacion.ipynb Cell 23\u001b[0m line \u001b[0;36m1\n\u001b[1;32m----> <a href='vscode-notebook-cell:/c%3A/Users/Agustin/Desktop/RD/Octubre/RD_APP/visualizacion.ipynb#X41sZmlsZQ%3D%3D?line=0'>1</a>\u001b[0m figure\u001b[39m.\u001b[39;49msave(\u001b[39m\"\u001b[39m\u001b[39mtest.html\u001b[39m\u001b[39m\"\u001b[39m)\n",
      "\u001b[1;31mAttributeError\u001b[0m: 'Figure' object has no attribute 'save'"
     ]
    }
   ],
   "source": []
  }
 ],
 "metadata": {
  "kernelspec": {
   "display_name": "Python 3 (ipykernel)",
   "language": "python",
   "name": "python3"
  },
  "language_info": {
   "codemirror_mode": {
    "name": "ipython",
    "version": 3
   },
   "file_extension": ".py",
   "mimetype": "text/x-python",
   "name": "python",
   "nbconvert_exporter": "python",
   "pygments_lexer": "ipython3",
   "version": "3.11.4"
  }
 },
 "nbformat": 4,
 "nbformat_minor": 5
}
