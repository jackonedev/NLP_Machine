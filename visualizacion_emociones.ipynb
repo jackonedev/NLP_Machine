{
 "cells": [
  {
   "cell_type": "markdown",
   "id": "68257f1d-a7fe-4234-b269-396bc8ba48f7",
   "metadata": {},
   "source": [
    "# Bienvenido a la Jupyter Notebook de ejecución de visualizaciones\n",
    "\n",
    "\n",
    "**(!)WARNING(!)**\n",
    "**Condición necesaria para que el código funcione correctamente:**\n",
    "**El archivo csv de lectura debe estar escrito todo en minúsculas.**"
   ]
  },
  {
   "cell_type": "code",
   "execution_count": 2,
   "id": "ab484094-090d-4b22-b162-4901a2e3008a",
   "metadata": {},
   "outputs": [],
   "source": [
    "# Librerías Nativas de Python\n",
    "import pickle, os\n",
    "\n",
    "# Librerías de terceros\n",
    "import pandas as pd\n",
    "from dotenv import load_dotenv\n",
    "from sklearn.preprocessing import OneHotEncoder\n",
    "# import chart_studio.plotly as py\n",
    "# import chart_studio.tools as tls\n",
    "\n",
    "# Librería RD\n",
    "from tools.feed import data_info\n",
    "from tools.feature_treatment import resample_dataset\n",
    "\n",
    "load_dotenv()\n",
    "\n",
    "pd.options.plotting.backend = \"plotly\"\n",
    "\n",
    "# USER = os.environ[\"USER_CS\"]\n",
    "# TOKEN = os.environ[\"TOKEN_CS\"]\n",
    "# tls.set_credentials_file(username=USER, api_key=TOKEN)"
   ]
  },
  {
   "cell_type": "code",
   "execution_count": 2,
   "id": "137d5db8-7803-4b5c-9b19-5ded56bcf030",
   "metadata": {},
   "outputs": [
    {
     "name": "stdout",
     "output_type": "stream",
     "text": [
      "['dfts_carne_total_precio_10-22_1.pickle', 'dfts_data-benchmark_10-21_1.pickle', 'dfts_data-benchmark_10-22_1.pickle', 'dfts_melcogatev2_10-21_1.pickle', 'dfts_melcogatev2_10-21_2.pickle', 'dfts_melcogatev2_10-22_1.pickle']\n"
     ]
    }
   ],
   "source": [
    "print(os.listdir(\"./app/shared_resources/\"))"
   ]
  },
  {
   "cell_type": "code",
   "execution_count": 3,
   "id": "7abb21c3-365b-4e62-ab48-53372877843d",
   "metadata": {},
   "outputs": [],
   "source": [
    "# APP\n",
    "from app.time_series import TimeSeries\n",
    "\n",
    "file_name = \"hola mundo\"\n",
    "file_name = \"dfts_melcogatev2_10-21_1.pickle\"\n",
    "\n",
    "\n",
    "if file_name not in os.listdir(\"./app/shared_resources/\"):\n",
    "    TimeSeries.main()\n",
    "\n",
    "\n",
    "##  cargar datos en vez de generarlos ya que podriamos haberlo corrido anteriormente\n",
    "else:\n",
    "    with open(f\"./app/shared_resources/{file_name}\", \"rb\") as file:\n",
    "        df = pickle.load(file)"
   ]
  },
  {
   "cell_type": "code",
   "execution_count": 4,
   "id": "29f7c9b8-6ae8-408c-b30c-f1a53bb8635f",
   "metadata": {},
   "outputs": [],
   "source": [
    "# with open(\"./app/shared_resources/dfts_melcogatev2_10_20_1.pickle\", \"rb\") as file:\n",
    "#     df = pickle.load(file)"
   ]
  },
  {
   "cell_type": "code",
   "execution_count": 5,
   "id": "c3d0a077-50ad-494b-b79d-330e2c00c429",
   "metadata": {},
   "outputs": [
    {
     "data": {
      "text/html": [
       "<div>\n",
       "<style scoped>\n",
       "    .dataframe tbody tr th:only-of-type {\n",
       "        vertical-align: middle;\n",
       "    }\n",
       "\n",
       "    .dataframe tbody tr th {\n",
       "        vertical-align: top;\n",
       "    }\n",
       "\n",
       "    .dataframe thead th {\n",
       "        text-align: right;\n",
       "    }\n",
       "</style>\n",
       "<table border=\"1\" class=\"dataframe\">\n",
       "  <thead>\n",
       "    <tr style=\"text-align: right;\">\n",
       "      <th></th>\n",
       "      <th>@timestamp</th>\n",
       "      <th>@version</th>\n",
       "      <th>_id</th>\n",
       "      <th>_index</th>\n",
       "      <th>_score</th>\n",
       "      <th>agent</th>\n",
       "      <th>author</th>\n",
       "      <th>category</th>\n",
       "      <th>content</th>\n",
       "      <th>coordinates</th>\n",
       "      <th>...</th>\n",
       "      <th>url.domain</th>\n",
       "      <th>url.path</th>\n",
       "      <th>user_agent.original</th>\n",
       "      <th>user_followers</th>\n",
       "      <th>username</th>\n",
       "      <th>usuarios_mencionados</th>\n",
       "      <th>hashtags</th>\n",
       "      <th>datetime</th>\n",
       "      <th>date_str</th>\n",
       "      <th>time_str</th>\n",
       "    </tr>\n",
       "  </thead>\n",
       "  <tbody>\n",
       "    <tr>\n",
       "      <th>0</th>\n",
       "      <td>Oct 18, 2023 @ 10:40:00.000</td>\n",
       "      <td>1</td>\n",
       "      <td>twt_1714637633782005873</td>\n",
       "      <td>in-politicaargentina3-2023-10</td>\n",
       "      <td>-</td>\n",
       "      <td>twt-brow</td>\n",
       "      <td>AlbornJuan</td>\n",
       "      <td>Twitter</td>\n",
       "      <td>no vi ninguno en las ramas -q soberano soberan...</td>\n",
       "      <td>-</td>\n",
       "      <td>...</td>\n",
       "      <td>dashboard.reputacion.digital</td>\n",
       "      <td>/ingest</td>\n",
       "      <td>python-requests/2.31.0</td>\n",
       "      <td>1,116</td>\n",
       "      <td>Juan leonardo Alborn</td>\n",
       "      <td>[@contracurva, @fercerimedo_ok]</td>\n",
       "      <td>NaN</td>\n",
       "      <td>2023-10-18 10:40:00</td>\n",
       "      <td>2023-10-18</td>\n",
       "      <td>10:40:00</td>\n",
       "    </tr>\n",
       "    <tr>\n",
       "      <th>1</th>\n",
       "      <td>Oct 18, 2023 @ 10:34:00.000</td>\n",
       "      <td>1</td>\n",
       "      <td>twt_1714636000226349218</td>\n",
       "      <td>in-politicaargentina7-2023-10</td>\n",
       "      <td>-</td>\n",
       "      <td>twt-brow</td>\n",
       "      <td>NicoteFornaso</td>\n",
       "      <td>Twitter</td>\n",
       "      <td>jajajajaja más para entre ríos??? más para mee...</td>\n",
       "      <td>-</td>\n",
       "      <td>...</td>\n",
       "      <td>dashboard.reputacion.digital</td>\n",
       "      <td>/ingest</td>\n",
       "      <td>python-requests/2.31.0</td>\n",
       "      <td>471</td>\n",
       "      <td>Nicote</td>\n",
       "      <td>[@eleccionesdatos, @adanhbahl]</td>\n",
       "      <td>[#melcogate, #insurraldegate, #tetazgate]</td>\n",
       "      <td>2023-10-18 10:34:00</td>\n",
       "      <td>2023-10-18</td>\n",
       "      <td>10:34:00</td>\n",
       "    </tr>\n",
       "    <tr>\n",
       "      <th>2</th>\n",
       "      <td>Oct 18, 2023 @ 10:22:00.000</td>\n",
       "      <td>1</td>\n",
       "      <td>twt_1714633151576727671</td>\n",
       "      <td>in-politicaargentina5-2023-10</td>\n",
       "      <td>-</td>\n",
       "      <td>twt-brow</td>\n",
       "      <td>frauleinmaria</td>\n",
       "      <td>Twitter</td>\n",
       "      <td>y ni hablar de la complicidad de bullrich con ...</td>\n",
       "      <td>-</td>\n",
       "      <td>...</td>\n",
       "      <td>dashboard.reputacion.digital</td>\n",
       "      <td>/ingest</td>\n",
       "      <td>python-requests/2.31.0</td>\n",
       "      <td>4,312</td>\n",
       "      <td>Graciela ✨</td>\n",
       "      <td>NaN</td>\n",
       "      <td>[#melconian]</td>\n",
       "      <td>2023-10-18 10:22:00</td>\n",
       "      <td>2023-10-18</td>\n",
       "      <td>10:22:00</td>\n",
       "    </tr>\n",
       "  </tbody>\n",
       "</table>\n",
       "<p>3 rows × 51 columns</p>\n",
       "</div>"
      ],
      "text/plain": [
       "                    @timestamp @version                      _id  \\\n",
       "0  Oct 18, 2023 @ 10:40:00.000        1  twt_1714637633782005873   \n",
       "1  Oct 18, 2023 @ 10:34:00.000        1  twt_1714636000226349218   \n",
       "2  Oct 18, 2023 @ 10:22:00.000        1  twt_1714633151576727671   \n",
       "\n",
       "                          _index _score     agent         author category  \\\n",
       "0  in-politicaargentina3-2023-10      -  twt-brow     AlbornJuan  Twitter   \n",
       "1  in-politicaargentina7-2023-10      -  twt-brow  NicoteFornaso  Twitter   \n",
       "2  in-politicaargentina5-2023-10      -  twt-brow  frauleinmaria  Twitter   \n",
       "\n",
       "                                             content coordinates  ...  \\\n",
       "0  no vi ninguno en las ramas -q soberano soberan...           -  ...   \n",
       "1  jajajajaja más para entre ríos??? más para mee...           -  ...   \n",
       "2  y ni hablar de la complicidad de bullrich con ...           -  ...   \n",
       "\n",
       "                     url.domain url.path     user_agent.original  \\\n",
       "0  dashboard.reputacion.digital  /ingest  python-requests/2.31.0   \n",
       "1  dashboard.reputacion.digital  /ingest  python-requests/2.31.0   \n",
       "2  dashboard.reputacion.digital  /ingest  python-requests/2.31.0   \n",
       "\n",
       "  user_followers              username             usuarios_mencionados  \\\n",
       "0          1,116  Juan leonardo Alborn  [@contracurva, @fercerimedo_ok]   \n",
       "1            471                Nicote   [@eleccionesdatos, @adanhbahl]   \n",
       "2          4,312            Graciela ✨                              NaN   \n",
       "\n",
       "                                    hashtags            datetime    date_str  \\\n",
       "0                                        NaN 2023-10-18 10:40:00  2023-10-18   \n",
       "1  [#melcogate, #insurraldegate, #tetazgate] 2023-10-18 10:34:00  2023-10-18   \n",
       "2                               [#melconian] 2023-10-18 10:22:00  2023-10-18   \n",
       "\n",
       "   time_str  \n",
       "0  10:40:00  \n",
       "1  10:34:00  \n",
       "2  10:22:00  \n",
       "\n",
       "[3 rows x 51 columns]"
      ]
     },
     "execution_count": 5,
     "metadata": {},
     "output_type": "execute_result"
    }
   ],
   "source": [
    "df.head(3)"
   ]
  },
  {
   "cell_type": "code",
   "execution_count": 6,
   "metadata": {},
   "outputs": [
    {
     "name": "stdout",
     "output_type": "stream",
     "text": [
      "Cargando configuración...\n",
      "Leyendo fichero...\n",
      "Fichero leído con éxito.\n",
      "\n",
      "Ejecutando modelo optimizado con 4 hilos...\n",
      "Modelo - clasificación de sentimientos: cardiffnlp/twitter-xlm-roberta-base-sentiment\n",
      "Tiempo de ejecución del modelo:  222.17151284217834\n",
      "Ensamble de las predicciones\n",
      "Predicción de sentimientos finalizada.\n"
     ]
    }
   ],
   "source": [
    "from app.m1_sentiment.M1_sentiment import main_shared_resources\n",
    "\n",
    "max_workers = 4\n",
    "# max_workers = 1 # 4 minutos\n",
    "# max_workers = 4 # 3 minutos y medio\n",
    "# max_workers = 5 # 3 minutos\n",
    "\n",
    "df = main_shared_resources(file_name, max_workers)\n",
    "df = df.drop(columns = [\"spark_sentiment\", \"spark_emotion\"])\n"
   ]
  },
  {
   "cell_type": "code",
   "execution_count": 7,
   "metadata": {},
   "outputs": [
    {
     "data": {
      "text/html": [
       "<div>\n",
       "<style scoped>\n",
       "    .dataframe tbody tr th:only-of-type {\n",
       "        vertical-align: middle;\n",
       "    }\n",
       "\n",
       "    .dataframe tbody tr th {\n",
       "        vertical-align: top;\n",
       "    }\n",
       "\n",
       "    .dataframe thead th {\n",
       "        text-align: right;\n",
       "    }\n",
       "</style>\n",
       "<table border=\"1\" class=\"dataframe\">\n",
       "  <thead>\n",
       "    <tr style=\"text-align: right;\">\n",
       "      <th></th>\n",
       "      <th>score_sentiment_i</th>\n",
       "    </tr>\n",
       "  </thead>\n",
       "  <tbody>\n",
       "    <tr>\n",
       "      <th>0</th>\n",
       "      <td>0.548634</td>\n",
       "    </tr>\n",
       "    <tr>\n",
       "      <th>1</th>\n",
       "      <td>0.819689</td>\n",
       "    </tr>\n",
       "    <tr>\n",
       "      <th>2</th>\n",
       "      <td>0.947779</td>\n",
       "    </tr>\n",
       "    <tr>\n",
       "      <th>3</th>\n",
       "      <td>0.923712</td>\n",
       "    </tr>\n",
       "    <tr>\n",
       "      <th>4</th>\n",
       "      <td>0.516778</td>\n",
       "    </tr>\n",
       "    <tr>\n",
       "      <th>...</th>\n",
       "      <td>...</td>\n",
       "    </tr>\n",
       "    <tr>\n",
       "      <th>6911</th>\n",
       "      <td>0.604728</td>\n",
       "    </tr>\n",
       "    <tr>\n",
       "      <th>6912</th>\n",
       "      <td>0.526588</td>\n",
       "    </tr>\n",
       "    <tr>\n",
       "      <th>6913</th>\n",
       "      <td>0.933041</td>\n",
       "    </tr>\n",
       "    <tr>\n",
       "      <th>6914</th>\n",
       "      <td>0.934070</td>\n",
       "    </tr>\n",
       "    <tr>\n",
       "      <th>6915</th>\n",
       "      <td>0.906671</td>\n",
       "    </tr>\n",
       "  </tbody>\n",
       "</table>\n",
       "<p>6916 rows × 1 columns</p>\n",
       "</div>"
      ],
      "text/plain": [
       "      score_sentiment_i\n",
       "0              0.548634\n",
       "1              0.819689\n",
       "2              0.947779\n",
       "3              0.923712\n",
       "4              0.516778\n",
       "...                 ...\n",
       "6911           0.604728\n",
       "6912           0.526588\n",
       "6913           0.933041\n",
       "6914           0.934070\n",
       "6915           0.906671\n",
       "\n",
       "[6916 rows x 1 columns]"
      ]
     },
     "execution_count": 7,
     "metadata": {},
     "output_type": "execute_result"
    }
   ],
   "source": [
    "df.sentiment_i.to_frame().isna().sum()\n",
    "df.score_sentiment_i.to_frame().isna().sum()\n",
    "df.score_sentiment_i.to_frame()"
   ]
  },
  {
   "cell_type": "markdown",
   "id": "60f8b624-15b6-47d4-9416-44441f818276",
   "metadata": {},
   "source": [
    "# Feature Selection\n",
    "\n",
    "**(!)WARNING(!)**\n",
    "\n",
    "**El indice de confiabilidad de spark_emotion y spark_sentiment es nulo, por lo que se remueven dichas variables y se regeneran dichas features.**\n",
    "\n",
    "#### Features para el análisis de contexto\n",
    "\n",
    "Cuando se quiere identificar qué es lo que está acontenciendo en determinado período de tiempo.\n",
    "<br />\n",
    "<center><b>\n",
    "\n",
    "```\n",
    "[datetime, content, token, username, usuarios_mencionados, hashtags, date_str, time_str, category]\n",
    "\n",
    "[datetime, content, len(usuario_mencionado), len(hastags), spark_emotion, spark_sentiment, category]\n",
    "```\n",
    "\n",
    "</b></center>\n",
    "<br />\n",
    "\n",
    "#### Features para análisis de las conversaciones\n",
    "\n",
    "Cuando se quiere identificar el fuerte de las conversaciones alrededor de un perfil determinado, es necesario conocer las fuentes que participan.\n",
    "\n",
    "<br />\n",
    "<center><b>\n",
    "\n",
    "```\n",
    "\n",
    "\n",
    "[quote_count, reach, replay_count, retweet_count, rt_like_count, rt_quote_count, rt_reply_count, rt_retweet_count, rt_text]\n",
    "\n",
    "[category, type, author,  source, description_user, [favorite_count, friends_count, user_followers], [is_quoted, is_reply, is_retweet]]\n",
    " \n",
    "```\n",
    "\n",
    "</b></center>\n",
    "<br />\n",
    "\n",
    " "
   ]
  },
  {
   "cell_type": "code",
   "execution_count": 8,
   "id": "5b48609e-e935-4e80-ab81-02cd760caa5b",
   "metadata": {},
   "outputs": [],
   "source": [
    "## TEST 1\n",
    "features = [\"datetime\", \"content\", \"token\", \"usuarios_mencionados\", \"hashtags\", \"username\", \"date_str\", \"time_str\", \"category\"]\n",
    "\n",
    "for feature in features:\n",
    "    if feature not in df.columns:\n",
    "        raise Exception(f\"Faltan features en la data recibida:\\nFeature faltante \\\"{feature}\\\"\")"
   ]
  },
  {
   "cell_type": "code",
   "execution_count": 9,
   "id": "882b53ed-05c4-45d9-8bee-aec39d3eaa39",
   "metadata": {},
   "outputs": [],
   "source": [
    "# Obtenemos features e invertimos el orden del dataset\n",
    "dataset = df.loc[::-1, features]"
   ]
  },
  {
   "cell_type": "code",
   "execution_count": 10,
   "id": "f0d2b0c5-4782-4d5f-b78e-a53ed98b5f89",
   "metadata": {},
   "outputs": [
    {
     "data": {
      "text/html": [
       "<div>\n",
       "<style scoped>\n",
       "    .dataframe tbody tr th:only-of-type {\n",
       "        vertical-align: middle;\n",
       "    }\n",
       "\n",
       "    .dataframe tbody tr th {\n",
       "        vertical-align: top;\n",
       "    }\n",
       "\n",
       "    .dataframe thead th {\n",
       "        text-align: right;\n",
       "    }\n",
       "</style>\n",
       "<table border=\"1\" class=\"dataframe\">\n",
       "  <thead>\n",
       "    <tr style=\"text-align: right;\">\n",
       "      <th></th>\n",
       "      <th>datetime</th>\n",
       "      <th>content</th>\n",
       "      <th>token</th>\n",
       "      <th>usuarios_mencionados</th>\n",
       "      <th>hashtags</th>\n",
       "      <th>username</th>\n",
       "      <th>date_str</th>\n",
       "      <th>time_str</th>\n",
       "      <th>category</th>\n",
       "    </tr>\n",
       "  </thead>\n",
       "  <tbody>\n",
       "    <tr>\n",
       "      <th>6915</th>\n",
       "      <td>2023-10-15 13:17:00</td>\n",
       "      <td>la gran pregunta si estos audios surgieron de ...</td>\n",
       "      <td>[gran, pregunta, audios, surgieron, investigac...</td>\n",
       "      <td>[@marianschw93348, @eligiria, @edufeiok]</td>\n",
       "      <td>NaN</td>\n",
       "      <td>Maria Sil💙⭐⭐⭐</td>\n",
       "      <td>2023-10-15</td>\n",
       "      <td>13:17:00</td>\n",
       "      <td>Twitter</td>\n",
       "    </tr>\n",
       "    <tr>\n",
       "      <th>6914</th>\n",
       "      <td>2023-10-15 13:18:00</td>\n",
       "      <td>por que los votantes trolls de pb no quieren a...</td>\n",
       "      <td>[votantes, trolls, quieren, admitir, chanta, m...</td>\n",
       "      <td>[@robertojg1810]</td>\n",
       "      <td>NaN</td>\n",
       "      <td>◇Carolina Reaper◇</td>\n",
       "      <td>2023-10-15</td>\n",
       "      <td>13:18:00</td>\n",
       "      <td>Twitter</td>\n",
       "    </tr>\n",
       "    <tr>\n",
       "      <th>6913</th>\n",
       "      <td>2023-10-15 13:18:00</td>\n",
       "      <td>julito como te va? bullrich se esta hundiendo ...</td>\n",
       "      <td>[julito, bullrich, hundiendo, solita, audios, ...</td>\n",
       "      <td>[@jdgoldestein, @patobullrich, @jmilei, @llibe...</td>\n",
       "      <td>NaN</td>\n",
       "      <td>Patricia Mollo</td>\n",
       "      <td>2023-10-15</td>\n",
       "      <td>13:18:00</td>\n",
       "      <td>Twitter</td>\n",
       "    </tr>\n",
       "    <tr>\n",
       "      <th>6912</th>\n",
       "      <td>2023-10-15 13:18:00</td>\n",
       "      <td>los periodistas , no hablan de los audios de m...</td>\n",
       "      <td>[periodistas, hablan, audios, melconia]</td>\n",
       "      <td>[@peponila]</td>\n",
       "      <td>NaN</td>\n",
       "      <td>Ofe</td>\n",
       "      <td>2023-10-15</td>\n",
       "      <td>13:18:00</td>\n",
       "      <td>Twitter</td>\n",
       "    </tr>\n",
       "    <tr>\n",
       "      <th>6911</th>\n",
       "      <td>2023-10-15 13:18:00</td>\n",
       "      <td>le hubiese convenido mas quedarse comiendo piz...</td>\n",
       "      <td>[convenido, quedarse, comiendo, pizza, casa, p...</td>\n",
       "      <td>[@gonziver]</td>\n",
       "      <td>NaN</td>\n",
       "      <td>The Boogeyman</td>\n",
       "      <td>2023-10-15</td>\n",
       "      <td>13:18:00</td>\n",
       "      <td>Twitter</td>\n",
       "    </tr>\n",
       "    <tr>\n",
       "      <th>6910</th>\n",
       "      <td>2023-10-15 13:18:00</td>\n",
       "      <td>no puede ser tan hijo de mil vecinos , como va...</td>\n",
       "      <td>[hijo, mil, vecinos, vida, privada, nadie, hab...</td>\n",
       "      <td>[@jonatanviale]</td>\n",
       "      <td>NaN</td>\n",
       "      <td>Bautista V</td>\n",
       "      <td>2023-10-15</td>\n",
       "      <td>13:18:00</td>\n",
       "      <td>Twitter</td>\n",
       "    </tr>\n",
       "    <tr>\n",
       "      <th>6909</th>\n",
       "      <td>2023-10-15 13:18:00</td>\n",
       "      <td>? a que se debe esa conclusion? a lanata le es...</td>\n",
       "      <td>[debe, conclusion, lanata, exigiendo, hable, m...</td>\n",
       "      <td>[@fperisset, @tata68276236]</td>\n",
       "      <td>NaN</td>\n",
       "      <td>Petula ll</td>\n",
       "      <td>2023-10-15</td>\n",
       "      <td>13:18:00</td>\n",
       "      <td>Twitter</td>\n",
       "    </tr>\n",
       "    <tr>\n",
       "      <th>6908</th>\n",
       "      <td>2023-10-15 13:19:00</td>\n",
       "      <td>increiblemente este tuit termino siendo el res...</td>\n",
       "      <td>[increiblemente, tuit, termino, resumen, expli...</td>\n",
       "      <td>NaN</td>\n",
       "      <td>NaN</td>\n",
       "      <td>Mau Grande</td>\n",
       "      <td>2023-10-15</td>\n",
       "      <td>13:19:00</td>\n",
       "      <td>Twitter</td>\n",
       "    </tr>\n",
       "    <tr>\n",
       "      <th>6907</th>\n",
       "      <td>2023-10-15 13:19:00</td>\n",
       "      <td>yo lo veo como q el votante de larreta ya deci...</td>\n",
       "      <td>[veo, votante, larreta, decidio, voto, jxc, es...</td>\n",
       "      <td>[@esquizonomics]</td>\n",
       "      <td>NaN</td>\n",
       "      <td>odio el rkt</td>\n",
       "      <td>2023-10-15</td>\n",
       "      <td>13:19:00</td>\n",
       "      <td>Twitter</td>\n",
       "    </tr>\n",
       "    <tr>\n",
       "      <th>6906</th>\n",
       "      <td>2023-10-15 13:19:00</td>\n",
       "      <td>mirtha le dio una paliza monumental al viejo v...</td>\n",
       "      <td>[mirtha, dio, paliza, monumental, viejo, verde...</td>\n",
       "      <td>[@amazonaarg]</td>\n",
       "      <td>[#melcogate]</td>\n",
       "      <td>Th3Crak47OMG...</td>\n",
       "      <td>2023-10-15</td>\n",
       "      <td>13:19:00</td>\n",
       "      <td>Twitter</td>\n",
       "    </tr>\n",
       "  </tbody>\n",
       "</table>\n",
       "</div>"
      ],
      "text/plain": [
       "                datetime                                            content  \\\n",
       "6915 2023-10-15 13:17:00  la gran pregunta si estos audios surgieron de ...   \n",
       "6914 2023-10-15 13:18:00  por que los votantes trolls de pb no quieren a...   \n",
       "6913 2023-10-15 13:18:00  julito como te va? bullrich se esta hundiendo ...   \n",
       "6912 2023-10-15 13:18:00  los periodistas , no hablan de los audios de m...   \n",
       "6911 2023-10-15 13:18:00  le hubiese convenido mas quedarse comiendo piz...   \n",
       "6910 2023-10-15 13:18:00  no puede ser tan hijo de mil vecinos , como va...   \n",
       "6909 2023-10-15 13:18:00  ? a que se debe esa conclusion? a lanata le es...   \n",
       "6908 2023-10-15 13:19:00  increiblemente este tuit termino siendo el res...   \n",
       "6907 2023-10-15 13:19:00  yo lo veo como q el votante de larreta ya deci...   \n",
       "6906 2023-10-15 13:19:00  mirtha le dio una paliza monumental al viejo v...   \n",
       "\n",
       "                                                  token  \\\n",
       "6915  [gran, pregunta, audios, surgieron, investigac...   \n",
       "6914  [votantes, trolls, quieren, admitir, chanta, m...   \n",
       "6913  [julito, bullrich, hundiendo, solita, audios, ...   \n",
       "6912            [periodistas, hablan, audios, melconia]   \n",
       "6911  [convenido, quedarse, comiendo, pizza, casa, p...   \n",
       "6910  [hijo, mil, vecinos, vida, privada, nadie, hab...   \n",
       "6909  [debe, conclusion, lanata, exigiendo, hable, m...   \n",
       "6908  [increiblemente, tuit, termino, resumen, expli...   \n",
       "6907  [veo, votante, larreta, decidio, voto, jxc, es...   \n",
       "6906  [mirtha, dio, paliza, monumental, viejo, verde...   \n",
       "\n",
       "                                   usuarios_mencionados      hashtags  \\\n",
       "6915           [@marianschw93348, @eligiria, @edufeiok]           NaN   \n",
       "6914                                   [@robertojg1810]           NaN   \n",
       "6913  [@jdgoldestein, @patobullrich, @jmilei, @llibe...           NaN   \n",
       "6912                                        [@peponila]           NaN   \n",
       "6911                                        [@gonziver]           NaN   \n",
       "6910                                    [@jonatanviale]           NaN   \n",
       "6909                        [@fperisset, @tata68276236]           NaN   \n",
       "6908                                                NaN           NaN   \n",
       "6907                                   [@esquizonomics]           NaN   \n",
       "6906                                      [@amazonaarg]  [#melcogate]   \n",
       "\n",
       "               username    date_str  time_str category  \n",
       "6915      Maria Sil💙⭐⭐⭐  2023-10-15  13:17:00  Twitter  \n",
       "6914  ◇Carolina Reaper◇  2023-10-15  13:18:00  Twitter  \n",
       "6913     Patricia Mollo  2023-10-15  13:18:00  Twitter  \n",
       "6912                Ofe  2023-10-15  13:18:00  Twitter  \n",
       "6911      The Boogeyman  2023-10-15  13:18:00  Twitter  \n",
       "6910         Bautista V  2023-10-15  13:18:00  Twitter  \n",
       "6909          Petula ll  2023-10-15  13:18:00  Twitter  \n",
       "6908         Mau Grande  2023-10-15  13:19:00  Twitter  \n",
       "6907        odio el rkt  2023-10-15  13:19:00  Twitter  \n",
       "6906    Th3Crak47OMG...  2023-10-15  13:19:00  Twitter  "
      ]
     },
     "execution_count": 10,
     "metadata": {},
     "output_type": "execute_result"
    }
   ],
   "source": [
    "dataset.head(10)"
   ]
  },
  {
   "cell_type": "markdown",
   "id": "fae3e8dd-cdf5-4313-a117-baee0a81e7eb",
   "metadata": {},
   "source": [
    "**Obtención del dataset de procesamiento**\n",
    "\n",
    "**IMPORTANTE**\n",
    "\n",
    "**Cuando trabajamos con series temporales, las primeras filas son los datos más antiguos y las últimas filas son los datos más nuevos.**\n",
    "\n",
    "**Cosa que si nos llegan datos nuevos, se los agregamos al final.**"
   ]
  },
  {
   "cell_type": "code",
   "execution_count": 11,
   "id": "c9e9fc3a-802f-4436-a0ea-30020572ee18",
   "metadata": {},
   "outputs": [],
   "source": [
    "## TEST 2\n",
    "features = [\"datetime\", \"content\", \"sentiment_i\", \"score_sentiment_i\"]# spark_emotion\n",
    "for feature in features:\n",
    "    if feature not in df.columns:\n",
    "        raise Exception(f\"Faltan features en la data recibida:\\nFeature faltante \\\"{feature}\\\"\")\n",
    "# pendiente: , len(usuario_mencionado), len(hastags)\n",
    "# pendiente: token"
   ]
  },
  {
   "cell_type": "code",
   "execution_count": 12,
   "id": "dd3fe62f-5411-4814-a42c-1c4213a04142",
   "metadata": {},
   "outputs": [
    {
     "data": {
      "text/html": [
       "<div>\n",
       "<style scoped>\n",
       "    .dataframe tbody tr th:only-of-type {\n",
       "        vertical-align: middle;\n",
       "    }\n",
       "\n",
       "    .dataframe tbody tr th {\n",
       "        vertical-align: top;\n",
       "    }\n",
       "\n",
       "    .dataframe thead th {\n",
       "        text-align: right;\n",
       "    }\n",
       "</style>\n",
       "<table border=\"1\" class=\"dataframe\">\n",
       "  <thead>\n",
       "    <tr style=\"text-align: right;\">\n",
       "      <th></th>\n",
       "      <th>datetime</th>\n",
       "      <th>content</th>\n",
       "      <th>sentiment_i</th>\n",
       "      <th>score_sentiment_i</th>\n",
       "    </tr>\n",
       "  </thead>\n",
       "  <tbody>\n",
       "    <tr>\n",
       "      <th>6915</th>\n",
       "      <td>2023-10-15 13:17:00</td>\n",
       "      <td>la gran pregunta si estos audios surgieron de ...</td>\n",
       "      <td>negative</td>\n",
       "      <td>0.906671</td>\n",
       "    </tr>\n",
       "    <tr>\n",
       "      <th>6914</th>\n",
       "      <td>2023-10-15 13:18:00</td>\n",
       "      <td>por que los votantes trolls de pb no quieren a...</td>\n",
       "      <td>negative</td>\n",
       "      <td>0.934070</td>\n",
       "    </tr>\n",
       "    <tr>\n",
       "      <th>6913</th>\n",
       "      <td>2023-10-15 13:18:00</td>\n",
       "      <td>julito como te va? bullrich se esta hundiendo ...</td>\n",
       "      <td>negative</td>\n",
       "      <td>0.933041</td>\n",
       "    </tr>\n",
       "    <tr>\n",
       "      <th>6912</th>\n",
       "      <td>2023-10-15 13:18:00</td>\n",
       "      <td>los periodistas , no hablan de los audios de m...</td>\n",
       "      <td>neutral</td>\n",
       "      <td>0.526588</td>\n",
       "    </tr>\n",
       "    <tr>\n",
       "      <th>6911</th>\n",
       "      <td>2023-10-15 13:18:00</td>\n",
       "      <td>le hubiese convenido mas quedarse comiendo piz...</td>\n",
       "      <td>negative</td>\n",
       "      <td>0.604728</td>\n",
       "    </tr>\n",
       "    <tr>\n",
       "      <th>...</th>\n",
       "      <td>...</td>\n",
       "      <td>...</td>\n",
       "      <td>...</td>\n",
       "      <td>...</td>\n",
       "    </tr>\n",
       "    <tr>\n",
       "      <th>4</th>\n",
       "      <td>2023-10-18 10:18:00</td>\n",
       "      <td>publico y notorio la complicidad de bullrich c...</td>\n",
       "      <td>neutral</td>\n",
       "      <td>0.516778</td>\n",
       "    </tr>\n",
       "    <tr>\n",
       "      <th>3</th>\n",
       "      <td>2023-10-18 10:22:00</td>\n",
       "      <td>en serio crees que muchos votos que fueron par...</td>\n",
       "      <td>negative</td>\n",
       "      <td>0.923712</td>\n",
       "    </tr>\n",
       "    <tr>\n",
       "      <th>2</th>\n",
       "      <td>2023-10-18 10:22:00</td>\n",
       "      <td>y ni hablar de la complicidad de bullrich con ...</td>\n",
       "      <td>negative</td>\n",
       "      <td>0.947779</td>\n",
       "    </tr>\n",
       "    <tr>\n",
       "      <th>1</th>\n",
       "      <td>2023-10-18 10:34:00</td>\n",
       "      <td>jajajajaja mas para entre rios??? mas para mee...</td>\n",
       "      <td>negative</td>\n",
       "      <td>0.819689</td>\n",
       "    </tr>\n",
       "    <tr>\n",
       "      <th>0</th>\n",
       "      <td>2023-10-18 10:40:00</td>\n",
       "      <td>no vi ninguno en las ramas -q soberano soberan...</td>\n",
       "      <td>negative</td>\n",
       "      <td>0.548634</td>\n",
       "    </tr>\n",
       "  </tbody>\n",
       "</table>\n",
       "<p>6916 rows × 4 columns</p>\n",
       "</div>"
      ],
      "text/plain": [
       "                datetime                                            content  \\\n",
       "6915 2023-10-15 13:17:00  la gran pregunta si estos audios surgieron de ...   \n",
       "6914 2023-10-15 13:18:00  por que los votantes trolls de pb no quieren a...   \n",
       "6913 2023-10-15 13:18:00  julito como te va? bullrich se esta hundiendo ...   \n",
       "6912 2023-10-15 13:18:00  los periodistas , no hablan de los audios de m...   \n",
       "6911 2023-10-15 13:18:00  le hubiese convenido mas quedarse comiendo piz...   \n",
       "...                  ...                                                ...   \n",
       "4    2023-10-18 10:18:00  publico y notorio la complicidad de bullrich c...   \n",
       "3    2023-10-18 10:22:00  en serio crees que muchos votos que fueron par...   \n",
       "2    2023-10-18 10:22:00  y ni hablar de la complicidad de bullrich con ...   \n",
       "1    2023-10-18 10:34:00  jajajajaja mas para entre rios??? mas para mee...   \n",
       "0    2023-10-18 10:40:00  no vi ninguno en las ramas -q soberano soberan...   \n",
       "\n",
       "     sentiment_i  score_sentiment_i  \n",
       "6915    negative           0.906671  \n",
       "6914    negative           0.934070  \n",
       "6913    negative           0.933041  \n",
       "6912     neutral           0.526588  \n",
       "6911    negative           0.604728  \n",
       "...          ...                ...  \n",
       "4        neutral           0.516778  \n",
       "3       negative           0.923712  \n",
       "2       negative           0.947779  \n",
       "1       negative           0.819689  \n",
       "0       negative           0.548634  \n",
       "\n",
       "[6916 rows x 4 columns]"
      ]
     },
     "execution_count": 12,
     "metadata": {},
     "output_type": "execute_result"
    }
   ],
   "source": [
    "# Seleccionamos features e invertimos el orden del dataset\n",
    "dataset_main = df.loc[::-1, features]\n",
    "\n",
    "# dataset_main[\"spark_emotion\"] = [elemento if elemento != '-' else None for elemento in dataset_main.spark_emotion.to_list()]\n",
    "# dataset_main[\"spark_sentiment\"] = [elemento if elemento != '-' else None for elemento in dataset_main.spark_sentiment.to_list()]\n",
    "\n",
    "dataset_main"
   ]
  },
  {
   "cell_type": "code",
   "execution_count": 13,
   "id": "91a54764-08c1-4d73-9b18-6197d0d84edc",
   "metadata": {},
   "outputs": [
    {
     "data": {
      "text/html": [
       "<div>\n",
       "<style scoped>\n",
       "    .dataframe tbody tr th:only-of-type {\n",
       "        vertical-align: middle;\n",
       "    }\n",
       "\n",
       "    .dataframe tbody tr th {\n",
       "        vertical-align: top;\n",
       "    }\n",
       "\n",
       "    .dataframe thead th {\n",
       "        text-align: right;\n",
       "    }\n",
       "</style>\n",
       "<table border=\"1\" class=\"dataframe\">\n",
       "  <thead>\n",
       "    <tr style=\"text-align: right;\">\n",
       "      <th></th>\n",
       "      <th>columna</th>\n",
       "      <th>Nan</th>\n",
       "      <th>pct_nan</th>\n",
       "      <th>dtype</th>\n",
       "      <th>count</th>\n",
       "      <th>pct_reg</th>\n",
       "      <th>count_unique</th>\n",
       "    </tr>\n",
       "  </thead>\n",
       "  <tbody>\n",
       "    <tr>\n",
       "      <th>0</th>\n",
       "      <td>datetime</td>\n",
       "      <td>0</td>\n",
       "      <td>0.0</td>\n",
       "      <td>datetime64[ns]</td>\n",
       "      <td>6916</td>\n",
       "      <td>100.0</td>\n",
       "      <td>2685</td>\n",
       "    </tr>\n",
       "    <tr>\n",
       "      <th>1</th>\n",
       "      <td>content</td>\n",
       "      <td>0</td>\n",
       "      <td>0.0</td>\n",
       "      <td>object</td>\n",
       "      <td>6916</td>\n",
       "      <td>100.0</td>\n",
       "      <td>6914</td>\n",
       "    </tr>\n",
       "    <tr>\n",
       "      <th>2</th>\n",
       "      <td>sentiment_i</td>\n",
       "      <td>0</td>\n",
       "      <td>0.0</td>\n",
       "      <td>object</td>\n",
       "      <td>6916</td>\n",
       "      <td>100.0</td>\n",
       "      <td>3</td>\n",
       "    </tr>\n",
       "    <tr>\n",
       "      <th>3</th>\n",
       "      <td>score_sentiment_i</td>\n",
       "      <td>0</td>\n",
       "      <td>0.0</td>\n",
       "      <td>float64</td>\n",
       "      <td>6916</td>\n",
       "      <td>100.0</td>\n",
       "      <td>1729</td>\n",
       "    </tr>\n",
       "  </tbody>\n",
       "</table>\n",
       "</div>"
      ],
      "text/plain": [
       "             columna  Nan  pct_nan           dtype  count  pct_reg  \\\n",
       "0           datetime    0      0.0  datetime64[ns]   6916    100.0   \n",
       "1            content    0      0.0          object   6916    100.0   \n",
       "2        sentiment_i    0      0.0          object   6916    100.0   \n",
       "3  score_sentiment_i    0      0.0         float64   6916    100.0   \n",
       "\n",
       "   count_unique  \n",
       "0          2685  \n",
       "1          6914  \n",
       "2             3  \n",
       "3          1729  "
      ]
     },
     "execution_count": 13,
     "metadata": {},
     "output_type": "execute_result"
    }
   ],
   "source": [
    "data_info(dataset_main)"
   ]
  },
  {
   "cell_type": "code",
   "execution_count": 14,
   "id": "2a8e1379-0b79-446d-a305-af432fcb7e17",
   "metadata": {},
   "outputs": [],
   "source": [
    "## implementar features, cantidad de hastags, cantidad de usuarios mencionados"
   ]
  },
  {
   "cell_type": "markdown",
   "id": "80354fe5-a9c0-4c8b-99d3-37d962dbf897",
   "metadata": {},
   "source": [
    "# Visualizaciones\n",
    "\n",
    "**Frecuencias de los Marcos Temporales**\n",
    "\n",
    "T: minuto <br />\n",
    "H: hora <br />\n",
    "D: día <br />\n",
    "W: semana <br />\n",
    "M: mes <br />\n",
    " <br />\n",
    "5T = 5 minutos <br />\n",
    "2D = 2 días <br />"
   ]
  },
  {
   "cell_type": "code",
   "execution_count": 15,
   "id": "f33125f0-6af6-45ba-bfe9-66b1d9676468",
   "metadata": {},
   "outputs": [],
   "source": [
    "# Funciones muy útiles para discretizar variables\n",
    "\n",
    "# category_emotion, label_emotion = pd.factorize(df['spark_emotion'])\n",
    "# category_sentiment, label_sentiment = pd.factorize(df['spark_sentiment'])"
   ]
  },
  {
   "cell_type": "code",
   "execution_count": 16,
   "metadata": {},
   "outputs": [],
   "source": [
    "## [ORIGINAL]\n",
    "# mask = dataset_main.spark_sentiment.notna()\n",
    "\n",
    "# # f: feature, m: muestras y n: dimensión de las features\n",
    "# f1 = dataset_main.loc[mask, :]\n",
    "# ## Incorporar features generadas por dataset\n",
    "\n",
    "\n",
    "# # Crear una instancia de OneHotEncoder\n",
    "# encoder_i = OneHotEncoder(sparse_output=False)\n",
    "# encoder_ii = OneHotEncoder(sparse_output=False)\n",
    "\n",
    "# # Ajustar y transformar los datos\n",
    "# category_sentiment_encoded = encoder_i.fit_transform(f1[['spark_sentiment']])\n",
    "# category_emotion_encoded = encoder_ii.fit_transform(f1[['spark_emotion']])\n",
    "\n",
    "# # Convertir a DataFrame y unirlo al DataFrame original\n",
    "# sentiment_encoded = pd.DataFrame(category_sentiment_encoded, columns=encoder_i.get_feature_names_out(['spark_sentiment']), index=f1.index)\n",
    "# emotion_encoded = pd.DataFrame(category_emotion_encoded, columns=encoder_ii.get_feature_names_out(['spark_emotion']), index=f1.index)\n",
    "\n",
    "# f1 = pd.concat([f1, sentiment_encoded, emotion_encoded], axis=1)\n",
    "\n",
    "\n",
    "# # Establecer 'datetime' como índice\n",
    "# f1 = f1.set_index('datetime')\n",
    "# # f1 = f1.resample('60T').asfreq()\n",
    "# # Listado de las columnas que no son numéricas\n",
    "# non_numeric_column = data_info(f1).loc[(data_info(f1)[\"dtype\"] != float).values].columna.values\n",
    "\n",
    "# f1_categorical = f1[non_numeric_column]\n",
    "# f1_numerical = f1.drop(non_numeric_column, axis=1)"
   ]
  },
  {
   "cell_type": "code",
   "execution_count": 17,
   "id": "a4187870-3e14-4079-8119-8002c0424217",
   "metadata": {},
   "outputs": [],
   "source": [
    "f1 = dataset_main.copy()\n",
    "\n",
    "# Crear una instancia de OneHotEncoder\n",
    "encoder_i = OneHotEncoder(sparse_output=False)\n",
    "# encoder_ii = OneHotEncoder(sparse_output=False)\n",
    "\n",
    "# Ajustar y transformar los datos\n",
    "category_sentiment_encoded = encoder_i.fit_transform(f1[['sentiment_i']])\n",
    "# category_emotion_encoded = encoder_ii.fit_transform(f1[['spark_emotion']])\n",
    "\n",
    "# Convertir a DataFrame y unirlo al DataFrame original\n",
    "sentiment_encoded = pd.DataFrame(category_sentiment_encoded, columns=encoder_i.get_feature_names_out(['sentiment_i']), index=f1.index)\n",
    "# emotion_encoded = pd.DataFrame(category_emotion_encoded, columns=encoder_ii.get_feature_names_out(['spark_emotion']), index=f1.index)\n",
    "\n",
    "# f1 = pd.concat([f1, sentiment_encoded, emotion_encoded], axis=1)\n",
    "f1 = pd.concat([f1, sentiment_encoded], axis=1)\n",
    "\n",
    "\n",
    "# Establecer 'datetime' como índice\n",
    "f1 = f1.set_index('datetime')\n",
    "\n",
    "f1.head(5)"
   ]
  },
  {
   "cell_type": "code",
   "execution_count": null,
   "metadata": {},
   "outputs": [],
   "source": [
    "f1_15min = resample_dataset(f1, '15T')\n",
    "f1_60min = resample_dataset(f1, '1H')"
   ]
  },
  {
   "cell_type": "markdown",
   "metadata": {},
   "source": [
    "### Resampleo de la muestra"
   ]
  },
  {
   "cell_type": "code",
   "execution_count": 18,
   "id": "51ba71cc-7591-47a6-92b3-d87b39f9f909",
   "metadata": {},
   "outputs": [
    {
     "data": {
      "text/html": [
       "<div>\n",
       "<style scoped>\n",
       "    .dataframe tbody tr th:only-of-type {\n",
       "        vertical-align: middle;\n",
       "    }\n",
       "\n",
       "    .dataframe tbody tr th {\n",
       "        vertical-align: top;\n",
       "    }\n",
       "\n",
       "    .dataframe thead th {\n",
       "        text-align: right;\n",
       "    }\n",
       "</style>\n",
       "<table border=\"1\" class=\"dataframe\">\n",
       "  <thead>\n",
       "    <tr style=\"text-align: right;\">\n",
       "      <th></th>\n",
       "      <th>content</th>\n",
       "      <th>sentiment_i</th>\n",
       "      <th>score_sentiment_i</th>\n",
       "      <th>sentiment_i_negative</th>\n",
       "      <th>sentiment_i_neutral</th>\n",
       "      <th>sentiment_i_positive</th>\n",
       "    </tr>\n",
       "    <tr>\n",
       "      <th>datetime</th>\n",
       "      <th></th>\n",
       "      <th></th>\n",
       "      <th></th>\n",
       "      <th></th>\n",
       "      <th></th>\n",
       "      <th></th>\n",
       "    </tr>\n",
       "  </thead>\n",
       "  <tbody>\n",
       "    <tr>\n",
       "      <th>2023-10-15 13:00:00</th>\n",
       "      <td>[la gran pregunta si estos audios surgieron de...</td>\n",
       "      <td>[negative, negative, negative, neutral, negati...</td>\n",
       "      <td>0.778229</td>\n",
       "      <td>0.813793</td>\n",
       "      <td>0.151724</td>\n",
       "      <td>0.034483</td>\n",
       "    </tr>\n",
       "    <tr>\n",
       "      <th>2023-10-15 14:00:00</th>\n",
       "      <td>[ya repudio pitta las recomendaciones de melco...</td>\n",
       "      <td>[negative, negative, negative, negative, negat...</td>\n",
       "      <td>0.744067</td>\n",
       "      <td>0.730469</td>\n",
       "      <td>0.238281</td>\n",
       "      <td>0.031250</td>\n",
       "    </tr>\n",
       "    <tr>\n",
       "      <th>2023-10-15 15:00:00</th>\n",
       "      <td>[y de melconian no tenes nada para decir? se n...</td>\n",
       "      <td>[negative, neutral, negative, negative, negati...</td>\n",
       "      <td>0.750176</td>\n",
       "      <td>0.746154</td>\n",
       "      <td>0.203846</td>\n",
       "      <td>0.050000</td>\n",
       "    </tr>\n",
       "    <tr>\n",
       "      <th>2023-10-15 16:00:00</th>\n",
       "      <td>[filtraron polemicos audios de carlos melconia...</td>\n",
       "      <td>[negative, negative, negative, neutral, neutra...</td>\n",
       "      <td>0.744609</td>\n",
       "      <td>0.764192</td>\n",
       "      <td>0.179039</td>\n",
       "      <td>0.056769</td>\n",
       "    </tr>\n",
       "    <tr>\n",
       "      <th>2023-10-15 17:00:00</th>\n",
       "      <td>[eso es un delirio mistico? no te parece una c...</td>\n",
       "      <td>[negative, negative, negative, negative, negat...</td>\n",
       "      <td>0.757811</td>\n",
       "      <td>0.766667</td>\n",
       "      <td>0.171429</td>\n",
       "      <td>0.061905</td>\n",
       "    </tr>\n",
       "  </tbody>\n",
       "</table>\n",
       "</div>"
      ],
      "text/plain": [
       "                                                               content  \\\n",
       "datetime                                                                 \n",
       "2023-10-15 13:00:00  [la gran pregunta si estos audios surgieron de...   \n",
       "2023-10-15 14:00:00  [ya repudio pitta las recomendaciones de melco...   \n",
       "2023-10-15 15:00:00  [y de melconian no tenes nada para decir? se n...   \n",
       "2023-10-15 16:00:00  [filtraron polemicos audios de carlos melconia...   \n",
       "2023-10-15 17:00:00  [eso es un delirio mistico? no te parece una c...   \n",
       "\n",
       "                                                           sentiment_i  \\\n",
       "datetime                                                                 \n",
       "2023-10-15 13:00:00  [negative, negative, negative, neutral, negati...   \n",
       "2023-10-15 14:00:00  [negative, negative, negative, negative, negat...   \n",
       "2023-10-15 15:00:00  [negative, neutral, negative, negative, negati...   \n",
       "2023-10-15 16:00:00  [negative, negative, negative, neutral, neutra...   \n",
       "2023-10-15 17:00:00  [negative, negative, negative, negative, negat...   \n",
       "\n",
       "                     score_sentiment_i  sentiment_i_negative  \\\n",
       "datetime                                                       \n",
       "2023-10-15 13:00:00           0.778229              0.813793   \n",
       "2023-10-15 14:00:00           0.744067              0.730469   \n",
       "2023-10-15 15:00:00           0.750176              0.746154   \n",
       "2023-10-15 16:00:00           0.744609              0.764192   \n",
       "2023-10-15 17:00:00           0.757811              0.766667   \n",
       "\n",
       "                     sentiment_i_neutral  sentiment_i_positive  \n",
       "datetime                                                        \n",
       "2023-10-15 13:00:00             0.151724              0.034483  \n",
       "2023-10-15 14:00:00             0.238281              0.031250  \n",
       "2023-10-15 15:00:00             0.203846              0.050000  \n",
       "2023-10-15 16:00:00             0.179039              0.056769  \n",
       "2023-10-15 17:00:00             0.171429              0.061905  "
      ]
     },
     "execution_count": 18,
     "metadata": {},
     "output_type": "execute_result"
    }
   ],
   "source": [
    "# freq = '4H'\n",
    "freq = '60T'\n",
    "\n",
    "\n",
    "    \n",
    "    \n",
    "f1_categorical = f1_categorical.resample(freq).agg(lambda x: list(x))\n",
    "f1_numerical = f1_numerical.resample(freq).mean()\n",
    "\n",
    "f1_resampled = pd.concat([f1_categorical, f1_numerical], axis=1)\n",
    "\n",
    "f1_resampled.head(5)"
   ]
  },
  {
   "cell_type": "code",
   "execution_count": 19,
   "metadata": {},
   "outputs": [
    {
     "name": "stderr",
     "output_type": "stream",
     "text": [
      "c:\\Users\\Agustin\\Desktop\\RD\\Octubre\\RD_APP\\venv\\Lib\\site-packages\\_plotly_utils\\basevalidators.py:105: FutureWarning: The behavior of DatetimeProperties.to_pydatetime is deprecated, in a future version this will return a Series containing python datetime objects instead of an ndarray. To retain the old behavior, call `np.array` on the result\n",
      "  v = v.dt.to_pydatetime()\n"
     ]
    },
    {
     "data": {
      "text/html": [
       "<div>\n",
       "<style scoped>\n",
       "    .dataframe tbody tr th:only-of-type {\n",
       "        vertical-align: middle;\n",
       "    }\n",
       "\n",
       "    .dataframe tbody tr th {\n",
       "        vertical-align: top;\n",
       "    }\n",
       "\n",
       "    .dataframe thead th {\n",
       "        text-align: right;\n",
       "    }\n",
       "</style>\n",
       "<table border=\"1\" class=\"dataframe\">\n",
       "  <thead>\n",
       "    <tr style=\"text-align: right;\">\n",
       "      <th></th>\n",
       "      <th>sentiment_i_negative</th>\n",
       "      <th>sentiment_i_neutral</th>\n",
       "      <th>sentiment_i_positive</th>\n",
       "    </tr>\n",
       "    <tr>\n",
       "      <th>datetime</th>\n",
       "      <th></th>\n",
       "      <th></th>\n",
       "      <th></th>\n",
       "    </tr>\n",
       "  </thead>\n",
       "  <tbody>\n",
       "    <tr>\n",
       "      <th>2023-10-15 13:00:00</th>\n",
       "      <td>0.813793</td>\n",
       "      <td>0.151724</td>\n",
       "      <td>0.034483</td>\n",
       "    </tr>\n",
       "    <tr>\n",
       "      <th>2023-10-15 14:00:00</th>\n",
       "      <td>0.730469</td>\n",
       "      <td>0.238281</td>\n",
       "      <td>0.031250</td>\n",
       "    </tr>\n",
       "    <tr>\n",
       "      <th>2023-10-15 15:00:00</th>\n",
       "      <td>0.746154</td>\n",
       "      <td>0.203846</td>\n",
       "      <td>0.050000</td>\n",
       "    </tr>\n",
       "    <tr>\n",
       "      <th>2023-10-15 16:00:00</th>\n",
       "      <td>0.764192</td>\n",
       "      <td>0.179039</td>\n",
       "      <td>0.056769</td>\n",
       "    </tr>\n",
       "    <tr>\n",
       "      <th>2023-10-15 17:00:00</th>\n",
       "      <td>0.766667</td>\n",
       "      <td>0.171429</td>\n",
       "      <td>0.061905</td>\n",
       "    </tr>\n",
       "    <tr>\n",
       "      <th>...</th>\n",
       "      <td>...</td>\n",
       "      <td>...</td>\n",
       "      <td>...</td>\n",
       "    </tr>\n",
       "    <tr>\n",
       "      <th>2023-10-18 06:00:00</th>\n",
       "      <td>0.756098</td>\n",
       "      <td>0.219512</td>\n",
       "      <td>0.024390</td>\n",
       "    </tr>\n",
       "    <tr>\n",
       "      <th>2023-10-18 07:00:00</th>\n",
       "      <td>0.752941</td>\n",
       "      <td>0.200000</td>\n",
       "      <td>0.047059</td>\n",
       "    </tr>\n",
       "    <tr>\n",
       "      <th>2023-10-18 08:00:00</th>\n",
       "      <td>0.716129</td>\n",
       "      <td>0.206452</td>\n",
       "      <td>0.077419</td>\n",
       "    </tr>\n",
       "    <tr>\n",
       "      <th>2023-10-18 09:00:00</th>\n",
       "      <td>0.756757</td>\n",
       "      <td>0.135135</td>\n",
       "      <td>0.108108</td>\n",
       "    </tr>\n",
       "    <tr>\n",
       "      <th>2023-10-18 10:00:00</th>\n",
       "      <td>0.733333</td>\n",
       "      <td>0.200000</td>\n",
       "      <td>0.066667</td>\n",
       "    </tr>\n",
       "  </tbody>\n",
       "</table>\n",
       "<p>70 rows × 3 columns</p>\n",
       "</div>"
      ],
      "text/plain": [
       "                     sentiment_i_negative  sentiment_i_neutral  \\\n",
       "datetime                                                         \n",
       "2023-10-15 13:00:00              0.813793             0.151724   \n",
       "2023-10-15 14:00:00              0.730469             0.238281   \n",
       "2023-10-15 15:00:00              0.746154             0.203846   \n",
       "2023-10-15 16:00:00              0.764192             0.179039   \n",
       "2023-10-15 17:00:00              0.766667             0.171429   \n",
       "...                                   ...                  ...   \n",
       "2023-10-18 06:00:00              0.756098             0.219512   \n",
       "2023-10-18 07:00:00              0.752941             0.200000   \n",
       "2023-10-18 08:00:00              0.716129             0.206452   \n",
       "2023-10-18 09:00:00              0.756757             0.135135   \n",
       "2023-10-18 10:00:00              0.733333             0.200000   \n",
       "\n",
       "                     sentiment_i_positive  \n",
       "datetime                                   \n",
       "2023-10-15 13:00:00              0.034483  \n",
       "2023-10-15 14:00:00              0.031250  \n",
       "2023-10-15 15:00:00              0.050000  \n",
       "2023-10-15 16:00:00              0.056769  \n",
       "2023-10-15 17:00:00              0.061905  \n",
       "...                                   ...  \n",
       "2023-10-18 06:00:00              0.024390  \n",
       "2023-10-18 07:00:00              0.047059  \n",
       "2023-10-18 08:00:00              0.077419  \n",
       "2023-10-18 09:00:00              0.108108  \n",
       "2023-10-18 10:00:00              0.066667  \n",
       "\n",
       "[70 rows x 3 columns]"
      ]
     },
     "execution_count": 19,
     "metadata": {},
     "output_type": "execute_result"
    }
   ],
   "source": [
    "f1_visual = f1_resampled.filter(regex='^sentiment_i').fillna(0.)\n",
    "non_numeric_column = data_info(f1_visual).loc[(data_info(f1_visual)[\"dtype\"] != float).values].columna.values\n",
    "f1_visual = f1_visual.drop(non_numeric_column, axis=1)\n",
    "\n",
    "\n",
    "visual_kwargs = {\n",
    "    \"width\": 1200,\n",
    "    \"height\": 600,\n",
    "    \"template\": \"plotly_dark\",\n",
    "    \"title\": f\"Linea de tiempo de evolución de los sentimiento | Marco Temporal: {freq}\",\n",
    "    # \"labels\": {\"variable\": \"Emociones\", \"value\": \"Porcentaje de emociones\", \"label\": \"Emociones\"},\n",
    "    # \"color\": \"label\",\n",
    "    # \"color_discrete_map\": colores\n",
    "    }\n",
    "\n",
    "\n",
    "figure = f1_visual.plot(kind=\"line\", **visual_kwargs).update_layout(showlegend=True)\n",
    "\n",
    "f1_visual"
   ]
  },
  {
   "cell_type": "code",
   "execution_count": 20,
   "metadata": {},
   "outputs": [
    {
     "data": {
      "application/vnd.plotly.v1+json": {
       "config": {
        "plotlyServerURL": "https://plotly.com"
       },
       "data": [
        {
         "hovertemplate": "variable=sentiment_i_negative<br>datetime=%{x}<br>value=%{y}<extra></extra>",
         "legendgroup": "sentiment_i_negative",
         "line": {
          "color": "#636efa",
          "dash": "solid"
         },
         "marker": {
          "symbol": "circle"
         },
         "mode": "lines",
         "name": "sentiment_i_negative",
         "orientation": "v",
         "showlegend": true,
         "type": "scatter",
         "x": [
          "2023-10-15T13:00:00",
          "2023-10-15T14:00:00",
          "2023-10-15T15:00:00",
          "2023-10-15T16:00:00",
          "2023-10-15T17:00:00",
          "2023-10-15T18:00:00",
          "2023-10-15T19:00:00",
          "2023-10-15T20:00:00",
          "2023-10-15T21:00:00",
          "2023-10-15T22:00:00",
          "2023-10-15T23:00:00",
          "2023-10-16T00:00:00",
          "2023-10-16T01:00:00",
          "2023-10-16T02:00:00",
          "2023-10-16T03:00:00",
          "2023-10-16T04:00:00",
          "2023-10-16T05:00:00",
          "2023-10-16T06:00:00",
          "2023-10-16T07:00:00",
          "2023-10-16T08:00:00",
          "2023-10-16T09:00:00",
          "2023-10-16T10:00:00",
          "2023-10-16T11:00:00",
          "2023-10-16T12:00:00",
          "2023-10-16T13:00:00",
          "2023-10-16T14:00:00",
          "2023-10-16T15:00:00",
          "2023-10-16T16:00:00",
          "2023-10-16T17:00:00",
          "2023-10-16T18:00:00",
          "2023-10-16T19:00:00",
          "2023-10-16T20:00:00",
          "2023-10-16T21:00:00",
          "2023-10-16T22:00:00",
          "2023-10-16T23:00:00",
          "2023-10-17T00:00:00",
          "2023-10-17T01:00:00",
          "2023-10-17T02:00:00",
          "2023-10-17T03:00:00",
          "2023-10-17T04:00:00",
          "2023-10-17T05:00:00",
          "2023-10-17T06:00:00",
          "2023-10-17T07:00:00",
          "2023-10-17T08:00:00",
          "2023-10-17T09:00:00",
          "2023-10-17T10:00:00",
          "2023-10-17T11:00:00",
          "2023-10-17T12:00:00",
          "2023-10-17T13:00:00",
          "2023-10-17T14:00:00",
          "2023-10-17T15:00:00",
          "2023-10-17T16:00:00",
          "2023-10-17T17:00:00",
          "2023-10-17T18:00:00",
          "2023-10-17T19:00:00",
          "2023-10-17T20:00:00",
          "2023-10-17T21:00:00",
          "2023-10-17T22:00:00",
          "2023-10-17T23:00:00",
          "2023-10-18T00:00:00",
          "2023-10-18T01:00:00",
          "2023-10-18T02:00:00",
          "2023-10-18T03:00:00",
          "2023-10-18T04:00:00",
          "2023-10-18T05:00:00",
          "2023-10-18T06:00:00",
          "2023-10-18T07:00:00",
          "2023-10-18T08:00:00",
          "2023-10-18T09:00:00",
          "2023-10-18T10:00:00"
         ],
         "xaxis": "x",
         "y": [
          0.8137931034482758,
          0.73046875,
          0.7461538461538462,
          0.7641921397379913,
          0.7666666666666667,
          0.752,
          0.7436823104693141,
          0.7932203389830509,
          0.7666666666666667,
          0.6875,
          0.6428571428571429,
          0.7407407407407407,
          0.7254901960784313,
          0.6538461538461539,
          0.7,
          0.625,
          0.875,
          0.8571428571428571,
          0.8,
          0.8333333333333334,
          0.6666666666666666,
          0.75,
          0.8148148148148148,
          0.7435897435897436,
          0.7419354838709677,
          0.6923076923076923,
          0.6756756756756757,
          0.7426900584795322,
          0.75,
          0.8057553956834532,
          0.7569060773480663,
          0.7701149425287356,
          0.7124183006535948,
          0.7647058823529411,
          0.780952380952381,
          0.8383838383838383,
          0.6444444444444445,
          0.6666666666666666,
          0.7435897435897436,
          0.7727272727272727,
          0.5882352941176471,
          0.7,
          0.7592592592592593,
          0.7741935483870968,
          0.7217391304347827,
          0.6923076923076923,
          0.7752808988764045,
          0.7543859649122807,
          0.7850467289719626,
          0.7741935483870968,
          0.7340425531914894,
          0.797979797979798,
          0.7560975609756098,
          0.7525773195876289,
          0.7176470588235294,
          0.7664041994750657,
          0.6935483870967742,
          0.7447552447552448,
          0.7475728155339806,
          0.7887323943661971,
          0.7747747747747747,
          0.7258064516129032,
          0.7857142857142857,
          0.8888888888888888,
          0.75,
          0.7560975609756098,
          0.7529411764705882,
          0.7161290322580646,
          0.7567567567567568,
          0.7333333333333333
         ],
         "yaxis": "y"
        },
        {
         "hovertemplate": "variable=sentiment_i_neutral<br>datetime=%{x}<br>value=%{y}<extra></extra>",
         "legendgroup": "sentiment_i_neutral",
         "line": {
          "color": "#EF553B",
          "dash": "solid"
         },
         "marker": {
          "symbol": "circle"
         },
         "mode": "lines",
         "name": "sentiment_i_neutral",
         "orientation": "v",
         "showlegend": true,
         "type": "scatter",
         "x": [
          "2023-10-15T13:00:00",
          "2023-10-15T14:00:00",
          "2023-10-15T15:00:00",
          "2023-10-15T16:00:00",
          "2023-10-15T17:00:00",
          "2023-10-15T18:00:00",
          "2023-10-15T19:00:00",
          "2023-10-15T20:00:00",
          "2023-10-15T21:00:00",
          "2023-10-15T22:00:00",
          "2023-10-15T23:00:00",
          "2023-10-16T00:00:00",
          "2023-10-16T01:00:00",
          "2023-10-16T02:00:00",
          "2023-10-16T03:00:00",
          "2023-10-16T04:00:00",
          "2023-10-16T05:00:00",
          "2023-10-16T06:00:00",
          "2023-10-16T07:00:00",
          "2023-10-16T08:00:00",
          "2023-10-16T09:00:00",
          "2023-10-16T10:00:00",
          "2023-10-16T11:00:00",
          "2023-10-16T12:00:00",
          "2023-10-16T13:00:00",
          "2023-10-16T14:00:00",
          "2023-10-16T15:00:00",
          "2023-10-16T16:00:00",
          "2023-10-16T17:00:00",
          "2023-10-16T18:00:00",
          "2023-10-16T19:00:00",
          "2023-10-16T20:00:00",
          "2023-10-16T21:00:00",
          "2023-10-16T22:00:00",
          "2023-10-16T23:00:00",
          "2023-10-17T00:00:00",
          "2023-10-17T01:00:00",
          "2023-10-17T02:00:00",
          "2023-10-17T03:00:00",
          "2023-10-17T04:00:00",
          "2023-10-17T05:00:00",
          "2023-10-17T06:00:00",
          "2023-10-17T07:00:00",
          "2023-10-17T08:00:00",
          "2023-10-17T09:00:00",
          "2023-10-17T10:00:00",
          "2023-10-17T11:00:00",
          "2023-10-17T12:00:00",
          "2023-10-17T13:00:00",
          "2023-10-17T14:00:00",
          "2023-10-17T15:00:00",
          "2023-10-17T16:00:00",
          "2023-10-17T17:00:00",
          "2023-10-17T18:00:00",
          "2023-10-17T19:00:00",
          "2023-10-17T20:00:00",
          "2023-10-17T21:00:00",
          "2023-10-17T22:00:00",
          "2023-10-17T23:00:00",
          "2023-10-18T00:00:00",
          "2023-10-18T01:00:00",
          "2023-10-18T02:00:00",
          "2023-10-18T03:00:00",
          "2023-10-18T04:00:00",
          "2023-10-18T05:00:00",
          "2023-10-18T06:00:00",
          "2023-10-18T07:00:00",
          "2023-10-18T08:00:00",
          "2023-10-18T09:00:00",
          "2023-10-18T10:00:00"
         ],
         "xaxis": "x",
         "y": [
          0.15172413793103448,
          0.23828125,
          0.20384615384615384,
          0.17903930131004367,
          0.17142857142857143,
          0.2,
          0.19133574007220217,
          0.15254237288135594,
          0.2,
          0.25,
          0.3333333333333333,
          0.2222222222222222,
          0.23529411764705882,
          0.3076923076923077,
          0.25,
          0.25,
          0.125,
          0.14285714285714285,
          0.2,
          0.16666666666666666,
          0.2222222222222222,
          0.25,
          0.1111111111111111,
          0.23076923076923078,
          0.1935483870967742,
          0.2692307692307692,
          0.21621621621621623,
          0.19883040935672514,
          0.15625,
          0.15827338129496402,
          0.19337016574585636,
          0.19540229885057472,
          0.20261437908496732,
          0.14705882352941177,
          0.18095238095238095,
          0.1414141414141414,
          0.3111111111111111,
          0.2916666666666667,
          0.20512820512820512,
          0.18181818181818182,
          0.4117647058823529,
          0.26666666666666666,
          0.2037037037037037,
          0.1935483870967742,
          0.20869565217391303,
          0.21794871794871795,
          0.19101123595505617,
          0.17543859649122806,
          0.14018691588785046,
          0.20967741935483872,
          0.18085106382978725,
          0.18181818181818182,
          0.1951219512195122,
          0.20618556701030927,
          0.1588235294117647,
          0.2020997375328084,
          0.25806451612903225,
          0.1958041958041958,
          0.1941747572815534,
          0.15492957746478872,
          0.2072072072072072,
          0.1935483870967742,
          0.14285714285714285,
          0.05555555555555555,
          0.25,
          0.21951219512195122,
          0.2,
          0.2064516129032258,
          0.13513513513513514,
          0.2
         ],
         "yaxis": "y"
        },
        {
         "hovertemplate": "variable=sentiment_i_positive<br>datetime=%{x}<br>value=%{y}<extra></extra>",
         "legendgroup": "sentiment_i_positive",
         "line": {
          "color": "#00cc96",
          "dash": "solid"
         },
         "marker": {
          "symbol": "circle"
         },
         "mode": "lines",
         "name": "sentiment_i_positive",
         "orientation": "v",
         "showlegend": true,
         "type": "scatter",
         "x": [
          "2023-10-15T13:00:00",
          "2023-10-15T14:00:00",
          "2023-10-15T15:00:00",
          "2023-10-15T16:00:00",
          "2023-10-15T17:00:00",
          "2023-10-15T18:00:00",
          "2023-10-15T19:00:00",
          "2023-10-15T20:00:00",
          "2023-10-15T21:00:00",
          "2023-10-15T22:00:00",
          "2023-10-15T23:00:00",
          "2023-10-16T00:00:00",
          "2023-10-16T01:00:00",
          "2023-10-16T02:00:00",
          "2023-10-16T03:00:00",
          "2023-10-16T04:00:00",
          "2023-10-16T05:00:00",
          "2023-10-16T06:00:00",
          "2023-10-16T07:00:00",
          "2023-10-16T08:00:00",
          "2023-10-16T09:00:00",
          "2023-10-16T10:00:00",
          "2023-10-16T11:00:00",
          "2023-10-16T12:00:00",
          "2023-10-16T13:00:00",
          "2023-10-16T14:00:00",
          "2023-10-16T15:00:00",
          "2023-10-16T16:00:00",
          "2023-10-16T17:00:00",
          "2023-10-16T18:00:00",
          "2023-10-16T19:00:00",
          "2023-10-16T20:00:00",
          "2023-10-16T21:00:00",
          "2023-10-16T22:00:00",
          "2023-10-16T23:00:00",
          "2023-10-17T00:00:00",
          "2023-10-17T01:00:00",
          "2023-10-17T02:00:00",
          "2023-10-17T03:00:00",
          "2023-10-17T04:00:00",
          "2023-10-17T05:00:00",
          "2023-10-17T06:00:00",
          "2023-10-17T07:00:00",
          "2023-10-17T08:00:00",
          "2023-10-17T09:00:00",
          "2023-10-17T10:00:00",
          "2023-10-17T11:00:00",
          "2023-10-17T12:00:00",
          "2023-10-17T13:00:00",
          "2023-10-17T14:00:00",
          "2023-10-17T15:00:00",
          "2023-10-17T16:00:00",
          "2023-10-17T17:00:00",
          "2023-10-17T18:00:00",
          "2023-10-17T19:00:00",
          "2023-10-17T20:00:00",
          "2023-10-17T21:00:00",
          "2023-10-17T22:00:00",
          "2023-10-17T23:00:00",
          "2023-10-18T00:00:00",
          "2023-10-18T01:00:00",
          "2023-10-18T02:00:00",
          "2023-10-18T03:00:00",
          "2023-10-18T04:00:00",
          "2023-10-18T05:00:00",
          "2023-10-18T06:00:00",
          "2023-10-18T07:00:00",
          "2023-10-18T08:00:00",
          "2023-10-18T09:00:00",
          "2023-10-18T10:00:00"
         ],
         "xaxis": "x",
         "y": [
          0.034482758620689655,
          0.03125,
          0.05,
          0.056768558951965066,
          0.06190476190476191,
          0.048,
          0.06498194945848375,
          0.05423728813559322,
          0.03333333333333333,
          0.0625,
          0.023809523809523808,
          0.037037037037037035,
          0.0392156862745098,
          0.038461538461538464,
          0.05,
          0.125,
          0,
          0,
          0,
          0,
          0.1111111111111111,
          0,
          0.07407407407407407,
          0.02564102564102564,
          0.06451612903225806,
          0.038461538461538464,
          0.10810810810810811,
          0.05847953216374269,
          0.09375,
          0.03597122302158273,
          0.049723756906077346,
          0.034482758620689655,
          0.08496732026143791,
          0.08823529411764706,
          0.0380952380952381,
          0.020202020202020204,
          0.044444444444444446,
          0.041666666666666664,
          0.05128205128205128,
          0.045454545454545456,
          0,
          0.03333333333333333,
          0.037037037037037035,
          0.03225806451612903,
          0.06956521739130435,
          0.08974358974358974,
          0.033707865168539325,
          0.07017543859649122,
          0.07476635514018691,
          0.016129032258064516,
          0.0851063829787234,
          0.020202020202020204,
          0.04878048780487805,
          0.041237113402061855,
          0.12352941176470589,
          0.031496062992125984,
          0.04838709677419355,
          0.05944055944055944,
          0.05825242718446602,
          0.056338028169014086,
          0.018018018018018018,
          0.08064516129032258,
          0.07142857142857142,
          0.05555555555555555,
          0,
          0.024390243902439025,
          0.047058823529411764,
          0.07741935483870968,
          0.10810810810810811,
          0.06666666666666667
         ],
         "yaxis": "y"
        }
       ],
       "layout": {
        "height": 600,
        "legend": {
         "title": {
          "text": "variable"
         },
         "tracegroupgap": 0
        },
        "showlegend": true,
        "template": {
         "data": {
          "bar": [
           {
            "error_x": {
             "color": "#f2f5fa"
            },
            "error_y": {
             "color": "#f2f5fa"
            },
            "marker": {
             "line": {
              "color": "rgb(17,17,17)",
              "width": 0.5
             },
             "pattern": {
              "fillmode": "overlay",
              "size": 10,
              "solidity": 0.2
             }
            },
            "type": "bar"
           }
          ],
          "barpolar": [
           {
            "marker": {
             "line": {
              "color": "rgb(17,17,17)",
              "width": 0.5
             },
             "pattern": {
              "fillmode": "overlay",
              "size": 10,
              "solidity": 0.2
             }
            },
            "type": "barpolar"
           }
          ],
          "carpet": [
           {
            "aaxis": {
             "endlinecolor": "#A2B1C6",
             "gridcolor": "#506784",
             "linecolor": "#506784",
             "minorgridcolor": "#506784",
             "startlinecolor": "#A2B1C6"
            },
            "baxis": {
             "endlinecolor": "#A2B1C6",
             "gridcolor": "#506784",
             "linecolor": "#506784",
             "minorgridcolor": "#506784",
             "startlinecolor": "#A2B1C6"
            },
            "type": "carpet"
           }
          ],
          "choropleth": [
           {
            "colorbar": {
             "outlinewidth": 0,
             "ticks": ""
            },
            "type": "choropleth"
           }
          ],
          "contour": [
           {
            "colorbar": {
             "outlinewidth": 0,
             "ticks": ""
            },
            "colorscale": [
             [
              0,
              "#0d0887"
             ],
             [
              0.1111111111111111,
              "#46039f"
             ],
             [
              0.2222222222222222,
              "#7201a8"
             ],
             [
              0.3333333333333333,
              "#9c179e"
             ],
             [
              0.4444444444444444,
              "#bd3786"
             ],
             [
              0.5555555555555556,
              "#d8576b"
             ],
             [
              0.6666666666666666,
              "#ed7953"
             ],
             [
              0.7777777777777778,
              "#fb9f3a"
             ],
             [
              0.8888888888888888,
              "#fdca26"
             ],
             [
              1,
              "#f0f921"
             ]
            ],
            "type": "contour"
           }
          ],
          "contourcarpet": [
           {
            "colorbar": {
             "outlinewidth": 0,
             "ticks": ""
            },
            "type": "contourcarpet"
           }
          ],
          "heatmap": [
           {
            "colorbar": {
             "outlinewidth": 0,
             "ticks": ""
            },
            "colorscale": [
             [
              0,
              "#0d0887"
             ],
             [
              0.1111111111111111,
              "#46039f"
             ],
             [
              0.2222222222222222,
              "#7201a8"
             ],
             [
              0.3333333333333333,
              "#9c179e"
             ],
             [
              0.4444444444444444,
              "#bd3786"
             ],
             [
              0.5555555555555556,
              "#d8576b"
             ],
             [
              0.6666666666666666,
              "#ed7953"
             ],
             [
              0.7777777777777778,
              "#fb9f3a"
             ],
             [
              0.8888888888888888,
              "#fdca26"
             ],
             [
              1,
              "#f0f921"
             ]
            ],
            "type": "heatmap"
           }
          ],
          "heatmapgl": [
           {
            "colorbar": {
             "outlinewidth": 0,
             "ticks": ""
            },
            "colorscale": [
             [
              0,
              "#0d0887"
             ],
             [
              0.1111111111111111,
              "#46039f"
             ],
             [
              0.2222222222222222,
              "#7201a8"
             ],
             [
              0.3333333333333333,
              "#9c179e"
             ],
             [
              0.4444444444444444,
              "#bd3786"
             ],
             [
              0.5555555555555556,
              "#d8576b"
             ],
             [
              0.6666666666666666,
              "#ed7953"
             ],
             [
              0.7777777777777778,
              "#fb9f3a"
             ],
             [
              0.8888888888888888,
              "#fdca26"
             ],
             [
              1,
              "#f0f921"
             ]
            ],
            "type": "heatmapgl"
           }
          ],
          "histogram": [
           {
            "marker": {
             "pattern": {
              "fillmode": "overlay",
              "size": 10,
              "solidity": 0.2
             }
            },
            "type": "histogram"
           }
          ],
          "histogram2d": [
           {
            "colorbar": {
             "outlinewidth": 0,
             "ticks": ""
            },
            "colorscale": [
             [
              0,
              "#0d0887"
             ],
             [
              0.1111111111111111,
              "#46039f"
             ],
             [
              0.2222222222222222,
              "#7201a8"
             ],
             [
              0.3333333333333333,
              "#9c179e"
             ],
             [
              0.4444444444444444,
              "#bd3786"
             ],
             [
              0.5555555555555556,
              "#d8576b"
             ],
             [
              0.6666666666666666,
              "#ed7953"
             ],
             [
              0.7777777777777778,
              "#fb9f3a"
             ],
             [
              0.8888888888888888,
              "#fdca26"
             ],
             [
              1,
              "#f0f921"
             ]
            ],
            "type": "histogram2d"
           }
          ],
          "histogram2dcontour": [
           {
            "colorbar": {
             "outlinewidth": 0,
             "ticks": ""
            },
            "colorscale": [
             [
              0,
              "#0d0887"
             ],
             [
              0.1111111111111111,
              "#46039f"
             ],
             [
              0.2222222222222222,
              "#7201a8"
             ],
             [
              0.3333333333333333,
              "#9c179e"
             ],
             [
              0.4444444444444444,
              "#bd3786"
             ],
             [
              0.5555555555555556,
              "#d8576b"
             ],
             [
              0.6666666666666666,
              "#ed7953"
             ],
             [
              0.7777777777777778,
              "#fb9f3a"
             ],
             [
              0.8888888888888888,
              "#fdca26"
             ],
             [
              1,
              "#f0f921"
             ]
            ],
            "type": "histogram2dcontour"
           }
          ],
          "mesh3d": [
           {
            "colorbar": {
             "outlinewidth": 0,
             "ticks": ""
            },
            "type": "mesh3d"
           }
          ],
          "parcoords": [
           {
            "line": {
             "colorbar": {
              "outlinewidth": 0,
              "ticks": ""
             }
            },
            "type": "parcoords"
           }
          ],
          "pie": [
           {
            "automargin": true,
            "type": "pie"
           }
          ],
          "scatter": [
           {
            "marker": {
             "line": {
              "color": "#283442"
             }
            },
            "type": "scatter"
           }
          ],
          "scatter3d": [
           {
            "line": {
             "colorbar": {
              "outlinewidth": 0,
              "ticks": ""
             }
            },
            "marker": {
             "colorbar": {
              "outlinewidth": 0,
              "ticks": ""
             }
            },
            "type": "scatter3d"
           }
          ],
          "scattercarpet": [
           {
            "marker": {
             "colorbar": {
              "outlinewidth": 0,
              "ticks": ""
             }
            },
            "type": "scattercarpet"
           }
          ],
          "scattergeo": [
           {
            "marker": {
             "colorbar": {
              "outlinewidth": 0,
              "ticks": ""
             }
            },
            "type": "scattergeo"
           }
          ],
          "scattergl": [
           {
            "marker": {
             "line": {
              "color": "#283442"
             }
            },
            "type": "scattergl"
           }
          ],
          "scattermapbox": [
           {
            "marker": {
             "colorbar": {
              "outlinewidth": 0,
              "ticks": ""
             }
            },
            "type": "scattermapbox"
           }
          ],
          "scatterpolar": [
           {
            "marker": {
             "colorbar": {
              "outlinewidth": 0,
              "ticks": ""
             }
            },
            "type": "scatterpolar"
           }
          ],
          "scatterpolargl": [
           {
            "marker": {
             "colorbar": {
              "outlinewidth": 0,
              "ticks": ""
             }
            },
            "type": "scatterpolargl"
           }
          ],
          "scatterternary": [
           {
            "marker": {
             "colorbar": {
              "outlinewidth": 0,
              "ticks": ""
             }
            },
            "type": "scatterternary"
           }
          ],
          "surface": [
           {
            "colorbar": {
             "outlinewidth": 0,
             "ticks": ""
            },
            "colorscale": [
             [
              0,
              "#0d0887"
             ],
             [
              0.1111111111111111,
              "#46039f"
             ],
             [
              0.2222222222222222,
              "#7201a8"
             ],
             [
              0.3333333333333333,
              "#9c179e"
             ],
             [
              0.4444444444444444,
              "#bd3786"
             ],
             [
              0.5555555555555556,
              "#d8576b"
             ],
             [
              0.6666666666666666,
              "#ed7953"
             ],
             [
              0.7777777777777778,
              "#fb9f3a"
             ],
             [
              0.8888888888888888,
              "#fdca26"
             ],
             [
              1,
              "#f0f921"
             ]
            ],
            "type": "surface"
           }
          ],
          "table": [
           {
            "cells": {
             "fill": {
              "color": "#506784"
             },
             "line": {
              "color": "rgb(17,17,17)"
             }
            },
            "header": {
             "fill": {
              "color": "#2a3f5f"
             },
             "line": {
              "color": "rgb(17,17,17)"
             }
            },
            "type": "table"
           }
          ]
         },
         "layout": {
          "annotationdefaults": {
           "arrowcolor": "#f2f5fa",
           "arrowhead": 0,
           "arrowwidth": 1
          },
          "autotypenumbers": "strict",
          "coloraxis": {
           "colorbar": {
            "outlinewidth": 0,
            "ticks": ""
           }
          },
          "colorscale": {
           "diverging": [
            [
             0,
             "#8e0152"
            ],
            [
             0.1,
             "#c51b7d"
            ],
            [
             0.2,
             "#de77ae"
            ],
            [
             0.3,
             "#f1b6da"
            ],
            [
             0.4,
             "#fde0ef"
            ],
            [
             0.5,
             "#f7f7f7"
            ],
            [
             0.6,
             "#e6f5d0"
            ],
            [
             0.7,
             "#b8e186"
            ],
            [
             0.8,
             "#7fbc41"
            ],
            [
             0.9,
             "#4d9221"
            ],
            [
             1,
             "#276419"
            ]
           ],
           "sequential": [
            [
             0,
             "#0d0887"
            ],
            [
             0.1111111111111111,
             "#46039f"
            ],
            [
             0.2222222222222222,
             "#7201a8"
            ],
            [
             0.3333333333333333,
             "#9c179e"
            ],
            [
             0.4444444444444444,
             "#bd3786"
            ],
            [
             0.5555555555555556,
             "#d8576b"
            ],
            [
             0.6666666666666666,
             "#ed7953"
            ],
            [
             0.7777777777777778,
             "#fb9f3a"
            ],
            [
             0.8888888888888888,
             "#fdca26"
            ],
            [
             1,
             "#f0f921"
            ]
           ],
           "sequentialminus": [
            [
             0,
             "#0d0887"
            ],
            [
             0.1111111111111111,
             "#46039f"
            ],
            [
             0.2222222222222222,
             "#7201a8"
            ],
            [
             0.3333333333333333,
             "#9c179e"
            ],
            [
             0.4444444444444444,
             "#bd3786"
            ],
            [
             0.5555555555555556,
             "#d8576b"
            ],
            [
             0.6666666666666666,
             "#ed7953"
            ],
            [
             0.7777777777777778,
             "#fb9f3a"
            ],
            [
             0.8888888888888888,
             "#fdca26"
            ],
            [
             1,
             "#f0f921"
            ]
           ]
          },
          "colorway": [
           "#636efa",
           "#EF553B",
           "#00cc96",
           "#ab63fa",
           "#FFA15A",
           "#19d3f3",
           "#FF6692",
           "#B6E880",
           "#FF97FF",
           "#FECB52"
          ],
          "font": {
           "color": "#f2f5fa"
          },
          "geo": {
           "bgcolor": "rgb(17,17,17)",
           "lakecolor": "rgb(17,17,17)",
           "landcolor": "rgb(17,17,17)",
           "showlakes": true,
           "showland": true,
           "subunitcolor": "#506784"
          },
          "hoverlabel": {
           "align": "left"
          },
          "hovermode": "closest",
          "mapbox": {
           "style": "dark"
          },
          "paper_bgcolor": "rgb(17,17,17)",
          "plot_bgcolor": "rgb(17,17,17)",
          "polar": {
           "angularaxis": {
            "gridcolor": "#506784",
            "linecolor": "#506784",
            "ticks": ""
           },
           "bgcolor": "rgb(17,17,17)",
           "radialaxis": {
            "gridcolor": "#506784",
            "linecolor": "#506784",
            "ticks": ""
           }
          },
          "scene": {
           "xaxis": {
            "backgroundcolor": "rgb(17,17,17)",
            "gridcolor": "#506784",
            "gridwidth": 2,
            "linecolor": "#506784",
            "showbackground": true,
            "ticks": "",
            "zerolinecolor": "#C8D4E3"
           },
           "yaxis": {
            "backgroundcolor": "rgb(17,17,17)",
            "gridcolor": "#506784",
            "gridwidth": 2,
            "linecolor": "#506784",
            "showbackground": true,
            "ticks": "",
            "zerolinecolor": "#C8D4E3"
           },
           "zaxis": {
            "backgroundcolor": "rgb(17,17,17)",
            "gridcolor": "#506784",
            "gridwidth": 2,
            "linecolor": "#506784",
            "showbackground": true,
            "ticks": "",
            "zerolinecolor": "#C8D4E3"
           }
          },
          "shapedefaults": {
           "line": {
            "color": "#f2f5fa"
           }
          },
          "sliderdefaults": {
           "bgcolor": "#C8D4E3",
           "bordercolor": "rgb(17,17,17)",
           "borderwidth": 1,
           "tickwidth": 0
          },
          "ternary": {
           "aaxis": {
            "gridcolor": "#506784",
            "linecolor": "#506784",
            "ticks": ""
           },
           "baxis": {
            "gridcolor": "#506784",
            "linecolor": "#506784",
            "ticks": ""
           },
           "bgcolor": "rgb(17,17,17)",
           "caxis": {
            "gridcolor": "#506784",
            "linecolor": "#506784",
            "ticks": ""
           }
          },
          "title": {
           "x": 0.05
          },
          "updatemenudefaults": {
           "bgcolor": "#506784",
           "borderwidth": 0
          },
          "xaxis": {
           "automargin": true,
           "gridcolor": "#283442",
           "linecolor": "#506784",
           "ticks": "",
           "title": {
            "standoff": 15
           },
           "zerolinecolor": "#283442",
           "zerolinewidth": 2
          },
          "yaxis": {
           "automargin": true,
           "gridcolor": "#283442",
           "linecolor": "#506784",
           "ticks": "",
           "title": {
            "standoff": 15
           },
           "zerolinecolor": "#283442",
           "zerolinewidth": 2
          }
         }
        },
        "title": {
         "text": "Linea de tiempo de evolución de los sentimiento | Marco Temporal: 60T"
        },
        "width": 1200,
        "xaxis": {
         "anchor": "y",
         "domain": [
          0,
          1
         ],
         "title": {
          "text": "datetime"
         }
        },
        "yaxis": {
         "anchor": "x",
         "domain": [
          0,
          1
         ],
         "title": {
          "text": "value"
         }
        }
       }
      }
     },
     "metadata": {},
     "output_type": "display_data"
    }
   ],
   "source": [
    "figure.show()\n"
   ]
  },
  {
   "cell_type": "code",
   "execution_count": null,
   "metadata": {},
   "outputs": [],
   "source": []
  }
 ],
 "metadata": {
  "kernelspec": {
   "display_name": "Python 3 (ipykernel)",
   "language": "python",
   "name": "python3"
  },
  "language_info": {
   "codemirror_mode": {
    "name": "ipython",
    "version": 3
   },
   "file_extension": ".py",
   "mimetype": "text/x-python",
   "name": "python",
   "nbconvert_exporter": "python",
   "pygments_lexer": "ipython3",
   "version": "3.11.4"
  }
 },
 "nbformat": 4,
 "nbformat_minor": 5
}
