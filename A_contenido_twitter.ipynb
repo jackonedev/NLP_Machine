{
 "cells": [
  {
   "cell_type": "markdown",
   "id": "17286371-fa62-4bf7-8b94-ddfca63fc876",
   "metadata": {},
   "source": [
    "# BIENVENIDO!\n",
    "\n",
    "<br />\n",
    "\n",
    "## PROCESAMIENTO DE CSV PARA TWITTER\n",
    "\n",
    "## Clasificación de sentimientos y emociones\n",
    "\n",
    "**Por favor, el nombre del archivo \".csv\" que esté escrito todo en minúsculas y que no use \"_\"**\n",
    "\n",
    "**Es para evitar conflictos con la interface lógica**\n",
    "\n",
    "**El usuario debe configurar variables en la 2da Celda**\n",
    "\n",
    "**Ingrese el nombre del archivo y el valor True en la red social correspondiente**\n",
    "\n",
    "**Asegurese de que haya un solo filtro de red social activado poniendo False en el otro valor**\n",
    "\n",
    "<br />\n",
    "<br />\n",
    "\n",
    "**Comandos Jupyter Notebook:**<br />\n",
    "\n",
    "<br />\n",
    "<center><b>\n",
    "\n",
    "```\n",
    "shift + enter: ejecutar celda y pasar a la celda siguiente\n",
    "\n",
    "ctrl + enter: ejecutar celda y quedarse en la celda correspondiente\n",
    "```\n",
    "\n",
    "</b></center>\n",
    "<br />\n",
    "<br />\n",
    "<br />\n",
    "<br />"
   ]
  },
  {
   "cell_type": "code",
   "execution_count": 1,
   "id": "1c514ef8-480e-47a4-8800-ea5663c3ad71",
   "metadata": {},
   "outputs": [
    {
     "name": "stdout",
     "output_type": "stream",
     "text": [
      "GPU disponible, otorgada mediante el id: cuda:0\n"
     ]
    }
   ],
   "source": [
    "import pickle\n",
    "import pandas as pd\n",
    "from transformers import pipeline, AutoTokenizer, AutoModelForSequenceClassification, TextClassificationPipeline\n",
    "import torch\n",
    "import time\n",
    "\n",
    "\n",
    "# APP Reputación Digital\n",
    "from app.time_series import TimeSeries\n",
    "from app.m1_sentiment import M1_sentiment\n",
    "from app.m2_emotions import M2_emotions\n",
    "from app.m3_emotions import M3_emotions\n",
    "\n",
    "# Librería Reputación Digital\n",
    "from tools.feed import data_info"
   ]
  },
  {
   "cell_type": "markdown",
   "id": "12b3112f-4b12-44b5-b199-8056bd6f1372",
   "metadata": {},
   "source": [
    "**Configurar archivo de lectura y filtro correspondiente:**"
   ]
  },
  {
   "cell_type": "code",
   "execution_count": 2,
   "id": "b76e2e2f-87ce-4a58-aa47-49e02e294153",
   "metadata": {},
   "outputs": [],
   "source": [
    "## INPUT USUARIO\n",
    "\n",
    "archivo_lectura = \"panorama-economico.csv\" # 3000 registros\n",
    "\n",
    "## INPUT USUARIO"
   ]
  },
  {
   "cell_type": "code",
   "execution_count": null,
   "id": "4c078122-3358-4dbd-9c61-a9d17b53e79d",
   "metadata": {},
   "outputs": [],
   "source": []
  },
  {
   "cell_type": "code",
   "execution_count": 3,
   "id": "1203285c-1509-40bf-a452-04688ab60ada",
   "metadata": {},
   "outputs": [
    {
     "name": "stdout",
     "output_type": "stream",
     "text": [
      "Ejecutando time_series/TimeSeries.py\n",
      "\n",
      "Cargando configuración...\n",
      "Ejecutando time_series/main.py\n",
      "\n",
      "\n",
      "    Resumen de la apertura de .csv:\n",
      "\n",
      "                columna  Nan  pct_nan   dtype  count  pct_reg  count_unique\n",
      "0        @timestamp    0      0.0  object   6681    100.0          3587\n",
      "1            author    0      0.0  object   6681    100.0          5312\n",
      "2           content    0      0.0  object   6681    100.0          6305\n",
      "3            source    0      0.0  object   6681    100.0          6322\n",
      "4  rt_retweet_count    0      0.0  object   6681    100.0            19\n",
      "5     retweet_count    0      0.0  object   6681    100.0           101\n",
      "    \n",
      "1. Limpieza del content\n",
      "\n",
      "Longitud del batch de contenidos: 6681\n",
      "Tamaño de la muestra neta: 6339\n",
      "Directorio de salida:\n",
      "c:\\Users\\Agustin\\Desktop\\RD\\Octubre\\RD_APP\\output\\panorama-economico\n",
      "programa finalizado de forma exitosa\n"
     ]
    }
   ],
   "source": [
    "# CARGAR DATASET DE PROCESAMIENTO\n",
    "path = TimeSeries.main(archivo_lectura)\n",
    "path = path.rsplit(\"shared_resources\", 1)[1][1:]"
   ]
  },
  {
   "cell_type": "code",
   "execution_count": 4,
   "id": "f0a8d54f-29bf-49ea-bd4a-667c5f864d3c",
   "metadata": {},
   "outputs": [
    {
     "name": "stdout",
     "output_type": "stream",
     "text": [
      "Cargando configuración...\n",
      "Leyendo fichero...\n",
      "Fichero leído con éxito.\n",
      "\n",
      "Ejecutando modelo optimizado con 4 hilos...\n",
      "Modelo - clasificación de sentimientos: cardiffnlp/twitter-xlm-roberta-base-sentiment\n"
     ]
    },
    {
     "name": "stderr",
     "output_type": "stream",
     "text": [
      "c:\\Users\\Agustin\\Desktop\\RD\\Octubre\\RD_APP\\venv\\Lib\\site-packages\\transformers\\pipelines\\base.py:1101: UserWarning: You seem to be using the pipelines sequentially on GPU. In order to maximize efficiency please use a dataset\n",
      "  warnings.warn(\n"
     ]
    },
    {
     "name": "stdout",
     "output_type": "stream",
     "text": [
      "Tiempo de ejecución del modelo:  418.6524543762207\n",
      "Ensamble de las predicciones\n",
      "Predicción de sentimientos finalizada.\n"
     ]
    },
    {
     "data": {
      "text/html": [
       "<div>\n",
       "<style scoped>\n",
       "    .dataframe tbody tr th:only-of-type {\n",
       "        vertical-align: middle;\n",
       "    }\n",
       "\n",
       "    .dataframe tbody tr th {\n",
       "        vertical-align: top;\n",
       "    }\n",
       "\n",
       "    .dataframe thead th {\n",
       "        text-align: right;\n",
       "    }\n",
       "</style>\n",
       "<table border=\"1\" class=\"dataframe\">\n",
       "  <thead>\n",
       "    <tr style=\"text-align: right;\">\n",
       "      <th></th>\n",
       "      <th>@timestamp</th>\n",
       "      <th>author</th>\n",
       "      <th>content</th>\n",
       "      <th>source</th>\n",
       "      <th>rt_retweet_count</th>\n",
       "      <th>retweet_count</th>\n",
       "      <th>usuarios_mencionados</th>\n",
       "      <th>hashtags</th>\n",
       "      <th>datetime</th>\n",
       "      <th>date_str</th>\n",
       "      <th>time_str</th>\n",
       "      <th>sentiment_i</th>\n",
       "      <th>score_sentiment_i</th>\n",
       "    </tr>\n",
       "  </thead>\n",
       "  <tbody>\n",
       "    <tr>\n",
       "      <th>0</th>\n",
       "      <td>Oct 24, 2023 @ 14:54:00.000</td>\n",
       "      <td>jonathanlrusty</td>\n",
       "      <td>ricardo es peronita es verdad y odia los neoli...</td>\n",
       "      <td>https://twitter.com/jonathanlrusty/status/1716...</td>\n",
       "      <td>0</td>\n",
       "      <td>0</td>\n",
       "      <td>[@vickyvillarruel]</td>\n",
       "      <td>NaN</td>\n",
       "      <td>2023-10-24 14:54:00</td>\n",
       "      <td>2023-10-24</td>\n",
       "      <td>14:54:00</td>\n",
       "      <td>negative</td>\n",
       "      <td>0.890897</td>\n",
       "    </tr>\n",
       "    <tr>\n",
       "      <th>1</th>\n",
       "      <td>Oct 24, 2023 @ 14:53:00.000</td>\n",
       "      <td>PatataDelNether</td>\n",
       "      <td>la inflacion que anda manejando el super minis...</td>\n",
       "      <td>https://twitter.com/PatataDelNether/status/171...</td>\n",
       "      <td>0</td>\n",
       "      <td>0</td>\n",
       "      <td>[@braceras_tomas, @eleccionesdatos]</td>\n",
       "      <td>NaN</td>\n",
       "      <td>2023-10-24 14:53:00</td>\n",
       "      <td>2023-10-24</td>\n",
       "      <td>14:53:00</td>\n",
       "      <td>neutral</td>\n",
       "      <td>0.755666</td>\n",
       "    </tr>\n",
       "    <tr>\n",
       "      <th>2</th>\n",
       "      <td>Oct 24, 2023 @ 14:52:00.000</td>\n",
       "      <td>Jcgomez0867</td>\n",
       "      <td>todos no hay casi un 40% o mas que eligen pobr...</td>\n",
       "      <td>https://twitter.com/Jcgomez0867/status/1716875...</td>\n",
       "      <td>0</td>\n",
       "      <td>0</td>\n",
       "      <td>[@vickyvillarruel, @jmilei]</td>\n",
       "      <td>NaN</td>\n",
       "      <td>2023-10-24 14:52:00</td>\n",
       "      <td>2023-10-24</td>\n",
       "      <td>14:52:00</td>\n",
       "      <td>negative</td>\n",
       "      <td>0.672256</td>\n",
       "    </tr>\n",
       "  </tbody>\n",
       "</table>\n",
       "</div>"
      ],
      "text/plain": [
       "                    @timestamp           author  \\\n",
       "0  Oct 24, 2023 @ 14:54:00.000   jonathanlrusty   \n",
       "1  Oct 24, 2023 @ 14:53:00.000  PatataDelNether   \n",
       "2  Oct 24, 2023 @ 14:52:00.000      Jcgomez0867   \n",
       "\n",
       "                                             content  \\\n",
       "0  ricardo es peronita es verdad y odia los neoli...   \n",
       "1  la inflacion que anda manejando el super minis...   \n",
       "2  todos no hay casi un 40% o mas que eligen pobr...   \n",
       "\n",
       "                                              source rt_retweet_count  \\\n",
       "0  https://twitter.com/jonathanlrusty/status/1716...                0   \n",
       "1  https://twitter.com/PatataDelNether/status/171...                0   \n",
       "2  https://twitter.com/Jcgomez0867/status/1716875...                0   \n",
       "\n",
       "  retweet_count                 usuarios_mencionados hashtags  \\\n",
       "0             0                   [@vickyvillarruel]      NaN   \n",
       "1             0  [@braceras_tomas, @eleccionesdatos]      NaN   \n",
       "2             0          [@vickyvillarruel, @jmilei]      NaN   \n",
       "\n",
       "             datetime    date_str  time_str sentiment_i  score_sentiment_i  \n",
       "0 2023-10-24 14:54:00  2023-10-24  14:54:00    negative           0.890897  \n",
       "1 2023-10-24 14:53:00  2023-10-24  14:53:00     neutral           0.755666  \n",
       "2 2023-10-24 14:52:00  2023-10-24  14:52:00    negative           0.672256  "
      ]
     },
     "execution_count": 4,
     "metadata": {},
     "output_type": "execute_result"
    }
   ],
   "source": [
    "# PREDICCION DE SENTIMIENTO # 6340 datos = x143 segundos | 7 minutos\n",
    "df = M1_sentiment.main_shared_resources(path)\n",
    "df.head(3)"
   ]
  },
  {
   "cell_type": "code",
   "execution_count": 5,
   "id": "05eae622-70e3-49fb-ac14-b8c9df7660c8",
   "metadata": {},
   "outputs": [
    {
     "ename": "AttributeError",
     "evalue": "module 'app.m2_emotions.M2_emotions' has no attribute 'emotions_features'",
     "output_type": "error",
     "traceback": [
      "\u001b[1;31m---------------------------------------------------------------------------\u001b[0m",
      "\u001b[1;31mAttributeError\u001b[0m                            Traceback (most recent call last)",
      "\u001b[1;32mc:\\Users\\Agustin\\Desktop\\RD\\Octubre\\RD_APP\\A_contenido_twitter.ipynb Cell 8\u001b[0m line \u001b[0;36m1\n\u001b[0;32m     <a href='vscode-notebook-cell:/c%3A/Users/Agustin/Desktop/RD/Octubre/RD_APP/A_contenido_twitter.ipynb#X10sZmlsZQ%3D%3D?line=10'>11</a>\u001b[0m \u001b[39m# Realizar predicción y ajustar resultados\u001b[39;00m\n\u001b[0;32m     <a href='vscode-notebook-cell:/c%3A/Users/Agustin/Desktop/RD/Octubre/RD_APP/A_contenido_twitter.ipynb#X10sZmlsZQ%3D%3D?line=11'>12</a>\u001b[0m predictions \u001b[39m=\u001b[39m M2_emotions\u001b[39m.\u001b[39mclassify_tweets(pipeline_i, df, target\u001b[39m=\u001b[39m\u001b[39m\"\u001b[39m\u001b[39mcontent\u001b[39m\u001b[39m\"\u001b[39m)\n\u001b[1;32m---> <a href='vscode-notebook-cell:/c%3A/Users/Agustin/Desktop/RD/Octubre/RD_APP/A_contenido_twitter.ipynb#X10sZmlsZQ%3D%3D?line=12'>13</a>\u001b[0m predictions \u001b[39m=\u001b[39m M2_emotions\u001b[39m.\u001b[39;49memotions_features(predictions)\n\u001b[0;32m     <a href='vscode-notebook-cell:/c%3A/Users/Agustin/Desktop/RD/Octubre/RD_APP/A_contenido_twitter.ipynb#X10sZmlsZQ%3D%3D?line=14'>15</a>\u001b[0m \u001b[39m# update dataset\u001b[39;00m\n\u001b[0;32m     <a href='vscode-notebook-cell:/c%3A/Users/Agustin/Desktop/RD/Octubre/RD_APP/A_contenido_twitter.ipynb#X10sZmlsZQ%3D%3D?line=15'>16</a>\u001b[0m df \u001b[39m=\u001b[39m pd\u001b[39m.\u001b[39mconcat([df, predictions], axis\u001b[39m=\u001b[39m\u001b[39m1\u001b[39m)\n",
      "\u001b[1;31mAttributeError\u001b[0m: module 'app.m2_emotions.M2_emotions' has no attribute 'emotions_features'"
     ]
    }
   ],
   "source": [
    "# PREDICCION DE LAS EMOCIONES I # 6340 datos # 249 seg\n",
    "start = time.time()\n",
    "device = torch.device(\"cuda\" if torch.cuda.is_available() else \"cpu\")\n",
    "\n",
    "MODEL = \"02shanky/finetuned-twitter-xlm-roberta-base-emotion\"\n",
    "tokenizer_i = AutoTokenizer.from_pretrained(MODEL)\n",
    "model_i = AutoModelForSequenceClassification.from_pretrained(MODEL)\n",
    "\n",
    "pipeline_i = pipeline('text-classification', model=model_i, tokenizer=tokenizer_i, device=device, top_k=None)\n",
    "\n",
    "# Realizar predicción y ajustar resultados\n",
    "predictions = M2_emotions.classify_tweets(pipeline_i, df, target=\"content\")\n",
    "\n",
    "predictions = M2_emotions.emotions_features(predictions)\n",
    "\n",
    "# update dataset\n",
    "df = pd.concat([df, predictions], axis=1)\n",
    "end = time.time()\n",
    "\n",
    "print(f\"tiempo de ejecución: {end - start} segs\")"
   ]
  },
  {
   "cell_type": "code",
   "execution_count": 6,
   "metadata": {},
   "outputs": [],
   "source": [
    "def emotions_features(prediction:list) -> pd.DataFrame:\n",
    "# Crear una lista para almacenar los datos de cada columna\n",
    "  label_columns = []\n",
    "  score_columns = []\n",
    "  max_label_column = []\n",
    "\n",
    "  # Recorrer la lista de predicciones\n",
    "  for prediction in predictions:\n",
    "      labels = []\n",
    "      scores = []\n",
    "      max_score = 0\n",
    "      max_label = ''\n",
    "\n",
    "      # Recorrer cada predicción dentro de la lista\n",
    "      for pred in prediction:\n",
    "          label = pred['label']\n",
    "          score = pred['score']\n",
    "\n",
    "          labels.append(label)\n",
    "          scores.append(score)\n",
    "\n",
    "          # Actualizar la etiqueta con el mayor puntaje\n",
    "          if score > max_score:\n",
    "              max_score = score\n",
    "              max_label = label\n",
    "\n",
    "      label_columns.append(labels)\n",
    "      score_columns.append(scores)\n",
    "      max_label_column.append(max_label)\n",
    "\n",
    "  # Crear el DataFrame con las columnas correspondientes\n",
    "  df = pd.DataFrame(\n",
    "    {'emotions_6_labels': label_columns,\n",
    "     'emotions_6_scores': score_columns,\n",
    "     'emotions_6_max_label': max_label_column}\n",
    "    )\n",
    "\n",
    "  return df"
   ]
  },
  {
   "cell_type": "code",
   "execution_count": 7,
   "metadata": {},
   "outputs": [],
   "source": [
    "predictions = emotions_features(predictions)\n",
    "\n",
    "# update dataset\n",
    "df = pd.concat([df, predictions], axis=1)"
   ]
  },
  {
   "cell_type": "code",
   "execution_count": 8,
   "id": "7ee29db4-fd1f-4ba2-a690-1f79f0b1b22c",
   "metadata": {},
   "outputs": [
    {
     "data": {
      "application/vnd.jupyter.widget-view+json": {
       "model_id": "2a9b92f02ac44e198a2fe160af9cfee7",
       "version_major": 2,
       "version_minor": 0
      },
      "text/plain": [
       "Downloading (…)lve/main/config.json:   0%|          | 0.00/1.75k [00:00<?, ?B/s]"
      ]
     },
     "metadata": {},
     "output_type": "display_data"
    },
    {
     "name": "stderr",
     "output_type": "stream",
     "text": [
      "c:\\Users\\Agustin\\Desktop\\RD\\Octubre\\RD_APP\\venv\\Lib\\site-packages\\huggingface_hub\\file_download.py:137: UserWarning: `huggingface_hub` cache-system uses symlinks by default to efficiently store duplicated files but your machine does not support them in C:\\Users\\Agustin\\.cache\\huggingface\\hub. Caching files will still work but in a degraded version that might require more space on your disk. This warning can be disabled by setting the `HF_HUB_DISABLE_SYMLINKS_WARNING` environment variable. For more details, see https://huggingface.co/docs/huggingface_hub/how-to-cache#limitations.\n",
      "To support symlinks on Windows, you either need to activate Developer Mode or to run Python as an administrator. In order to see activate developer mode, see this article: https://docs.microsoft.com/en-us/windows/apps/get-started/enable-your-device-for-development\n",
      "  warnings.warn(message)\n"
     ]
    },
    {
     "data": {
      "application/vnd.jupyter.widget-view+json": {
       "model_id": "d6076c5114f84279b71d2e582e9be682",
       "version_major": 2,
       "version_minor": 0
      },
      "text/plain": [
       "Downloading pytorch_model.bin:   0%|          | 0.00/268M [00:00<?, ?B/s]"
      ]
     },
     "metadata": {},
     "output_type": "display_data"
    },
    {
     "data": {
      "application/vnd.jupyter.widget-view+json": {
       "model_id": "e949bce0648a47059bb83f9a25d40bad",
       "version_major": 2,
       "version_minor": 0
      },
      "text/plain": [
       "Downloading (…)okenizer_config.json:   0%|          | 0.00/421 [00:00<?, ?B/s]"
      ]
     },
     "metadata": {},
     "output_type": "display_data"
    },
    {
     "data": {
      "application/vnd.jupyter.widget-view+json": {
       "model_id": "7b94cfb2f7dd4ebea98855cfb66a7527",
       "version_major": 2,
       "version_minor": 0
      },
      "text/plain": [
       "Downloading (…)solve/main/vocab.txt:   0%|          | 0.00/232k [00:00<?, ?B/s]"
      ]
     },
     "metadata": {},
     "output_type": "display_data"
    },
    {
     "data": {
      "application/vnd.jupyter.widget-view+json": {
       "model_id": "ed2e487d7cb14772b2c61e87efb81c4e",
       "version_major": 2,
       "version_minor": 0
      },
      "text/plain": [
       "Downloading (…)cial_tokens_map.json:   0%|          | 0.00/112 [00:00<?, ?B/s]"
      ]
     },
     "metadata": {},
     "output_type": "display_data"
    },
    {
     "name": "stdout",
     "output_type": "stream",
     "text": [
      "tiempo de ejecución: 895.9039707183838 segs\n"
     ]
    }
   ],
   "source": [
    "# CLASIFICACION DE EMOCIONES II # 6340 datos # 183 seg\n",
    "\"\"\"\n",
    "Acá vale una aclaración con respecto a los scores.\n",
    "Por lo general, un modelo predice etiquetas, y \n",
    "le otorga un score entre 0 y 1 a cada etiqueta.\n",
    "\n",
    "Este modelo no, lo que hace es generar etiquetas,\n",
    "a cada etiqueta le otorga un score, y la suma de\n",
    "todos los scores es igual a 1.\n",
    "\"\"\"\n",
    "\n",
    "start = time.time()\n",
    "device = torch.device(\"cuda\" if torch.cuda.is_available() else \"cpu\")\n",
    "\n",
    "MODEL_NAME = \"joeddav/distilbert-base-uncased-go-emotions-student\"\n",
    "model_ii = AutoModelForSequenceClassification.from_pretrained(MODEL_NAME)\n",
    "tokenizer_ii = AutoTokenizer.from_pretrained(MODEL_NAME)\n",
    "\n",
    "pipeline_ii = TextClassificationPipeline(model=model_ii, tokenizer=tokenizer_ii, device=device, top_k=None)\n",
    "\n",
    "predictions = M3_emotions.classify_tweets(pipeline_ii, df, target=\"content\")\n",
    "predictions = M3_emotions.emotions_features(predictions)\n",
    "\n",
    "df = pd.concat([df, predictions], axis=1)\n",
    "\n",
    "end = time.time()\n",
    "print(f\"tiempo de ejecución: {end - start} segs\")"
   ]
  },
  {
   "cell_type": "code",
   "execution_count": 9,
   "id": "985bd4ed-a700-4dbb-96ca-961450c0ae93",
   "metadata": {},
   "outputs": [
    {
     "data": {
      "text/html": [
       "<div>\n",
       "<style scoped>\n",
       "    .dataframe tbody tr th:only-of-type {\n",
       "        vertical-align: middle;\n",
       "    }\n",
       "\n",
       "    .dataframe tbody tr th {\n",
       "        vertical-align: top;\n",
       "    }\n",
       "\n",
       "    .dataframe thead th {\n",
       "        text-align: right;\n",
       "    }\n",
       "</style>\n",
       "<table border=\"1\" class=\"dataframe\">\n",
       "  <thead>\n",
       "    <tr style=\"text-align: right;\">\n",
       "      <th></th>\n",
       "      <th>@timestamp</th>\n",
       "      <th>author</th>\n",
       "      <th>content</th>\n",
       "      <th>source</th>\n",
       "      <th>rt_retweet_count</th>\n",
       "      <th>retweet_count</th>\n",
       "      <th>usuarios_mencionados</th>\n",
       "      <th>hashtags</th>\n",
       "      <th>datetime</th>\n",
       "      <th>date_str</th>\n",
       "      <th>time_str</th>\n",
       "      <th>sentiment_i</th>\n",
       "      <th>score_sentiment_i</th>\n",
       "      <th>emotions_6_labels</th>\n",
       "      <th>emotions_6_scores</th>\n",
       "      <th>emotions_6_max_label</th>\n",
       "      <th>emotions_26_labels</th>\n",
       "      <th>emotions_26_scores</th>\n",
       "      <th>emotions_26_max_label</th>\n",
       "    </tr>\n",
       "  </thead>\n",
       "  <tbody>\n",
       "    <tr>\n",
       "      <th>0</th>\n",
       "      <td>Oct 24, 2023 @ 14:54:00.000</td>\n",
       "      <td>jonathanlrusty</td>\n",
       "      <td>ricardo es peronita es verdad y odia los neoli...</td>\n",
       "      <td>https://twitter.com/jonathanlrusty/status/1716...</td>\n",
       "      <td>0</td>\n",
       "      <td>0</td>\n",
       "      <td>[@vickyvillarruel]</td>\n",
       "      <td>NaN</td>\n",
       "      <td>2023-10-24 14:54:00</td>\n",
       "      <td>2023-10-24</td>\n",
       "      <td>14:54:00</td>\n",
       "      <td>negative</td>\n",
       "      <td>0.890897</td>\n",
       "      <td>[anger, sadness, joy, love, fear, surprise]</td>\n",
       "      <td>[0.9738480448722839, 0.01934608817100525, 0.00...</td>\n",
       "      <td>anger</td>\n",
       "      <td>[curiosity, confusion, excitement, caring, app...</td>\n",
       "      <td>[0.10054995864629745, 0.0963403582572937, 0.05...</td>\n",
       "      <td>curiosity</td>\n",
       "    </tr>\n",
       "    <tr>\n",
       "      <th>1</th>\n",
       "      <td>Oct 24, 2023 @ 14:53:00.000</td>\n",
       "      <td>PatataDelNether</td>\n",
       "      <td>la inflacion que anda manejando el super minis...</td>\n",
       "      <td>https://twitter.com/PatataDelNether/status/171...</td>\n",
       "      <td>0</td>\n",
       "      <td>0</td>\n",
       "      <td>[@braceras_tomas, @eleccionesdatos]</td>\n",
       "      <td>NaN</td>\n",
       "      <td>2023-10-24 14:53:00</td>\n",
       "      <td>2023-10-24</td>\n",
       "      <td>14:53:00</td>\n",
       "      <td>neutral</td>\n",
       "      <td>0.755666</td>\n",
       "      <td>[joy, surprise, anger, fear, sadness, love]</td>\n",
       "      <td>[0.9934844374656677, 0.0027044026646763086, 0....</td>\n",
       "      <td>joy</td>\n",
       "      <td>[neutral, desire, realization, approval, disap...</td>\n",
       "      <td>[0.063914455473423, 0.05584322661161423, 0.054...</td>\n",
       "      <td>neutral</td>\n",
       "    </tr>\n",
       "    <tr>\n",
       "      <th>2</th>\n",
       "      <td>Oct 24, 2023 @ 14:52:00.000</td>\n",
       "      <td>Jcgomez0867</td>\n",
       "      <td>todos no hay casi un 40% o mas que eligen pobr...</td>\n",
       "      <td>https://twitter.com/Jcgomez0867/status/1716875...</td>\n",
       "      <td>0</td>\n",
       "      <td>0</td>\n",
       "      <td>[@vickyvillarruel, @jmilei]</td>\n",
       "      <td>NaN</td>\n",
       "      <td>2023-10-24 14:52:00</td>\n",
       "      <td>2023-10-24</td>\n",
       "      <td>14:52:00</td>\n",
       "      <td>negative</td>\n",
       "      <td>0.672256</td>\n",
       "      <td>[joy, sadness, anger, love, fear, surprise]</td>\n",
       "      <td>[0.7604028582572937, 0.132757306098938, 0.0933...</td>\n",
       "      <td>joy</td>\n",
       "      <td>[neutral, disappointment, disapproval, annoyan...</td>\n",
       "      <td>[0.11017776280641556, 0.08170522749423981, 0.0...</td>\n",
       "      <td>neutral</td>\n",
       "    </tr>\n",
       "  </tbody>\n",
       "</table>\n",
       "</div>"
      ],
      "text/plain": [
       "                    @timestamp           author  \\\n",
       "0  Oct 24, 2023 @ 14:54:00.000   jonathanlrusty   \n",
       "1  Oct 24, 2023 @ 14:53:00.000  PatataDelNether   \n",
       "2  Oct 24, 2023 @ 14:52:00.000      Jcgomez0867   \n",
       "\n",
       "                                             content  \\\n",
       "0  ricardo es peronita es verdad y odia los neoli...   \n",
       "1  la inflacion que anda manejando el super minis...   \n",
       "2  todos no hay casi un 40% o mas que eligen pobr...   \n",
       "\n",
       "                                              source rt_retweet_count  \\\n",
       "0  https://twitter.com/jonathanlrusty/status/1716...                0   \n",
       "1  https://twitter.com/PatataDelNether/status/171...                0   \n",
       "2  https://twitter.com/Jcgomez0867/status/1716875...                0   \n",
       "\n",
       "  retweet_count                 usuarios_mencionados hashtags  \\\n",
       "0             0                   [@vickyvillarruel]      NaN   \n",
       "1             0  [@braceras_tomas, @eleccionesdatos]      NaN   \n",
       "2             0          [@vickyvillarruel, @jmilei]      NaN   \n",
       "\n",
       "             datetime    date_str  time_str sentiment_i  score_sentiment_i  \\\n",
       "0 2023-10-24 14:54:00  2023-10-24  14:54:00    negative           0.890897   \n",
       "1 2023-10-24 14:53:00  2023-10-24  14:53:00     neutral           0.755666   \n",
       "2 2023-10-24 14:52:00  2023-10-24  14:52:00    negative           0.672256   \n",
       "\n",
       "                             emotions_6_labels  \\\n",
       "0  [anger, sadness, joy, love, fear, surprise]   \n",
       "1  [joy, surprise, anger, fear, sadness, love]   \n",
       "2  [joy, sadness, anger, love, fear, surprise]   \n",
       "\n",
       "                                   emotions_6_scores emotions_6_max_label  \\\n",
       "0  [0.9738480448722839, 0.01934608817100525, 0.00...                anger   \n",
       "1  [0.9934844374656677, 0.0027044026646763086, 0....                  joy   \n",
       "2  [0.7604028582572937, 0.132757306098938, 0.0933...                  joy   \n",
       "\n",
       "                                  emotions_26_labels  \\\n",
       "0  [curiosity, confusion, excitement, caring, app...   \n",
       "1  [neutral, desire, realization, approval, disap...   \n",
       "2  [neutral, disappointment, disapproval, annoyan...   \n",
       "\n",
       "                                  emotions_26_scores emotions_26_max_label  \n",
       "0  [0.10054995864629745, 0.0963403582572937, 0.05...             curiosity  \n",
       "1  [0.063914455473423, 0.05584322661161423, 0.054...               neutral  \n",
       "2  [0.11017776280641556, 0.08170522749423981, 0.0...               neutral  "
      ]
     },
     "metadata": {},
     "output_type": "display_data"
    },
    {
     "data": {
      "text/html": [
       "<div>\n",
       "<style scoped>\n",
       "    .dataframe tbody tr th:only-of-type {\n",
       "        vertical-align: middle;\n",
       "    }\n",
       "\n",
       "    .dataframe tbody tr th {\n",
       "        vertical-align: top;\n",
       "    }\n",
       "\n",
       "    .dataframe thead th {\n",
       "        text-align: right;\n",
       "    }\n",
       "</style>\n",
       "<table border=\"1\" class=\"dataframe\">\n",
       "  <thead>\n",
       "    <tr style=\"text-align: right;\">\n",
       "      <th></th>\n",
       "      <th>columna</th>\n",
       "      <th>Nan</th>\n",
       "      <th>pct_nan</th>\n",
       "      <th>dtype</th>\n",
       "      <th>count</th>\n",
       "      <th>pct_reg</th>\n",
       "      <th>count_unique</th>\n",
       "    </tr>\n",
       "  </thead>\n",
       "  <tbody>\n",
       "    <tr>\n",
       "      <th>0</th>\n",
       "      <td>@timestamp</td>\n",
       "      <td>0</td>\n",
       "      <td>0.00</td>\n",
       "      <td>object</td>\n",
       "      <td>6176</td>\n",
       "      <td>100.00</td>\n",
       "      <td>3563</td>\n",
       "    </tr>\n",
       "    <tr>\n",
       "      <th>1</th>\n",
       "      <td>author</td>\n",
       "      <td>0</td>\n",
       "      <td>0.00</td>\n",
       "      <td>object</td>\n",
       "      <td>6176</td>\n",
       "      <td>100.00</td>\n",
       "      <td>5306</td>\n",
       "    </tr>\n",
       "    <tr>\n",
       "      <th>2</th>\n",
       "      <td>content</td>\n",
       "      <td>0</td>\n",
       "      <td>0.00</td>\n",
       "      <td>object</td>\n",
       "      <td>6176</td>\n",
       "      <td>100.00</td>\n",
       "      <td>6175</td>\n",
       "    </tr>\n",
       "    <tr>\n",
       "      <th>3</th>\n",
       "      <td>source</td>\n",
       "      <td>0</td>\n",
       "      <td>0.00</td>\n",
       "      <td>object</td>\n",
       "      <td>6176</td>\n",
       "      <td>100.00</td>\n",
       "      <td>6176</td>\n",
       "    </tr>\n",
       "    <tr>\n",
       "      <th>4</th>\n",
       "      <td>rt_retweet_count</td>\n",
       "      <td>0</td>\n",
       "      <td>0.00</td>\n",
       "      <td>object</td>\n",
       "      <td>6176</td>\n",
       "      <td>100.00</td>\n",
       "      <td>18</td>\n",
       "    </tr>\n",
       "    <tr>\n",
       "      <th>5</th>\n",
       "      <td>retweet_count</td>\n",
       "      <td>0</td>\n",
       "      <td>0.00</td>\n",
       "      <td>object</td>\n",
       "      <td>6176</td>\n",
       "      <td>100.00</td>\n",
       "      <td>96</td>\n",
       "    </tr>\n",
       "    <tr>\n",
       "      <th>6</th>\n",
       "      <td>usuarios_mencionados</td>\n",
       "      <td>1483</td>\n",
       "      <td>24.01</td>\n",
       "      <td>object</td>\n",
       "      <td>4693</td>\n",
       "      <td>75.99</td>\n",
       "      <td>2627</td>\n",
       "    </tr>\n",
       "    <tr>\n",
       "      <th>7</th>\n",
       "      <td>hashtags</td>\n",
       "      <td>5231</td>\n",
       "      <td>84.70</td>\n",
       "      <td>object</td>\n",
       "      <td>945</td>\n",
       "      <td>15.30</td>\n",
       "      <td>575</td>\n",
       "    </tr>\n",
       "    <tr>\n",
       "      <th>8</th>\n",
       "      <td>datetime</td>\n",
       "      <td>0</td>\n",
       "      <td>0.00</td>\n",
       "      <td>datetime64[ns]</td>\n",
       "      <td>6176</td>\n",
       "      <td>100.00</td>\n",
       "      <td>3563</td>\n",
       "    </tr>\n",
       "    <tr>\n",
       "      <th>9</th>\n",
       "      <td>date_str</td>\n",
       "      <td>0</td>\n",
       "      <td>0.00</td>\n",
       "      <td>object</td>\n",
       "      <td>6176</td>\n",
       "      <td>100.00</td>\n",
       "      <td>5</td>\n",
       "    </tr>\n",
       "    <tr>\n",
       "      <th>10</th>\n",
       "      <td>time_str</td>\n",
       "      <td>0</td>\n",
       "      <td>0.00</td>\n",
       "      <td>object</td>\n",
       "      <td>6176</td>\n",
       "      <td>100.00</td>\n",
       "      <td>1386</td>\n",
       "    </tr>\n",
       "    <tr>\n",
       "      <th>11</th>\n",
       "      <td>sentiment_i</td>\n",
       "      <td>0</td>\n",
       "      <td>0.00</td>\n",
       "      <td>object</td>\n",
       "      <td>6176</td>\n",
       "      <td>100.00</td>\n",
       "      <td>3</td>\n",
       "    </tr>\n",
       "    <tr>\n",
       "      <th>12</th>\n",
       "      <td>score_sentiment_i</td>\n",
       "      <td>0</td>\n",
       "      <td>0.00</td>\n",
       "      <td>float64</td>\n",
       "      <td>6176</td>\n",
       "      <td>100.00</td>\n",
       "      <td>1543</td>\n",
       "    </tr>\n",
       "    <tr>\n",
       "      <th>13</th>\n",
       "      <td>emotions_6_labels</td>\n",
       "      <td>0</td>\n",
       "      <td>0.00</td>\n",
       "      <td>object</td>\n",
       "      <td>6176</td>\n",
       "      <td>100.00</td>\n",
       "      <td>284</td>\n",
       "    </tr>\n",
       "    <tr>\n",
       "      <th>14</th>\n",
       "      <td>emotions_6_scores</td>\n",
       "      <td>0</td>\n",
       "      <td>0.00</td>\n",
       "      <td>object</td>\n",
       "      <td>6176</td>\n",
       "      <td>100.00</td>\n",
       "      <td>6175</td>\n",
       "    </tr>\n",
       "    <tr>\n",
       "      <th>15</th>\n",
       "      <td>emotions_6_max_label</td>\n",
       "      <td>0</td>\n",
       "      <td>0.00</td>\n",
       "      <td>object</td>\n",
       "      <td>6176</td>\n",
       "      <td>100.00</td>\n",
       "      <td>6</td>\n",
       "    </tr>\n",
       "    <tr>\n",
       "      <th>16</th>\n",
       "      <td>emotions_26_labels</td>\n",
       "      <td>0</td>\n",
       "      <td>0.00</td>\n",
       "      <td>object</td>\n",
       "      <td>6176</td>\n",
       "      <td>100.00</td>\n",
       "      <td>6175</td>\n",
       "    </tr>\n",
       "    <tr>\n",
       "      <th>17</th>\n",
       "      <td>emotions_26_scores</td>\n",
       "      <td>0</td>\n",
       "      <td>0.00</td>\n",
       "      <td>object</td>\n",
       "      <td>6176</td>\n",
       "      <td>100.00</td>\n",
       "      <td>6175</td>\n",
       "    </tr>\n",
       "    <tr>\n",
       "      <th>18</th>\n",
       "      <td>emotions_26_max_label</td>\n",
       "      <td>0</td>\n",
       "      <td>0.00</td>\n",
       "      <td>object</td>\n",
       "      <td>6176</td>\n",
       "      <td>100.00</td>\n",
       "      <td>25</td>\n",
       "    </tr>\n",
       "  </tbody>\n",
       "</table>\n",
       "</div>"
      ],
      "text/plain": [
       "                  columna   Nan  pct_nan           dtype  count  pct_reg  \\\n",
       "0              @timestamp     0     0.00          object   6176   100.00   \n",
       "1                  author     0     0.00          object   6176   100.00   \n",
       "2                 content     0     0.00          object   6176   100.00   \n",
       "3                  source     0     0.00          object   6176   100.00   \n",
       "4        rt_retweet_count     0     0.00          object   6176   100.00   \n",
       "5           retweet_count     0     0.00          object   6176   100.00   \n",
       "6    usuarios_mencionados  1483    24.01          object   4693    75.99   \n",
       "7                hashtags  5231    84.70          object    945    15.30   \n",
       "8                datetime     0     0.00  datetime64[ns]   6176   100.00   \n",
       "9                date_str     0     0.00          object   6176   100.00   \n",
       "10               time_str     0     0.00          object   6176   100.00   \n",
       "11            sentiment_i     0     0.00          object   6176   100.00   \n",
       "12      score_sentiment_i     0     0.00         float64   6176   100.00   \n",
       "13      emotions_6_labels     0     0.00          object   6176   100.00   \n",
       "14      emotions_6_scores     0     0.00          object   6176   100.00   \n",
       "15   emotions_6_max_label     0     0.00          object   6176   100.00   \n",
       "16     emotions_26_labels     0     0.00          object   6176   100.00   \n",
       "17     emotions_26_scores     0     0.00          object   6176   100.00   \n",
       "18  emotions_26_max_label     0     0.00          object   6176   100.00   \n",
       "\n",
       "    count_unique  \n",
       "0           3563  \n",
       "1           5306  \n",
       "2           6175  \n",
       "3           6176  \n",
       "4             18  \n",
       "5             96  \n",
       "6           2627  \n",
       "7            575  \n",
       "8           3563  \n",
       "9              5  \n",
       "10          1386  \n",
       "11             3  \n",
       "12          1543  \n",
       "13           284  \n",
       "14          6175  \n",
       "15             6  \n",
       "16          6175  \n",
       "17          6175  \n",
       "18            25  "
      ]
     },
     "execution_count": 9,
     "metadata": {},
     "output_type": "execute_result"
    }
   ],
   "source": [
    "## ESTADO FINAL DATASET\n",
    "\n",
    "display(df.head(3))\n",
    "data_info(df)"
   ]
  },
  {
   "cell_type": "code",
   "execution_count": 10,
   "metadata": {},
   "outputs": [
    {
     "name": "stdout",
     "output_type": "stream",
     "text": [
      "panorama-economico.pickle\n"
     ]
    }
   ],
   "source": [
    "print(archivo_lectura.split(\".\")[0] + \".pickle\")"
   ]
  },
  {
   "cell_type": "code",
   "execution_count": 11,
   "metadata": {},
   "outputs": [],
   "source": [
    "archivo_lectura = archivo_lectura.split(\".\")[0] + \".pickle\"\n",
    "\n",
    "with open(archivo_lectura, \"wb\") as f:\n",
    "    pickle.dump(df, f)"
   ]
  },
  {
   "cell_type": "code",
   "execution_count": 12,
   "id": "87b36317-24ef-4c65-99f1-3abe81c62d4f",
   "metadata": {},
   "outputs": [
    {
     "name": "stdout",
     "output_type": "stream",
     "text": [
      "Ejecución interrumpida de forma segura.\n"
     ]
    },
    {
     "ename": "",
     "evalue": "",
     "output_type": "error",
     "traceback": [
      "\u001b[1;31mThe Kernel crashed while executing code in the the current cell or a previous cell. Please review the code in the cell(s) to identify a possible cause of the failure. Click <a href='https://aka.ms/vscodeJupyterKernelCrash'>here</a> for more info. View Jupyter <a href='command:jupyter.viewOutput'>log</a> for further details."
     ]
    }
   ],
   "source": [
    "# DESCARGA\n",
    "user_input = input(\"presione Y para guardar csv, cualquier otra tecla para abortar: \")\n",
    "if user_input.lower() != \"y\":\n",
    "    print(\"Ejecución interrumpida de forma segura.\")\n",
    "    exit()\n",
    "\n",
    "\n",
    "archivo_descarga= \"RD-\"+archivo_lectura\n",
    "df.to_csv(archivo_descarga, index=False)"
   ]
  },
  {
   "cell_type": "code",
   "execution_count": null,
   "id": "a9fb8768-85fc-4773-ac05-daa2426d7d10",
   "metadata": {},
   "outputs": [
    {
     "name": "stdout",
     "output_type": "stream",
     "text": [
      "Predicciones carne-nuevo-tw.csv:\n",
      "Negativos:  240\n",
      "Positivos:  12\n",
      "Neutro:  84\n"
     ]
    }
   ],
   "source": [
    "# DESCARGA DIVIDIDA POR SENTIMIENTO\n",
    "\n",
    "mask_negativo = (df.sentiment_i == \"negative\").values\n",
    "mask_positivo = (df.sentiment_i == \"positive\").values\n",
    "mask_neutro = (df.sentiment_i == \"neutral\").values\n",
    "\n",
    "df_sentiment_positive= df.loc[mask_positivo]\n",
    "df_sentiment_negative= df.loc[mask_negativo]\n",
    "df_sentiment_neutral = df.loc[mask_neutro]\n",
    "\n",
    "## Conteo de las predicciones\n",
    "print(f\"Predicciones {archivo_lectura}:\")\n",
    "print(\"Negativos: \", mask_negativo.sum())\n",
    "print(\"Positivos: \", mask_positivo.sum())\n",
    "print(\"Neutro: \", mask_neutro.sum())\n"
   ]
  },
  {
   "cell_type": "code",
   "execution_count": null,
   "id": "7d9e5055-9055-4c61-8ea6-0941ee99c635",
   "metadata": {},
   "outputs": [],
   "source": [
    "df_sentiment_negative.to_csv(f\"RD_negative-{archivo_lectura}\")\n",
    "df_sentiment_positive.to_csv(f\"RD_positive-{archivo_lectura}\")\n",
    "df_sentiment_neutral.to_csv(f\"RD_neutral-{archivo_lectura}\")"
   ]
  },
  {
   "cell_type": "code",
   "execution_count": null,
   "id": "0cb96c03-3713-4899-bd1e-c7c709ffcb3e",
   "metadata": {},
   "outputs": [
    {
     "name": "stdout",
     "output_type": "stream",
     "text": [
      "Programa finalizado de forma exitosa\n"
     ]
    }
   ],
   "source": [
    "print(\"Programa finalizado de forma exitosa\")"
   ]
  },
  {
   "cell_type": "code",
   "execution_count": null,
   "id": "248e77d7-3ee6-461e-a1a1-0ee5aaace697",
   "metadata": {},
   "outputs": [
    {
     "data": {
      "text/plain": [
       "[('neutral', 0.07548988610506058),\n",
       " ('approval', 0.06810388714075089),\n",
       " ('caring', 0.06546086817979813),\n",
       " ('realization', 0.04986918717622757),\n",
       " ('curiosity', 0.048790544271469116),\n",
       " ('confusion', 0.04851679876446724),\n",
       " ('gratitude', 0.041352663189172745),\n",
       " ('desire', 0.04071255400776863),\n",
       " ('admiration', 0.03867386281490326),\n",
       " ('excitement', 0.03833348676562309),\n",
       " ('annoyance', 0.03678446635603905),\n",
       " ('relief', 0.03601473197340965),\n",
       " ('disapproval', 0.03597274050116539),\n",
       " ('pride', 0.035765569657087326),\n",
       " ('remorse', 0.03121737204492092),\n",
       " ('amusement', 0.02991143986582756),\n",
       " ('anger', 0.02769353985786438),\n",
       " ('disappointment', 0.02747248113155365),\n",
       " ('embarrassment', 0.026617854833602905),\n",
       " ('surprise', 0.02641582302749157),\n",
       " ('joy', 0.026247508823871613),\n",
       " ('nervousness', 0.024192972108721733),\n",
       " ('grief', 0.02352898009121418),\n",
       " ('sadness', 0.021618328988552094),\n",
       " ('love', 0.021129591390490532),\n",
       " ('optimism', 0.020886145532131195),\n",
       " ('disgust', 0.019917933270335197),\n",
       " ('fear', 0.01330877747386694)]"
      ]
     },
     "execution_count": 51,
     "metadata": {},
     "output_type": "execute_result"
    }
   ],
   "source": [
    "series = df.iloc[1].to_frame().T\n",
    "\n",
    "labels, scores = series[[\"emotions_26_labels\",\"emotions_26_scores\"]].values[0]\n",
    "\n",
    "\n",
    "sum(scores)\n",
    "list(zip(labels, scores))"
   ]
  },
  {
   "cell_type": "code",
   "execution_count": null,
   "metadata": {},
   "outputs": [],
   "source": []
  },
  {
   "cell_type": "code",
   "execution_count": 12,
   "metadata": {},
   "outputs": [
    {
     "data": {
      "text/plain": [
       "<Axes: xlabel='emotions_26_max_label'>"
      ]
     },
     "execution_count": 12,
     "metadata": {},
     "output_type": "execute_result"
    },
    {
     "data": {
      "image/png": "[encoded data removed]",
      "text/plain": [
       "<Figure size 640x480 with 1 Axes>"
      ]
     },
     "metadata": {},
     "output_type": "display_data"
    }
   ],
   "source": [
    "import pandas as pd\n",
    "import pickle\n",
    "\n",
    "with open(\"panorama-economico.pickle\", \"rb\") as f:\n",
    "    df = pickle.load(f)\n",
    "    \n",
    "\n",
    "df.sentiment_i.value_counts().values\n",
    "df.emotions_6_max_label.value_counts().values\n",
    "df.head(3)\n",
    "df.emotions_26_max_label.value_counts().plot(kind=\"bar\")"
   ]
  },
  {
   "cell_type": "code",
   "execution_count": null,
   "metadata": {},
   "outputs": [],
   "source": [
    "\n"
   ]
  }
 ],
 "metadata": {
  "kernelspec": {
   "display_name": "Python 3 (ipykernel)",
   "language": "python",
   "name": "python3"
  },
  "language_info": {
   "codemirror_mode": {
    "name": "ipython",
    "version": 3
   },
   "file_extension": ".py",
   "mimetype": "text/x-python",
   "name": "python",
   "nbconvert_exporter": "python",
   "pygments_lexer": "ipython3",
   "version": "3.11.4"
  }
 },
 "nbformat": 4,
 "nbformat_minor": 5
}
